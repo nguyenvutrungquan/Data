{
 "cells": [
  {
   "cell_type": "markdown",
   "id": "c5a197b3",
   "metadata": {},
   "source": [
    "# Call Center detection\n",
    "1) Definition of Call Center: Have total calls in a specific period of time on top k percent (k ideally belongs to the interval [1,2])\n",
    "\n",
    "2) Methods of Call Center detection:\n",
    "\n",
    "    a) 1st method: \n",
    "    \n",
    "    - Step 1. Filter and get total calls of users in the last month (...).\n",
    "    \n",
    "    - Step 2. Make a descending order (by total calls).\n",
    "    \n",
    "    - Step 3. Get the first k percent of rows.\n",
    "    \n",
    "    b) 2nd method:\n",
    "    - Step 1. Make some dataframes to get total calls and total contacts of users in some most recent intervals of 7 days (from the last 0 to 7 days, from the last 7 to 14 days,...).\n",
    "    \n",
    "    - Step 2. In each dataframe above, get the first h percent of rows (h should be greater than k).\n",
    "    \n",
    "    - Step 3. Obtain the intersection by joining (how = 'inner') all the results in Step 2.\n",
    "    \n",
    "    c) 3rd method (not filter by percent):\n",
    "    \n",
    "    - Step 1. Filter and get total calls of users in the last month (...).\n",
    "    \n",
    "    - Step 2. Filter to get users who have number of calls greater than m calls (m is specified on our own).\n",
    "    \n",
    "\n",
    "# Diversity of Call Center\n",
    "1) Definition of Diversity of Call Center: A Call Center which has a large number of total contacts is considered to be 'high diversity'; otherwise, 'low diveristy'.\n",
    "\n",
    "2) Methods of Diversity detection:\n",
    "\n",
    "    - Step 0. Filter the users who are call centers.\n",
    "    \n",
    "    - Step 1. Get total contacts in the specified period of time (last month, last week, etc.)\n",
    "    \n",
    "    - Step 2. Calculate the ratio of total contacts over total calls in that period.\n",
    "    \n",
    "    - Step 3. Assign diversity value based on the above ratio (>= 0.5 - 'high'; <0.5 - 'low')\n",
    "    \n",
    "\n",
    "# Call in/ Call out center\n",
    "1) The main goal: to detech whether the center is a call in center or a call out center.\n",
    "\n",
    "2) Method of Call in/ Call out detection:\n",
    "\n",
    "    - Step 0. Filter the users who are call centers.\n",
    "    \n",
    "    - Step 1. Use countDistict function for the the column 'calling_type' of each user, which means that we count the number of calls of each value of 'calling-type'.\n",
    "    \n",
    "    - Step 2. If the result of:\n",
    "    \n",
    "                (number of ('calling_type' == 1) / total calls)\n",
    "                \n",
    "              is greater than 0.6, return 'call_in'; lower than 0.4, return 'call-out'; otherwise, 'both'.\n",
    "              \n",
    "              (We assume that 'calling_type' ==1 refers to 'incoming call'; 'calling_type' == 2 refers to 'outgoing call'.\n",
    "              \n",
    "# Call center: Type of duration\n",
    "1) The main goal: get the most typical type of calls based on the length of calls (i.e. the column 'duration'). \n",
    "\n",
    "2) Duration types:\n",
    "\n",
    "- very_short: 0 - 15s\n",
    "- short: 15 - 30s\n",
    "- medium: 30s - 2min\n",
    "- long: 2 - 20min\n",
    "- very_long: > 20 min\n",
    "\n",
    "3) How to get the return value:\n",
    "\n",
    "- Step 1. Consider each user, use countDistinct function to count number of calls of each duration type.\n",
    "- Step 2. Find the type of duration that its number of calls is the maximum.\n",
    "\n",
    "\n",
    "# Call center: Location (daily) changes\n",
    "1) The main goal: based on locations of call history, return whether a user changes his location in village level, district level, province level, or do not change.\n",
    "\n",
    "2) How to get the return value:\n",
    "\n",
    "- If village does not change, then location is \"no_change\"\n",
    "- If village changes, but district and province do not change, return \"village\"\n",
    "- If district changes, but province does not change, return \"district\"\n",
    "- If province changes, return \"province\"\n",
    "\n",
    "# Business detection:\n",
    "1) The main goal: based on all the above features, return the output that what the business of each user is.\n",
    "\n",
    "2) How to get the return value: See the sheet \"Main_idea\" in the following link:\n",
    "https://finosasia.sharepoint.com/:x:/s/CS_project/EeiEwzWQxX9OsGD3bW6-iMUBZqi7tPdJBdVCSqaDRqUygA?e=wPPliI\n",
    "              \n"
   ]
  },
  {
   "cell_type": "markdown",
   "id": "60cde2be",
   "metadata": {},
   "source": [
    "# Spark Config"
   ]
  },
  {
   "cell_type": "code",
   "execution_count": 2,
   "id": "db67ea3b",
   "metadata": {
    "collapsed": true,
    "jupyter": {
     "source_hidden": true
    },
    "tags": []
   },
   "outputs": [
    {
     "name": "stderr",
     "output_type": "stream",
     "text": [
      "22/11/27 17:50:14 WARN Utils: Your hostname, HCM-MacOS-QuanNguyen.local resolves to a loopback address: 127.0.0.1; using 192.168.1.22 instead (on interface en0)\n",
      "22/11/27 17:50:14 WARN Utils: Set SPARK_LOCAL_IP if you need to bind to another address\n",
      "WARNING: An illegal reflective access operation has occurred\n",
      "WARNING: Illegal reflective access by org.apache.spark.unsafe.Platform (file:/Users/nvtq/opt/anaconda3/lib/python3.9/site-packages/pyspark/jars/spark-unsafe_2.12-3.1.2.jar) to constructor java.nio.DirectByteBuffer(long,int)\n",
      "WARNING: Please consider reporting this to the maintainers of org.apache.spark.unsafe.Platform\n",
      "WARNING: Use --illegal-access=warn to enable warnings of further illegal reflective access operations\n",
      "WARNING: All illegal access operations will be denied in a future release\n",
      "22/11/27 17:50:14 WARN NativeCodeLoader: Unable to load native-hadoop library for your platform... using builtin-java classes where applicable\n",
      "Using Spark's default log4j profile: org/apache/spark/log4j-defaults.properties\n",
      "Setting default log level to \"WARN\".\n",
      "To adjust logging level use sc.setLogLevel(newLevel). For SparkR, use setLogLevel(newLevel).\n",
      "                                                                                \r"
     ]
    }
   ],
   "source": [
    "from pyspark import SparkConf, SparkContext\n",
    "from pyspark.sql import SparkSession, SQLContext\n",
    "from pyspark.sql.functions import sum,avg,max, min\n",
    "from pyspark.sql.window import Window\n",
    "from pyspark.sql.functions import row_number\n",
    "from pyspark.sql.dataframe import DataFrame\n",
    "import pyspark.sql.functions as f\n",
    "from pyspark.sql.functions import *\n",
    "from pyspark.sql.window import Window\n",
    "from pyspark.sql.types import StringType\n",
    "from pyspark.sql.types import *\n",
    "from pyspark.sql.functions import row_number\n",
    "from pyspark.sql.functions import rank\n",
    "from pyspark.sql.functions import dense_rank\n",
    "import math as m\n",
    "#import pyarrow.parquet as pq\n",
    "#import s3fs\n",
    "import pandas as pd\n",
    "import findspark\n",
    "import os\n",
    "import pyspark\n",
    "#input_date = '20201012'\n",
    "from functools import reduce\n",
    "from pyspark.sql.functions import col\n",
    "from pyspark.sql.functions import when\n",
    "from pyspark.sql.types import IntegerType\n",
    "from pyspark.sql.functions import udf\n",
    "import sys\n",
    "from random import random\n",
    "from operator import add\n",
    "findspark.init()\n",
    "#conf = SparkConf().setMaster(\"spark://spark-master.shared:7077\").setAppName(\"Spark_test_36\") --> Set Spark Master to run\n",
    "# Set Spark Local to run\n",
    "from pyspark.sql import SparkSession\n",
    "from pyspark.sql.functions import input_file_name\n",
    "\n",
    "import warnings\n",
    "warnings.filterwarnings('ignore')\n",
    "\n",
    "spark = SparkSession.builder.master('local').appName('foo').getOrCreate()\n",
    "spark.sparkContext.setLogLevel('WARN')\n",
    "df = spark.read.parquet(\"sample_data.snappy.parquet\").orderBy(col('CALLING').asc(), col('CALLED_DATE').asc())"
   ]
  },
  {
   "cell_type": "markdown",
   "id": "e0159c13",
   "metadata": {},
   "source": [
    "# Basic functions"
   ]
  },
  {
   "cell_type": "code",
   "execution_count": null,
   "id": "1c86a6f1",
   "metadata": {
    "jupyter": {
     "source_hidden": true
    },
    "tags": []
   },
   "outputs": [],
   "source": [
    "def lower_col_name(df):\n",
    "    for col in df.columns:\n",
    "        df = df.withColumnRenamed(col, col.lower())\n",
    "    return df\n",
    "\n",
    "def new_df(df, no_group_col, groupby_col_1, groupby_col_2, groupby_col_3,\n",
    "           piv_col, cols, funcs, new_col_names, pivot = False):\n",
    "    if pivot == False:\n",
    "        if no_group_col == 1:\n",
    "            df_new = (\n",
    "            df\n",
    "            .groupby(groupby_col_1)\n",
    "            .agg(*[func(cols[index]).alias(new_col_names[index]) for index, func in enumerate(funcs)]))\n",
    "        elif no_group_col == 2:\n",
    "            df_new = (\n",
    "            df\n",
    "            .groupby(groupby_col_1, groupby_col_2)\n",
    "            .agg(*[func(cols[index]).alias(new_col_names[index]) for index, func in enumerate(funcs)]))\n",
    "        elif no_group_col == 3:\n",
    "            df_new = (\n",
    "            df\n",
    "            .groupby(groupby_col_1, groupby_col_2, groupby_col_3)\n",
    "            .agg(*[func(cols[index]).alias(new_col_names[index]) for index, func in enumerate(funcs)]))\n",
    "        elif no_group_col == 4:\n",
    "            df_new = (\n",
    "            df\n",
    "            .groupby(groupby_col_1, groupby_col_2, groupby_col_3, piv_col)\n",
    "            .agg(*[func(cols[index]).alias(new_col_names[index]) for index, func in enumerate(funcs)]))\n",
    "    else:\n",
    "        df_new = (\n",
    "        df\n",
    "        .groupby(groupby_col_1, groupby_col_2) \\\n",
    "        .pivot(piv_col) \\\n",
    "        .agg(*[func(cols[index]).alias(new_col_names[index]) for index, func in enumerate(funcs)]))\n",
    "    return df_new\n",
    "\n",
    "def join_df(df1, df2, df1_col1, df2_col1, df1_col2, df2_col2, join_type):\n",
    "    if df2_col1 != '':\n",
    "        df_new = df1.join(df2, (df1[df1_col1] == df2[df2_col1]) & \n",
    "                         (df1[df1_col2] == df2[df2_col2]), how = join_type)\n",
    "    else:\n",
    "        df_new = df1.join(df2, df1[df1_col1] == df2[df2_col1], how = join_type)\n",
    "    return df_new\n",
    "\n",
    "def add_col(df, col, func):\n",
    "    df_new = df.withColumn(col, func)\n",
    "    return df_new\n",
    "\n",
    "def rename_col(df, col_mapping):\n",
    "    for c in col_mapping:\n",
    "        df = df.withColumnRenamed(existing=c[0], new=c[1])\n",
    "    return df\n",
    "\n",
    "def del_col(df, cols):\n",
    "    df_new = df.drop(*cols)\n",
    "    return df_new\n",
    "\n",
    "\n",
    "# def fill_na(df, cols):\n",
    "#     df_new = df.na.fill(value = 0, subset = cols)\n",
    "#     return df_new\n",
    "\n",
    "def checkNull(df):\n",
    "    \n",
    "    '''\n",
    "    prints total rows in dataframe, number and percentage of nulls in each column \n",
    "    '''\n",
    "    total_rows = df.count()\n",
    "    cols = df.columns \n",
    "    abs_null = df.select([f.count(f.when(f.col(c).isNull(), c)).alias(c) for c in cols])\n",
    "    perc_null = abs_null\n",
    "    for c in cols:\n",
    "        perc_null = perc_null.withColumn('{}'.format(c), f.round(f.col(c)/total_rows*100,2))\n",
    "    print ('Total Rows: {}'.format(total_rows))\n",
    "    print ('Absolute Nulls')\n",
    "    abs_null.show(truncate=False, vertical=True)\n",
    "    print ('% Percentage Nulls')\n",
    "    perc_null.show(truncate=False, vertical=True)"
   ]
  },
  {
   "cell_type": "markdown",
   "id": "12cd0fd6",
   "metadata": {},
   "source": [
    "# Basic statistics"
   ]
  },
  {
   "cell_type": "code",
   "execution_count": null,
   "id": "8e46609b",
   "metadata": {},
   "outputs": [],
   "source": [
    "working_hours = [i for i in range(8,12)] + [i for i in range(13, 18)]\n",
    "night_hours =  [i for i in range(19,24)] + [i for i in range(0, 6)]\n",
    "morning_hours = [i for i in range(6, 8)]\n",
    "lunch_hours = [i for i in range(11, 13)]\n",
    "df = lower_col_name(df)\n",
    "df = add_col(df, 'called_date', substring('called_time',0,8))\n",
    "df = add_col(df, 'called_date', f.to_date('called_date', 'yyyyMMdd'))\n",
    "df = add_col(df, 'week_of_year', f.weekofyear(f.col('called_date')))\n",
    "df = add_col(df, 'year', f.year(f.col('called_date')))\n",
    "df = add_col(df, 'day_of_week', dayofweek(col('called_date')))\n",
    "df = add_col(df, 'session_of_week', when(col('day_of_week').isin([6,7]),'weekend').otherwise('weekday'))\n",
    "df = add_col(df, 'session_of_day', when(col('hour').isin(working_hours), 'working_hours') \\\n",
    "                   .when(col('hour').isin(night_hours), 'night_hours') \\\n",
    "                   .when(col('hour').isin(morning_hours), 'morning_hours') \\\n",
    "                   .otherwise('lunch_hours'))"
   ]
  },
  {
   "cell_type": "markdown",
   "id": "85590db1",
   "metadata": {},
   "source": [
    "# Call Center detection"
   ]
  },
  {
   "cell_type": "code",
   "execution_count": 281,
   "id": "d8978e76",
   "metadata": {},
   "outputs": [],
   "source": [
    "def fitler_from_x_to_y_days(df, x, y):\n",
    "    df = df.withColumn(\"last_date\", lit(\"2020-03-09\"))\n",
    "    filtered_df = df.filter((f.col('called_date') <= f.date_add(f.col('last_date'), -x)) \n",
    "    & (f.col('called_date') >= f.date_add(f.col('last_date'), -y)))\n",
    "    return filtered_df\n",
    "\n",
    "def count_calls_and_contacts_from_x_to_y_days(df, x, y):\n",
    "    #Create a dataframe with total calls and total contacts\n",
    "    df_count = new_df(fitler_from_x_to_y_days(df, x, y), 1, 'calling', '', '', '', ['called', 'called'], \n",
    "               [count, countDistinct], ['total_calls', 'total_contacts']).\\\n",
    "               orderBy(col('total_calls').desc(), col('total_contacts').desc())\n",
    "    \n",
    "    '''\n",
    "    #Ranking by total calls\n",
    "    total_calls_rank = df_count.\\\n",
    "                       select('total_calls').\\\n",
    "                       distinct().\\\n",
    "                       orderBy(col('total_calls').desc())\n",
    "    total_calls_rank = total_calls_rank.withColumnRenamed('total_calls', 'total_calls_1')    \n",
    "    total_calls_rank = total_calls_rank.withColumn('constant_value', lit('A'))\n",
    "    total_calls_rank = total_calls_rank.withColumn(\"id\", f.row_number().\n",
    "                                                   over(Window.partitionBy('constant_value').\n",
    "                                                   orderBy(col('total_calls_1').desc())\n",
    "                                                   ))\n",
    "    total_calls_rank.drop('constant_value')\n",
    "    a = total_calls_rank.count()\n",
    "    total_calls_rank = total_calls_rank.withColumn('percent_rank_total_calls', \n",
    "                                                   format_number(col('id')/a, 4))\n",
    "    total_calls_rank = total_calls_rank.drop('constant_value', 'id')\n",
    "    \n",
    "    #Join ranking values into the dataframe of total calls and total contacts\n",
    "    df1 = df_count\n",
    "    df2 = total_calls_rank\n",
    "    df3 = df1.join(df2, df2.total_calls_1 == df1.total_calls, 'inner') #The joint will include both two joining columns\n",
    "    df3 = df3.drop('total_calls_1').\\\n",
    "          orderBy(col('total_calls').desc(), col('total_contacts').desc())\n",
    "    '''\n",
    "    return df_count\n",
    "'''\n",
    "def top_total_calls_from_x_to_y_days(df, x, y, percent):\n",
    "    filtered = fitler_from_x_to_y_days(df, x, y)\n",
    "    count_x_to_y_days = count_calls_and_contacts_from_x_to_y_days(df, x, y).\\\n",
    "                        filter(f.col('percent_rank_total_calls') <= percent)\n",
    "    count_x_to_y_days = rename_col(count_x_to_y_days, [['calling', 'calling_1'], \n",
    "                                                       ['total_calls', f'total_calls_last_{x}_to_{y}_days'],\n",
    "                                                       ['total_contacts', f'total_contacts_last_{x}_to_{y}_days'],\n",
    "                                                       ['percent_rank_total_calls', f'percent_rank_total_calls_last_{x}_to_{y}_days']\n",
    "                                                      ]\n",
    "                                  )\n",
    "    \n",
    "    filtered = filtered.join(count_x_to_y_days, count_x_to_y_days.calling_1 == filtered.calling, 'inner').\\\n",
    "               drop('calling_1').\\\n",
    "               orderBy(col('calling').asc(), col('called_date').asc())\n",
    "    return filtered\n",
    "'''\n",
    "def top_total_calls_from_x_to_y_days(df, x, y, percent):\n",
    "    #Total calls and total contacts: filter top k percent\n",
    "    df_count = count_calls_and_contacts_from_x_to_y_days(df, x, y)\n",
    "    df_count = df_count.withColumn('constant_value', lit('A'))\n",
    "    df_count = df_count.withColumn(\"id\", f.row_number().\n",
    "                                   over(Window.partitionBy('constant_value').\n",
    "                                   orderBy(col('total_calls').desc())\n",
    "                                        )\n",
    "                                  )\n",
    "    df_count = df_count.drop('constant_value')\n",
    "    \n",
    "    a = df_count.count()\n",
    "    b = m.ceil(a*percent/100)\n",
    "    c = df_count.filter(f.col('id') == b).collect()[0][1]\n",
    "    top_total_calls = df_count.filter(f.col('total_calls') >= c)\n",
    "    top_total_calls = rename_col(top_total_calls, [['calling', f'calling_last_{x}_to_{y}_days'], \n",
    "                                     ['total_calls', f'total_calls_last_{x}_to_{y}_days'],\n",
    "                                     ['total_contacts', f'total_contacts_last_{x}_to_{y}_days'],\n",
    "                                    ]\n",
    "                                 ).drop('id')\n",
    "    return top_total_calls\n",
    "\"\"\"\n",
    "def call_center(df, x, y, percent):\n",
    "    df_center = top_total_calls_from_x_to_y_days(df, x, y, percent)\n",
    "    df_center = df_center.withColumn('is_call_center', lit('Yes'))\n",
    "    return df_center\n",
    "\"\"\"\n",
    "def is_call_center(df, x, y, percent, method):\n",
    "    if method == \"1_3\":\n",
    "        df_center = top_total_calls_from_x_to_y_days(df, x, y, percent)\n",
    "        df_center = df_center.withColumn('is_call_center', lit('Yes'))\n",
    "        return df_center\n",
    "    if method == \"2\":\n",
    "        top_total_calls_0 = top_total_calls_from_x_to_y_days(df, x, y, percent)\n",
    "        top_total_calls_1 = top_total_calls_from_x_to_y_days(df, 0, 7, percent)\n",
    "        top_total_calls_2 = top_total_calls_from_x_to_y_days(df, 7, 14, percent)\n",
    "        top_total_calls_3 = top_total_calls_from_x_to_y_days(df, 14, 21, percent)\n",
    "        top_total_calls_4 = top_total_calls_from_x_to_y_days(df, 21, 28, percent)\n",
    "        #Join the above dataframes\n",
    "        top_total_calls_5 = top_total_calls_0.join(top_total_calls_1, top_total_calls_0['calling_last_0_to_30_days'] ==\\\n",
    "                                                   top_total_calls_1['calling_last_0_to_7_days'],\n",
    "                                                   'inner').\\\n",
    "                                                   drop(f'calling_last_0_to_7_days')\n",
    "        top_total_calls_6 = top_total_calls_5.join(top_total_calls_2, top_total_calls_5['calling_last_0_to_30_days'] ==\\\n",
    "                                                   top_total_calls_2['calling_last_7_to_14_days'],\n",
    "                                                   'inner').\\\n",
    "                                                   drop(f'calling_last_7_to_14_days')\n",
    "        top_total_calls_7 = top_total_calls_6.join(top_total_calls_3, top_total_calls_6['calling_last_0_to_30_days'] ==\\\n",
    "                                                   top_total_calls_3['calling_last_14_to_21_days'],\n",
    "                                                   'inner').\\\n",
    "                                                   drop(f'calling_last_14_to_21_days')\n",
    "        top_total_calls_8 = top_total_calls_7.join(top_total_calls_4, top_total_calls_7['calling_last_0_to_30_days'] ==\\\n",
    "                                                 top_total_calls_4['calling_last_21_to_28_days'],\n",
    "                                                 'inner').\\\n",
    "                                                 drop(f'calling_last_21_to_28_days')\n",
    "        #Join the call center dataframe with the original dataframe\n",
    "        top_total_calls_9 = top_total_calls_8.withColumn('is_call_center', lit('Yes'))\n",
    "        \"\"\"\n",
    "        df2 = df.join(top_total_calls_9, top_total_calls_9[f'calling_last_{0}_to_{30}_days'] == df['calling'],\n",
    "                      'fullouter').\\\n",
    "                      drop(f'calling_last_{0}_to_{30}_days', 'last_date').\\\n",
    "                      orderBy(col('calling').asc(), col('called_date').asc())\n",
    "        \"\"\"\n",
    "        return top_total_calls_9\n",
    "    else:\n",
    "        return('Wrong method!')\n",
    " \n",
    "        "
   ]
  },
  {
   "cell_type": "markdown",
   "id": "2d912581",
   "metadata": {},
   "source": [
    "1) A combination of the first and the third methods of Call Center detection."
   ]
  },
  {
   "cell_type": "code",
   "execution_count": 279,
   "id": "96103728",
   "metadata": {
    "collapsed": true
   },
   "outputs": [
    {
     "name": "stderr",
     "output_type": "stream",
     "text": [
      "[Stage 2098:=============================================>      (175 + 1) / 200]\r"
     ]
    },
    {
     "name": "stdout",
     "output_type": "stream",
     "text": [
      "+-------------------------+-----------------------------+--------------------------------+--------------+\n",
      "|calling_last_0_to_30_days|total_calls_last_0_to_30_days|total_contacts_last_0_to_30_days|is_call_center|\n",
      "+-------------------------+-----------------------------+--------------------------------+--------------+\n",
      "|     faF8JPamAGFfBh401...|                          183|                             157|           Yes|\n",
      "|     G8Ym8cGCaXwsGf4Zc...|                          164|                             162|           Yes|\n",
      "|     QwNNUJYOJI0KUukPU...|                          159|                             147|           Yes|\n",
      "|     fh4YcnrMfQHRc2czK...|                          155|                             149|           Yes|\n",
      "|     SeAOvie7GnBfBh401...|                          150|                             137|           Yes|\n",
      "|     Ud9X/S0tv4bRc2czK...|                          146|                             133|           Yes|\n",
      "|     /4ZrI/FrU/sJqWorj...|                          122|                              53|           Yes|\n",
      "|     54kjY+L9VJfJRXAy8...|                          120|                             111|           Yes|\n",
      "|     u2B43T88/MZSFhbKW...|                          120|                              85|           Yes|\n",
      "|     lJsKdY0z4iMKUukPU...|                          117|                             106|           Yes|\n",
      "|     XrBRWSySHQ5Bxtinu...|                          117|                              50|           Yes|\n",
      "|     0Ll3WGYJ4nZSFhbKW...|                          113|                             108|           Yes|\n",
      "|     pA1qWBVv1XIsGf4Zc...|                          113|                             107|           Yes|\n",
      "|     I+GIxXm5YGdSFhbKW...|                          111|                              87|           Yes|\n",
      "|     5LCtMwTh34kBvuxB6...|                          111|                              85|           Yes|\n",
      "|     IRVUo5BqYlcsGf4Zc...|                          111|                              45|           Yes|\n",
      "|     3YZ6jH4ZRLNSFhbKW...|                          110|                             106|           Yes|\n",
      "|     rYTNp0EBx7XRc2czK...|                          108|                              75|           Yes|\n",
      "|     EfZkNOtmnZmE6rUJ9...|                          107|                             103|           Yes|\n",
      "|     Ok7WQotXRt3Rc2czK...|                          107|                             101|           Yes|\n",
      "+-------------------------+-----------------------------+--------------------------------+--------------+\n",
      "only showing top 20 rows\n",
      "\n"
     ]
    },
    {
     "name": "stderr",
     "output_type": "stream",
     "text": [
      "\r",
      "[Stage 2098:================================================>   (188 + 1) / 200]\r",
      "\r",
      "                                                                                \r"
     ]
    }
   ],
   "source": [
    "is_call_center(df, 0, 30, 1, \"1_3\").show()"
   ]
  },
  {
   "cell_type": "markdown",
   "id": "e618411c",
   "metadata": {},
   "source": [
    "2) The 2nd method"
   ]
  },
  {
   "cell_type": "code",
   "execution_count": 282,
   "id": "843e22a3",
   "metadata": {
    "collapsed": true
   },
   "outputs": [
    {
     "name": "stderr",
     "output_type": "stream",
     "text": [
      "                                                                                \r"
     ]
    },
    {
     "name": "stdout",
     "output_type": "stream",
     "text": [
      "+-------------------------+-----------------------------+--------------------------------+----------------------------+-------------------------------+-----------------------------+--------------------------------+------------------------------+---------------------------------+------------------------------+---------------------------------+--------------+\n",
      "|calling_last_0_to_30_days|total_calls_last_0_to_30_days|total_contacts_last_0_to_30_days|total_calls_last_0_to_7_days|total_contacts_last_0_to_7_days|total_calls_last_7_to_14_days|total_contacts_last_7_to_14_days|total_calls_last_14_to_21_days|total_contacts_last_14_to_21_days|total_calls_last_21_to_28_days|total_contacts_last_21_to_28_days|is_call_center|\n",
      "+-------------------------+-----------------------------+--------------------------------+----------------------------+-------------------------------+-----------------------------+--------------------------------+------------------------------+---------------------------------+------------------------------+---------------------------------+--------------+\n",
      "|     crrhqzYjBN3JRXAy8...|                           62|                              56|                          17|                             17|                           22|                              21|                            15|                               15|                            20|                               19|           Yes|\n",
      "|     FPx0ykgCR60BvuxB6...|                           64|                              46|                          13|                             11|                           25|                              20|                            21|                               17|                            18|                               16|           Yes|\n",
      "|     WpeNSWmthecJqWorj...|                           53|                              32|                          17|                             13|                           17|                              12|                            14|                               10|                            12|                                8|           Yes|\n",
      "|     Ix3uhDTWRjIBvuxB6...|                           69|                              22|                          20|                             13|                           18|                               8|                            18|                                8|                            19|                                9|           Yes|\n",
      "|     2MIe4RjNnQEsGf4Zc...|                           74|                              34|                          17|                             11|                           18|                              12|                            29|                               21|                            16|                               12|           Yes|\n",
      "|     mFR5u+KcfK5SFhbKW...|                           71|                              40|                          15|                             13|                           19|                              13|                            22|                               15|                            19|                               17|           Yes|\n",
      "|     3XWpSH/1O3HJRXAy8...|                           56|                              40|                          15|                             14|                           16|                              13|                            13|                               12|                            16|                               15|           Yes|\n",
      "|     4MEZNdwIRp1SFhbKW...|                           58|                              35|                          17|                             12|                           15|                              11|                            17|                               14|                            13|                               12|           Yes|\n",
      "|     Ud9X/S0tv4bRc2czK...|                          146|                             133|                          44|                             41|                           44|                              43|                            54|                               53|                            22|                               22|           Yes|\n",
      "|     X2GY3UzFjlFBxtinu...|                           83|                              77|                          23|                             21|                           27|                              27|                            20|                               20|                            24|                               22|           Yes|\n",
      "|     uaY5pvx4bjwKUukPU...|                           53|                              51|                          15|                             15|                           13|                              13|                            12|                               12|                            17|                               16|           Yes|\n",
      "|     GHIHiqbQaRsBvuxB6...|                           52|                              34|                          13|                             10|                           14|                              11|                            16|                               13|                            17|                               14|           Yes|\n",
      "|     vNiTXar95IjJRXAy8...|                           96|                              90|                          23|                             23|                           27|                              25|                            29|                               28|                            28|                               26|           Yes|\n",
      "|     SSJWNOCHMHVSFhbKW...|                           56|                              35|                          13|                             10|                           17|                              13|                            15|                               12|                            15|                               12|           Yes|\n",
      "|     uDycrESS/X+E6rUJ9...|                           50|                              48|                          12|                             11|                           13|                              13|                            18|                               18|                            13|                               13|           Yes|\n",
      "|     fh4YcnrMfQHRc2czK...|                          155|                             149|                          35|                             35|                           32|                              32|                            51|                               48|                            48|                               48|           Yes|\n",
      "|     lW8Buig8MbgJqWorj...|                           66|                              41|                          12|                             11|                           17|                              12|                            25|                               16|                            12|                               11|           Yes|\n",
      "|     t/sSfb5Ho9eE6rUJ9...|                           64|                              63|                          17|                             17|                           24|                              24|                            13|                               13|                            17|                               17|           Yes|\n",
      "|     tZV36JY9UxlSFhbKW...|                           58|                              26|                          12|                             11|                           25|                              14|                            17|                               11|                            13|                                6|           Yes|\n",
      "|     dI7Fmr4h2SpBxtinu...|                           62|                              41|                          17|                             13|                           21|                              17|                            16|                               13|                            13|                               11|           Yes|\n",
      "+-------------------------+-----------------------------+--------------------------------+----------------------------+-------------------------------+-----------------------------+--------------------------------+------------------------------+---------------------------------+------------------------------+---------------------------------+--------------+\n",
      "only showing top 20 rows\n",
      "\n"
     ]
    }
   ],
   "source": [
    "is_call_center(df, 0, 30, 1, \"2\").show()"
   ]
  },
  {
   "cell_type": "markdown",
   "id": "464cf8c5",
   "metadata": {},
   "source": [
    "#  Diversity of Call Center"
   ]
  },
  {
   "cell_type": "code",
   "execution_count": 164,
   "id": "9b9696f5",
   "metadata": {},
   "outputs": [],
   "source": [
    "def diversity_of_call_center_from_last_x_to_y_days(df, x, y, percent):\n",
    "    \"\"\"\n",
    "    Note that in our methods, users filtered from the function \n",
    "    \"top_total_calls_from_x_to_y_days(df, x, y, percent)\"\n",
    "    are all call centers\n",
    "    \"\"\"\n",
    "    df_diversity = top_total_calls_from_x_to_y_days(df, x, y, percent)\n",
    "    df_diversity = df_diversity.withColumn(f'diversity_ratio_last_{x}_to_{y}_days',\n",
    "                                           format_number(f.col(f'total_contacts_last_{x}_to_{y}_days') \n",
    "                                           / f.col(f'total_calls_last_{x}_to_{y}_days'), 4\n",
    "                                                        )\n",
    "                                          )\n",
    "    df_diversity = add_col(df_diversity, 'call_center_diversity', \n",
    "                           when((col('diversity_ratio') >= 0.3), 'high').\\\n",
    "                           otherwise('low')\n",
    "                          )\n",
    "    return df_diversity"
   ]
  },
  {
   "cell_type": "markdown",
   "id": "27a7cbfc",
   "metadata": {},
   "source": [
    "Example"
   ]
  },
  {
   "cell_type": "code",
   "execution_count": 180,
   "id": "c41852ad",
   "metadata": {
    "collapsed": true
   },
   "outputs": [
    {
     "name": "stderr",
     "output_type": "stream",
     "text": [
      "[Stage 1271:================================================>   (188 + 1) / 200]\r"
     ]
    },
    {
     "name": "stdout",
     "output_type": "stream",
     "text": [
      "+-------------------------+-----------------------------+--------------------------------+---------------+---------------------+\n",
      "|calling_last_0_to_30_days|total_calls_last_0_to_30_days|total_contacts_last_0_to_30_days|diversity_ratio|call_center_diversity|\n",
      "+-------------------------+-----------------------------+--------------------------------+---------------+---------------------+\n",
      "|     faF8JPamAGFfBh401...|                          183|                             157|         0.8579|                 high|\n",
      "|     G8Ym8cGCaXwsGf4Zc...|                          164|                             162|         0.9878|                 high|\n",
      "|     QwNNUJYOJI0KUukPU...|                          159|                             147|         0.9245|                 high|\n",
      "|     fh4YcnrMfQHRc2czK...|                          155|                             149|         0.9613|                 high|\n",
      "|     SeAOvie7GnBfBh401...|                          150|                             137|         0.9133|                 high|\n",
      "|     Ud9X/S0tv4bRc2czK...|                          146|                             133|         0.9110|                 high|\n",
      "|     /4ZrI/FrU/sJqWorj...|                          122|                              53|         0.4344|                 high|\n",
      "|     54kjY+L9VJfJRXAy8...|                          120|                             111|         0.9250|                 high|\n",
      "|     u2B43T88/MZSFhbKW...|                          120|                              85|         0.7083|                 high|\n",
      "|     lJsKdY0z4iMKUukPU...|                          117|                             106|         0.9060|                 high|\n",
      "|     XrBRWSySHQ5Bxtinu...|                          117|                              50|         0.4274|                 high|\n",
      "|     0Ll3WGYJ4nZSFhbKW...|                          113|                             108|         0.9558|                 high|\n",
      "|     pA1qWBVv1XIsGf4Zc...|                          113|                             107|         0.9469|                 high|\n",
      "|     I+GIxXm5YGdSFhbKW...|                          111|                              87|         0.7838|                 high|\n",
      "|     5LCtMwTh34kBvuxB6...|                          111|                              85|         0.7658|                 high|\n",
      "|     IRVUo5BqYlcsGf4Zc...|                          111|                              45|         0.4054|                 high|\n",
      "|     3YZ6jH4ZRLNSFhbKW...|                          110|                             106|         0.9636|                 high|\n",
      "|     rYTNp0EBx7XRc2czK...|                          108|                              75|         0.6944|                 high|\n",
      "|     EfZkNOtmnZmE6rUJ9...|                          107|                             103|         0.9626|                 high|\n",
      "|     Ok7WQotXRt3Rc2czK...|                          107|                             101|         0.9439|                 high|\n",
      "+-------------------------+-----------------------------+--------------------------------+---------------+---------------------+\n",
      "only showing top 20 rows\n",
      "\n"
     ]
    },
    {
     "name": "stderr",
     "output_type": "stream",
     "text": [
      "\r",
      "[Stage 1271:===================================================>(199 + 1) / 200]\r",
      "\r",
      "                                                                                \r"
     ]
    }
   ],
   "source": [
    "diversity_of_call_center_from_last_x_to_y_days(df, 0, 30, 2).show()"
   ]
  },
  {
   "cell_type": "markdown",
   "id": "bf0187a6",
   "metadata": {},
   "source": [
    "# Call in/ Call out center detection"
   ]
  },
  {
   "cell_type": "code",
   "execution_count": 183,
   "id": "38ed5668",
   "metadata": {},
   "outputs": [],
   "source": [
    "def type_of_call_center_from_last_x_to_y_days(df, x, y, percent):\n",
    "    df_type = top_total_calls_from_x_to_y_days(df, x, y, percent)\n",
    "    df_type2 = df.join(df_type, df_type[f'calling_last_{x}_to_{y}_days'] == df['calling'], 'inner').\\\n",
    "               drop(f'calling')\n",
    "    df_type3 = df_type2.groupBy(f'calling_last_{x}_to_{y}_days').pivot('calling_type').count()\n",
    "    df_type3 = df_type3.na.fill(0)\n",
    "    df_type3 = df_type3.withColumn('calling_type_ratio',\n",
    "                                   format_number(f.col('1')/(f.col('1') + f.col('2')), 4)\n",
    "                                  )\n",
    "    df_type3 = df_type3.withColumn('type_call_center',\n",
    "                                   when((col('calling_type_ratio') >= 0.6), 'call_in').\\\n",
    "                                   when((col('calling_type_ratio') <= 0.4), 'call_out').\\\n",
    "                                   otherwise('both')\n",
    "                                  )\n",
    "    df_type3 = rename_col(df_type3, [\n",
    "                                     ['1', 'total_calls_type_1'],\n",
    "                                     ['2', 'total_calls_type_2'],\n",
    "                                    ]\n",
    "                                 )\n",
    "    return df_type3"
   ]
  },
  {
   "cell_type": "markdown",
   "id": "809438fb",
   "metadata": {},
   "source": [
    "Example"
   ]
  },
  {
   "cell_type": "code",
   "execution_count": 184,
   "id": "9f2b033f",
   "metadata": {
    "collapsed": true
   },
   "outputs": [
    {
     "name": "stderr",
     "output_type": "stream",
     "text": [
      "[Stage 1311:>                                                       (0 + 1) / 1]\r"
     ]
    },
    {
     "name": "stdout",
     "output_type": "stream",
     "text": [
      "+-------------------------+------------------+------------------+------------------+----------------+\n",
      "|calling_last_0_to_30_days|total_calls_type_1|total_calls_type_2|calling_type_ratio|type_call_center|\n",
      "+-------------------------+------------------+------------------+------------------+----------------+\n",
      "|     +mhy8a/4ykcBvuxB6...|                 0|                85|            0.0000|        call_out|\n",
      "|     014Ngw40khJfBh401...|                 0|                88|            0.0000|        call_out|\n",
      "|     8oveueaXFOpSFhbKW...|                96|                 0|            1.0000|         call_in|\n",
      "|     FtiZDwQpxXDRc2czK...|                 0|                69|            0.0000|        call_out|\n",
      "|     RauDXtvwrfQBvuxB6...|                46|                 0|            1.0000|         call_in|\n",
      "|     bDYozBkZ8vhfBh401...|                57|                 0|            1.0000|         call_in|\n",
      "|     crrhqzYjBN3JRXAy8...|                 0|               139|            0.0000|        call_out|\n",
      "|     m9H92bMTh3wBvuxB6...|                 0|                84|            0.0000|        call_out|\n",
      "|     u18yK3RV/n4JqWorj...|                64|                 0|            1.0000|         call_in|\n",
      "|     wDIq9g08xOMsGf4Zc...|                63|                 0|            1.0000|         call_in|\n",
      "|     BjB4bkzbjt9SFhbKW...|               122|                 0|            1.0000|         call_in|\n",
      "|     FPx0ykgCR60BvuxB6...|                 0|               187|            0.0000|        call_out|\n",
      "|     LmaANqnwPRwKUukPU...|                 0|                78|            0.0000|        call_out|\n",
      "|     NCWqAzbKnP/JRXAy8...|                 0|                96|            0.0000|        call_out|\n",
      "|     WpeNSWmthecJqWorj...|               108|                 0|            1.0000|         call_in|\n",
      "|     fDhLSXLPuzjJRXAy8...|               101|                 0|            1.0000|         call_in|\n",
      "|     hZer4sxGMcrRc2czK...|                 0|                86|            0.0000|        call_out|\n",
      "|     igYsodAe0aTRc2czK...|                 0|                90|            0.0000|        call_out|\n",
      "|     lCZgOSa4H3uE6rUJ9...|                 0|                68|            0.0000|        call_out|\n",
      "|     lrnmAt1M2dDJRXAy8...|                 0|               112|            0.0000|        call_out|\n",
      "+-------------------------+------------------+------------------+------------------+----------------+\n",
      "only showing top 20 rows\n",
      "\n"
     ]
    },
    {
     "name": "stderr",
     "output_type": "stream",
     "text": [
      "\r",
      "                                                                                \r"
     ]
    }
   ],
   "source": [
    "type_of_call_center_from_last_x_to_y_days(df, 0, 30, 2).show()"
   ]
  },
  {
   "cell_type": "markdown",
   "id": "202c14e6",
   "metadata": {},
   "source": [
    "# Call center: Duration type detection\n",
    "Duration types:\n",
    "\n",
    "- very_short: 0 - 15s\n",
    "- short: 15 - 30s\n",
    "- medium: 30s - 2min\n",
    "- long: 2 - 20min\n",
    "- very_long: > 20 min"
   ]
  },
  {
   "cell_type": "code",
   "execution_count": 272,
   "id": "65b9bbbf",
   "metadata": {},
   "outputs": [],
   "source": [
    "def typical_duration_type_from_last_x_to_y_days(df, x, y, percent):\n",
    "    df_duration = top_total_calls_from_x_to_y_days(df, x, y, percent)\n",
    "    df_duration2 = df.join(df_duration, df_duration[f'calling_last_{x}_to_{y}_days'] == df['calling'], 'inner').\\\n",
    "                   drop(f'calling')\n",
    "    df_duration2 = df_duration2.withColumn('duration_type',\n",
    "                                            when((col('duration') <= 15), 'very_short').\\\n",
    "                                            when((col('duration') <= 30) & (col('duration') >15), 'short').\\\n",
    "                                            when((col('duration') <= 120) & (col('duration') >30), 'medium').\\\n",
    "                                            when((col('duration') <= 1200) & (col('duration') >120), 'long').\\\n",
    "                                            when((col('duration') > 1200), 'very_long').\\\n",
    "                                            otherwise('unidentified')\n",
    "                                           )\n",
    "    df_duration3 = df_duration2.groupBy(f'calling_last_{x}_to_{y}_days', 'duration_type').count()\n",
    "    df_duration4 = df_duration3.withColumn(\"rank\", f.row_number().\n",
    "                                           over(Window.partitionBy(f'calling_last_{x}_to_{y}_days').\n",
    "                                           orderBy(col('count').desc()))\n",
    "                                          )\n",
    "    df_duration4 = df_duration4.filter(col('rank') ==1).\\\n",
    "                   withColumnRenamed(f'calling_last_{x}_to_{y}_days', 'calling_1').\\\n",
    "                   withColumnRenamed('duration_type', 'typical_duration_type').\\\n",
    "                   withColumnRenamed('count', 'number_of_calls_typical_duration_type').\\\n",
    "                   drop('rank')\n",
    "    df_duration5 = df_duration2.groupBy(f'calling_last_{x}_to_{y}_days').pivot('duration_type').count()\n",
    "    df_duration6 = df_duration5.join(df_duration4, \n",
    "                                     df_duration4['calling_1'] == df_duration5[f'calling_last_{x}_to_{y}_days'],\n",
    "                                    'inner').\\\n",
    "                                drop('calling_1')\n",
    "    df_duration6 = rename_col(df_duration6,[\n",
    "                                            ['long', 'duration_long_total_calls'],\n",
    "                                            ['medium', 'duration_medium_total_calls'],\n",
    "                                            ['short', 'duration_short_total_calls'],\n",
    "                                            ['very_short', 'duration_very_short_total_calls'],\n",
    "                                            ['very_long', 'duration_very_long_total_calls'], \n",
    "                                           ]\n",
    "                             )\n",
    "    return df_duration6"
   ]
  },
  {
   "cell_type": "markdown",
   "id": "49f00754",
   "metadata": {},
   "source": [
    "Example"
   ]
  },
  {
   "cell_type": "code",
   "execution_count": 273,
   "id": "dd2c78aa",
   "metadata": {
    "collapsed": true
   },
   "outputs": [
    {
     "name": "stderr",
     "output_type": "stream",
     "text": [
      "[Stage 1956:>                                                       (0 + 1) / 1]\r"
     ]
    },
    {
     "name": "stdout",
     "output_type": "stream",
     "text": [
      "+-------------------------+-------------------------+---------------------------+--------------------------+------------------------------+-------------------------------+---------------------+-------------------------------------+\n",
      "|calling_last_0_to_30_days|duration_long_total_calls|duration_medium_total_calls|duration_short_total_calls|duration_very_long_total_calls|duration_very_short_total_calls|typical_duration_type|number_of_calls_typical_duration_type|\n",
      "+-------------------------+-------------------------+---------------------------+--------------------------+------------------------------+-------------------------------+---------------------+-------------------------------------+\n",
      "|     +mhy8a/4ykcBvuxB6...|                        9|                         24|                        23|                             2|                             27|           very_short|                                   27|\n",
      "|     014Ngw40khJfBh401...|                       16|                         42|                        15|                          null|                             15|               medium|                                   42|\n",
      "|     8oveueaXFOpSFhbKW...|                        7|                         37|                        22|                             1|                             29|               medium|                                   37|\n",
      "|     FtiZDwQpxXDRc2czK...|                        7|                         29|                        17|                          null|                             16|               medium|                                   29|\n",
      "|     RauDXtvwrfQBvuxB6...|                       16|                         13|                         8|                          null|                              9|                 long|                                   16|\n",
      "|     bDYozBkZ8vhfBh401...|                       11|                         20|                         9|                          null|                             17|               medium|                                   20|\n",
      "|     crrhqzYjBN3JRXAy8...|                        3|                         31|                        50|                          null|                             55|           very_short|                                   55|\n",
      "|     m9H92bMTh3wBvuxB6...|                        5|                         35|                        24|                          null|                             20|               medium|                                   35|\n",
      "|     u18yK3RV/n4JqWorj...|                        9|                         24|                        10|                          null|                             21|               medium|                                   24|\n",
      "|     wDIq9g08xOMsGf4Zc...|                        6|                         29|                        17|                          null|                             11|               medium|                                   29|\n",
      "|     BjB4bkzbjt9SFhbKW...|                     null|                          7|                        32|                          null|                             83|           very_short|                                   83|\n",
      "|     FPx0ykgCR60BvuxB6...|                       33|                         87|                        40|                          null|                             27|               medium|                                   87|\n",
      "|     LmaANqnwPRwKUukPU...|                       11|                         24|                        16|                          null|                             27|           very_short|                                   27|\n",
      "|     NCWqAzbKnP/JRXAy8...|                     null|                         23|                        34|                          null|                             39|           very_short|                                   39|\n",
      "|     WpeNSWmthecJqWorj...|                       18|                         39|                        23|                          null|                             28|               medium|                                   39|\n",
      "|     fDhLSXLPuzjJRXAy8...|                        3|                         45|                        34|                          null|                             19|               medium|                                   45|\n",
      "|     hZer4sxGMcrRc2czK...|                        9|                         29|                        19|                             1|                             28|               medium|                                   29|\n",
      "|     igYsodAe0aTRc2czK...|                       11|                         39|                        19|                             1|                             20|               medium|                                   39|\n",
      "|     lCZgOSa4H3uE6rUJ9...|                       12|                         34|                        11|                             1|                             10|               medium|                                   34|\n",
      "|     lrnmAt1M2dDJRXAy8...|                        6|                         61|                        25|                          null|                             20|               medium|                                   61|\n",
      "+-------------------------+-------------------------+---------------------------+--------------------------+------------------------------+-------------------------------+---------------------+-------------------------------------+\n",
      "only showing top 20 rows\n",
      "\n"
     ]
    },
    {
     "name": "stderr",
     "output_type": "stream",
     "text": [
      "\r",
      "                                                                                \r"
     ]
    }
   ],
   "source": [
    "typical_duration_type_from_last_x_to_y_days(df, 0, 30, 2).show()"
   ]
  },
  {
   "cell_type": "markdown",
   "id": "e11fab8f",
   "metadata": {},
   "source": [
    "# Call center: Diversity of Location"
   ]
  },
  {
   "cell_type": "markdown",
   "id": "ec363aad",
   "metadata": {},
   "source": [
    "1) Village"
   ]
  },
  {
   "cell_type": "code",
   "execution_count": 239,
   "id": "6908a339",
   "metadata": {},
   "outputs": [],
   "source": [
    "def village_diversity_from_last_x_to_y_days(df, x, y, percent):\n",
    "    df_location = top_total_calls_from_x_to_y_days(df, x, y, percent)\n",
    "    df_location2 = df.join(df_location, df_location[f'calling_last_{x}_to_{y}_days'] == df['calling'], 'inner').\\\n",
    "                   drop(f'calling')\n",
    "    df_location2 = fitler_from_x_to_y_days(df_location2, x, y)\n",
    "    \n",
    "    df_village = df_location2.filter((col('session_of_week') == 'weekday') & (col('session_of_day') == 'working_hours'))\n",
    "    df_village2 = df_village.groupBy(f'calling_last_{x}_to_{y}_days', 'called_date').\\\n",
    "                             agg(countDistinct('village_name'))\n",
    "    df_village3 = df_village2.groupBy(f'calling_last_{x}_to_{y}_days', 'count(village_name)').\\\n",
    "                              agg(countDistinct('called_date'))\n",
    "    df_village3 = df_village3.withColumn(\"rank\", f.row_number().\n",
    "                                         over(Window.partitionBy(f'calling_last_{x}_to_{y}_days').\n",
    "                                         orderBy(col('count(called_date)').desc()))\n",
    "                                        )\n",
    "    df_village3 = df_village3.filter(col('rank') == 1).\\\n",
    "                              withColumnRenamed('count(village_name)', 'village_typical_daily_number_of_changes').\\\n",
    "                              drop('count(called_date)', 'rank')\n",
    "    return df_village3\n"
   ]
  },
  {
   "cell_type": "code",
   "execution_count": 240,
   "id": "9ccc40fc",
   "metadata": {
    "collapsed": true
   },
   "outputs": [
    {
     "name": "stderr",
     "output_type": "stream",
     "text": [
      "[Stage 1589:>                                                       (0 + 1) / 1]\r"
     ]
    },
    {
     "name": "stdout",
     "output_type": "stream",
     "text": [
      "+-------------------------+---------------------------------------+\n",
      "|calling_last_0_to_30_days|village_typical_daily_number_of_changes|\n",
      "+-------------------------+---------------------------------------+\n",
      "|     014Ngw40khJfBh401...|                                      1|\n",
      "|     8oveueaXFOpSFhbKW...|                                      1|\n",
      "|     FtiZDwQpxXDRc2czK...|                                      2|\n",
      "|     crrhqzYjBN3JRXAy8...|                                      1|\n",
      "|     BjB4bkzbjt9SFhbKW...|                                      1|\n",
      "|     FPx0ykgCR60BvuxB6...|                                      1|\n",
      "|     LmaANqnwPRwKUukPU...|                                      2|\n",
      "|     NCWqAzbKnP/JRXAy8...|                                      1|\n",
      "|     WpeNSWmthecJqWorj...|                                      1|\n",
      "|     fDhLSXLPuzjJRXAy8...|                                      1|\n",
      "|     igYsodAe0aTRc2czK...|                                      1|\n",
      "|     lCZgOSa4H3uE6rUJ9...|                                      1|\n",
      "|     lrnmAt1M2dDJRXAy8...|                                      1|\n",
      "|     +Ih3GfsAApzJRXAy8...|                                      1|\n",
      "|     04fYhwWKm3JSFhbKW...|                                      1|\n",
      "|     0C0uY2aGHQzJRXAy8...|                                      1|\n",
      "|     1A2BCggX7KgsGf4Zc...|                                      1|\n",
      "|     2PTWWeiuNoUsGf4Zc...|                                      1|\n",
      "|     Ix3uhDTWRjIBvuxB6...|                                      1|\n",
      "|     QilyRiLw6P9fBh401...|                                      1|\n",
      "+-------------------------+---------------------------------------+\n",
      "only showing top 20 rows\n",
      "\n"
     ]
    },
    {
     "name": "stderr",
     "output_type": "stream",
     "text": [
      "\r",
      "                                                                                \r"
     ]
    }
   ],
   "source": [
    "village_diversity_from_last_x_to_y_days(df, 0, 30, 1).show()"
   ]
  },
  {
   "cell_type": "markdown",
   "id": "1dc637ca",
   "metadata": {},
   "source": [
    "2) District"
   ]
  },
  {
   "cell_type": "code",
   "execution_count": 241,
   "id": "d0ccf6a7",
   "metadata": {},
   "outputs": [],
   "source": [
    "def district_diversity_from_last_x_to_y_days(df, x, y, percent):\n",
    "    df_location = top_total_calls_from_x_to_y_days(df, x, y, percent)\n",
    "    df_location2 = df.join(df_location, df_location[f'calling_last_{x}_to_{y}_days'] == df['calling'], 'inner').\\\n",
    "                   drop(f'calling')\n",
    "    df_location2 = fitler_from_x_to_y_days(df_location2, x, y)\n",
    "    \n",
    "    df_district = df_location2.filter((col('session_of_week') == 'weekday') & (col('session_of_day') == 'working_hours'))\n",
    "    df_district2 = df_district.groupBy(f'calling_last_{x}_to_{y}_days', 'called_date').\\\n",
    "                             agg(countDistinct('district_name'))\n",
    "    df_district3 = df_district2.groupBy(f'calling_last_{x}_to_{y}_days', 'count(district_name)').\\\n",
    "                              agg(countDistinct('called_date'))\n",
    "    df_district3 = df_district3.withColumn(\"rank\", f.row_number().\n",
    "                                         over(Window.partitionBy(f'calling_last_{x}_to_{y}_days').\n",
    "                                         orderBy(col('count(called_date)').desc()))\n",
    "                                        )\n",
    "    df_district3 = df_district3.filter(col('rank') == 1).\\\n",
    "                              withColumnRenamed('count(district_name)', 'district_typical_daily_number_of_changes').\\\n",
    "                              drop('count(called_date)', 'rank')\n",
    "    return df_district3"
   ]
  },
  {
   "cell_type": "code",
   "execution_count": 242,
   "id": "476102c2",
   "metadata": {
    "collapsed": true
   },
   "outputs": [
    {
     "name": "stderr",
     "output_type": "stream",
     "text": [
      "[Stage 1606:>                                                       (0 + 1) / 1]\r"
     ]
    },
    {
     "name": "stdout",
     "output_type": "stream",
     "text": [
      "+-------------------------+----------------------------------------+\n",
      "|calling_last_0_to_30_days|district_typical_daily_number_of_changes|\n",
      "+-------------------------+----------------------------------------+\n",
      "|     014Ngw40khJfBh401...|                                       1|\n",
      "|     8oveueaXFOpSFhbKW...|                                       1|\n",
      "|     FtiZDwQpxXDRc2czK...|                                       1|\n",
      "|     crrhqzYjBN3JRXAy8...|                                       1|\n",
      "|     BjB4bkzbjt9SFhbKW...|                                       1|\n",
      "|     FPx0ykgCR60BvuxB6...|                                       2|\n",
      "|     LmaANqnwPRwKUukPU...|                                       2|\n",
      "|     NCWqAzbKnP/JRXAy8...|                                       1|\n",
      "|     WpeNSWmthecJqWorj...|                                       1|\n",
      "|     fDhLSXLPuzjJRXAy8...|                                       1|\n",
      "|     igYsodAe0aTRc2czK...|                                       1|\n",
      "|     lCZgOSa4H3uE6rUJ9...|                                       0|\n",
      "|     lrnmAt1M2dDJRXAy8...|                                       1|\n",
      "|     +Ih3GfsAApzJRXAy8...|                                       1|\n",
      "|     04fYhwWKm3JSFhbKW...|                                       1|\n",
      "|     0C0uY2aGHQzJRXAy8...|                                       1|\n",
      "|     1A2BCggX7KgsGf4Zc...|                                       1|\n",
      "|     2PTWWeiuNoUsGf4Zc...|                                       1|\n",
      "|     Ix3uhDTWRjIBvuxB6...|                                       1|\n",
      "|     QilyRiLw6P9fBh401...|                                       1|\n",
      "+-------------------------+----------------------------------------+\n",
      "only showing top 20 rows\n",
      "\n"
     ]
    },
    {
     "name": "stderr",
     "output_type": "stream",
     "text": [
      "\r",
      "                                                                                \r"
     ]
    }
   ],
   "source": [
    "district_diversity_from_last_x_to_y_days(df, 0, 30, 1).show()"
   ]
  },
  {
   "cell_type": "markdown",
   "id": "41e77e69",
   "metadata": {},
   "source": [
    "3) Province"
   ]
  },
  {
   "cell_type": "code",
   "execution_count": 248,
   "id": "0724a8e6",
   "metadata": {},
   "outputs": [],
   "source": [
    "def province_diversity_from_last_x_to_y_days(df, x, y, percent):\n",
    "    df_location = top_total_calls_from_x_to_y_days(df, x, y, percent)\n",
    "    df_location2 = df.join(df_location, df_location[f'calling_last_{x}_to_{y}_days'] == df['calling'], 'inner').\\\n",
    "                   drop(f'calling')\n",
    "    df_location2 = fitler_from_x_to_y_days(df_location2, x, y)\n",
    "    \n",
    "    df_province = df_location2.filter((col('session_of_week') == 'weekday') & (col('session_of_day') == 'working_hours'))\n",
    "    df_province2 = df_province.groupBy(f'calling_last_{x}_to_{y}_days', 'called_date').\\\n",
    "                             agg(countDistinct('province_name'))\n",
    "    df_province3 = df_province2.groupBy(f'calling_last_{x}_to_{y}_days', 'count(province_name)').\\\n",
    "                              agg(countDistinct('called_date'))\n",
    "    df_province3 = df_province3.withColumn(\"rank\", f.row_number().\n",
    "                                         over(Window.partitionBy(f'calling_last_{x}_to_{y}_days').\n",
    "                                         orderBy(col('count(called_date)').desc()))\n",
    "                                        )\n",
    "    df_province3 = df_province3.filter(col('rank') == 1).\\\n",
    "                              withColumnRenamed('count(province_name)', 'province_typical_daily_number_of_changes').\\\n",
    "                              drop('count(called_date)', 'rank')\n",
    "    return df_province3"
   ]
  },
  {
   "cell_type": "code",
   "execution_count": 246,
   "id": "1b9663ad",
   "metadata": {
    "collapsed": true
   },
   "outputs": [
    {
     "name": "stderr",
     "output_type": "stream",
     "text": [
      "Exception in thread \"serve-DataFrame\" java.net.SocketTimeoutException: Accept timed out\n",
      "\tat java.base/java.net.PlainSocketImpl.socketAccept(Native Method)\n",
      "\tat java.base/java.net.AbstractPlainSocketImpl.accept(AbstractPlainSocketImpl.java:458)\n",
      "\tat java.base/java.net.ServerSocket.implAccept(ServerSocket.java:565)\n",
      "\tat java.base/java.net.ServerSocket.accept(ServerSocket.java:533)\n",
      "\tat org.apache.spark.security.SocketAuthServer$$anon$1.run(SocketAuthServer.scala:64)\n",
      "[Stage 1634:>                                                       (0 + 1) / 1]\r"
     ]
    },
    {
     "name": "stdout",
     "output_type": "stream",
     "text": [
      "+-------------------------+----------------------------------------+\n",
      "|calling_last_0_to_30_days|province_typical_daily_number_of_changes|\n",
      "+-------------------------+----------------------------------------+\n",
      "|     014Ngw40khJfBh401...|                                       1|\n",
      "|     8oveueaXFOpSFhbKW...|                                       1|\n",
      "|     FtiZDwQpxXDRc2czK...|                                       1|\n",
      "|     crrhqzYjBN3JRXAy8...|                                       1|\n",
      "|     BjB4bkzbjt9SFhbKW...|                                       1|\n",
      "|     FPx0ykgCR60BvuxB6...|                                       1|\n",
      "|     LmaANqnwPRwKUukPU...|                                       1|\n",
      "|     NCWqAzbKnP/JRXAy8...|                                       1|\n",
      "|     WpeNSWmthecJqWorj...|                                       1|\n",
      "|     fDhLSXLPuzjJRXAy8...|                                       1|\n",
      "|     igYsodAe0aTRc2czK...|                                       1|\n",
      "|     lCZgOSa4H3uE6rUJ9...|                                       0|\n",
      "|     lrnmAt1M2dDJRXAy8...|                                       1|\n",
      "|     +Ih3GfsAApzJRXAy8...|                                       1|\n",
      "|     04fYhwWKm3JSFhbKW...|                                       1|\n",
      "|     0C0uY2aGHQzJRXAy8...|                                       1|\n",
      "|     1A2BCggX7KgsGf4Zc...|                                       1|\n",
      "|     2PTWWeiuNoUsGf4Zc...|                                       1|\n",
      "|     Ix3uhDTWRjIBvuxB6...|                                       1|\n",
      "|     QilyRiLw6P9fBh401...|                                       1|\n",
      "+-------------------------+----------------------------------------+\n",
      "only showing top 20 rows\n",
      "\n"
     ]
    },
    {
     "name": "stderr",
     "output_type": "stream",
     "text": [
      "\r",
      "                                                                                \r"
     ]
    }
   ],
   "source": [
    "province_diversity_from_last_x_to_y_days(df, 0, 30, 1).show()"
   ]
  },
  {
   "cell_type": "code",
   "execution_count": 247,
   "id": "d068d634",
   "metadata": {},
   "outputs": [
    {
     "name": "stderr",
     "output_type": "stream",
     "text": [
      "                                                                                \r"
     ]
    }
   ],
   "source": [
    "village_diversity_from_last_x_to_y_days(df, 0, 30, 1).toPandas().to_excel('location_village.xlsx')\n",
    "district_diversity_from_last_x_to_y_days(df, 0, 30, 1).toPandas().to_excel('location_district.xlsx')\n",
    "province_diversity_from_last_x_to_y_days(df, 0, 30, 1).toPandas().to_excel('location_province.xlsx')"
   ]
  },
  {
   "cell_type": "markdown",
   "id": "c3e12cc5",
   "metadata": {},
   "source": [
    "4) Combine all location to get the feature of location diversity"
   ]
  },
  {
   "cell_type": "code",
   "execution_count": 251,
   "id": "9ff3e377",
   "metadata": {},
   "outputs": [],
   "source": [
    "def location_diversity_from_last_x_to_y_days(df, x, y, percent):\n",
    "    village = village_diversity_from_last_x_to_y_days(df, x, y, percent)\n",
    "    district = district_diversity_from_last_x_to_y_days(df, x, y, percent).\\\n",
    "               withColumnRenamed(f'calling_last_{x}_to_{y}_days', 'calling_district')\n",
    "    province = province_diversity_from_last_x_to_y_days(df, x, y, percent).\\\n",
    "               withColumnRenamed(f'calling_last_{x}_to_{y}_days', 'calling_province')\n",
    "    location = village.join(district, district['calling_district'] == village[f'calling_last_{x}_to_{y}_days'], \n",
    "                            'inner').\\\n",
    "                            drop('calling_district')\n",
    "    location2 = location.join(province, province['calling_province'] == location[f'calling_last_{x}_to_{y}_days'], \n",
    "                            'inner').\\\n",
    "                            drop('calling_province')\n",
    "    location2 = location2.withColumn('location_type_change',\n",
    "                                     when((col('province_typical_daily_number_of_changes') >=2), \n",
    "                                          'province'\n",
    "                                         ).\\\n",
    "                                     when((col('province_typical_daily_number_of_changes') < 2) &\n",
    "                                          (col('district_typical_daily_number_of_changes') >= 2), \n",
    "                                          'district'\n",
    "                                         ).\\\n",
    "                                     when((col('province_typical_daily_number_of_changes') < 2) &\n",
    "                                          (col('district_typical_daily_number_of_changes') < 2) &\n",
    "                                          (col('village_typical_daily_number_of_changes') >= 3),\n",
    "                                          'village'\n",
    "                                         ).\\\n",
    "                                     when((col('village_typical_daily_number_of_changes') <2), \n",
    "                                          'no_change'\n",
    "                                         ).\\\n",
    "                                     otherwise('unidentified')\n",
    "                                    )\n",
    "    return location2"
   ]
  },
  {
   "cell_type": "code",
   "execution_count": 253,
   "id": "1a0afac9",
   "metadata": {
    "collapsed": true
   },
   "outputs": [
    {
     "name": "stderr",
     "output_type": "stream",
     "text": [
      "[Stage 1763:>                                                       (0 + 1) / 1]\r"
     ]
    },
    {
     "name": "stdout",
     "output_type": "stream",
     "text": [
      "+-------------------------+---------------------------------------+----------------------------------------+----------------------------------------+--------------------+\n",
      "|calling_last_0_to_30_days|village_typical_daily_number_of_changes|district_typical_daily_number_of_changes|province_typical_daily_number_of_changes|location_type_change|\n",
      "+-------------------------+---------------------------------------+----------------------------------------+----------------------------------------+--------------------+\n",
      "|     014Ngw40khJfBh401...|                                      1|                                       1|                                       1|           no_change|\n",
      "|     8oveueaXFOpSFhbKW...|                                      1|                                       1|                                       1|           no_change|\n",
      "|     FtiZDwQpxXDRc2czK...|                                      2|                                       1|                                       1|        unidentified|\n",
      "|     crrhqzYjBN3JRXAy8...|                                      1|                                       1|                                       1|           no_change|\n",
      "|     BjB4bkzbjt9SFhbKW...|                                      1|                                       1|                                       1|           no_change|\n",
      "|     FPx0ykgCR60BvuxB6...|                                      1|                                       2|                                       1|            district|\n",
      "|     LmaANqnwPRwKUukPU...|                                      2|                                       2|                                       1|            district|\n",
      "|     NCWqAzbKnP/JRXAy8...|                                      1|                                       1|                                       1|           no_change|\n",
      "|     WpeNSWmthecJqWorj...|                                      1|                                       1|                                       1|           no_change|\n",
      "|     fDhLSXLPuzjJRXAy8...|                                      1|                                       1|                                       1|           no_change|\n",
      "|     igYsodAe0aTRc2czK...|                                      1|                                       1|                                       1|           no_change|\n",
      "|     lCZgOSa4H3uE6rUJ9...|                                      1|                                       0|                                       0|           no_change|\n",
      "|     lrnmAt1M2dDJRXAy8...|                                      1|                                       1|                                       1|           no_change|\n",
      "|     +Ih3GfsAApzJRXAy8...|                                      1|                                       1|                                       1|           no_change|\n",
      "|     04fYhwWKm3JSFhbKW...|                                      1|                                       1|                                       1|           no_change|\n",
      "|     0C0uY2aGHQzJRXAy8...|                                      1|                                       1|                                       1|           no_change|\n",
      "|     1A2BCggX7KgsGf4Zc...|                                      1|                                       1|                                       1|           no_change|\n",
      "|     2PTWWeiuNoUsGf4Zc...|                                      1|                                       1|                                       1|           no_change|\n",
      "|     Ix3uhDTWRjIBvuxB6...|                                      1|                                       1|                                       1|           no_change|\n",
      "|     QilyRiLw6P9fBh401...|                                      1|                                       1|                                       1|           no_change|\n",
      "+-------------------------+---------------------------------------+----------------------------------------+----------------------------------------+--------------------+\n",
      "only showing top 20 rows\n",
      "\n"
     ]
    },
    {
     "name": "stderr",
     "output_type": "stream",
     "text": [
      "\r",
      "                                                                                \r"
     ]
    }
   ],
   "source": [
    "location_diversity_from_last_x_to_y_days(df, x, y, percent).show()"
   ]
  },
  {
   "cell_type": "markdown",
   "id": "9760ddd8",
   "metadata": {},
   "source": [
    "# Call Center: Business Detection\n",
    "(by the combination of the 1st and the 3rd methods of Call Center detection)"
   ]
  },
  {
   "cell_type": "markdown",
   "id": "e19ddf32",
   "metadata": {},
   "source": [
    "1) Combine all features"
   ]
  },
  {
   "cell_type": "code",
   "execution_count": 286,
   "id": "4a28e31d",
   "metadata": {},
   "outputs": [],
   "source": [
    "def call_center_final_from_last_x_to_y_days(df, x, y, percent, method):\n",
    "    # Only obtain the call log dataframe of the specified interval of time\n",
    "    df_test = fitler_from_x_to_y_days(df, x, y)\n",
    "    \n",
    "    # Recall all the feature dataframes\n",
    "    call_center_detection = is_call_center(df, x, y, percent, method).\\\n",
    "                            withColumnRenamed('is_call_center', f'is_call_center_last_{x}_to_{y}_days')\n",
    "    \n",
    "    contact_diversity = diversity_of_call_center_from_last_x_to_y_days(df, x, y, percent).\\\n",
    "                        withColumnRenamed('diversity_ratio', 'contact_diversity_ratio').\\\n",
    "                        withColumnRenamed('call_center_diversity', 'contact_diversity').\\\n",
    "                        withColumnRenamed(f'calling_last_{x}_to_{y}_days', 'calling_contact_diversity').\\\n",
    "                        drop(f'total_calls_last_{x}_to_{y}_days', f'total_contacts_last_{x}_to_{y}_days')\n",
    "    \n",
    "    type_of_call_center = type_of_call_center_from_last_x_to_y_days(df, x, y, percent).\\\n",
    "                          withColumnRenamed(f'calling_last_{x}_to_{y}_days', 'calling_type_of_call_center')\n",
    "    \n",
    "    duration_type_of_call_center = typical_duration_type_from_last_x_to_y_days(df, x, y, percent).\\\n",
    "                                   withColumnRenamed(f'calling_last_{x}_to_{y}_days', 'calling_duration_type')\n",
    "    \n",
    "    location_diversity = location_diversity_from_last_x_to_y_days(df, x, y, percent).\\\n",
    "                         withColumnRenamed(f'calling_last_{x}_to_{y}_days', 'calling_location_diversity')\n",
    "    \n",
    "    #Join all dataframes above\n",
    "    df1 = call_center_detection.join(contact_diversity, \n",
    "                                     contact_diversity['calling_contact_diversity'] == \n",
    "                                     call_center_detection[f'calling_last_{x}_to_{y}_days'],\n",
    "                                     'inner').\\\n",
    "                                drop('calling_contact_diversity')\n",
    "    \n",
    "    df2 = df1.join(type_of_call_center, \n",
    "                   type_of_call_center['calling_type_of_call_center'] == \n",
    "                   df1[f'calling_last_{x}_to_{y}_days'],\n",
    "                   'inner').\\\n",
    "                   drop('calling_type_of_call_center')\n",
    "    \n",
    "    df3 = df2.join(duration_type_of_call_center, \n",
    "                   duration_type_of_call_center['calling_duration_type'] == \n",
    "                   df2[f'calling_last_{x}_to_{y}_days'],\n",
    "                   'inner').\\\n",
    "                   drop('calling_duration_type')\n",
    "    df4 = df3.join(location_diversity, \n",
    "                   location_diversity['calling_location_diversity'] == \n",
    "                   df3[f'calling_last_{x}_to_{y}_days'],\n",
    "                   'inner').\\\n",
    "                   drop('calling_location_diversity')\n",
    "    df5 = df_test.join(df4,\n",
    "                       df4[f'calling_last_{x}_to_{y}_days'] ==\n",
    "                       df_test['calling'],\n",
    "                       'inner').\\\n",
    "                       drop(f'calling_last_{x}_to_{y}_days')\n",
    "    return df5"
   ]
  },
  {
   "cell_type": "code",
   "execution_count": 283,
   "id": "eff18a72",
   "metadata": {
    "collapsed": true
   },
   "outputs": [
    {
     "name": "stderr",
     "output_type": "stream",
     "text": [
      "[Stage 2262:====================================================> (82 + 1) / 84]\r"
     ]
    },
    {
     "name": "stdout",
     "output_type": "stream",
     "text": [
      "root\n",
      " |-- calling_last_0_to_30_days: string (nullable = true)\n",
      " |-- total_calls_last_0_to_30_days: long (nullable = false)\n",
      " |-- total_contacts_last_0_to_30_days: long (nullable = false)\n",
      " |-- is_call_center: string (nullable = false)\n",
      "\n"
     ]
    },
    {
     "name": "stderr",
     "output_type": "stream",
     "text": [
      "\r",
      "                                                                                \r"
     ]
    }
   ],
   "source": [
    "is_call_center(df, x, y, percent, \"1_3\").printSchema()"
   ]
  },
  {
   "cell_type": "code",
   "execution_count": 284,
   "id": "9600ab33",
   "metadata": {
    "collapsed": true
   },
   "outputs": [
    {
     "name": "stderr",
     "output_type": "stream",
     "text": [
      "[Stage 2317:===============================================>      (30 + 1) / 34]\r"
     ]
    },
    {
     "name": "stdout",
     "output_type": "stream",
     "text": [
      "root\n",
      " |-- calling_last_0_to_30_days: string (nullable = true)\n",
      " |-- total_calls_last_0_to_30_days: long (nullable = false)\n",
      " |-- total_contacts_last_0_to_30_days: long (nullable = false)\n",
      " |-- total_calls_last_0_to_7_days: long (nullable = false)\n",
      " |-- total_contacts_last_0_to_7_days: long (nullable = false)\n",
      " |-- total_calls_last_7_to_14_days: long (nullable = false)\n",
      " |-- total_contacts_last_7_to_14_days: long (nullable = false)\n",
      " |-- total_calls_last_14_to_21_days: long (nullable = false)\n",
      " |-- total_contacts_last_14_to_21_days: long (nullable = false)\n",
      " |-- total_calls_last_21_to_28_days: long (nullable = false)\n",
      " |-- total_contacts_last_21_to_28_days: long (nullable = false)\n",
      " |-- is_call_center: string (nullable = false)\n",
      "\n"
     ]
    },
    {
     "name": "stderr",
     "output_type": "stream",
     "text": [
      "\r",
      "[Stage 2318:==========================================>         (165 + 1) / 200]\r",
      "\r",
      "                                                                                \r"
     ]
    }
   ],
   "source": [
    "is_call_center(df, x, y, percent, \"2\").printSchema()"
   ]
  },
  {
   "cell_type": "code",
   "execution_count": 258,
   "id": "bdf5068e",
   "metadata": {
    "collapsed": true
   },
   "outputs": [
    {
     "name": "stderr",
     "output_type": "stream",
     "text": [
      "[Stage 1828:================================================>     (76 + 1) / 84]\r"
     ]
    },
    {
     "name": "stdout",
     "output_type": "stream",
     "text": [
      "root\n",
      " |-- calling_last_0_to_30_days: string (nullable = true)\n",
      " |-- total_calls_last_0_to_30_days: long (nullable = false)\n",
      " |-- total_contacts_last_0_to_30_days: long (nullable = false)\n",
      " |-- diversity_ratio: string (nullable = true)\n",
      " |-- call_center_diversity: string (nullable = false)\n",
      "\n"
     ]
    },
    {
     "name": "stderr",
     "output_type": "stream",
     "text": [
      "\r",
      "                                                                                \r"
     ]
    }
   ],
   "source": [
    "diversity_of_call_center_from_last_x_to_y_days(df, x, y, percent).printSchema()"
   ]
  },
  {
   "cell_type": "code",
   "execution_count": 260,
   "id": "fd4e13bd",
   "metadata": {
    "collapsed": true
   },
   "outputs": [
    {
     "name": "stderr",
     "output_type": "stream",
     "text": [
      "[Stage 1843:=================================================>  (189 + 1) / 200]\r"
     ]
    },
    {
     "name": "stdout",
     "output_type": "stream",
     "text": [
      "root\n",
      " |-- calling_last_0_to_30_days: string (nullable = true)\n",
      " |-- total_calls_type_1: long (nullable = true)\n",
      " |-- total_calls_type_2: long (nullable = true)\n",
      " |-- calling_type_ratio: string (nullable = true)\n",
      " |-- type_call_center: string (nullable = false)\n",
      "\n"
     ]
    },
    {
     "name": "stderr",
     "output_type": "stream",
     "text": [
      "\r",
      "                                                                                \r"
     ]
    }
   ],
   "source": [
    "type_of_call_center_from_last_x_to_y_days(df, x, y, percent).printSchema()"
   ]
  },
  {
   "cell_type": "code",
   "execution_count": 274,
   "id": "09d460ea",
   "metadata": {
    "collapsed": true
   },
   "outputs": [
    {
     "name": "stderr",
     "output_type": "stream",
     "text": [
      "[Stage 1974:==================================================> (195 + 1) / 200]\r"
     ]
    },
    {
     "name": "stdout",
     "output_type": "stream",
     "text": [
      "root\n",
      " |-- calling_last_0_to_30_days: string (nullable = true)\n",
      " |-- duration_long_total_calls: long (nullable = true)\n",
      " |-- duration_medium_total_calls: long (nullable = true)\n",
      " |-- duration_short_total_calls: long (nullable = true)\n",
      " |-- duration_very_long_total_calls: long (nullable = true)\n",
      " |-- duration_very_short_total_calls: long (nullable = true)\n",
      " |-- typical_duration_type: string (nullable = false)\n",
      " |-- number_of_calls_typical_duration_type: long (nullable = false)\n",
      "\n"
     ]
    },
    {
     "name": "stderr",
     "output_type": "stream",
     "text": [
      "\r",
      "[Stage 1975:=======================================>            (153 + 1) / 200]\r",
      "\r",
      "                                                                                \r"
     ]
    }
   ],
   "source": [
    "typical_duration_type_from_last_x_to_y_days(df, x, y, percent).printSchema()"
   ]
  },
  {
   "cell_type": "code",
   "execution_count": 262,
   "id": "c72f0d1b",
   "metadata": {
    "collapsed": true
   },
   "outputs": [
    {
     "name": "stderr",
     "output_type": "stream",
     "text": [
      "[Stage 1888:==================================================>   (78 + 1) / 84]\r"
     ]
    },
    {
     "name": "stdout",
     "output_type": "stream",
     "text": [
      "root\n",
      " |-- calling_last_0_to_30_days: string (nullable = true)\n",
      " |-- village_typical_daily_number_of_changes: long (nullable = false)\n",
      " |-- district_typical_daily_number_of_changes: long (nullable = false)\n",
      " |-- province_typical_daily_number_of_changes: long (nullable = false)\n",
      " |-- location_type_change: string (nullable = false)\n",
      "\n"
     ]
    },
    {
     "name": "stderr",
     "output_type": "stream",
     "text": [
      "\r",
      "[Stage 1889:===================================================>(199 + 1) / 200]\r",
      "\r",
      "                                                                                \r"
     ]
    }
   ],
   "source": [
    "location_diversity_from_last_x_to_y_days(df, x, y, percent).printSchema()"
   ]
  },
  {
   "cell_type": "code",
   "execution_count": 276,
   "id": "95d3bf5c",
   "metadata": {
    "collapsed": true
   },
   "outputs": [
    {
     "name": "stderr",
     "output_type": "stream",
     "text": [
      "[Stage 2072:>                                                       (0 + 1) / 1]\r"
     ]
    },
    {
     "name": "stdout",
     "output_type": "stream",
     "text": [
      "+--------------------+--------------------+--------------------+--------+------------------+-------------+--------------+-----------+-------------+------------+-----------+----+------------+----+-----------+---------------+--------------+----------+-----------------------------+--------------------------------+--------------------------------+-----------------------+-----------------+------------------+------------------+------------------+----------------+-------------------------+---------------------------+--------------------------+------------------------------+-------------------------------+---------------------+-------------------------------------+---------------------------------------+----------------------------------------+----------------------------------------+--------------------+\n",
      "| phonenumber_encrypt|             calling|              called|duration|      village_name|district_name|   called_time|called_date|province_name|calling_type|called_hour|hour|week_of_year|year|day_of_week|session_of_week|session_of_day| last_date|total_calls_last_0_to_30_days|total_contacts_last_0_to_30_days|is_call_center_last_0_to_30_days|contact_diversity_ratio|contact_diversity|total_calls_type_1|total_calls_type_2|calling_type_ratio|type_call_center|duration_long_total_calls|duration_medium_total_calls|duration_short_total_calls|duration_very_long_total_calls|duration_very_short_total_calls|typical_duration_type|number_of_calls_typical_duration_type|village_typical_daily_number_of_changes|district_typical_daily_number_of_changes|province_typical_daily_number_of_changes|location_type_change|\n",
      "+--------------------+--------------------+--------------------+--------+------------------+-------------+--------------+-----------+-------------+------------+-----------+----+------------+----+-----------+---------------+--------------+----------+-----------------------------+--------------------------------+--------------------------------+-----------------------+-----------------+------------------+------------------+------------------+----------------+-------------------------+---------------------------+--------------------------+------------------------------+-------------------------------+---------------------+-------------------------------------+---------------------------------------+----------------------------------------+----------------------------------------+--------------------+\n",
      "|uDv/6O/l/yUkqykJd...|014Ngw40khJfBh401...|cJnkW+eOFtfRc2czK...|     6.0|         P. An Phú|         Q.02|20200214152548| 2020-02-14|        TPHCM|           2| 2020021415|  15|           7|2020|          6|        weekend| working_hours|2020-03-09|                           43|                              40|                             Yes|                 0.9302|             high|                 0|                88|            0.0000|        call_out|                       16|                         42|                        15|                          null|                             15|               medium|                                   42|                                      1|                                       1|                                       1|           no_change|\n",
      "|uDv/6O/l/yUkqykJd...|014Ngw40khJfBh401...|uV2DDk8mOzVBxtinu...|    38.0|         P. An Phú|         Q.02|20200217111341| 2020-02-17|        TPHCM|           2| 2020021711|  11|           8|2020|          2|        weekday| working_hours|2020-03-09|                           43|                              40|                             Yes|                 0.9302|             high|                 0|                88|            0.0000|        call_out|                       16|                         42|                        15|                          null|                             15|               medium|                                   42|                                      1|                                       1|                                       1|           no_change|\n",
      "|uDv/6O/l/yUkqykJd...|014Ngw40khJfBh401...|Ts371OmQcqkKUukPU...|   194.0|         P. An Phú|         Q.02|20200222132936| 2020-02-22|        TPHCM|           2| 2020022213|  13|           8|2020|          7|        weekend| working_hours|2020-03-09|                           43|                              40|                             Yes|                 0.9302|             high|                 0|                88|            0.0000|        call_out|                       16|                         42|                        15|                          null|                             15|               medium|                                   42|                                      1|                                       1|                                       1|           no_change|\n",
      "|uDv/6O/l/yUkqykJd...|014Ngw40khJfBh401...|z0QfYBD1n0ZfBh401...|    28.0|         P. An Phú|         Q.02|20200224171100| 2020-02-24|        TPHCM|           2| 2020022417|  17|           9|2020|          2|        weekday| working_hours|2020-03-09|                           43|                              40|                             Yes|                 0.9302|             high|                 0|                88|            0.0000|        call_out|                       16|                         42|                        15|                          null|                             15|               medium|                                   42|                                      1|                                       1|                                       1|           no_change|\n",
      "|uDv/6O/l/yUkqykJd...|014Ngw40khJfBh401...|yRpAuQUg9PssGf4Zc...|    22.0|         P. An Phú|         Q.02|20200213174957| 2020-02-13|        TPHCM|           2| 2020021317|  17|           7|2020|          5|        weekday| working_hours|2020-03-09|                           43|                              40|                             Yes|                 0.9302|             high|                 0|                88|            0.0000|        call_out|                       16|                         42|                        15|                          null|                             15|               medium|                                   42|                                      1|                                       1|                                       1|           no_change|\n",
      "|uDv/6O/l/yUkqykJd...|014Ngw40khJfBh401...|3+Q+P31af+JfBh401...|    13.0|         P. An Phú|         Q.02|20200225102325| 2020-02-25|        TPHCM|           2| 2020022510|  10|           9|2020|          3|        weekday| working_hours|2020-03-09|                           43|                              40|                             Yes|                 0.9302|             high|                 0|                88|            0.0000|        call_out|                       16|                         42|                        15|                          null|                             15|               medium|                                   42|                                      1|                                       1|                                       1|           no_change|\n",
      "|uDv/6O/l/yUkqykJd...|014Ngw40khJfBh401...|UeCFxmgWIIQJqWorj...|    64.0|      P. Thảo Điền|         Q.02|20200302132327| 2020-03-02|        TPHCM|           2| 2020030213|  13|          10|2020|          2|        weekday| working_hours|2020-03-09|                           43|                              40|                             Yes|                 0.9302|             high|                 0|                88|            0.0000|        call_out|                       16|                         42|                        15|                          null|                             15|               medium|                                   42|                                      1|                                       1|                                       1|           no_change|\n",
      "|uDv/6O/l/yUkqykJd...|014Ngw40khJfBh401...|fvuLR6l2UeIJqWorj...|    86.0|         P. An Phú|         Q.02|20200217194237| 2020-02-17|        TPHCM|           2| 2020021719|  19|           8|2020|          2|        weekday|   night_hours|2020-03-09|                           43|                              40|                             Yes|                 0.9302|             high|                 0|                88|            0.0000|        call_out|                       16|                         42|                        15|                          null|                             15|               medium|                                   42|                                      1|                                       1|                                       1|           no_change|\n",
      "|uDv/6O/l/yUkqykJd...|014Ngw40khJfBh401...|mUsqzRQTYH9fBh401...|    58.0|         P. An Phú|         Q.02|20200218084041| 2020-02-18|        TPHCM|           2| 2020021808|   8|           8|2020|          3|        weekday| working_hours|2020-03-09|                           43|                              40|                             Yes|                 0.9302|             high|                 0|                88|            0.0000|        call_out|                       16|                         42|                        15|                          null|                             15|               medium|                                   42|                                      1|                                       1|                                       1|           no_change|\n",
      "|uDv/6O/l/yUkqykJd...|014Ngw40khJfBh401...|uM71hgLUPIyE6rUJ9...|    92.0|         P. An Phú|         Q.02|20200225094445| 2020-02-25|        TPHCM|           2| 2020022509|   9|           9|2020|          3|        weekday| working_hours|2020-03-09|                           43|                              40|                             Yes|                 0.9302|             high|                 0|                88|            0.0000|        call_out|                       16|                         42|                        15|                          null|                             15|               medium|                                   42|                                      1|                                       1|                                       1|           no_change|\n",
      "|uDv/6O/l/yUkqykJd...|014Ngw40khJfBh401...|vojhslkUnbcBvuxB6...|    80.0|P. Tăng Nhơn Phú A|         Q.09|20200229205316| 2020-02-29|        TPHCM|           2| 2020022920|  20|           9|2020|          7|        weekend|   night_hours|2020-03-09|                           43|                              40|                             Yes|                 0.9302|             high|                 0|                88|            0.0000|        call_out|                       16|                         42|                        15|                          null|                             15|               medium|                                   42|                                      1|                                       1|                                       1|           no_change|\n",
      "|uDv/6O/l/yUkqykJd...|014Ngw40khJfBh401...|myPYEWlI6DQsGf4Zc...|   128.0|         P. An Phú|         Q.02|20200301122714| 2020-03-01|        TPHCM|           2| 2020030112|  12|           9|2020|          1|        weekday|   lunch_hours|2020-03-09|                           43|                              40|                             Yes|                 0.9302|             high|                 0|                88|            0.0000|        call_out|                       16|                         42|                        15|                          null|                             15|               medium|                                   42|                                      1|                                       1|                                       1|           no_change|\n",
      "|uDv/6O/l/yUkqykJd...|014Ngw40khJfBh401...|hcnSGQhM/NQBvuxB6...|   114.0|         P. An Phú|         Q.02|20200301132732| 2020-03-01|        TPHCM|           2| 2020030113|  13|           9|2020|          1|        weekday| working_hours|2020-03-09|                           43|                              40|                             Yes|                 0.9302|             high|                 0|                88|            0.0000|        call_out|                       16|                         42|                        15|                          null|                             15|               medium|                                   42|                                      1|                                       1|                                       1|           no_change|\n",
      "|uDv/6O/l/yUkqykJd...|014Ngw40khJfBh401...|PTQD/wyETawBvuxB6...|    55.0|         P. An Phú|         Q.02|20200307181150| 2020-03-07|        TPHCM|           2| 2020030718|  18|          10|2020|          7|        weekend|   lunch_hours|2020-03-09|                           43|                              40|                             Yes|                 0.9302|             high|                 0|                88|            0.0000|        call_out|                       16|                         42|                        15|                          null|                             15|               medium|                                   42|                                      1|                                       1|                                       1|           no_change|\n",
      "|uDv/6O/l/yUkqykJd...|014Ngw40khJfBh401...|7vH0AGqa8SDJRXAy8...|    21.0|P. Tăng Nhơn Phú A|         Q.09|20200214214443| 2020-02-14|        TPHCM|           2| 2020021421|  21|           7|2020|          6|        weekend|   night_hours|2020-03-09|                           43|                              40|                             Yes|                 0.9302|             high|                 0|                88|            0.0000|        call_out|                       16|                         42|                        15|                          null|                             15|               medium|                                   42|                                      1|                                       1|                                       1|           no_change|\n",
      "|uDv/6O/l/yUkqykJd...|014Ngw40khJfBh401...|4M79aVpT4cKE6rUJ9...|   143.0|         P. An Phú|         Q.02|20200217134509| 2020-02-17|        TPHCM|           2| 2020021713|  13|           8|2020|          2|        weekday| working_hours|2020-03-09|                           43|                              40|                             Yes|                 0.9302|             high|                 0|                88|            0.0000|        call_out|                       16|                         42|                        15|                          null|                             15|               medium|                                   42|                                      1|                                       1|                                       1|           no_change|\n",
      "|uDv/6O/l/yUkqykJd...|014Ngw40khJfBh401...|fZX0QbyF2akKUukPU...|   103.0|         P. An Phú|         Q.02|20200307085725| 2020-03-07|        TPHCM|           2| 2020030708|   8|          10|2020|          7|        weekend| working_hours|2020-03-09|                           43|                              40|                             Yes|                 0.9302|             high|                 0|                88|            0.0000|        call_out|                       16|                         42|                        15|                          null|                             15|               medium|                                   42|                                      1|                                       1|                                       1|           no_change|\n",
      "|uDv/6O/l/yUkqykJd...|014Ngw40khJfBh401...|9car/b/ERWssGf4Zc...|   150.0|         P. An Phú|         Q.02|20200218105318| 2020-02-18|        TPHCM|           2| 2020021810|  10|           8|2020|          3|        weekday| working_hours|2020-03-09|                           43|                              40|                             Yes|                 0.9302|             high|                 0|                88|            0.0000|        call_out|                       16|                         42|                        15|                          null|                             15|               medium|                                   42|                                      1|                                       1|                                       1|           no_change|\n",
      "|uDv/6O/l/yUkqykJd...|014Ngw40khJfBh401...|SG0zQugyqI8BvuxB6...|    24.0|         P. An Phú|         Q.02|20200301141628| 2020-03-01|        TPHCM|           2| 2020030114|  14|           9|2020|          1|        weekday| working_hours|2020-03-09|                           43|                              40|                             Yes|                 0.9302|             high|                 0|                88|            0.0000|        call_out|                       16|                         42|                        15|                          null|                             15|               medium|                                   42|                                      1|                                       1|                                       1|           no_change|\n",
      "|uDv/6O/l/yUkqykJd...|014Ngw40khJfBh401...|6yfqv//19opBxtinu...|    83.0|         P. An Phú|         Q.02|20200212161424| 2020-02-12|        TPHCM|           2| 2020021216|  16|           7|2020|          4|        weekday| working_hours|2020-03-09|                           43|                              40|                             Yes|                 0.9302|             high|                 0|                88|            0.0000|        call_out|                       16|                         42|                        15|                          null|                             15|               medium|                                   42|                                      1|                                       1|                                       1|           no_change|\n",
      "+--------------------+--------------------+--------------------+--------+------------------+-------------+--------------+-----------+-------------+------------+-----------+----+------------+----+-----------+---------------+--------------+----------+-----------------------------+--------------------------------+--------------------------------+-----------------------+-----------------+------------------+------------------+------------------+----------------+-------------------------+---------------------------+--------------------------+------------------------------+-------------------------------+---------------------+-------------------------------------+---------------------------------------+----------------------------------------+----------------------------------------+--------------------+\n",
      "only showing top 20 rows\n",
      "\n"
     ]
    },
    {
     "name": "stderr",
     "output_type": "stream",
     "text": [
      "\r",
      "                                                                                \r"
     ]
    }
   ],
   "source": [
    "call_center_final_from_last_x_to_y_days(df, x, y, percent, \"1_3\").show()"
   ]
  },
  {
   "cell_type": "code",
   "execution_count": 287,
   "id": "4c2ddda5",
   "metadata": {
    "collapsed": true
   },
   "outputs": [
    {
     "name": "stderr",
     "output_type": "stream",
     "text": [
      "[Stage 2466:===================================================>(197 + 1) / 200]\r"
     ]
    },
    {
     "name": "stdout",
     "output_type": "stream",
     "text": [
      "+--------------------+--------------------+--------------------+--------+------------+-------------+--------------+-----------+-------------+------------+-----------+----+------------+----+-----------+---------------+--------------+----------+-----------------------------+--------------------------------+----------------------------+-------------------------------+-----------------------------+--------------------------------+------------------------------+---------------------------------+------------------------------+---------------------------------+--------------------------------+-----------------------+-----------------+------------------+------------------+------------------+----------------+-------------------------+---------------------------+--------------------------+------------------------------+-------------------------------+---------------------+-------------------------------------+---------------------------------------+----------------------------------------+----------------------------------------+--------------------+\n",
      "| phonenumber_encrypt|             calling|              called|duration|village_name|district_name|   called_time|called_date|province_name|calling_type|called_hour|hour|week_of_year|year|day_of_week|session_of_week|session_of_day| last_date|total_calls_last_0_to_30_days|total_contacts_last_0_to_30_days|total_calls_last_0_to_7_days|total_contacts_last_0_to_7_days|total_calls_last_7_to_14_days|total_contacts_last_7_to_14_days|total_calls_last_14_to_21_days|total_contacts_last_14_to_21_days|total_calls_last_21_to_28_days|total_contacts_last_21_to_28_days|is_call_center_last_0_to_30_days|contact_diversity_ratio|contact_diversity|total_calls_type_1|total_calls_type_2|calling_type_ratio|type_call_center|duration_long_total_calls|duration_medium_total_calls|duration_short_total_calls|duration_very_long_total_calls|duration_very_short_total_calls|typical_duration_type|number_of_calls_typical_duration_type|village_typical_daily_number_of_changes|district_typical_daily_number_of_changes|province_typical_daily_number_of_changes|location_type_change|\n",
      "+--------------------+--------------------+--------------------+--------+------------+-------------+--------------+-----------+-------------+------------+-----------+----+------------+----+-----------+---------------+--------------+----------+-----------------------------+--------------------------------+----------------------------+-------------------------------+-----------------------------+--------------------------------+------------------------------+---------------------------------+------------------------------+---------------------------------+--------------------------------+-----------------------+-----------------+------------------+------------------+------------------+----------------+-------------------------+---------------------------+--------------------------+------------------------------+-------------------------------+---------------------+-------------------------------------+---------------------------------------+----------------------------------------+----------------------------------------+--------------------+\n",
      "|Y0bKoSuy3p+eIcxc1...|crrhqzYjBN3JRXAy8...|x33tV0G1FvzRc2czK...|    31.0| Quỳnh Thiện|    Hoàng Mai|20200225181815| 2020-02-25|      Nghệ An|           2| 2020022518|  18|           9|2020|          3|        weekday|   lunch_hours|2020-03-09|                           62|                              56|                          17|                             17|                           22|                              21|                            15|                               15|                            20|                               19|                             Yes|                 0.9032|             high|                 0|               139|            0.0000|        call_out|                        3|                         31|                        50|                          null|                             55|           very_short|                                   55|                                      1|                                       1|                                       1|           no_change|\n",
      "|Y0bKoSuy3p+eIcxc1...|crrhqzYjBN3JRXAy8...|ghgt9yb7vs8BvuxB6...|     1.0| Quỳnh Thiện|    Hoàng Mai|20200228151806| 2020-02-28|      Nghệ An|           2| 2020022815|  15|           9|2020|          6|        weekend| working_hours|2020-03-09|                           62|                              56|                          17|                             17|                           22|                              21|                            15|                               15|                            20|                               19|                             Yes|                 0.9032|             high|                 0|               139|            0.0000|        call_out|                        3|                         31|                        50|                          null|                             55|           very_short|                                   55|                                      1|                                       1|                                       1|           no_change|\n",
      "|Y0bKoSuy3p+eIcxc1...|crrhqzYjBN3JRXAy8...|MP/WY7ueyhtfBh401...|    20.0| Quỳnh Thiện|    Hoàng Mai|20200228172310| 2020-02-28|      Nghệ An|           2| 2020022817|  17|           9|2020|          6|        weekend| working_hours|2020-03-09|                           62|                              56|                          17|                             17|                           22|                              21|                            15|                               15|                            20|                               19|                             Yes|                 0.9032|             high|                 0|               139|            0.0000|        call_out|                        3|                         31|                        50|                          null|                             55|           very_short|                                   55|                                      1|                                       1|                                       1|           no_change|\n",
      "|Y0bKoSuy3p+eIcxc1...|crrhqzYjBN3JRXAy8...|51J2rHo+hvTRc2czK...|     1.0| Quỳnh Thiện|    Hoàng Mai|20200302161902| 2020-03-02|      Nghệ An|           2| 2020030216|  16|          10|2020|          2|        weekday| working_hours|2020-03-09|                           62|                              56|                          17|                             17|                           22|                              21|                            15|                               15|                            20|                               19|                             Yes|                 0.9032|             high|                 0|               139|            0.0000|        call_out|                        3|                         31|                        50|                          null|                             55|           very_short|                                   55|                                      1|                                       1|                                       1|           no_change|\n",
      "|Y0bKoSuy3p+eIcxc1...|crrhqzYjBN3JRXAy8...|WKRRpQtDfsUBvuxB6...|    12.0| Quỳnh Thiện|    Hoàng Mai|20200304092328| 2020-03-04|      Nghệ An|           2| 2020030409|   9|          10|2020|          4|        weekday| working_hours|2020-03-09|                           62|                              56|                          17|                             17|                           22|                              21|                            15|                               15|                            20|                               19|                             Yes|                 0.9032|             high|                 0|               139|            0.0000|        call_out|                        3|                         31|                        50|                          null|                             55|           very_short|                                   55|                                      1|                                       1|                                       1|           no_change|\n",
      "|Y0bKoSuy3p+eIcxc1...|crrhqzYjBN3JRXAy8...|dt5GVic2XQpSFhbKW...|    26.0| Quỳnh Thiện|    Hoàng Mai|20200211084732| 2020-02-11|      Nghệ An|           2| 2020021108|   8|           7|2020|          3|        weekday| working_hours|2020-03-09|                           62|                              56|                          17|                             17|                           22|                              21|                            15|                               15|                            20|                               19|                             Yes|                 0.9032|             high|                 0|               139|            0.0000|        call_out|                        3|                         31|                        50|                          null|                             55|           very_short|                                   55|                                      1|                                       1|                                       1|           no_change|\n",
      "|Y0bKoSuy3p+eIcxc1...|crrhqzYjBN3JRXAy8...|DevNSa65ZbcBvuxB6...|    24.0| Quỳnh Thiện|    Hoàng Mai|20200212142446| 2020-02-12|      Nghệ An|           2| 2020021214|  14|           7|2020|          4|        weekday| working_hours|2020-03-09|                           62|                              56|                          17|                             17|                           22|                              21|                            15|                               15|                            20|                               19|                             Yes|                 0.9032|             high|                 0|               139|            0.0000|        call_out|                        3|                         31|                        50|                          null|                             55|           very_short|                                   55|                                      1|                                       1|                                       1|           no_change|\n",
      "|Y0bKoSuy3p+eIcxc1...|crrhqzYjBN3JRXAy8...|O4Dp1M2agMwKUukPU...|     6.0| Quỳnh Thiện|    Hoàng Mai|20200215112012| 2020-02-15|      Nghệ An|           2| 2020021511|  11|           7|2020|          7|        weekend| working_hours|2020-03-09|                           62|                              56|                          17|                             17|                           22|                              21|                            15|                               15|                            20|                               19|                             Yes|                 0.9032|             high|                 0|               139|            0.0000|        call_out|                        3|                         31|                        50|                          null|                             55|           very_short|                                   55|                                      1|                                       1|                                       1|           no_change|\n",
      "|Y0bKoSuy3p+eIcxc1...|crrhqzYjBN3JRXAy8...|NsiA21f+uHPJRXAy8...|    30.0| Quỳnh Thiện|    Hoàng Mai|20200217151013| 2020-02-17|      Nghệ An|           2| 2020021715|  15|           8|2020|          2|        weekday| working_hours|2020-03-09|                           62|                              56|                          17|                             17|                           22|                              21|                            15|                               15|                            20|                               19|                             Yes|                 0.9032|             high|                 0|               139|            0.0000|        call_out|                        3|                         31|                        50|                          null|                             55|           very_short|                                   55|                                      1|                                       1|                                       1|           no_change|\n",
      "|Y0bKoSuy3p+eIcxc1...|crrhqzYjBN3JRXAy8...|YErWivoTMDUsGf4Zc...|    90.0| Quỳnh Thiện|    Hoàng Mai|20200308172724| 2020-03-08|      Nghệ An|           2| 2020030817|  17|          10|2020|          1|        weekday| working_hours|2020-03-09|                           62|                              56|                          17|                             17|                           22|                              21|                            15|                               15|                            20|                               19|                             Yes|                 0.9032|             high|                 0|               139|            0.0000|        call_out|                        3|                         31|                        50|                          null|                             55|           very_short|                                   55|                                      1|                                       1|                                       1|           no_change|\n",
      "|Y0bKoSuy3p+eIcxc1...|crrhqzYjBN3JRXAy8...|BD5nNG4RnG6E6rUJ9...|    12.0| Quỳnh Thiện|    Hoàng Mai|20200213162054| 2020-02-13|      Nghệ An|           2| 2020021316|  16|           7|2020|          5|        weekday| working_hours|2020-03-09|                           62|                              56|                          17|                             17|                           22|                              21|                            15|                               15|                            20|                               19|                             Yes|                 0.9032|             high|                 0|               139|            0.0000|        call_out|                        3|                         31|                        50|                          null|                             55|           very_short|                                   55|                                      1|                                       1|                                       1|           no_change|\n",
      "|Y0bKoSuy3p+eIcxc1...|crrhqzYjBN3JRXAy8...|SpAGRzwP3HUBvuxB6...|    26.0| Quỳnh Thiện|    Hoàng Mai|20200213172952| 2020-02-13|      Nghệ An|           2| 2020021317|  17|           7|2020|          5|        weekday| working_hours|2020-03-09|                           62|                              56|                          17|                             17|                           22|                              21|                            15|                               15|                            20|                               19|                             Yes|                 0.9032|             high|                 0|               139|            0.0000|        call_out|                        3|                         31|                        50|                          null|                             55|           very_short|                                   55|                                      1|                                       1|                                       1|           no_change|\n",
      "|Y0bKoSuy3p+eIcxc1...|crrhqzYjBN3JRXAy8...|+pyWYd6WeQnJRXAy8...|    56.0| Quỳnh Thiện|    Hoàng Mai|20200221110407| 2020-02-21|      Nghệ An|           2| 2020022111|  11|           8|2020|          6|        weekend| working_hours|2020-03-09|                           62|                              56|                          17|                             17|                           22|                              21|                            15|                               15|                            20|                               19|                             Yes|                 0.9032|             high|                 0|               139|            0.0000|        call_out|                        3|                         31|                        50|                          null|                             55|           very_short|                                   55|                                      1|                                       1|                                       1|           no_change|\n",
      "|Y0bKoSuy3p+eIcxc1...|crrhqzYjBN3JRXAy8...|h5vTpTAGbVhfBh401...|    12.0| Quỳnh Thiện|    Hoàng Mai|20200221175125| 2020-02-21|      Nghệ An|           2| 2020022117|  17|           8|2020|          6|        weekend| working_hours|2020-03-09|                           62|                              56|                          17|                             17|                           22|                              21|                            15|                               15|                            20|                               19|                             Yes|                 0.9032|             high|                 0|               139|            0.0000|        call_out|                        3|                         31|                        50|                          null|                             55|           very_short|                                   55|                                      1|                                       1|                                       1|           no_change|\n",
      "|Y0bKoSuy3p+eIcxc1...|crrhqzYjBN3JRXAy8...|obKh2aw4aejJRXAy8...|    10.0| Quỳnh Thiện|    Hoàng Mai|20200302155104| 2020-03-02|      Nghệ An|           2| 2020030215|  15|          10|2020|          2|        weekday| working_hours|2020-03-09|                           62|                              56|                          17|                             17|                           22|                              21|                            15|                               15|                            20|                               19|                             Yes|                 0.9032|             high|                 0|               139|            0.0000|        call_out|                        3|                         31|                        50|                          null|                             55|           very_short|                                   55|                                      1|                                       1|                                       1|           no_change|\n",
      "|Y0bKoSuy3p+eIcxc1...|crrhqzYjBN3JRXAy8...|Wtun6GpYtPZSFhbKW...|    19.0| Quỳnh Thiện|    Hoàng Mai|20200303103959| 2020-03-03|      Nghệ An|           2| 2020030310|  10|          10|2020|          3|        weekday| working_hours|2020-03-09|                           62|                              56|                          17|                             17|                           22|                              21|                            15|                               15|                            20|                               19|                             Yes|                 0.9032|             high|                 0|               139|            0.0000|        call_out|                        3|                         31|                        50|                          null|                             55|           very_short|                                   55|                                      1|                                       1|                                       1|           no_change|\n",
      "|Y0bKoSuy3p+eIcxc1...|crrhqzYjBN3JRXAy8...|Cvp7CltoGAhfBh401...|    21.0|  Quỳnh Vinh|    Hoàng Mai|20200305164542| 2020-03-05|      Nghệ An|           2| 2020030516|  16|          10|2020|          5|        weekday| working_hours|2020-03-09|                           62|                              56|                          17|                             17|                           22|                              21|                            15|                               15|                            20|                               19|                             Yes|                 0.9032|             high|                 0|               139|            0.0000|        call_out|                        3|                         31|                        50|                          null|                             55|           very_short|                                   55|                                      1|                                       1|                                       1|           no_change|\n",
      "|Y0bKoSuy3p+eIcxc1...|crrhqzYjBN3JRXAy8...|UfgjZ+oNAM8JqWorj...|    20.0| Quỳnh Thiện|    Hoàng Mai|20200213162209| 2020-02-13|      Nghệ An|           2| 2020021316|  16|           7|2020|          5|        weekday| working_hours|2020-03-09|                           62|                              56|                          17|                             17|                           22|                              21|                            15|                               15|                            20|                               19|                             Yes|                 0.9032|             high|                 0|               139|            0.0000|        call_out|                        3|                         31|                        50|                          null|                             55|           very_short|                                   55|                                      1|                                       1|                                       1|           no_change|\n",
      "|Y0bKoSuy3p+eIcxc1...|crrhqzYjBN3JRXAy8...|gAmbyJdKxS5Bxtinu...|    21.0| Quỳnh Thiện|    Hoàng Mai|20200222111518| 2020-02-22|      Nghệ An|           2| 2020022211|  11|           8|2020|          7|        weekend| working_hours|2020-03-09|                           62|                              56|                          17|                             17|                           22|                              21|                            15|                               15|                            20|                               19|                             Yes|                 0.9032|             high|                 0|               139|            0.0000|        call_out|                        3|                         31|                        50|                          null|                             55|           very_short|                                   55|                                      1|                                       1|                                       1|           no_change|\n",
      "|Y0bKoSuy3p+eIcxc1...|crrhqzYjBN3JRXAy8...|/e5sfxBYTtEKUukPU...|     8.0| Quỳnh Thiện|    Hoàng Mai|20200224183907| 2020-02-24|      Nghệ An|           2| 2020022418|  18|           9|2020|          2|        weekday|   lunch_hours|2020-03-09|                           62|                              56|                          17|                             17|                           22|                              21|                            15|                               15|                            20|                               19|                             Yes|                 0.9032|             high|                 0|               139|            0.0000|        call_out|                        3|                         31|                        50|                          null|                             55|           very_short|                                   55|                                      1|                                       1|                                       1|           no_change|\n",
      "+--------------------+--------------------+--------------------+--------+------------+-------------+--------------+-----------+-------------+------------+-----------+----+------------+----+-----------+---------------+--------------+----------+-----------------------------+--------------------------------+----------------------------+-------------------------------+-----------------------------+--------------------------------+------------------------------+---------------------------------+------------------------------+---------------------------------+--------------------------------+-----------------------+-----------------+------------------+------------------+------------------+----------------+-------------------------+---------------------------+--------------------------+------------------------------+-------------------------------+---------------------+-------------------------------------+---------------------------------------+----------------------------------------+----------------------------------------+--------------------+\n",
      "only showing top 20 rows\n",
      "\n"
     ]
    },
    {
     "name": "stderr",
     "output_type": "stream",
     "text": [
      "\r",
      "                                                                                \r"
     ]
    }
   ],
   "source": [
    "call_center_final_from_last_x_to_y_days(df, x, y, percent, \"2\").show()"
   ]
  },
  {
   "cell_type": "code",
   "execution_count": 288,
   "id": "b713cf52",
   "metadata": {
    "collapsed": true
   },
   "outputs": [
    {
     "name": "stderr",
     "output_type": "stream",
     "text": [
      "[Stage 2553:===============================================>      (74 + 1) / 84]\r"
     ]
    },
    {
     "name": "stdout",
     "output_type": "stream",
     "text": [
      "root\n",
      " |-- phonenumber_encrypt: string (nullable = true)\n",
      " |-- calling: string (nullable = true)\n",
      " |-- called: string (nullable = true)\n",
      " |-- duration: float (nullable = true)\n",
      " |-- village_name: string (nullable = true)\n",
      " |-- district_name: string (nullable = true)\n",
      " |-- called_time: string (nullable = true)\n",
      " |-- called_date: date (nullable = true)\n",
      " |-- province_name: string (nullable = true)\n",
      " |-- calling_type: string (nullable = true)\n",
      " |-- called_hour: string (nullable = true)\n",
      " |-- hour: string (nullable = true)\n",
      " |-- week_of_year: integer (nullable = true)\n",
      " |-- year: integer (nullable = true)\n",
      " |-- day_of_week: integer (nullable = true)\n",
      " |-- session_of_week: string (nullable = false)\n",
      " |-- session_of_day: string (nullable = false)\n",
      " |-- last_date: string (nullable = false)\n",
      " |-- total_calls_last_0_to_30_days: long (nullable = false)\n",
      " |-- total_contacts_last_0_to_30_days: long (nullable = false)\n",
      " |-- is_call_center_last_0_to_30_days: string (nullable = false)\n",
      " |-- contact_diversity_ratio: string (nullable = true)\n",
      " |-- contact_diversity: string (nullable = false)\n",
      " |-- total_calls_type_1: long (nullable = true)\n",
      " |-- total_calls_type_2: long (nullable = true)\n",
      " |-- calling_type_ratio: string (nullable = true)\n",
      " |-- type_call_center: string (nullable = false)\n",
      " |-- duration_long_total_calls: long (nullable = true)\n",
      " |-- duration_medium_total_calls: long (nullable = true)\n",
      " |-- duration_short_total_calls: long (nullable = true)\n",
      " |-- duration_very_long_total_calls: long (nullable = true)\n",
      " |-- duration_very_short_total_calls: long (nullable = true)\n",
      " |-- typical_duration_type: string (nullable = false)\n",
      " |-- number_of_calls_typical_duration_type: long (nullable = false)\n",
      " |-- village_typical_daily_number_of_changes: long (nullable = false)\n",
      " |-- district_typical_daily_number_of_changes: long (nullable = false)\n",
      " |-- province_typical_daily_number_of_changes: long (nullable = false)\n",
      " |-- location_type_change: string (nullable = false)\n",
      "\n"
     ]
    },
    {
     "name": "stderr",
     "output_type": "stream",
     "text": [
      "\r",
      "                                                                                \r"
     ]
    }
   ],
   "source": [
    "call_center_final_from_last_x_to_y_days(df, x, y, percent, \"1_3\").printSchema()"
   ]
  },
  {
   "cell_type": "code",
   "execution_count": 289,
   "id": "881e2bd9",
   "metadata": {
    "collapsed": true
   },
   "outputs": [
    {
     "name": "stderr",
     "output_type": "stream",
     "text": [
      "[Stage 2684:=================================================>    (77 + 1) / 84]\r"
     ]
    },
    {
     "name": "stdout",
     "output_type": "stream",
     "text": [
      "root\n",
      " |-- phonenumber_encrypt: string (nullable = true)\n",
      " |-- calling: string (nullable = true)\n",
      " |-- called: string (nullable = true)\n",
      " |-- duration: float (nullable = true)\n",
      " |-- village_name: string (nullable = true)\n",
      " |-- district_name: string (nullable = true)\n",
      " |-- called_time: string (nullable = true)\n",
      " |-- called_date: date (nullable = true)\n",
      " |-- province_name: string (nullable = true)\n",
      " |-- calling_type: string (nullable = true)\n",
      " |-- called_hour: string (nullable = true)\n",
      " |-- hour: string (nullable = true)\n",
      " |-- week_of_year: integer (nullable = true)\n",
      " |-- year: integer (nullable = true)\n",
      " |-- day_of_week: integer (nullable = true)\n",
      " |-- session_of_week: string (nullable = false)\n",
      " |-- session_of_day: string (nullable = false)\n",
      " |-- last_date: string (nullable = false)\n",
      " |-- total_calls_last_0_to_30_days: long (nullable = false)\n",
      " |-- total_contacts_last_0_to_30_days: long (nullable = false)\n",
      " |-- total_calls_last_0_to_7_days: long (nullable = false)\n",
      " |-- total_contacts_last_0_to_7_days: long (nullable = false)\n",
      " |-- total_calls_last_7_to_14_days: long (nullable = false)\n",
      " |-- total_contacts_last_7_to_14_days: long (nullable = false)\n",
      " |-- total_calls_last_14_to_21_days: long (nullable = false)\n",
      " |-- total_contacts_last_14_to_21_days: long (nullable = false)\n",
      " |-- total_calls_last_21_to_28_days: long (nullable = false)\n",
      " |-- total_contacts_last_21_to_28_days: long (nullable = false)\n",
      " |-- is_call_center_last_0_to_30_days: string (nullable = false)\n",
      " |-- contact_diversity_ratio: string (nullable = true)\n",
      " |-- contact_diversity: string (nullable = false)\n",
      " |-- total_calls_type_1: long (nullable = true)\n",
      " |-- total_calls_type_2: long (nullable = true)\n",
      " |-- calling_type_ratio: string (nullable = true)\n",
      " |-- type_call_center: string (nullable = false)\n",
      " |-- duration_long_total_calls: long (nullable = true)\n",
      " |-- duration_medium_total_calls: long (nullable = true)\n",
      " |-- duration_short_total_calls: long (nullable = true)\n",
      " |-- duration_very_long_total_calls: long (nullable = true)\n",
      " |-- duration_very_short_total_calls: long (nullable = true)\n",
      " |-- typical_duration_type: string (nullable = false)\n",
      " |-- number_of_calls_typical_duration_type: long (nullable = false)\n",
      " |-- village_typical_daily_number_of_changes: long (nullable = false)\n",
      " |-- district_typical_daily_number_of_changes: long (nullable = false)\n",
      " |-- province_typical_daily_number_of_changes: long (nullable = false)\n",
      " |-- location_type_change: string (nullable = false)\n",
      "\n"
     ]
    },
    {
     "name": "stderr",
     "output_type": "stream",
     "text": [
      "\r",
      "                                                                                \r"
     ]
    }
   ],
   "source": [
    "call_center_final_from_last_x_to_y_days(df, x, y, percent, \"2\").printSchema()"
   ]
  },
  {
   "cell_type": "markdown",
   "id": "d3f3b005",
   "metadata": {},
   "source": [
    "2) Business detection\n",
    "\n",
    "Key features:\n",
    "- 'is_call_center' -- 'Yes'\n",
    "- 'contact_diversity' -- 'high' or 'low'\n",
    "- 'type_call_center'  -- 'call_in' or 'call_out' or 'both'\n",
    "- 'typical_duration_type' -- 'very_short' or 'short' or 'medium' or 'long' or 'very_long'\n",
    "- 'location_type_change'  -- 'village' or 'district' or 'province' or 'no_change' or 'unidentified'"
   ]
  },
  {
   "cell_type": "code",
   "execution_count": 311,
   "id": "5ed1e384",
   "metadata": {},
   "outputs": [],
   "source": [
    "def business_call_center_from_last_x_to_y_days(df, x, y, percent, method):\n",
    "    business = call_center_final_from_last_x_to_y_days(df, x, y, percent, method)\n",
    "    \"\"\"\n",
    "    'is_call_center' -- 'Yes'\n",
    "    'contact_diversity' -- 'high' or 'low'\n",
    "    'type_call_center'  -- 'call_in' or 'call_out' or 'both'\n",
    "    'typical_duration_type' -- 'very_short' or 'short' or 'medium' or 'long' or 'very_long'\n",
    "    'location_type_change'  -- 'village' or 'district' or 'province' or 'no_change' or 'unidentified'\n",
    "    \"\"\"\n",
    "    business = business.withColumn('business',\n",
    "                                   when((col('type_call_center') == 'call_out') &\n",
    "                                        (col('typical_duration_type') == 'very_short') &\n",
    "                                        (col('contact_diversity') == 'high'), \n",
    "                                        'telesaler'\n",
    "                                         ).\\\n",
    "                                   when((col('type_call_center') == 'call_out') &\n",
    "                                        (col('typical_duration_type') == 'very_short') &\n",
    "                                        (col('contact_diversity') == 'low'), \n",
    "                                        'friends/relative'\n",
    "                                         ).\\\n",
    "                                   when((col('type_call_center') == 'call_out') &\n",
    "                                        (\n",
    "                                         (col('typical_duration_type') == 'short') | \n",
    "                                         (col('typical_duration_type') == 'medium')\n",
    "                                        ) &\n",
    "                                        (col('location_type_change') == 'village'), \n",
    "                                        'shipper'\n",
    "                                         ).\\\n",
    "                                   when((col('type_call_center') == 'call_out') &\n",
    "                                        (\n",
    "                                         (col('typical_duration_type') == 'short') | \n",
    "                                         (col('typical_duration_type') == 'medium')\n",
    "                                        ) &\n",
    "                                        (col('location_type_change') == 'district'), \n",
    "                                        'shipper/driver'\n",
    "                                         ).\\\n",
    "                                   when((col('type_call_center') == 'call_out') &\n",
    "                                        (col('location_type_change') == 'province'), \n",
    "                                        'driver/transporter/entrepreneur'\n",
    "                                         ).\\\n",
    "                                   when((col('type_call_center') == 'call_out') &\n",
    "                                        (col('typical_duration_type') == 'long'), \n",
    "                                        'talent_acquisition'\n",
    "                                         ).\\\n",
    "                                   when(#col('type_call_center') == all posible values\n",
    "                                        (col('typical_duration_type') == 'very_long') &\n",
    "                                        (col('contact_diversity') == 'low'), \n",
    "                                        'friend/relative'\n",
    "                                         ).\\\n",
    "                                   when( #col('type_call_center') == all posible values\n",
    "                                        (col('typical_duration_type') == 'very_long') &\n",
    "                                        (col('contact_diversity') == 'high'), \n",
    "                                        'entrepreneur'\n",
    "                                         ).\\\n",
    "                                   when((col('type_call_center') == 'call_in') &\n",
    "                                        ((col('typical_duration_type') == 'very_short') |\n",
    "                                         (col('typical_duration_type') == 'short')\n",
    "                                        ), \n",
    "                                        'service/necessity_provider'\n",
    "                                         ).\\\n",
    "                                   when((col('type_call_center') == 'call_in') &\n",
    "                                        (\n",
    "                                         (col('typical_duration_type') == 'medium') |\n",
    "                                         (col('typical_duration_type') == 'long')   \n",
    "                                        ) &\n",
    "                                        (\n",
    "                                         (col('location_type_change') == 'village') |\n",
    "                                         (col('location_type_change') == 'no_change')\n",
    "                                        ), \n",
    "                                        'consultant/customer_care'\n",
    "                                         ).\\\n",
    "                                   when((col('type_call_center') == 'call_in') &\n",
    "                                        (\n",
    "                                         (col('typical_duration_type') == 'medium') |\n",
    "                                         (col('typical_duration_type') == 'long')   \n",
    "                                        ) &\n",
    "                                        (\n",
    "                                         (col('location_type_change') == 'district') |\n",
    "                                         (col('location_type_change') == 'province')\n",
    "                                        ), \n",
    "                                        'homestay_owner/consultant/customer_care'\n",
    "                                         ).\\\n",
    "                                   otherwise('unidentified')\n",
    "                                  )\n",
    "    return business\n",
    "    \n",
    "                                   "
   ]
  },
  {
   "cell_type": "code",
   "execution_count": 312,
   "id": "fe73fa96",
   "metadata": {
    "collapsed": true
   },
   "outputs": [
    {
     "name": "stderr",
     "output_type": "stream",
     "text": [
      "                                                                                \r"
     ]
    },
    {
     "name": "stdout",
     "output_type": "stream",
     "text": [
      "root\n",
      " |-- phonenumber_encrypt: string (nullable = true)\n",
      " |-- calling: string (nullable = true)\n",
      " |-- called: string (nullable = true)\n",
      " |-- duration: float (nullable = true)\n",
      " |-- village_name: string (nullable = true)\n",
      " |-- district_name: string (nullable = true)\n",
      " |-- called_time: string (nullable = true)\n",
      " |-- called_date: date (nullable = true)\n",
      " |-- province_name: string (nullable = true)\n",
      " |-- calling_type: string (nullable = true)\n",
      " |-- called_hour: string (nullable = true)\n",
      " |-- hour: string (nullable = true)\n",
      " |-- week_of_year: integer (nullable = true)\n",
      " |-- year: integer (nullable = true)\n",
      " |-- day_of_week: integer (nullable = true)\n",
      " |-- session_of_week: string (nullable = false)\n",
      " |-- session_of_day: string (nullable = false)\n",
      " |-- last_date: string (nullable = false)\n",
      " |-- total_calls_last_0_to_30_days: long (nullable = false)\n",
      " |-- total_contacts_last_0_to_30_days: long (nullable = false)\n",
      " |-- is_call_center_last_0_to_30_days: string (nullable = false)\n",
      " |-- contact_diversity_ratio: string (nullable = true)\n",
      " |-- contact_diversity: string (nullable = false)\n",
      " |-- total_calls_type_1: long (nullable = true)\n",
      " |-- total_calls_type_2: long (nullable = true)\n",
      " |-- calling_type_ratio: string (nullable = true)\n",
      " |-- type_call_center: string (nullable = false)\n",
      " |-- duration_long_total_calls: long (nullable = true)\n",
      " |-- duration_medium_total_calls: long (nullable = true)\n",
      " |-- duration_short_total_calls: long (nullable = true)\n",
      " |-- duration_very_long_total_calls: long (nullable = true)\n",
      " |-- duration_very_short_total_calls: long (nullable = true)\n",
      " |-- typical_duration_type: string (nullable = false)\n",
      " |-- number_of_calls_typical_duration_type: long (nullable = false)\n",
      " |-- village_typical_daily_number_of_changes: long (nullable = false)\n",
      " |-- district_typical_daily_number_of_changes: long (nullable = false)\n",
      " |-- province_typical_daily_number_of_changes: long (nullable = false)\n",
      " |-- location_type_change: string (nullable = false)\n",
      " |-- business: string (nullable = false)\n",
      "\n"
     ]
    },
    {
     "name": "stderr",
     "output_type": "stream",
     "text": [
      "                                                                                \r"
     ]
    }
   ],
   "source": [
    "business1 = business_call_center_from_last_x_to_y_days(df, x, y, percent, \"1_3\")\n",
    "business1.printSchema()\n",
    "#business1.toPandas().to_excel('call_center_1st_method.xlsx')"
   ]
  },
  {
   "cell_type": "code",
   "execution_count": 313,
   "id": "a62867ed",
   "metadata": {
    "collapsed": true
   },
   "outputs": [
    {
     "name": "stderr",
     "output_type": "stream",
     "text": [
      "                                                                                \r"
     ]
    },
    {
     "name": "stdout",
     "output_type": "stream",
     "text": [
      "root\n",
      " |-- phonenumber_encrypt: string (nullable = true)\n",
      " |-- calling: string (nullable = true)\n",
      " |-- called: string (nullable = true)\n",
      " |-- duration: float (nullable = true)\n",
      " |-- village_name: string (nullable = true)\n",
      " |-- district_name: string (nullable = true)\n",
      " |-- called_time: string (nullable = true)\n",
      " |-- called_date: date (nullable = true)\n",
      " |-- province_name: string (nullable = true)\n",
      " |-- calling_type: string (nullable = true)\n",
      " |-- called_hour: string (nullable = true)\n",
      " |-- hour: string (nullable = true)\n",
      " |-- week_of_year: integer (nullable = true)\n",
      " |-- year: integer (nullable = true)\n",
      " |-- day_of_week: integer (nullable = true)\n",
      " |-- session_of_week: string (nullable = false)\n",
      " |-- session_of_day: string (nullable = false)\n",
      " |-- last_date: string (nullable = false)\n",
      " |-- total_calls_last_0_to_30_days: long (nullable = false)\n",
      " |-- total_contacts_last_0_to_30_days: long (nullable = false)\n",
      " |-- total_calls_last_0_to_7_days: long (nullable = false)\n",
      " |-- total_contacts_last_0_to_7_days: long (nullable = false)\n",
      " |-- total_calls_last_7_to_14_days: long (nullable = false)\n",
      " |-- total_contacts_last_7_to_14_days: long (nullable = false)\n",
      " |-- total_calls_last_14_to_21_days: long (nullable = false)\n",
      " |-- total_contacts_last_14_to_21_days: long (nullable = false)\n",
      " |-- total_calls_last_21_to_28_days: long (nullable = false)\n",
      " |-- total_contacts_last_21_to_28_days: long (nullable = false)\n",
      " |-- is_call_center_last_0_to_30_days: string (nullable = false)\n",
      " |-- contact_diversity_ratio: string (nullable = true)\n",
      " |-- contact_diversity: string (nullable = false)\n",
      " |-- total_calls_type_1: long (nullable = true)\n",
      " |-- total_calls_type_2: long (nullable = true)\n",
      " |-- calling_type_ratio: string (nullable = true)\n",
      " |-- type_call_center: string (nullable = false)\n",
      " |-- duration_long_total_calls: long (nullable = true)\n",
      " |-- duration_medium_total_calls: long (nullable = true)\n",
      " |-- duration_short_total_calls: long (nullable = true)\n",
      " |-- duration_very_long_total_calls: long (nullable = true)\n",
      " |-- duration_very_short_total_calls: long (nullable = true)\n",
      " |-- typical_duration_type: string (nullable = false)\n",
      " |-- number_of_calls_typical_duration_type: long (nullable = false)\n",
      " |-- village_typical_daily_number_of_changes: long (nullable = false)\n",
      " |-- district_typical_daily_number_of_changes: long (nullable = false)\n",
      " |-- province_typical_daily_number_of_changes: long (nullable = false)\n",
      " |-- location_type_change: string (nullable = false)\n",
      " |-- business: string (nullable = false)\n",
      "\n"
     ]
    },
    {
     "name": "stderr",
     "output_type": "stream",
     "text": [
      "                                                                                \r"
     ]
    }
   ],
   "source": [
    "business2 = business_call_center_from_last_x_to_y_days(df, x, y, percent, \"2\")\n",
    "business2.printSchema()\n",
    "#business2.toPandas().to_excel('call_center_2.xlsx')"
   ]
  },
  {
   "cell_type": "code",
   "execution_count": null,
   "id": "15a1f247",
   "metadata": {},
   "outputs": [],
   "source": []
  }
 ],
 "metadata": {
  "kernelspec": {
   "display_name": "Python 3 (ipykernel)",
   "language": "python",
   "name": "python3"
  },
  "language_info": {
   "codemirror_mode": {
    "name": "ipython",
    "version": 3
   },
   "file_extension": ".py",
   "mimetype": "text/x-python",
   "name": "python",
   "nbconvert_exporter": "python",
   "pygments_lexer": "ipython3",
   "version": "3.9.12"
  }
 },
 "nbformat": 4,
 "nbformat_minor": 5
}
