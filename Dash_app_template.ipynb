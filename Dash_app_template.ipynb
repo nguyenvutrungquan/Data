{
 "cells": [
  {
   "cell_type": "code",
   "execution_count": 1,
   "id": "64e2e961",
   "metadata": {},
   "outputs": [
    {
     "name": "stdout",
     "output_type": "stream",
     "text": [
      "Dash is running on http://127.0.0.1:8050/app/\n",
      "\n",
      " * Serving Flask app \"name4\" (lazy loading)\n",
      " * Environment: production\n",
      "\u001b[31m   WARNING: This is a development server. Do not use it in a production deployment.\u001b[0m\n",
      "\u001b[2m   Use a production WSGI server instead.\u001b[0m\n",
      " * Debug mode: off\n"
     ]
    },
    {
     "name": "stderr",
     "output_type": "stream",
     "text": [
      " * Running on http://127.0.0.1:8050/ (Press CTRL+C to quit)\n",
      "127.0.0.1 - - [11/Jul/2022 10:12:05] \"GET /app/ HTTP/1.1\" 200 -\n",
      "127.0.0.1 - - [11/Jul/2022 10:12:05] \"GET /app/_dash-dependencies HTTP/1.1\" 200 -\n",
      "127.0.0.1 - - [11/Jul/2022 10:12:05] \"GET /app/_dash-layout HTTP/1.1\" 200 -\n",
      "127.0.0.1 - - [11/Jul/2022 10:12:05] \"GET /app/_dash-component-suites/dash/dcc/async-graph.js HTTP/1.1\" 200 -\n",
      "127.0.0.1 - - [11/Jul/2022 10:12:05] \"GET /app/_dash-component-suites/dash/dcc/async-plotlyjs.js HTTP/1.1\" 200 -\n",
      "127.0.0.1 - - [11/Jul/2022 10:12:05] \"POST /app/_dash-update-component HTTP/1.1\" 200 -\n"
     ]
    },
    {
     "name": "stdout",
     "output_type": "stream",
     "text": [
      "update_bubble_graph_cb: 0.025 second(s)\n"
     ]
    },
    {
     "name": "stderr",
     "output_type": "stream",
     "text": [
      "127.0.0.1 - - [11/Jul/2022 10:12:06] \"POST /app/_dash-update-component HTTP/1.1\" 200 -\n"
     ]
    },
    {
     "name": "stdout",
     "output_type": "stream",
     "text": [
      "update_bubble_graph_cb: 0.024 second(s)\n"
     ]
    },
    {
     "name": "stderr",
     "output_type": "stream",
     "text": [
      "127.0.0.1 - - [11/Jul/2022 10:12:07] \"POST /app/_dash-update-component HTTP/1.1\" 200 -\n"
     ]
    },
    {
     "name": "stdout",
     "output_type": "stream",
     "text": [
      "update_bubble_graph_cb: 0.020 second(s)\n"
     ]
    },
    {
     "name": "stderr",
     "output_type": "stream",
     "text": [
      "127.0.0.1 - - [11/Jul/2022 10:12:08] \"POST /app/_dash-update-component HTTP/1.1\" 200 -\n"
     ]
    },
    {
     "name": "stdout",
     "output_type": "stream",
     "text": [
      "update_bubble_graph_cb: 0.019 second(s)\n"
     ]
    },
    {
     "name": "stderr",
     "output_type": "stream",
     "text": [
      "127.0.0.1 - - [11/Jul/2022 10:12:09] \"POST /app/_dash-update-component HTTP/1.1\" 200 -\n"
     ]
    },
    {
     "name": "stdout",
     "output_type": "stream",
     "text": [
      "update_bubble_graph_cb: 0.016 second(s)\n"
     ]
    },
    {
     "name": "stderr",
     "output_type": "stream",
     "text": [
      "127.0.0.1 - - [11/Jul/2022 10:12:10] \"POST /app/_dash-update-component HTTP/1.1\" 200 -\n"
     ]
    },
    {
     "name": "stdout",
     "output_type": "stream",
     "text": [
      "update_bubble_graph_cb: 0.020 second(s)\n"
     ]
    },
    {
     "name": "stderr",
     "output_type": "stream",
     "text": [
      "127.0.0.1 - - [11/Jul/2022 10:12:11] \"POST /app/_dash-update-component HTTP/1.1\" 200 -\n"
     ]
    },
    {
     "name": "stdout",
     "output_type": "stream",
     "text": [
      "update_bubble_graph_cb: 0.020 second(s)\n"
     ]
    },
    {
     "name": "stderr",
     "output_type": "stream",
     "text": [
      "127.0.0.1 - - [11/Jul/2022 10:12:12] \"POST /app/_dash-update-component HTTP/1.1\" 200 -\n"
     ]
    },
    {
     "name": "stdout",
     "output_type": "stream",
     "text": [
      "update_bubble_graph_cb: 0.016 second(s)\n"
     ]
    },
    {
     "name": "stderr",
     "output_type": "stream",
     "text": [
      "127.0.0.1 - - [11/Jul/2022 10:12:13] \"POST /app/_dash-update-component HTTP/1.1\" 200 -\n"
     ]
    },
    {
     "name": "stdout",
     "output_type": "stream",
     "text": [
      "update_bubble_graph_cb: 0.028 second(s)\n"
     ]
    },
    {
     "name": "stderr",
     "output_type": "stream",
     "text": [
      "127.0.0.1 - - [11/Jul/2022 10:12:14] \"POST /app/_dash-update-component HTTP/1.1\" 200 -\n"
     ]
    },
    {
     "name": "stdout",
     "output_type": "stream",
     "text": [
      "update_bubble_graph_cb: 0.040 second(s)\n"
     ]
    },
    {
     "name": "stderr",
     "output_type": "stream",
     "text": [
      "127.0.0.1 - - [11/Jul/2022 10:12:15] \"POST /app/_dash-update-component HTTP/1.1\" 200 -\n"
     ]
    },
    {
     "name": "stdout",
     "output_type": "stream",
     "text": [
      "update_bubble_graph_cb: 0.023 second(s)\n"
     ]
    },
    {
     "name": "stderr",
     "output_type": "stream",
     "text": [
      "127.0.0.1 - - [11/Jul/2022 10:12:16] \"POST /app/_dash-update-component HTTP/1.1\" 200 -\n"
     ]
    },
    {
     "name": "stdout",
     "output_type": "stream",
     "text": [
      "update_bubble_graph_cb: 0.024 second(s)\n"
     ]
    },
    {
     "name": "stderr",
     "output_type": "stream",
     "text": [
      "127.0.0.1 - - [11/Jul/2022 10:12:17] \"POST /app/_dash-update-component HTTP/1.1\" 200 -\n"
     ]
    },
    {
     "name": "stdout",
     "output_type": "stream",
     "text": [
      "update_bubble_graph_cb: 0.026 second(s)\n"
     ]
    },
    {
     "name": "stderr",
     "output_type": "stream",
     "text": [
      "127.0.0.1 - - [11/Jul/2022 10:12:18] \"POST /app/_dash-update-component HTTP/1.1\" 200 -\n"
     ]
    },
    {
     "name": "stdout",
     "output_type": "stream",
     "text": [
      "update_bubble_graph_cb: 0.024 second(s)\n",
      "Exception on /app/_dash-update-component [POST]\n",
      "Traceback (most recent call last):\n",
      "  File \"C:\\Users\\LENOVO\\anaconda3\\lib\\site-packages\\flask\\app.py\", line 2447, in wsgi_app\n",
      "    response = self.full_dispatch_request()\n",
      "  File \"C:\\Users\\LENOVO\\anaconda3\\lib\\site-packages\\flask\\app.py\", line 1952, in full_dispatch_request\n",
      "    rv = self.handle_user_exception(e)\n",
      "  File \"C:\\Users\\LENOVO\\anaconda3\\lib\\site-packages\\flask\\app.py\", line 1821, in handle_user_exception\n",
      "    reraise(exc_type, exc_value, tb)\n",
      "  File \"C:\\Users\\LENOVO\\anaconda3\\lib\\site-packages\\flask\\_compat.py\", line 39, in reraise\n",
      "    raise value\n",
      "  File \"C:\\Users\\LENOVO\\anaconda3\\lib\\site-packages\\flask\\app.py\", line 1950, in full_dispatch_request\n",
      "    rv = self.dispatch_request()\n",
      "  File \"C:\\Users\\LENOVO\\anaconda3\\lib\\site-packages\\flask\\app.py\", line 1936, in dispatch_request\n",
      "    return self.view_functions[rule.endpoint](**req.view_args)\n",
      "  File \"C:\\Users\\LENOVO\\anaconda3\\lib\\site-packages\\dash\\dash.py\", line 1472, in dispatch\n",
      "    response.set_data(func(*args, outputs_list=outputs_list))\n",
      "  File \"C:\\Users\\LENOVO\\anaconda3\\lib\\site-packages\\dash\\_callback.py\", line 151, in add_context\n",
      "    output_value = func(*func_args, **func_kwargs)  # %% callback invoked %%\n",
      "  File \"C:\\Users\\LENOVO\\AppData\\Local\\Temp/ipykernel_5004/1735512418.py\", line 37, in update_bubble_graph_cb\n",
      "    fig = load_plot()\n",
      "  File \"C:\\Users\\LENOVO\\AppData\\Local\\Temp/ipykernel_5004/1735512418.py\", line 112, in plot\n",
      "    fig2 = pickle.load(f)\n",
      "EOFError: Ran out of input\n"
     ]
    },
    {
     "name": "stderr",
     "output_type": "stream",
     "text": [
      "127.0.0.1 - - [11/Jul/2022 10:12:19] \"POST /app/_dash-update-component HTTP/1.1\" 500 -\n",
      "127.0.0.1 - - [11/Jul/2022 10:12:20] \"POST /app/_dash-update-component HTTP/1.1\" 200 -\n"
     ]
    },
    {
     "name": "stdout",
     "output_type": "stream",
     "text": [
      "update_bubble_graph_cb: 0.034 second(s)\n",
      "Exception on /app/_dash-update-component [POST]\n",
      "Traceback (most recent call last):\n",
      "  File \"C:\\Users\\LENOVO\\anaconda3\\lib\\site-packages\\flask\\app.py\", line 2447, in wsgi_app\n",
      "    response = self.full_dispatch_request()\n",
      "  File \"C:\\Users\\LENOVO\\anaconda3\\lib\\site-packages\\flask\\app.py\", line 1952, in full_dispatch_request\n",
      "    rv = self.handle_user_exception(e)\n",
      "  File \"C:\\Users\\LENOVO\\anaconda3\\lib\\site-packages\\flask\\app.py\", line 1821, in handle_user_exception\n",
      "    reraise(exc_type, exc_value, tb)\n",
      "  File \"C:\\Users\\LENOVO\\anaconda3\\lib\\site-packages\\flask\\_compat.py\", line 39, in reraise\n",
      "    raise value\n",
      "  File \"C:\\Users\\LENOVO\\anaconda3\\lib\\site-packages\\flask\\app.py\", line 1950, in full_dispatch_request\n",
      "    rv = self.dispatch_request()\n",
      "  File \"C:\\Users\\LENOVO\\anaconda3\\lib\\site-packages\\flask\\app.py\", line 1936, in dispatch_request\n",
      "    return self.view_functions[rule.endpoint](**req.view_args)\n",
      "  File \"C:\\Users\\LENOVO\\anaconda3\\lib\\site-packages\\dash\\dash.py\", line 1472, in dispatch\n",
      "    response.set_data(func(*args, outputs_list=outputs_list))\n",
      "  File \"C:\\Users\\LENOVO\\anaconda3\\lib\\site-packages\\dash\\_callback.py\", line 151, in add_context\n",
      "    output_value = func(*func_args, **func_kwargs)  # %% callback invoked %%\n",
      "  File \"C:\\Users\\LENOVO\\AppData\\Local\\Temp/ipykernel_5004/1735512418.py\", line 37, in update_bubble_graph_cb\n",
      "    fig = load_plot()\n",
      "  File \"C:\\Users\\LENOVO\\AppData\\Local\\Temp/ipykernel_5004/1735512418.py\", line 112, in plot\n",
      "    fig2 = pickle.load(f)\n",
      "EOFError: Ran out of input\n"
     ]
    },
    {
     "name": "stderr",
     "output_type": "stream",
     "text": [
      "127.0.0.1 - - [11/Jul/2022 10:12:21] \"POST /app/_dash-update-component HTTP/1.1\" 500 -\n",
      "127.0.0.1 - - [11/Jul/2022 10:12:22] \"POST /app/_dash-update-component HTTP/1.1\" 200 -\n"
     ]
    },
    {
     "name": "stdout",
     "output_type": "stream",
     "text": [
      "update_bubble_graph_cb: 0.031 second(s)\n",
      "Exception on /app/_dash-update-component [POST]\n",
      "Traceback (most recent call last):\n",
      "  File \"C:\\Users\\LENOVO\\anaconda3\\lib\\site-packages\\flask\\app.py\", line 2447, in wsgi_app\n",
      "    response = self.full_dispatch_request()\n",
      "  File \"C:\\Users\\LENOVO\\anaconda3\\lib\\site-packages\\flask\\app.py\", line 1952, in full_dispatch_request\n",
      "    rv = self.handle_user_exception(e)\n",
      "  File \"C:\\Users\\LENOVO\\anaconda3\\lib\\site-packages\\flask\\app.py\", line 1821, in handle_user_exception\n",
      "    reraise(exc_type, exc_value, tb)\n",
      "  File \"C:\\Users\\LENOVO\\anaconda3\\lib\\site-packages\\flask\\_compat.py\", line 39, in reraise\n",
      "    raise value\n",
      "  File \"C:\\Users\\LENOVO\\anaconda3\\lib\\site-packages\\flask\\app.py\", line 1950, in full_dispatch_request\n",
      "    rv = self.dispatch_request()\n",
      "  File \"C:\\Users\\LENOVO\\anaconda3\\lib\\site-packages\\flask\\app.py\", line 1936, in dispatch_request\n",
      "    return self.view_functions[rule.endpoint](**req.view_args)\n",
      "  File \"C:\\Users\\LENOVO\\anaconda3\\lib\\site-packages\\dash\\dash.py\", line 1472, in dispatch\n",
      "    response.set_data(func(*args, outputs_list=outputs_list))\n",
      "  File \"C:\\Users\\LENOVO\\anaconda3\\lib\\site-packages\\dash\\_callback.py\", line 151, in add_context\n",
      "    output_value = func(*func_args, **func_kwargs)  # %% callback invoked %%\n",
      "  File \"C:\\Users\\LENOVO\\AppData\\Local\\Temp/ipykernel_5004/1735512418.py\", line 37, in update_bubble_graph_cb\n",
      "    fig = load_plot()\n",
      "  File \"C:\\Users\\LENOVO\\AppData\\Local\\Temp/ipykernel_5004/1735512418.py\", line 112, in plot\n",
      "    fig2 = pickle.load(f)\n",
      "EOFError: Ran out of input\n"
     ]
    },
    {
     "name": "stderr",
     "output_type": "stream",
     "text": [
      "127.0.0.1 - - [11/Jul/2022 10:12:23] \"POST /app/_dash-update-component HTTP/1.1\" 500 -\n",
      "127.0.0.1 - - [11/Jul/2022 10:12:24] \"POST /app/_dash-update-component HTTP/1.1\" 200 -\n"
     ]
    },
    {
     "name": "stdout",
     "output_type": "stream",
     "text": [
      "update_bubble_graph_cb: 0.031 second(s)\n"
     ]
    },
    {
     "name": "stderr",
     "output_type": "stream",
     "text": [
      "127.0.0.1 - - [11/Jul/2022 10:12:27] \"POST /app/_dash-update-component HTTP/1.1\" 200 -\n",
      "127.0.0.1 - - [11/Jul/2022 10:12:27] \"POST /app/_dash-update-component HTTP/1.1\" 200 -\n"
     ]
    },
    {
     "name": "stdout",
     "output_type": "stream",
     "text": [
      "update_bubble_graph_cb: 0.030 second(s)\n",
      "update_bubble_graph_cb: 0.034 second(s)\n",
      "Exception on /app/_dash-update-component [POST]\n",
      "Traceback (most recent call last):\n",
      "  File \"C:\\Users\\LENOVO\\anaconda3\\lib\\site-packages\\flask\\app.py\", line 2447, in wsgi_app\n",
      "    response = self.full_dispatch_request()\n",
      "  File \"C:\\Users\\LENOVO\\anaconda3\\lib\\site-packages\\flask\\app.py\", line 1952, in full_dispatch_request\n",
      "    rv = self.handle_user_exception(e)\n",
      "  File \"C:\\Users\\LENOVO\\anaconda3\\lib\\site-packages\\flask\\app.py\", line 1821, in handle_user_exception\n",
      "    reraise(exc_type, exc_value, tb)\n",
      "  File \"C:\\Users\\LENOVO\\anaconda3\\lib\\site-packages\\flask\\_compat.py\", line 39, in reraise\n",
      "    raise value\n",
      "  File \"C:\\Users\\LENOVO\\anaconda3\\lib\\site-packages\\flask\\app.py\", line 1950, in full_dispatch_request\n",
      "    rv = self.dispatch_request()\n",
      "  File \"C:\\Users\\LENOVO\\anaconda3\\lib\\site-packages\\flask\\app.py\", line 1936, in dispatch_request\n",
      "    return self.view_functions[rule.endpoint](**req.view_args)\n",
      "  File \"C:\\Users\\LENOVO\\anaconda3\\lib\\site-packages\\dash\\dash.py\", line 1472, in dispatch\n",
      "    response.set_data(func(*args, outputs_list=outputs_list))\n",
      "  File \"C:\\Users\\LENOVO\\anaconda3\\lib\\site-packages\\dash\\_callback.py\", line 151, in add_context\n",
      "    output_value = func(*func_args, **func_kwargs)  # %% callback invoked %%\n",
      "  File \"C:\\Users\\LENOVO\\AppData\\Local\\Temp/ipykernel_5004/1735512418.py\", line 37, in update_bubble_graph_cb\n",
      "    fig = load_plot()\n",
      "  File \"C:\\Users\\LENOVO\\AppData\\Local\\Temp/ipykernel_5004/1735512418.py\", line 112, in plot\n",
      "    fig2 = pickle.load(f)\n",
      "EOFError: Ran out of input\n"
     ]
    },
    {
     "name": "stderr",
     "output_type": "stream",
     "text": [
      "127.0.0.1 - - [11/Jul/2022 10:12:29] \"POST /app/_dash-update-component HTTP/1.1\" 500 -\n",
      "127.0.0.1 - - [11/Jul/2022 10:12:29] \"POST /app/_dash-update-component HTTP/1.1\" 200 -\n"
     ]
    },
    {
     "name": "stdout",
     "output_type": "stream",
     "text": [
      "update_bubble_graph_cb: 0.020 second(s)\n"
     ]
    },
    {
     "name": "stderr",
     "output_type": "stream",
     "text": [
      "127.0.0.1 - - [11/Jul/2022 10:12:31] \"POST /app/_dash-update-component HTTP/1.1\" 200 -\n",
      "127.0.0.1 - - [11/Jul/2022 10:12:31] \"POST /app/_dash-update-component HTTP/1.1\" 200 -\n"
     ]
    },
    {
     "name": "stdout",
     "output_type": "stream",
     "text": [
      "update_bubble_graph_cb: 0.024 second(s)\n",
      "update_bubble_graph_cb: 0.025 second(s)\n"
     ]
    },
    {
     "name": "stderr",
     "output_type": "stream",
     "text": [
      "127.0.0.1 - - [11/Jul/2022 10:12:33] \"POST /app/_dash-update-component HTTP/1.1\" 200 -\n",
      "127.0.0.1 - - [11/Jul/2022 10:12:33] \"POST /app/_dash-update-component HTTP/1.1\" 200 -\n"
     ]
    },
    {
     "name": "stdout",
     "output_type": "stream",
     "text": [
      "update_bubble_graph_cb: 0.026 second(s)\n",
      "update_bubble_graph_cb: 0.024 second(s)\n"
     ]
    },
    {
     "name": "stderr",
     "output_type": "stream",
     "text": [
      "127.0.0.1 - - [11/Jul/2022 10:12:35] \"POST /app/_dash-update-component HTTP/1.1\" 200 -\n",
      "127.0.0.1 - - [11/Jul/2022 10:12:35] \"POST /app/_dash-update-component HTTP/1.1\" 200 -\n"
     ]
    },
    {
     "name": "stdout",
     "output_type": "stream",
     "text": [
      "update_bubble_graph_cb: 0.035 second(s)\n",
      "update_bubble_graph_cb: 0.020 second(s)\n"
     ]
    },
    {
     "name": "stderr",
     "output_type": "stream",
     "text": [
      "127.0.0.1 - - [11/Jul/2022 10:12:37] \"POST /app/_dash-update-component HTTP/1.1\" 200 -\n",
      "127.0.0.1 - - [11/Jul/2022 10:12:37] \"POST /app/_dash-update-component HTTP/1.1\" 200 -\n"
     ]
    },
    {
     "name": "stdout",
     "output_type": "stream",
     "text": [
      "update_bubble_graph_cb: 0.032 second(s)\n",
      "update_bubble_graph_cb: 0.025 second(s)\n"
     ]
    },
    {
     "name": "stderr",
     "output_type": "stream",
     "text": [
      "127.0.0.1 - - [11/Jul/2022 10:12:39] \"POST /app/_dash-update-component HTTP/1.1\" 200 -\n",
      "127.0.0.1 - - [11/Jul/2022 10:12:39] \"POST /app/_dash-update-component HTTP/1.1\" 200 -\n"
     ]
    },
    {
     "name": "stdout",
     "output_type": "stream",
     "text": [
      "update_bubble_graph_cb: 0.032 second(s)\n",
      "update_bubble_graph_cb: 0.020 second(s)\n"
     ]
    },
    {
     "name": "stderr",
     "output_type": "stream",
     "text": [
      "127.0.0.1 - - [11/Jul/2022 10:12:41] \"POST /app/_dash-update-component HTTP/1.1\" 200 -\n",
      "127.0.0.1 - - [11/Jul/2022 10:12:41] \"POST /app/_dash-update-component HTTP/1.1\" 200 -\n"
     ]
    },
    {
     "name": "stdout",
     "output_type": "stream",
     "text": [
      "update_bubble_graph_cb: 0.024 second(s)\n",
      "update_bubble_graph_cb: 0.032 second(s)\n"
     ]
    },
    {
     "name": "stderr",
     "output_type": "stream",
     "text": [
      "127.0.0.1 - - [11/Jul/2022 10:12:43] \"POST /app/_dash-update-component HTTP/1.1\" 200 -\n",
      "127.0.0.1 - - [11/Jul/2022 10:12:43] \"POST /app/_dash-update-component HTTP/1.1\" 200 -\n"
     ]
    },
    {
     "name": "stdout",
     "output_type": "stream",
     "text": [
      "update_bubble_graph_cb: 0.026 second(s)\n",
      "update_bubble_graph_cb: 0.023 second(s)\n"
     ]
    },
    {
     "name": "stderr",
     "output_type": "stream",
     "text": [
      "127.0.0.1 - - [11/Jul/2022 10:12:45] \"POST /app/_dash-update-component HTTP/1.1\" 200 -\n",
      "127.0.0.1 - - [11/Jul/2022 10:12:45] \"POST /app/_dash-update-component HTTP/1.1\" 200 -\n"
     ]
    },
    {
     "name": "stdout",
     "output_type": "stream",
     "text": [
      "update_bubble_graph_cb: 0.027 second(s)\n",
      "update_bubble_graph_cb: 0.034 second(s)\n"
     ]
    },
    {
     "name": "stderr",
     "output_type": "stream",
     "text": [
      "127.0.0.1 - - [11/Jul/2022 10:12:47] \"POST /app/_dash-update-component HTTP/1.1\" 200 -\n",
      "127.0.0.1 - - [11/Jul/2022 10:12:47] \"POST /app/_dash-update-component HTTP/1.1\" 200 -\n"
     ]
    },
    {
     "name": "stdout",
     "output_type": "stream",
     "text": [
      "update_bubble_graph_cb: 0.024 second(s)\n",
      "update_bubble_graph_cb: 0.020 second(s)\n"
     ]
    },
    {
     "name": "stderr",
     "output_type": "stream",
     "text": [
      "127.0.0.1 - - [11/Jul/2022 10:12:49] \"POST /app/_dash-update-component HTTP/1.1\" 200 -\n"
     ]
    },
    {
     "name": "stdout",
     "output_type": "stream",
     "text": [
      "update_bubble_graph_cb: 0.040 second(s)\n"
     ]
    },
    {
     "name": "stderr",
     "output_type": "stream",
     "text": [
      "127.0.0.1 - - [11/Jul/2022 10:12:49] \"POST /app/_dash-update-component HTTP/1.1\" 200 -\n"
     ]
    },
    {
     "name": "stdout",
     "output_type": "stream",
     "text": [
      "update_bubble_graph_cb: 0.140 second(s)\n"
     ]
    },
    {
     "name": "stderr",
     "output_type": "stream",
     "text": [
      "127.0.0.1 - - [11/Jul/2022 10:12:51] \"POST /app/_dash-update-component HTTP/1.1\" 200 -\n",
      "127.0.0.1 - - [11/Jul/2022 10:12:51] \"POST /app/_dash-update-component HTTP/1.1\" 200 -\n"
     ]
    },
    {
     "name": "stdout",
     "output_type": "stream",
     "text": [
      "update_bubble_graph_cb: 0.028 second(s)\n",
      "update_bubble_graph_cb: 0.032 second(s)\n"
     ]
    },
    {
     "name": "stderr",
     "output_type": "stream",
     "text": [
      "127.0.0.1 - - [11/Jul/2022 10:12:53] \"POST /app/_dash-update-component HTTP/1.1\" 200 -\n",
      "127.0.0.1 - - [11/Jul/2022 10:12:53] \"POST /app/_dash-update-component HTTP/1.1\" 200 -\n"
     ]
    },
    {
     "name": "stdout",
     "output_type": "stream",
     "text": [
      "update_bubble_graph_cb: 0.024 second(s)\n",
      "update_bubble_graph_cb: 0.038 second(s)\n"
     ]
    },
    {
     "name": "stderr",
     "output_type": "stream",
     "text": [
      "127.0.0.1 - - [11/Jul/2022 10:12:55] \"POST /app/_dash-update-component HTTP/1.1\" 200 -\n"
     ]
    },
    {
     "name": "stdout",
     "output_type": "stream",
     "text": [
      "update_bubble_graph_cb: 0.022 second(s)\n",
      "Exception on /app/_dash-update-component [POST]\n",
      "Traceback (most recent call last):\n",
      "  File \"C:\\Users\\LENOVO\\anaconda3\\lib\\site-packages\\flask\\app.py\", line 2447, in wsgi_app\n",
      "    response = self.full_dispatch_request()\n",
      "  File \"C:\\Users\\LENOVO\\anaconda3\\lib\\site-packages\\flask\\app.py\", line 1952, in full_dispatch_request\n",
      "    rv = self.handle_user_exception(e)\n",
      "  File \"C:\\Users\\LENOVO\\anaconda3\\lib\\site-packages\\flask\\app.py\", line 1821, in handle_user_exception\n",
      "    reraise(exc_type, exc_value, tb)\n",
      "  File \"C:\\Users\\LENOVO\\anaconda3\\lib\\site-packages\\flask\\_compat.py\", line 39, in reraise\n",
      "    raise value\n",
      "  File \"C:\\Users\\LENOVO\\anaconda3\\lib\\site-packages\\flask\\app.py\", line 1950, in full_dispatch_request\n",
      "    rv = self.dispatch_request()\n",
      "  File \"C:\\Users\\LENOVO\\anaconda3\\lib\\site-packages\\flask\\app.py\", line 1936, in dispatch_request\n",
      "    return self.view_functions[rule.endpoint](**req.view_args)\n",
      "  File \"C:\\Users\\LENOVO\\anaconda3\\lib\\site-packages\\dash\\dash.py\", line 1472, in dispatch\n",
      "    response.set_data(func(*args, outputs_list=outputs_list))\n",
      "  File \"C:\\Users\\LENOVO\\anaconda3\\lib\\site-packages\\dash\\_callback.py\", line 151, in add_context\n",
      "    output_value = func(*func_args, **func_kwargs)  # %% callback invoked %%\n",
      "  File \"C:\\Users\\LENOVO\\AppData\\Local\\Temp/ipykernel_5004/1735512418.py\", line 37, in update_bubble_graph_cb\n",
      "    fig = load_plot()\n",
      "  File \"C:\\Users\\LENOVO\\AppData\\Local\\Temp/ipykernel_5004/1735512418.py\", line 112, in plot\n",
      "    fig2 = pickle.load(f)\n",
      "EOFError: Ran out of input\n"
     ]
    },
    {
     "name": "stderr",
     "output_type": "stream",
     "text": [
      "127.0.0.1 - - [11/Jul/2022 10:12:55] \"POST /app/_dash-update-component HTTP/1.1\" 500 -\n",
      "127.0.0.1 - - [11/Jul/2022 10:12:57] \"POST /app/_dash-update-component HTTP/1.1\" 200 -\n",
      "127.0.0.1 - - [11/Jul/2022 10:12:57] \"POST /app/_dash-update-component HTTP/1.1\" 200 -\n"
     ]
    },
    {
     "name": "stdout",
     "output_type": "stream",
     "text": [
      "update_bubble_graph_cb: 0.040 second(s)\n",
      "update_bubble_graph_cb: 0.036 second(s)\n",
      "Exception on /app/_dash-update-component [POST]\n",
      "Traceback (most recent call last):\n",
      "  File \"C:\\Users\\LENOVO\\anaconda3\\lib\\site-packages\\flask\\app.py\", line 2447, in wsgi_app\n",
      "    response = self.full_dispatch_request()\n",
      "  File \"C:\\Users\\LENOVO\\anaconda3\\lib\\site-packages\\flask\\app.py\", line 1952, in full_dispatch_request\n",
      "    rv = self.handle_user_exception(e)\n",
      "  File \"C:\\Users\\LENOVO\\anaconda3\\lib\\site-packages\\flask\\app.py\", line 1821, in handle_user_exception\n",
      "    reraise(exc_type, exc_value, tb)\n",
      "  File \"C:\\Users\\LENOVO\\anaconda3\\lib\\site-packages\\flask\\_compat.py\", line 39, in reraise\n",
      "    raise value\n",
      "  File \"C:\\Users\\LENOVO\\anaconda3\\lib\\site-packages\\flask\\app.py\", line 1950, in full_dispatch_request\n",
      "    rv = self.dispatch_request()\n",
      "  File \"C:\\Users\\LENOVO\\anaconda3\\lib\\site-packages\\flask\\app.py\", line 1936, in dispatch_request\n",
      "    return self.view_functions[rule.endpoint](**req.view_args)\n",
      "  File \"C:\\Users\\LENOVO\\anaconda3\\lib\\site-packages\\dash\\dash.py\", line 1472, in dispatch\n",
      "    response.set_data(func(*args, outputs_list=outputs_list))\n",
      "  File \"C:\\Users\\LENOVO\\anaconda3\\lib\\site-packages\\dash\\_callback.py\", line 151, in add_context\n",
      "    output_value = func(*func_args, **func_kwargs)  # %% callback invoked %%\n",
      "  File \"C:\\Users\\LENOVO\\AppData\\Local\\Temp/ipykernel_5004/1735512418.py\", line 37, in update_bubble_graph_cb\n",
      "    fig = load_plot()\n",
      "  File \"C:\\Users\\LENOVO\\AppData\\Local\\Temp/ipykernel_5004/1735512418.py\", line 112, in plot\n",
      "    fig2 = pickle.load(f)\n",
      "EOFError: Ran out of input\n"
     ]
    },
    {
     "name": "stderr",
     "output_type": "stream",
     "text": [
      "127.0.0.1 - - [11/Jul/2022 10:12:59] \"POST /app/_dash-update-component HTTP/1.1\" 500 -\n",
      "127.0.0.1 - - [11/Jul/2022 10:12:59] \"POST /app/_dash-update-component HTTP/1.1\" 200 -\n"
     ]
    },
    {
     "name": "stdout",
     "output_type": "stream",
     "text": [
      "update_bubble_graph_cb: 0.025 second(s)\n"
     ]
    },
    {
     "name": "stderr",
     "output_type": "stream",
     "text": [
      "127.0.0.1 - - [11/Jul/2022 10:13:01] \"POST /app/_dash-update-component HTTP/1.1\" 200 -\n",
      "127.0.0.1 - - [11/Jul/2022 10:13:01] \"POST /app/_dash-update-component HTTP/1.1\" 200 -\n"
     ]
    },
    {
     "name": "stdout",
     "output_type": "stream",
     "text": [
      "update_bubble_graph_cb: 0.037 second(s)\n",
      "update_bubble_graph_cb: 0.026 second(s)\n"
     ]
    },
    {
     "name": "stderr",
     "output_type": "stream",
     "text": [
      "127.0.0.1 - - [11/Jul/2022 10:13:03] \"POST /app/_dash-update-component HTTP/1.1\" 200 -\n",
      "127.0.0.1 - - [11/Jul/2022 10:13:03] \"POST /app/_dash-update-component HTTP/1.1\" 200 -\n"
     ]
    },
    {
     "name": "stdout",
     "output_type": "stream",
     "text": [
      "update_bubble_graph_cb: 0.040 second(s)\n",
      "update_bubble_graph_cb: 0.028 second(s)\n"
     ]
    },
    {
     "name": "stderr",
     "output_type": "stream",
     "text": [
      "127.0.0.1 - - [11/Jul/2022 10:13:05] \"POST /app/_dash-update-component HTTP/1.1\" 200 -\n",
      "127.0.0.1 - - [11/Jul/2022 10:13:05] \"POST /app/_dash-update-component HTTP/1.1\" 200 -\n"
     ]
    },
    {
     "name": "stdout",
     "output_type": "stream",
     "text": [
      "update_bubble_graph_cb: 0.023 second(s)\n",
      "update_bubble_graph_cb: 0.025 second(s)\n"
     ]
    },
    {
     "name": "stderr",
     "output_type": "stream",
     "text": [
      "127.0.0.1 - - [11/Jul/2022 10:13:07] \"POST /app/_dash-update-component HTTP/1.1\" 200 -\n",
      "127.0.0.1 - - [11/Jul/2022 10:13:07] \"POST /app/_dash-update-component HTTP/1.1\" 200 -\n"
     ]
    },
    {
     "name": "stdout",
     "output_type": "stream",
     "text": [
      "update_bubble_graph_cb: 0.029 second(s)\n",
      "update_bubble_graph_cb: 0.018 second(s)\n"
     ]
    },
    {
     "name": "stderr",
     "output_type": "stream",
     "text": [
      "127.0.0.1 - - [11/Jul/2022 10:13:09] \"POST /app/_dash-update-component HTTP/1.1\" 200 -\n"
     ]
    },
    {
     "name": "stdout",
     "output_type": "stream",
     "text": [
      "update_bubble_graph_cb: 0.034 second(s)\n",
      "Exception on /app/_dash-update-component [POST]\n",
      "Traceback (most recent call last):\n",
      "  File \"C:\\Users\\LENOVO\\anaconda3\\lib\\site-packages\\flask\\app.py\", line 2447, in wsgi_app\n",
      "    response = self.full_dispatch_request()\n",
      "  File \"C:\\Users\\LENOVO\\anaconda3\\lib\\site-packages\\flask\\app.py\", line 1952, in full_dispatch_request\n",
      "    rv = self.handle_user_exception(e)\n",
      "  File \"C:\\Users\\LENOVO\\anaconda3\\lib\\site-packages\\flask\\app.py\", line 1821, in handle_user_exception\n",
      "    reraise(exc_type, exc_value, tb)\n",
      "  File \"C:\\Users\\LENOVO\\anaconda3\\lib\\site-packages\\flask\\_compat.py\", line 39, in reraise\n",
      "    raise value\n",
      "  File \"C:\\Users\\LENOVO\\anaconda3\\lib\\site-packages\\flask\\app.py\", line 1950, in full_dispatch_request\n",
      "    rv = self.dispatch_request()\n",
      "  File \"C:\\Users\\LENOVO\\anaconda3\\lib\\site-packages\\flask\\app.py\", line 1936, in dispatch_request\n",
      "    return self.view_functions[rule.endpoint](**req.view_args)\n",
      "  File \"C:\\Users\\LENOVO\\anaconda3\\lib\\site-packages\\dash\\dash.py\", line 1472, in dispatch\n",
      "    response.set_data(func(*args, outputs_list=outputs_list))\n",
      "  File \"C:\\Users\\LENOVO\\anaconda3\\lib\\site-packages\\dash\\_callback.py\", line 151, in add_context\n",
      "    output_value = func(*func_args, **func_kwargs)  # %% callback invoked %%\n",
      "  File \"C:\\Users\\LENOVO\\AppData\\Local\\Temp/ipykernel_5004/1735512418.py\", line 37, in update_bubble_graph_cb\n",
      "    fig = load_plot()\n",
      "  File \"C:\\Users\\LENOVO\\AppData\\Local\\Temp/ipykernel_5004/1735512418.py\", line 112, in plot\n",
      "    fig2 = pickle.load(f)\n",
      "EOFError: Ran out of input\n"
     ]
    },
    {
     "name": "stderr",
     "output_type": "stream",
     "text": [
      "127.0.0.1 - - [11/Jul/2022 10:13:09] \"POST /app/_dash-update-component HTTP/1.1\" 500 -\n",
      "127.0.0.1 - - [11/Jul/2022 10:13:11] \"POST /app/_dash-update-component HTTP/1.1\" 200 -\n",
      "127.0.0.1 - - [11/Jul/2022 10:13:11] \"POST /app/_dash-update-component HTTP/1.1\" 200 -\n"
     ]
    },
    {
     "name": "stdout",
     "output_type": "stream",
     "text": [
      "update_bubble_graph_cb: 0.026 second(s)\n",
      "update_bubble_graph_cb: 0.027 second(s)\n"
     ]
    },
    {
     "name": "stderr",
     "output_type": "stream",
     "text": [
      "127.0.0.1 - - [11/Jul/2022 10:13:13] \"POST /app/_dash-update-component HTTP/1.1\" 200 -\n",
      "127.0.0.1 - - [11/Jul/2022 10:13:13] \"POST /app/_dash-update-component HTTP/1.1\" 200 -\n"
     ]
    },
    {
     "name": "stdout",
     "output_type": "stream",
     "text": [
      "update_bubble_graph_cb: 0.020 second(s)\n",
      "update_bubble_graph_cb: 0.017 second(s)\n"
     ]
    },
    {
     "name": "stderr",
     "output_type": "stream",
     "text": [
      "127.0.0.1 - - [11/Jul/2022 10:13:15] \"POST /app/_dash-update-component HTTP/1.1\" 200 -\n",
      "127.0.0.1 - - [11/Jul/2022 10:13:15] \"POST /app/_dash-update-component HTTP/1.1\" 200 -\n"
     ]
    },
    {
     "name": "stdout",
     "output_type": "stream",
     "text": [
      "update_bubble_graph_cb: 0.031 second(s)\n",
      "update_bubble_graph_cb: 0.022 second(s)\n"
     ]
    },
    {
     "name": "stderr",
     "output_type": "stream",
     "text": [
      "127.0.0.1 - - [11/Jul/2022 10:13:17] \"POST /app/_dash-update-component HTTP/1.1\" 200 -\n",
      "127.0.0.1 - - [11/Jul/2022 10:13:17] \"POST /app/_dash-update-component HTTP/1.1\" 200 -\n"
     ]
    },
    {
     "name": "stdout",
     "output_type": "stream",
     "text": [
      "update_bubble_graph_cb: 0.028 second(s)\n",
      "update_bubble_graph_cb: 0.030 second(s)\n",
      "Exception on /app/_dash-update-component [POST]\n",
      "Traceback (most recent call last):\n",
      "  File \"C:\\Users\\LENOVO\\anaconda3\\lib\\site-packages\\flask\\app.py\", line 2447, in wsgi_app\n",
      "    response = self.full_dispatch_request()\n",
      "  File \"C:\\Users\\LENOVO\\anaconda3\\lib\\site-packages\\flask\\app.py\", line 1952, in full_dispatch_request\n",
      "    rv = self.handle_user_exception(e)\n",
      "  File \"C:\\Users\\LENOVO\\anaconda3\\lib\\site-packages\\flask\\app.py\", line 1821, in handle_user_exception\n",
      "    reraise(exc_type, exc_value, tb)\n",
      "  File \"C:\\Users\\LENOVO\\anaconda3\\lib\\site-packages\\flask\\_compat.py\", line 39, in reraise\n",
      "    raise value\n",
      "  File \"C:\\Users\\LENOVO\\anaconda3\\lib\\site-packages\\flask\\app.py\", line 1950, in full_dispatch_request\n",
      "    rv = self.dispatch_request()\n",
      "  File \"C:\\Users\\LENOVO\\anaconda3\\lib\\site-packages\\flask\\app.py\", line 1936, in dispatch_request\n",
      "    return self.view_functions[rule.endpoint](**req.view_args)\n",
      "  File \"C:\\Users\\LENOVO\\anaconda3\\lib\\site-packages\\dash\\dash.py\", line 1472, in dispatch\n",
      "    response.set_data(func(*args, outputs_list=outputs_list))\n",
      "  File \"C:\\Users\\LENOVO\\anaconda3\\lib\\site-packages\\dash\\_callback.py\", line 151, in add_context\n",
      "    output_value = func(*func_args, **func_kwargs)  # %% callback invoked %%\n",
      "  File \"C:\\Users\\LENOVO\\AppData\\Local\\Temp/ipykernel_5004/1735512418.py\", line 37, in update_bubble_graph_cb\n",
      "    fig = load_plot()\n",
      "  File \"C:\\Users\\LENOVO\\AppData\\Local\\Temp/ipykernel_5004/1735512418.py\", line 112, in plot\n",
      "    fig2 = pickle.load(f)\n",
      "EOFError: Ran out of input\n"
     ]
    },
    {
     "name": "stderr",
     "output_type": "stream",
     "text": [
      "127.0.0.1 - - [11/Jul/2022 10:13:17] \"POST /app/_dash-update-component HTTP/1.1\" 500 -\n",
      "127.0.0.1 - - [11/Jul/2022 10:13:18] \"POST /app/_dash-update-component HTTP/1.1\" 200 -\n"
     ]
    },
    {
     "name": "stdout",
     "output_type": "stream",
     "text": [
      "update_bubble_graph_cb: 0.024 second(s)\n"
     ]
    },
    {
     "name": "stderr",
     "output_type": "stream",
     "text": [
      "127.0.0.1 - - [11/Jul/2022 10:13:19] \"POST /app/_dash-update-component HTTP/1.1\" 200 -\n"
     ]
    },
    {
     "name": "stdout",
     "output_type": "stream",
     "text": [
      "update_bubble_graph_cb: 0.040 second(s)\n",
      "Exception on /app/_dash-update-component [POST]\n",
      "Traceback (most recent call last):\n",
      "  File \"C:\\Users\\LENOVO\\anaconda3\\lib\\site-packages\\flask\\app.py\", line 2447, in wsgi_app\n",
      "    response = self.full_dispatch_request()\n",
      "  File \"C:\\Users\\LENOVO\\anaconda3\\lib\\site-packages\\flask\\app.py\", line 1952, in full_dispatch_request\n",
      "    rv = self.handle_user_exception(e)\n",
      "  File \"C:\\Users\\LENOVO\\anaconda3\\lib\\site-packages\\flask\\app.py\", line 1821, in handle_user_exception\n",
      "    reraise(exc_type, exc_value, tb)\n",
      "  File \"C:\\Users\\LENOVO\\anaconda3\\lib\\site-packages\\flask\\_compat.py\", line 39, in reraise\n",
      "    raise value\n",
      "  File \"C:\\Users\\LENOVO\\anaconda3\\lib\\site-packages\\flask\\app.py\", line 1950, in full_dispatch_request\n",
      "    rv = self.dispatch_request()\n",
      "  File \"C:\\Users\\LENOVO\\anaconda3\\lib\\site-packages\\flask\\app.py\", line 1936, in dispatch_request\n",
      "    return self.view_functions[rule.endpoint](**req.view_args)\n",
      "  File \"C:\\Users\\LENOVO\\anaconda3\\lib\\site-packages\\dash\\dash.py\", line 1472, in dispatch\n",
      "    response.set_data(func(*args, outputs_list=outputs_list))\n",
      "  File \"C:\\Users\\LENOVO\\anaconda3\\lib\\site-packages\\dash\\_callback.py\", line 151, in add_context\n",
      "    output_value = func(*func_args, **func_kwargs)  # %% callback invoked %%\n",
      "  File \"C:\\Users\\LENOVO\\AppData\\Local\\Temp/ipykernel_5004/1735512418.py\", line 37, in update_bubble_graph_cb\n",
      "    fig = load_plot()\n",
      "  File \"C:\\Users\\LENOVO\\AppData\\Local\\Temp/ipykernel_5004/1735512418.py\", line 112, in plot\n",
      "    fig2 = pickle.load(f)\n",
      "EOFError: Ran out of input\n"
     ]
    },
    {
     "name": "stderr",
     "output_type": "stream",
     "text": [
      "127.0.0.1 - - [11/Jul/2022 10:13:20] \"POST /app/_dash-update-component HTTP/1.1\" 500 -\n",
      "127.0.0.1 - - [11/Jul/2022 10:13:21] \"POST /app/_dash-update-component HTTP/1.1\" 200 -\n"
     ]
    },
    {
     "name": "stdout",
     "output_type": "stream",
     "text": [
      "update_bubble_graph_cb: 0.028 second(s)\n"
     ]
    },
    {
     "name": "stderr",
     "output_type": "stream",
     "text": [
      "127.0.0.1 - - [11/Jul/2022 10:13:22] \"POST /app/_dash-update-component HTTP/1.1\" 200 -\n"
     ]
    },
    {
     "name": "stdout",
     "output_type": "stream",
     "text": [
      "update_bubble_graph_cb: 0.040 second(s)\n"
     ]
    },
    {
     "name": "stderr",
     "output_type": "stream",
     "text": [
      "127.0.0.1 - - [11/Jul/2022 10:13:23] \"POST /app/_dash-update-component HTTP/1.1\" 200 -\n"
     ]
    },
    {
     "name": "stdout",
     "output_type": "stream",
     "text": [
      "update_bubble_graph_cb: 0.022 second(s)\n"
     ]
    },
    {
     "name": "stderr",
     "output_type": "stream",
     "text": [
      "127.0.0.1 - - [11/Jul/2022 10:13:24] \"POST /app/_dash-update-component HTTP/1.1\" 200 -\n"
     ]
    },
    {
     "name": "stdout",
     "output_type": "stream",
     "text": [
      "update_bubble_graph_cb: 0.029 second(s)\n"
     ]
    },
    {
     "name": "stderr",
     "output_type": "stream",
     "text": [
      "127.0.0.1 - - [11/Jul/2022 10:13:25] \"POST /app/_dash-update-component HTTP/1.1\" 200 -\n"
     ]
    },
    {
     "name": "stdout",
     "output_type": "stream",
     "text": [
      "update_bubble_graph_cb: 0.033 second(s)\n"
     ]
    },
    {
     "name": "stderr",
     "output_type": "stream",
     "text": [
      "127.0.0.1 - - [11/Jul/2022 10:13:26] \"POST /app/_dash-update-component HTTP/1.1\" 200 -\n"
     ]
    },
    {
     "name": "stdout",
     "output_type": "stream",
     "text": [
      "update_bubble_graph_cb: 0.020 second(s)\n"
     ]
    },
    {
     "name": "stderr",
     "output_type": "stream",
     "text": [
      "127.0.0.1 - - [11/Jul/2022 10:13:27] \"POST /app/_dash-update-component HTTP/1.1\" 200 -\n"
     ]
    },
    {
     "name": "stdout",
     "output_type": "stream",
     "text": [
      "update_bubble_graph_cb: 0.023 second(s)\n"
     ]
    },
    {
     "name": "stderr",
     "output_type": "stream",
     "text": [
      "127.0.0.1 - - [11/Jul/2022 10:13:28] \"POST /app/_dash-update-component HTTP/1.1\" 200 -\n"
     ]
    },
    {
     "name": "stdout",
     "output_type": "stream",
     "text": [
      "update_bubble_graph_cb: 0.032 second(s)\n"
     ]
    },
    {
     "name": "stderr",
     "output_type": "stream",
     "text": [
      "127.0.0.1 - - [11/Jul/2022 10:13:29] \"POST /app/_dash-update-component HTTP/1.1\" 200 -\n"
     ]
    },
    {
     "name": "stdout",
     "output_type": "stream",
     "text": [
      "update_bubble_graph_cb: 0.031 second(s)\n"
     ]
    },
    {
     "name": "stderr",
     "output_type": "stream",
     "text": [
      "127.0.0.1 - - [11/Jul/2022 10:13:32] \"POST /app/_dash-update-component HTTP/1.1\" 200 -\n",
      "127.0.0.1 - - [11/Jul/2022 10:13:32] \"POST /app/_dash-update-component HTTP/1.1\" 200 -\n"
     ]
    },
    {
     "name": "stdout",
     "output_type": "stream",
     "text": [
      "update_bubble_graph_cb: 0.024 second(s)\n",
      "update_bubble_graph_cb: 0.022 second(s)\n"
     ]
    },
    {
     "name": "stderr",
     "output_type": "stream",
     "text": [
      "127.0.0.1 - - [11/Jul/2022 10:13:34] \"POST /app/_dash-update-component HTTP/1.1\" 200 -\n",
      "127.0.0.1 - - [11/Jul/2022 10:13:34] \"POST /app/_dash-update-component HTTP/1.1\" 200 -\n"
     ]
    },
    {
     "name": "stdout",
     "output_type": "stream",
     "text": [
      "update_bubble_graph_cb: 0.020 second(s)\n",
      "update_bubble_graph_cb: 0.016 second(s)\n"
     ]
    },
    {
     "name": "stderr",
     "output_type": "stream",
     "text": [
      "127.0.0.1 - - [11/Jul/2022 10:13:36] \"POST /app/_dash-update-component HTTP/1.1\" 200 -\n",
      "127.0.0.1 - - [11/Jul/2022 10:13:36] \"POST /app/_dash-update-component HTTP/1.1\" 200 -\n"
     ]
    },
    {
     "name": "stdout",
     "output_type": "stream",
     "text": [
      "update_bubble_graph_cb: 0.034 second(s)\n",
      "update_bubble_graph_cb: 0.029 second(s)\n"
     ]
    },
    {
     "name": "stderr",
     "output_type": "stream",
     "text": [
      "127.0.0.1 - - [11/Jul/2022 10:13:38] \"POST /app/_dash-update-component HTTP/1.1\" 200 -\n",
      "127.0.0.1 - - [11/Jul/2022 10:13:38] \"POST /app/_dash-update-component HTTP/1.1\" 200 -\n"
     ]
    },
    {
     "name": "stdout",
     "output_type": "stream",
     "text": [
      "update_bubble_graph_cb: 0.022 second(s)\n",
      "update_bubble_graph_cb: 0.024 second(s)\n"
     ]
    },
    {
     "name": "stderr",
     "output_type": "stream",
     "text": [
      "127.0.0.1 - - [11/Jul/2022 10:13:40] \"POST /app/_dash-update-component HTTP/1.1\" 200 -\n",
      "127.0.0.1 - - [11/Jul/2022 10:13:40] \"POST /app/_dash-update-component HTTP/1.1\" 200 -\n"
     ]
    },
    {
     "name": "stdout",
     "output_type": "stream",
     "text": [
      "update_bubble_graph_cb: 0.027 second(s)\n",
      "update_bubble_graph_cb: 0.024 second(s)\n"
     ]
    },
    {
     "name": "stderr",
     "output_type": "stream",
     "text": [
      "127.0.0.1 - - [11/Jul/2022 10:13:42] \"POST /app/_dash-update-component HTTP/1.1\" 200 -\n",
      "127.0.0.1 - - [11/Jul/2022 10:13:42] \"POST /app/_dash-update-component HTTP/1.1\" 200 -\n"
     ]
    },
    {
     "name": "stdout",
     "output_type": "stream",
     "text": [
      "update_bubble_graph_cb: 0.024 second(s)\n",
      "update_bubble_graph_cb: 0.019 second(s)\n"
     ]
    },
    {
     "name": "stderr",
     "output_type": "stream",
     "text": [
      "127.0.0.1 - - [11/Jul/2022 10:13:44] \"POST /app/_dash-update-component HTTP/1.1\" 200 -\n",
      "127.0.0.1 - - [11/Jul/2022 10:13:44] \"POST /app/_dash-update-component HTTP/1.1\" 200 -\n"
     ]
    },
    {
     "name": "stdout",
     "output_type": "stream",
     "text": [
      "update_bubble_graph_cb: 0.022 second(s)\n",
      "update_bubble_graph_cb: 0.022 second(s)\n"
     ]
    },
    {
     "name": "stderr",
     "output_type": "stream",
     "text": [
      "127.0.0.1 - - [11/Jul/2022 10:13:46] \"POST /app/_dash-update-component HTTP/1.1\" 200 -\n",
      "127.0.0.1 - - [11/Jul/2022 10:13:46] \"POST /app/_dash-update-component HTTP/1.1\" 200 -\n"
     ]
    },
    {
     "name": "stdout",
     "output_type": "stream",
     "text": [
      "update_bubble_graph_cb: 0.024 second(s)\n",
      "update_bubble_graph_cb: 0.022 second(s)\n"
     ]
    },
    {
     "name": "stderr",
     "output_type": "stream",
     "text": [
      "127.0.0.1 - - [11/Jul/2022 10:13:48] \"POST /app/_dash-update-component HTTP/1.1\" 200 -\n",
      "127.0.0.1 - - [11/Jul/2022 10:13:48] \"POST /app/_dash-update-component HTTP/1.1\" 200 -\n"
     ]
    },
    {
     "name": "stdout",
     "output_type": "stream",
     "text": [
      "update_bubble_graph_cb: 0.030 second(s)\n",
      "update_bubble_graph_cb: 0.023 second(s)\n"
     ]
    },
    {
     "name": "stderr",
     "output_type": "stream",
     "text": [
      "127.0.0.1 - - [11/Jul/2022 10:13:50] \"POST /app/_dash-update-component HTTP/1.1\" 200 -\n",
      "127.0.0.1 - - [11/Jul/2022 10:13:50] \"POST /app/_dash-update-component HTTP/1.1\" 200 -\n"
     ]
    },
    {
     "name": "stdout",
     "output_type": "stream",
     "text": [
      "update_bubble_graph_cb: 0.024 second(s)\n",
      "update_bubble_graph_cb: 0.025 second(s)\n"
     ]
    },
    {
     "name": "stderr",
     "output_type": "stream",
     "text": [
      "127.0.0.1 - - [11/Jul/2022 10:13:52] \"POST /app/_dash-update-component HTTP/1.1\" 200 -\n",
      "127.0.0.1 - - [11/Jul/2022 10:13:52] \"POST /app/_dash-update-component HTTP/1.1\" 200 -\n"
     ]
    },
    {
     "name": "stdout",
     "output_type": "stream",
     "text": [
      "update_bubble_graph_cb: 0.024 second(s)\n",
      "update_bubble_graph_cb: 0.029 second(s)\n"
     ]
    },
    {
     "name": "stderr",
     "output_type": "stream",
     "text": [
      "127.0.0.1 - - [11/Jul/2022 10:13:54] \"POST /app/_dash-update-component HTTP/1.1\" 200 -\n"
     ]
    },
    {
     "name": "stdout",
     "output_type": "stream",
     "text": [
      "update_bubble_graph_cb: 0.035 second(s)\n",
      "Exception on /app/_dash-update-component [POST]\n",
      "Traceback (most recent call last):\n",
      "  File \"C:\\Users\\LENOVO\\anaconda3\\lib\\site-packages\\flask\\app.py\", line 2447, in wsgi_app\n",
      "    response = self.full_dispatch_request()\n",
      "  File \"C:\\Users\\LENOVO\\anaconda3\\lib\\site-packages\\flask\\app.py\", line 1952, in full_dispatch_request\n",
      "    rv = self.handle_user_exception(e)\n",
      "  File \"C:\\Users\\LENOVO\\anaconda3\\lib\\site-packages\\flask\\app.py\", line 1821, in handle_user_exception\n",
      "    reraise(exc_type, exc_value, tb)\n",
      "  File \"C:\\Users\\LENOVO\\anaconda3\\lib\\site-packages\\flask\\_compat.py\", line 39, in reraise\n",
      "    raise value\n",
      "  File \"C:\\Users\\LENOVO\\anaconda3\\lib\\site-packages\\flask\\app.py\", line 1950, in full_dispatch_request\n",
      "    rv = self.dispatch_request()\n",
      "  File \"C:\\Users\\LENOVO\\anaconda3\\lib\\site-packages\\flask\\app.py\", line 1936, in dispatch_request\n",
      "    return self.view_functions[rule.endpoint](**req.view_args)\n",
      "  File \"C:\\Users\\LENOVO\\anaconda3\\lib\\site-packages\\dash\\dash.py\", line 1472, in dispatch\n",
      "    response.set_data(func(*args, outputs_list=outputs_list))\n",
      "  File \"C:\\Users\\LENOVO\\anaconda3\\lib\\site-packages\\dash\\_callback.py\", line 151, in add_context\n",
      "    output_value = func(*func_args, **func_kwargs)  # %% callback invoked %%\n",
      "  File \"C:\\Users\\LENOVO\\AppData\\Local\\Temp/ipykernel_5004/1735512418.py\", line 37, in update_bubble_graph_cb\n",
      "    fig = load_plot()\n",
      "  File \"C:\\Users\\LENOVO\\AppData\\Local\\Temp/ipykernel_5004/1735512418.py\", line 112, in plot\n",
      "    fig2 = pickle.load(f)\n",
      "EOFError: Ran out of input\n"
     ]
    },
    {
     "name": "stderr",
     "output_type": "stream",
     "text": [
      "127.0.0.1 - - [11/Jul/2022 10:13:54] \"POST /app/_dash-update-component HTTP/1.1\" 500 -\n",
      "127.0.0.1 - - [11/Jul/2022 10:13:56] \"POST /app/_dash-update-component HTTP/1.1\" 200 -\n",
      "127.0.0.1 - - [11/Jul/2022 10:13:56] \"POST /app/_dash-update-component HTTP/1.1\" 200 -\n"
     ]
    },
    {
     "name": "stdout",
     "output_type": "stream",
     "text": [
      "update_bubble_graph_cb: 0.028 second(s)\n",
      "update_bubble_graph_cb: 0.032 second(s)\n"
     ]
    },
    {
     "name": "stderr",
     "output_type": "stream",
     "text": [
      "127.0.0.1 - - [11/Jul/2022 10:13:58] \"POST /app/_dash-update-component HTTP/1.1\" 200 -\n",
      "127.0.0.1 - - [11/Jul/2022 10:13:58] \"POST /app/_dash-update-component HTTP/1.1\" 200 -\n"
     ]
    },
    {
     "name": "stdout",
     "output_type": "stream",
     "text": [
      "update_bubble_graph_cb: 0.025 second(s)\n",
      "update_bubble_graph_cb: 0.021 second(s)\n"
     ]
    },
    {
     "name": "stderr",
     "output_type": "stream",
     "text": [
      "127.0.0.1 - - [11/Jul/2022 10:14:00] \"POST /app/_dash-update-component HTTP/1.1\" 200 -\n",
      "127.0.0.1 - - [11/Jul/2022 10:14:00] \"POST /app/_dash-update-component HTTP/1.1\" 200 -\n"
     ]
    },
    {
     "name": "stdout",
     "output_type": "stream",
     "text": [
      "update_bubble_graph_cb: 0.031 second(s)\n",
      "update_bubble_graph_cb: 0.024 second(s)\n"
     ]
    },
    {
     "name": "stderr",
     "output_type": "stream",
     "text": [
      "127.0.0.1 - - [11/Jul/2022 10:14:02] \"POST /app/_dash-update-component HTTP/1.1\" 200 -\n",
      "127.0.0.1 - - [11/Jul/2022 10:14:02] \"POST /app/_dash-update-component HTTP/1.1\" 200 -\n"
     ]
    },
    {
     "name": "stdout",
     "output_type": "stream",
     "text": [
      "update_bubble_graph_cb: 0.024 second(s)\n",
      "update_bubble_graph_cb: 0.029 second(s)\n"
     ]
    },
    {
     "name": "stderr",
     "output_type": "stream",
     "text": [
      "127.0.0.1 - - [11/Jul/2022 10:14:04] \"POST /app/_dash-update-component HTTP/1.1\" 200 -\n"
     ]
    },
    {
     "name": "stdout",
     "output_type": "stream",
     "text": [
      "update_bubble_graph_cb: 0.036 second(s)\n",
      "Exception on /app/_dash-update-component [POST]\n",
      "Traceback (most recent call last):\n",
      "  File \"C:\\Users\\LENOVO\\anaconda3\\lib\\site-packages\\flask\\app.py\", line 2447, in wsgi_app\n",
      "    response = self.full_dispatch_request()\n",
      "  File \"C:\\Users\\LENOVO\\anaconda3\\lib\\site-packages\\flask\\app.py\", line 1952, in full_dispatch_request\n",
      "    rv = self.handle_user_exception(e)\n",
      "  File \"C:\\Users\\LENOVO\\anaconda3\\lib\\site-packages\\flask\\app.py\", line 1821, in handle_user_exception\n",
      "    reraise(exc_type, exc_value, tb)\n",
      "  File \"C:\\Users\\LENOVO\\anaconda3\\lib\\site-packages\\flask\\_compat.py\", line 39, in reraise\n",
      "    raise value\n",
      "  File \"C:\\Users\\LENOVO\\anaconda3\\lib\\site-packages\\flask\\app.py\", line 1950, in full_dispatch_request\n",
      "    rv = self.dispatch_request()\n",
      "  File \"C:\\Users\\LENOVO\\anaconda3\\lib\\site-packages\\flask\\app.py\", line 1936, in dispatch_request\n",
      "    return self.view_functions[rule.endpoint](**req.view_args)\n",
      "  File \"C:\\Users\\LENOVO\\anaconda3\\lib\\site-packages\\dash\\dash.py\", line 1472, in dispatch\n",
      "    response.set_data(func(*args, outputs_list=outputs_list))\n",
      "  File \"C:\\Users\\LENOVO\\anaconda3\\lib\\site-packages\\dash\\_callback.py\", line 151, in add_context\n",
      "    output_value = func(*func_args, **func_kwargs)  # %% callback invoked %%\n",
      "  File \"C:\\Users\\LENOVO\\AppData\\Local\\Temp/ipykernel_5004/1735512418.py\", line 37, in update_bubble_graph_cb\n",
      "    fig = load_plot()\n",
      "  File \"C:\\Users\\LENOVO\\AppData\\Local\\Temp/ipykernel_5004/1735512418.py\", line 112, in plot\n",
      "    fig2 = pickle.load(f)\n",
      "EOFError: Ran out of input\n"
     ]
    },
    {
     "name": "stderr",
     "output_type": "stream",
     "text": [
      "127.0.0.1 - - [11/Jul/2022 10:14:04] \"POST /app/_dash-update-component HTTP/1.1\" 500 -\n",
      "127.0.0.1 - - [11/Jul/2022 10:14:06] \"POST /app/_dash-update-component HTTP/1.1\" 200 -\n",
      "127.0.0.1 - - [11/Jul/2022 10:14:06] \"POST /app/_dash-update-component HTTP/1.1\" 200 -\n"
     ]
    },
    {
     "name": "stdout",
     "output_type": "stream",
     "text": [
      "update_bubble_graph_cb: 0.040 second(s)\n",
      "update_bubble_graph_cb: 0.019 second(s)\n"
     ]
    },
    {
     "name": "stderr",
     "output_type": "stream",
     "text": [
      "127.0.0.1 - - [11/Jul/2022 10:14:08] \"POST /app/_dash-update-component HTTP/1.1\" 200 -\n",
      "127.0.0.1 - - [11/Jul/2022 10:14:08] \"POST /app/_dash-update-component HTTP/1.1\" 200 -\n"
     ]
    },
    {
     "name": "stdout",
     "output_type": "stream",
     "text": [
      "update_bubble_graph_cb: 0.031 second(s)\n",
      "update_bubble_graph_cb: 0.028 second(s)\n"
     ]
    },
    {
     "name": "stderr",
     "output_type": "stream",
     "text": [
      "127.0.0.1 - - [11/Jul/2022 10:14:10] \"POST /app/_dash-update-component HTTP/1.1\" 200 -\n",
      "127.0.0.1 - - [11/Jul/2022 10:14:10] \"POST /app/_dash-update-component HTTP/1.1\" 200 -\n"
     ]
    },
    {
     "name": "stdout",
     "output_type": "stream",
     "text": [
      "update_bubble_graph_cb: 0.029 second(s)\n",
      "update_bubble_graph_cb: 0.022 second(s)\n"
     ]
    },
    {
     "name": "stderr",
     "output_type": "stream",
     "text": [
      "127.0.0.1 - - [11/Jul/2022 10:14:12] \"POST /app/_dash-update-component HTTP/1.1\" 200 -\n",
      "127.0.0.1 - - [11/Jul/2022 10:14:12] \"POST /app/_dash-update-component HTTP/1.1\" 200 -\n"
     ]
    },
    {
     "name": "stdout",
     "output_type": "stream",
     "text": [
      "update_bubble_graph_cb: 0.032 second(s)\n",
      "update_bubble_graph_cb: 0.021 second(s)\n"
     ]
    },
    {
     "name": "stderr",
     "output_type": "stream",
     "text": [
      "127.0.0.1 - - [11/Jul/2022 10:14:14] \"POST /app/_dash-update-component HTTP/1.1\" 200 -\n"
     ]
    },
    {
     "name": "stdout",
     "output_type": "stream",
     "text": [
      "update_bubble_graph_cb: 0.025 second(s)\n",
      "Exception on /app/_dash-update-component [POST]\n",
      "Traceback (most recent call last):\n",
      "  File \"C:\\Users\\LENOVO\\anaconda3\\lib\\site-packages\\flask\\app.py\", line 2447, in wsgi_app\n",
      "    response = self.full_dispatch_request()\n",
      "  File \"C:\\Users\\LENOVO\\anaconda3\\lib\\site-packages\\flask\\app.py\", line 1952, in full_dispatch_request\n",
      "    rv = self.handle_user_exception(e)\n",
      "  File \"C:\\Users\\LENOVO\\anaconda3\\lib\\site-packages\\flask\\app.py\", line 1821, in handle_user_exception\n",
      "    reraise(exc_type, exc_value, tb)\n",
      "  File \"C:\\Users\\LENOVO\\anaconda3\\lib\\site-packages\\flask\\_compat.py\", line 39, in reraise\n",
      "    raise value\n",
      "  File \"C:\\Users\\LENOVO\\anaconda3\\lib\\site-packages\\flask\\app.py\", line 1950, in full_dispatch_request\n",
      "    rv = self.dispatch_request()\n",
      "  File \"C:\\Users\\LENOVO\\anaconda3\\lib\\site-packages\\flask\\app.py\", line 1936, in dispatch_request\n",
      "    return self.view_functions[rule.endpoint](**req.view_args)\n",
      "  File \"C:\\Users\\LENOVO\\anaconda3\\lib\\site-packages\\dash\\dash.py\", line 1472, in dispatch\n",
      "    response.set_data(func(*args, outputs_list=outputs_list))\n",
      "  File \"C:\\Users\\LENOVO\\anaconda3\\lib\\site-packages\\dash\\_callback.py\", line 151, in add_context\n",
      "    output_value = func(*func_args, **func_kwargs)  # %% callback invoked %%\n",
      "  File \"C:\\Users\\LENOVO\\AppData\\Local\\Temp/ipykernel_5004/1735512418.py\", line 37, in update_bubble_graph_cb\n",
      "    fig = load_plot()\n",
      "  File \"C:\\Users\\LENOVO\\AppData\\Local\\Temp/ipykernel_5004/1735512418.py\", line 112, in plot\n",
      "    fig2 = pickle.load(f)\n",
      "EOFError: Ran out of input\n"
     ]
    },
    {
     "name": "stderr",
     "output_type": "stream",
     "text": [
      "127.0.0.1 - - [11/Jul/2022 10:14:14] \"POST /app/_dash-update-component HTTP/1.1\" 500 -\n",
      "127.0.0.1 - - [11/Jul/2022 10:14:16] \"POST /app/_dash-update-component HTTP/1.1\" 200 -\n",
      "127.0.0.1 - - [11/Jul/2022 10:14:16] \"POST /app/_dash-update-component HTTP/1.1\" 200 -\n"
     ]
    },
    {
     "name": "stdout",
     "output_type": "stream",
     "text": [
      "update_bubble_graph_cb: 0.028 second(s)\n",
      "update_bubble_graph_cb: 0.017 second(s)\n"
     ]
    },
    {
     "name": "stderr",
     "output_type": "stream",
     "text": [
      "127.0.0.1 - - [11/Jul/2022 10:14:18] \"POST /app/_dash-update-component HTTP/1.1\" 200 -\n",
      "127.0.0.1 - - [11/Jul/2022 10:14:18] \"POST /app/_dash-update-component HTTP/1.1\" 200 -\n"
     ]
    },
    {
     "name": "stdout",
     "output_type": "stream",
     "text": [
      "update_bubble_graph_cb: 0.036 second(s)\n",
      "update_bubble_graph_cb: 0.020 second(s)\n"
     ]
    },
    {
     "name": "stderr",
     "output_type": "stream",
     "text": [
      "127.0.0.1 - - [11/Jul/2022 10:14:20] \"POST /app/_dash-update-component HTTP/1.1\" 200 -\n",
      "127.0.0.1 - - [11/Jul/2022 10:14:20] \"POST /app/_dash-update-component HTTP/1.1\" 200 -\n"
     ]
    },
    {
     "name": "stdout",
     "output_type": "stream",
     "text": [
      "update_bubble_graph_cb: 0.032 second(s)\n",
      "update_bubble_graph_cb: 0.029 second(s)\n"
     ]
    },
    {
     "name": "stderr",
     "output_type": "stream",
     "text": [
      "127.0.0.1 - - [11/Jul/2022 10:14:22] \"POST /app/_dash-update-component HTTP/1.1\" 200 -\n",
      "127.0.0.1 - - [11/Jul/2022 10:14:22] \"POST /app/_dash-update-component HTTP/1.1\" 200 -\n"
     ]
    },
    {
     "name": "stdout",
     "output_type": "stream",
     "text": [
      "update_bubble_graph_cb: 0.024 second(s)\n",
      "update_bubble_graph_cb: 0.023 second(s)\n"
     ]
    },
    {
     "name": "stderr",
     "output_type": "stream",
     "text": [
      "127.0.0.1 - - [11/Jul/2022 10:14:22] \"POST /app/_dash-update-component HTTP/1.1\" 200 -\n"
     ]
    },
    {
     "name": "stdout",
     "output_type": "stream",
     "text": [
      "update_bubble_graph_cb: 0.032 second(s)\n"
     ]
    },
    {
     "name": "stderr",
     "output_type": "stream",
     "text": [
      "127.0.0.1 - - [11/Jul/2022 10:14:23] \"POST /app/_dash-update-component HTTP/1.1\" 200 -\n"
     ]
    },
    {
     "name": "stdout",
     "output_type": "stream",
     "text": [
      "update_bubble_graph_cb: 0.028 second(s)\n"
     ]
    },
    {
     "name": "stderr",
     "output_type": "stream",
     "text": [
      "127.0.0.1 - - [11/Jul/2022 10:14:24] \"POST /app/_dash-update-component HTTP/1.1\" 200 -\n"
     ]
    },
    {
     "name": "stdout",
     "output_type": "stream",
     "text": [
      "update_bubble_graph_cb: 0.027 second(s)\n"
     ]
    },
    {
     "name": "stderr",
     "output_type": "stream",
     "text": [
      "127.0.0.1 - - [11/Jul/2022 10:14:25] \"POST /app/_dash-update-component HTTP/1.1\" 200 -\n"
     ]
    },
    {
     "name": "stdout",
     "output_type": "stream",
     "text": [
      "update_bubble_graph_cb: 0.029 second(s)\n"
     ]
    },
    {
     "name": "stderr",
     "output_type": "stream",
     "text": [
      "127.0.0.1 - - [11/Jul/2022 10:14:26] \"POST /app/_dash-update-component HTTP/1.1\" 200 -\n"
     ]
    },
    {
     "name": "stdout",
     "output_type": "stream",
     "text": [
      "update_bubble_graph_cb: 0.028 second(s)\n"
     ]
    },
    {
     "name": "stderr",
     "output_type": "stream",
     "text": [
      "127.0.0.1 - - [11/Jul/2022 10:14:27] \"POST /app/_dash-update-component HTTP/1.1\" 200 -\n"
     ]
    },
    {
     "name": "stdout",
     "output_type": "stream",
     "text": [
      "update_bubble_graph_cb: 0.029 second(s)\n",
      "Exception on /app/_dash-update-component [POST]\n",
      "Traceback (most recent call last):\n",
      "  File \"C:\\Users\\LENOVO\\anaconda3\\lib\\site-packages\\flask\\app.py\", line 2447, in wsgi_app\n",
      "    response = self.full_dispatch_request()\n",
      "  File \"C:\\Users\\LENOVO\\anaconda3\\lib\\site-packages\\flask\\app.py\", line 1952, in full_dispatch_request\n",
      "    rv = self.handle_user_exception(e)\n",
      "  File \"C:\\Users\\LENOVO\\anaconda3\\lib\\site-packages\\flask\\app.py\", line 1821, in handle_user_exception\n",
      "    reraise(exc_type, exc_value, tb)\n",
      "  File \"C:\\Users\\LENOVO\\anaconda3\\lib\\site-packages\\flask\\_compat.py\", line 39, in reraise\n",
      "    raise value\n",
      "  File \"C:\\Users\\LENOVO\\anaconda3\\lib\\site-packages\\flask\\app.py\", line 1950, in full_dispatch_request\n",
      "    rv = self.dispatch_request()\n",
      "  File \"C:\\Users\\LENOVO\\anaconda3\\lib\\site-packages\\flask\\app.py\", line 1936, in dispatch_request\n",
      "    return self.view_functions[rule.endpoint](**req.view_args)\n",
      "  File \"C:\\Users\\LENOVO\\anaconda3\\lib\\site-packages\\dash\\dash.py\", line 1472, in dispatch\n",
      "    response.set_data(func(*args, outputs_list=outputs_list))\n",
      "  File \"C:\\Users\\LENOVO\\anaconda3\\lib\\site-packages\\dash\\_callback.py\", line 151, in add_context\n",
      "    output_value = func(*func_args, **func_kwargs)  # %% callback invoked %%\n",
      "  File \"C:\\Users\\LENOVO\\AppData\\Local\\Temp/ipykernel_5004/1735512418.py\", line 37, in update_bubble_graph_cb\n",
      "    fig = load_plot()\n",
      "  File \"C:\\Users\\LENOVO\\AppData\\Local\\Temp/ipykernel_5004/1735512418.py\", line 112, in plot\n",
      "    fig2 = pickle.load(f)\n",
      "EOFError: Ran out of input\n"
     ]
    },
    {
     "name": "stderr",
     "output_type": "stream",
     "text": [
      "127.0.0.1 - - [11/Jul/2022 10:14:28] \"POST /app/_dash-update-component HTTP/1.1\" 500 -\n",
      "127.0.0.1 - - [11/Jul/2022 10:14:29] \"POST /app/_dash-update-component HTTP/1.1\" 200 -\n"
     ]
    },
    {
     "name": "stdout",
     "output_type": "stream",
     "text": [
      "update_bubble_graph_cb: 0.028 second(s)\n"
     ]
    },
    {
     "name": "stderr",
     "output_type": "stream",
     "text": [
      "127.0.0.1 - - [11/Jul/2022 10:14:30] \"POST /app/_dash-update-component HTTP/1.1\" 200 -\n"
     ]
    },
    {
     "name": "stdout",
     "output_type": "stream",
     "text": [
      "update_bubble_graph_cb: 0.031 second(s)\n"
     ]
    },
    {
     "name": "stderr",
     "output_type": "stream",
     "text": [
      "127.0.0.1 - - [11/Jul/2022 10:14:31] \"POST /app/_dash-update-component HTTP/1.1\" 200 -\n"
     ]
    },
    {
     "name": "stdout",
     "output_type": "stream",
     "text": [
      "update_bubble_graph_cb: 0.018 second(s)\n"
     ]
    },
    {
     "name": "stderr",
     "output_type": "stream",
     "text": [
      "127.0.0.1 - - [11/Jul/2022 10:14:32] \"POST /app/_dash-update-component HTTP/1.1\" 200 -\n"
     ]
    },
    {
     "name": "stdout",
     "output_type": "stream",
     "text": [
      "update_bubble_graph_cb: 0.037 second(s)\n"
     ]
    },
    {
     "name": "stderr",
     "output_type": "stream",
     "text": [
      "127.0.0.1 - - [11/Jul/2022 10:14:33] \"POST /app/_dash-update-component HTTP/1.1\" 200 -\n"
     ]
    },
    {
     "name": "stdout",
     "output_type": "stream",
     "text": [
      "update_bubble_graph_cb: 0.033 second(s)\n"
     ]
    },
    {
     "name": "stderr",
     "output_type": "stream",
     "text": [
      "127.0.0.1 - - [11/Jul/2022 10:14:34] \"POST /app/_dash-update-component HTTP/1.1\" 200 -\n"
     ]
    },
    {
     "name": "stdout",
     "output_type": "stream",
     "text": [
      "update_bubble_graph_cb: 0.031 second(s)\n"
     ]
    },
    {
     "name": "stderr",
     "output_type": "stream",
     "text": [
      "127.0.0.1 - - [11/Jul/2022 10:14:35] \"POST /app/_dash-update-component HTTP/1.1\" 200 -\n"
     ]
    },
    {
     "name": "stdout",
     "output_type": "stream",
     "text": [
      "update_bubble_graph_cb: 0.032 second(s)\n"
     ]
    },
    {
     "name": "stderr",
     "output_type": "stream",
     "text": [
      "127.0.0.1 - - [11/Jul/2022 10:14:36] \"POST /app/_dash-update-component HTTP/1.1\" 200 -\n"
     ]
    },
    {
     "name": "stdout",
     "output_type": "stream",
     "text": [
      "update_bubble_graph_cb: 0.028 second(s)\n"
     ]
    },
    {
     "name": "stderr",
     "output_type": "stream",
     "text": [
      "127.0.0.1 - - [11/Jul/2022 10:14:37] \"POST /app/_dash-update-component HTTP/1.1\" 200 -\n"
     ]
    },
    {
     "name": "stdout",
     "output_type": "stream",
     "text": [
      "update_bubble_graph_cb: 0.030 second(s)\n"
     ]
    },
    {
     "name": "stderr",
     "output_type": "stream",
     "text": [
      "127.0.0.1 - - [11/Jul/2022 10:14:38] \"POST /app/_dash-update-component HTTP/1.1\" 200 -\n"
     ]
    },
    {
     "name": "stdout",
     "output_type": "stream",
     "text": [
      "update_bubble_graph_cb: 0.024 second(s)\n"
     ]
    },
    {
     "name": "stderr",
     "output_type": "stream",
     "text": [
      "127.0.0.1 - - [11/Jul/2022 10:14:39] \"POST /app/_dash-update-component HTTP/1.1\" 200 -\n"
     ]
    },
    {
     "name": "stdout",
     "output_type": "stream",
     "text": [
      "update_bubble_graph_cb: 0.028 second(s)\n",
      "Exception on /app/_dash-update-component [POST]\n",
      "Traceback (most recent call last):\n",
      "  File \"C:\\Users\\LENOVO\\anaconda3\\lib\\site-packages\\flask\\app.py\", line 2447, in wsgi_app\n",
      "    response = self.full_dispatch_request()\n",
      "  File \"C:\\Users\\LENOVO\\anaconda3\\lib\\site-packages\\flask\\app.py\", line 1952, in full_dispatch_request\n",
      "    rv = self.handle_user_exception(e)\n",
      "  File \"C:\\Users\\LENOVO\\anaconda3\\lib\\site-packages\\flask\\app.py\", line 1821, in handle_user_exception\n",
      "    reraise(exc_type, exc_value, tb)\n",
      "  File \"C:\\Users\\LENOVO\\anaconda3\\lib\\site-packages\\flask\\_compat.py\", line 39, in reraise\n",
      "    raise value\n",
      "  File \"C:\\Users\\LENOVO\\anaconda3\\lib\\site-packages\\flask\\app.py\", line 1950, in full_dispatch_request\n",
      "    rv = self.dispatch_request()\n",
      "  File \"C:\\Users\\LENOVO\\anaconda3\\lib\\site-packages\\flask\\app.py\", line 1936, in dispatch_request\n",
      "    return self.view_functions[rule.endpoint](**req.view_args)\n",
      "  File \"C:\\Users\\LENOVO\\anaconda3\\lib\\site-packages\\dash\\dash.py\", line 1472, in dispatch\n",
      "    response.set_data(func(*args, outputs_list=outputs_list))\n",
      "  File \"C:\\Users\\LENOVO\\anaconda3\\lib\\site-packages\\dash\\_callback.py\", line 151, in add_context\n",
      "    output_value = func(*func_args, **func_kwargs)  # %% callback invoked %%\n",
      "  File \"C:\\Users\\LENOVO\\AppData\\Local\\Temp/ipykernel_5004/1735512418.py\", line 37, in update_bubble_graph_cb\n",
      "    fig = load_plot()\n",
      "  File \"C:\\Users\\LENOVO\\AppData\\Local\\Temp/ipykernel_5004/1735512418.py\", line 112, in plot\n",
      "    fig2 = pickle.load(f)\n",
      "EOFError: Ran out of input\n"
     ]
    },
    {
     "name": "stderr",
     "output_type": "stream",
     "text": [
      "127.0.0.1 - - [11/Jul/2022 10:14:40] \"POST /app/_dash-update-component HTTP/1.1\" 500 -\n",
      "127.0.0.1 - - [11/Jul/2022 10:14:41] \"POST /app/_dash-update-component HTTP/1.1\" 200 -\n"
     ]
    },
    {
     "name": "stdout",
     "output_type": "stream",
     "text": [
      "update_bubble_graph_cb: 0.028 second(s)\n"
     ]
    },
    {
     "name": "stderr",
     "output_type": "stream",
     "text": [
      "127.0.0.1 - - [11/Jul/2022 10:14:42] \"POST /app/_dash-update-component HTTP/1.1\" 200 -\n"
     ]
    },
    {
     "name": "stdout",
     "output_type": "stream",
     "text": [
      "update_bubble_graph_cb: 0.037 second(s)\n"
     ]
    },
    {
     "name": "stderr",
     "output_type": "stream",
     "text": [
      "127.0.0.1 - - [11/Jul/2022 10:14:45] \"POST /app/_dash-update-component HTTP/1.1\" 200 -\n",
      "127.0.0.1 - - [11/Jul/2022 10:14:45] \"POST /app/_dash-update-component HTTP/1.1\" 200 -\n"
     ]
    },
    {
     "name": "stdout",
     "output_type": "stream",
     "text": [
      "update_bubble_graph_cb: 0.024 second(s)\n",
      "update_bubble_graph_cb: 0.029 second(s)\n"
     ]
    },
    {
     "name": "stderr",
     "output_type": "stream",
     "text": [
      "127.0.0.1 - - [11/Jul/2022 10:14:47] \"POST /app/_dash-update-component HTTP/1.1\" 200 -\n",
      "127.0.0.1 - - [11/Jul/2022 10:14:47] \"POST /app/_dash-update-component HTTP/1.1\" 200 -\n"
     ]
    },
    {
     "name": "stdout",
     "output_type": "stream",
     "text": [
      "update_bubble_graph_cb: 0.025 second(s)\n",
      "update_bubble_graph_cb: 0.017 second(s)\n"
     ]
    },
    {
     "name": "stderr",
     "output_type": "stream",
     "text": [
      "127.0.0.1 - - [11/Jul/2022 10:14:49] \"POST /app/_dash-update-component HTTP/1.1\" 200 -\n",
      "127.0.0.1 - - [11/Jul/2022 10:14:49] \"POST /app/_dash-update-component HTTP/1.1\" 200 -\n"
     ]
    },
    {
     "name": "stdout",
     "output_type": "stream",
     "text": [
      "update_bubble_graph_cb: 0.028 second(s)\n",
      "update_bubble_graph_cb: 0.024 second(s)\n",
      "Exception on /app/_dash-update-component [POST]\n",
      "Traceback (most recent call last):\n",
      "  File \"C:\\Users\\LENOVO\\anaconda3\\lib\\site-packages\\flask\\app.py\", line 2447, in wsgi_app\n",
      "    response = self.full_dispatch_request()\n",
      "  File \"C:\\Users\\LENOVO\\anaconda3\\lib\\site-packages\\flask\\app.py\", line 1952, in full_dispatch_request\n",
      "    rv = self.handle_user_exception(e)\n",
      "  File \"C:\\Users\\LENOVO\\anaconda3\\lib\\site-packages\\flask\\app.py\", line 1821, in handle_user_exception\n",
      "    reraise(exc_type, exc_value, tb)\n",
      "  File \"C:\\Users\\LENOVO\\anaconda3\\lib\\site-packages\\flask\\_compat.py\", line 39, in reraise\n",
      "    raise value\n",
      "  File \"C:\\Users\\LENOVO\\anaconda3\\lib\\site-packages\\flask\\app.py\", line 1950, in full_dispatch_request\n",
      "    rv = self.dispatch_request()\n",
      "  File \"C:\\Users\\LENOVO\\anaconda3\\lib\\site-packages\\flask\\app.py\", line 1936, in dispatch_request\n",
      "    return self.view_functions[rule.endpoint](**req.view_args)\n",
      "  File \"C:\\Users\\LENOVO\\anaconda3\\lib\\site-packages\\dash\\dash.py\", line 1472, in dispatch\n",
      "    response.set_data(func(*args, outputs_list=outputs_list))\n",
      "  File \"C:\\Users\\LENOVO\\anaconda3\\lib\\site-packages\\dash\\_callback.py\", line 151, in add_context\n",
      "    output_value = func(*func_args, **func_kwargs)  # %% callback invoked %%\n",
      "  File \"C:\\Users\\LENOVO\\AppData\\Local\\Temp/ipykernel_5004/1735512418.py\", line 37, in update_bubble_graph_cb\n",
      "    fig = load_plot()\n",
      "  File \"C:\\Users\\LENOVO\\AppData\\Local\\Temp/ipykernel_5004/1735512418.py\", line 112, in plot\n",
      "    fig2 = pickle.load(f)\n",
      "EOFError: Ran out of input\n"
     ]
    },
    {
     "name": "stderr",
     "output_type": "stream",
     "text": [
      "127.0.0.1 - - [11/Jul/2022 10:14:51] \"POST /app/_dash-update-component HTTP/1.1\" 500 -\n",
      "127.0.0.1 - - [11/Jul/2022 10:14:51] \"POST /app/_dash-update-component HTTP/1.1\" 200 -\n"
     ]
    },
    {
     "name": "stdout",
     "output_type": "stream",
     "text": [
      "update_bubble_graph_cb: 0.024 second(s)\n"
     ]
    },
    {
     "name": "stderr",
     "output_type": "stream",
     "text": [
      "127.0.0.1 - - [11/Jul/2022 10:14:53] \"POST /app/_dash-update-component HTTP/1.1\" 200 -\n",
      "127.0.0.1 - - [11/Jul/2022 10:14:53] \"POST /app/_dash-update-component HTTP/1.1\" 200 -\n"
     ]
    },
    {
     "name": "stdout",
     "output_type": "stream",
     "text": [
      "update_bubble_graph_cb: 0.029 second(s)\n",
      "update_bubble_graph_cb: 0.027 second(s)\n"
     ]
    },
    {
     "name": "stderr",
     "output_type": "stream",
     "text": [
      "127.0.0.1 - - [11/Jul/2022 10:14:54] \"POST /app/_dash-update-component HTTP/1.1\" 200 -\n",
      "127.0.0.1 - - [11/Jul/2022 10:14:54] \"POST /app/_dash-update-component HTTP/1.1\" 200 -\n"
     ]
    },
    {
     "name": "stdout",
     "output_type": "stream",
     "text": [
      "update_bubble_graph_cb: 0.054 second(s)\n",
      "update_bubble_graph_cb: 0.026 second(s)\n",
      "Exception on /app/_dash-update-component [POST]\n",
      "Traceback (most recent call last):\n",
      "  File \"C:\\Users\\LENOVO\\anaconda3\\lib\\site-packages\\flask\\app.py\", line 2447, in wsgi_app\n",
      "    response = self.full_dispatch_request()\n",
      "  File \"C:\\Users\\LENOVO\\anaconda3\\lib\\site-packages\\flask\\app.py\", line 1952, in full_dispatch_request\n",
      "    rv = self.handle_user_exception(e)\n",
      "  File \"C:\\Users\\LENOVO\\anaconda3\\lib\\site-packages\\flask\\app.py\", line 1821, in handle_user_exception\n",
      "    reraise(exc_type, exc_value, tb)\n",
      "  File \"C:\\Users\\LENOVO\\anaconda3\\lib\\site-packages\\flask\\_compat.py\", line 39, in reraise\n",
      "    raise value\n",
      "  File \"C:\\Users\\LENOVO\\anaconda3\\lib\\site-packages\\flask\\app.py\", line 1950, in full_dispatch_request\n",
      "    rv = self.dispatch_request()\n",
      "  File \"C:\\Users\\LENOVO\\anaconda3\\lib\\site-packages\\flask\\app.py\", line 1936, in dispatch_request\n",
      "    return self.view_functions[rule.endpoint](**req.view_args)\n",
      "  File \"C:\\Users\\LENOVO\\anaconda3\\lib\\site-packages\\dash\\dash.py\", line 1472, in dispatch\n",
      "    response.set_data(func(*args, outputs_list=outputs_list))\n",
      "  File \"C:\\Users\\LENOVO\\anaconda3\\lib\\site-packages\\dash\\_callback.py\", line 151, in add_context\n",
      "    output_value = func(*func_args, **func_kwargs)  # %% callback invoked %%\n",
      "  File \"C:\\Users\\LENOVO\\AppData\\Local\\Temp/ipykernel_5004/1735512418.py\", line 37, in update_bubble_graph_cb\n",
      "    fig = load_plot()\n",
      "  File \"C:\\Users\\LENOVO\\AppData\\Local\\Temp/ipykernel_5004/1735512418.py\", line 112, in plot\n",
      "    fig2 = pickle.load(f)\n",
      "EOFError: Ran out of input\n"
     ]
    },
    {
     "name": "stderr",
     "output_type": "stream",
     "text": [
      "127.0.0.1 - - [11/Jul/2022 10:14:55] \"POST /app/_dash-update-component HTTP/1.1\" 500 -\n",
      "127.0.0.1 - - [11/Jul/2022 10:14:57] \"POST /app/_dash-update-component HTTP/1.1\" 200 -\n",
      "127.0.0.1 - - [11/Jul/2022 10:14:57] \"POST /app/_dash-update-component HTTP/1.1\" 200 -\n"
     ]
    },
    {
     "name": "stdout",
     "output_type": "stream",
     "text": [
      "update_bubble_graph_cb: 0.035 second(s)\n",
      "update_bubble_graph_cb: 0.026 second(s)\n"
     ]
    },
    {
     "name": "stderr",
     "output_type": "stream",
     "text": [
      "127.0.0.1 - - [11/Jul/2022 10:14:58] \"POST /app/_dash-update-component HTTP/1.1\" 200 -\n"
     ]
    },
    {
     "name": "stdout",
     "output_type": "stream",
     "text": [
      "update_bubble_graph_cb: 0.032 second(s)\n"
     ]
    },
    {
     "name": "stderr",
     "output_type": "stream",
     "text": [
      "127.0.0.1 - - [11/Jul/2022 10:14:59] \"POST /app/_dash-update-component HTTP/1.1\" 200 -\n"
     ]
    },
    {
     "name": "stdout",
     "output_type": "stream",
     "text": [
      "update_bubble_graph_cb: 0.023 second(s)\n"
     ]
    },
    {
     "name": "stderr",
     "output_type": "stream",
     "text": [
      "127.0.0.1 - - [11/Jul/2022 10:15:00] \"POST /app/_dash-update-component HTTP/1.1\" 200 -\n"
     ]
    },
    {
     "name": "stdout",
     "output_type": "stream",
     "text": [
      "update_bubble_graph_cb: 0.023 second(s)\n"
     ]
    },
    {
     "name": "stderr",
     "output_type": "stream",
     "text": [
      "127.0.0.1 - - [11/Jul/2022 10:15:01] \"POST /app/_dash-update-component HTTP/1.1\" 200 -\n"
     ]
    },
    {
     "name": "stdout",
     "output_type": "stream",
     "text": [
      "update_bubble_graph_cb: 0.029 second(s)\n"
     ]
    },
    {
     "name": "stderr",
     "output_type": "stream",
     "text": [
      "127.0.0.1 - - [11/Jul/2022 10:15:02] \"POST /app/_dash-update-component HTTP/1.1\" 200 -\n"
     ]
    },
    {
     "name": "stdout",
     "output_type": "stream",
     "text": [
      "update_bubble_graph_cb: 0.024 second(s)\n"
     ]
    },
    {
     "name": "stderr",
     "output_type": "stream",
     "text": [
      "127.0.0.1 - - [11/Jul/2022 10:15:03] \"POST /app/_dash-update-component HTTP/1.1\" 200 -\n"
     ]
    },
    {
     "name": "stdout",
     "output_type": "stream",
     "text": [
      "update_bubble_graph_cb: 0.025 second(s)\n"
     ]
    },
    {
     "name": "stderr",
     "output_type": "stream",
     "text": [
      "127.0.0.1 - - [11/Jul/2022 10:15:04] \"POST /app/_dash-update-component HTTP/1.1\" 200 -\n"
     ]
    },
    {
     "name": "stdout",
     "output_type": "stream",
     "text": [
      "update_bubble_graph_cb: 0.026 second(s)\n"
     ]
    },
    {
     "name": "stderr",
     "output_type": "stream",
     "text": [
      "127.0.0.1 - - [11/Jul/2022 10:15:05] \"POST /app/_dash-update-component HTTP/1.1\" 200 -\n"
     ]
    },
    {
     "name": "stdout",
     "output_type": "stream",
     "text": [
      "update_bubble_graph_cb: 0.225 second(s)\n"
     ]
    },
    {
     "name": "stderr",
     "output_type": "stream",
     "text": [
      "127.0.0.1 - - [11/Jul/2022 10:15:06] \"POST /app/_dash-update-component HTTP/1.1\" 200 -\n"
     ]
    },
    {
     "name": "stdout",
     "output_type": "stream",
     "text": [
      "update_bubble_graph_cb: 0.024 second(s)\n"
     ]
    },
    {
     "name": "stderr",
     "output_type": "stream",
     "text": [
      "127.0.0.1 - - [11/Jul/2022 10:15:09] \"POST /app/_dash-update-component HTTP/1.1\" 200 -\n",
      "127.0.0.1 - - [11/Jul/2022 10:15:09] \"POST /app/_dash-update-component HTTP/1.1\" 200 -\n"
     ]
    },
    {
     "name": "stdout",
     "output_type": "stream",
     "text": [
      "update_bubble_graph_cb: 0.025 second(s)\n",
      "update_bubble_graph_cb: 0.028 second(s)\n"
     ]
    },
    {
     "name": "stderr",
     "output_type": "stream",
     "text": [
      "127.0.0.1 - - [11/Jul/2022 10:15:11] \"POST /app/_dash-update-component HTTP/1.1\" 200 -\n",
      "127.0.0.1 - - [11/Jul/2022 10:15:11] \"POST /app/_dash-update-component HTTP/1.1\" 200 -\n"
     ]
    },
    {
     "name": "stdout",
     "output_type": "stream",
     "text": [
      "update_bubble_graph_cb: 0.023 second(s)\n",
      "update_bubble_graph_cb: 0.020 second(s)\n"
     ]
    },
    {
     "name": "stderr",
     "output_type": "stream",
     "text": [
      "127.0.0.1 - - [11/Jul/2022 10:15:13] \"POST /app/_dash-update-component HTTP/1.1\" 200 -\n",
      "127.0.0.1 - - [11/Jul/2022 10:15:13] \"POST /app/_dash-update-component HTTP/1.1\" 200 -\n"
     ]
    },
    {
     "name": "stdout",
     "output_type": "stream",
     "text": [
      "update_bubble_graph_cb: 0.028 second(s)\n",
      "update_bubble_graph_cb: 0.032 second(s)\n"
     ]
    },
    {
     "name": "stderr",
     "output_type": "stream",
     "text": [
      "127.0.0.1 - - [11/Jul/2022 10:15:15] \"POST /app/_dash-update-component HTTP/1.1\" 200 -\n",
      "127.0.0.1 - - [11/Jul/2022 10:15:15] \"POST /app/_dash-update-component HTTP/1.1\" 200 -\n"
     ]
    },
    {
     "name": "stdout",
     "output_type": "stream",
     "text": [
      "update_bubble_graph_cb: 0.032 second(s)\n",
      "update_bubble_graph_cb: 0.031 second(s)\n"
     ]
    },
    {
     "name": "stderr",
     "output_type": "stream",
     "text": [
      "127.0.0.1 - - [11/Jul/2022 10:15:17] \"POST /app/_dash-update-component HTTP/1.1\" 200 -\n",
      "127.0.0.1 - - [11/Jul/2022 10:15:17] \"POST /app/_dash-update-component HTTP/1.1\" 200 -\n"
     ]
    },
    {
     "name": "stdout",
     "output_type": "stream",
     "text": [
      "update_bubble_graph_cb: 0.028 second(s)\n",
      "update_bubble_graph_cb: 0.025 second(s)\n",
      "Exception on /app/_dash-update-component [POST]\n",
      "Traceback (most recent call last):\n",
      "  File \"C:\\Users\\LENOVO\\anaconda3\\lib\\site-packages\\flask\\app.py\", line 2447, in wsgi_app\n",
      "    response = self.full_dispatch_request()\n",
      "  File \"C:\\Users\\LENOVO\\anaconda3\\lib\\site-packages\\flask\\app.py\", line 1952, in full_dispatch_request\n",
      "    rv = self.handle_user_exception(e)\n",
      "  File \"C:\\Users\\LENOVO\\anaconda3\\lib\\site-packages\\flask\\app.py\", line 1821, in handle_user_exception\n",
      "    reraise(exc_type, exc_value, tb)\n",
      "  File \"C:\\Users\\LENOVO\\anaconda3\\lib\\site-packages\\flask\\_compat.py\", line 39, in reraise\n",
      "    raise value\n",
      "  File \"C:\\Users\\LENOVO\\anaconda3\\lib\\site-packages\\flask\\app.py\", line 1950, in full_dispatch_request\n",
      "    rv = self.dispatch_request()\n",
      "  File \"C:\\Users\\LENOVO\\anaconda3\\lib\\site-packages\\flask\\app.py\", line 1936, in dispatch_request\n",
      "    return self.view_functions[rule.endpoint](**req.view_args)\n",
      "  File \"C:\\Users\\LENOVO\\anaconda3\\lib\\site-packages\\dash\\dash.py\", line 1472, in dispatch\n",
      "    response.set_data(func(*args, outputs_list=outputs_list))\n",
      "  File \"C:\\Users\\LENOVO\\anaconda3\\lib\\site-packages\\dash\\_callback.py\", line 151, in add_context\n",
      "    output_value = func(*func_args, **func_kwargs)  # %% callback invoked %%\n",
      "  File \"C:\\Users\\LENOVO\\AppData\\Local\\Temp/ipykernel_5004/1735512418.py\", line 37, in update_bubble_graph_cb\n",
      "    fig = load_plot()\n",
      "  File \"C:\\Users\\LENOVO\\AppData\\Local\\Temp/ipykernel_5004/1735512418.py\", line 112, in plot\n",
      "    fig2 = pickle.load(f)\n",
      "EOFError: Ran out of input\n"
     ]
    },
    {
     "name": "stderr",
     "output_type": "stream",
     "text": [
      "127.0.0.1 - - [11/Jul/2022 10:15:19] \"POST /app/_dash-update-component HTTP/1.1\" 500 -\n",
      "127.0.0.1 - - [11/Jul/2022 10:15:19] \"POST /app/_dash-update-component HTTP/1.1\" 200 -\n"
     ]
    },
    {
     "name": "stdout",
     "output_type": "stream",
     "text": [
      "update_bubble_graph_cb: 0.036 second(s)\n"
     ]
    },
    {
     "name": "stderr",
     "output_type": "stream",
     "text": [
      "127.0.0.1 - - [11/Jul/2022 10:15:21] \"POST /app/_dash-update-component HTTP/1.1\" 200 -\n",
      "127.0.0.1 - - [11/Jul/2022 10:15:21] \"POST /app/_dash-update-component HTTP/1.1\" 200 -\n"
     ]
    },
    {
     "name": "stdout",
     "output_type": "stream",
     "text": [
      "update_bubble_graph_cb: 0.026 second(s)\n",
      "update_bubble_graph_cb: 0.029 second(s)\n"
     ]
    },
    {
     "name": "stderr",
     "output_type": "stream",
     "text": [
      "127.0.0.1 - - [11/Jul/2022 10:15:23] \"POST /app/_dash-update-component HTTP/1.1\" 200 -\n",
      "127.0.0.1 - - [11/Jul/2022 10:15:23] \"POST /app/_dash-update-component HTTP/1.1\" 200 -\n"
     ]
    },
    {
     "name": "stdout",
     "output_type": "stream",
     "text": [
      "update_bubble_graph_cb: 0.035 second(s)\n",
      "update_bubble_graph_cb: 0.031 second(s)\n"
     ]
    },
    {
     "name": "stderr",
     "output_type": "stream",
     "text": [
      "127.0.0.1 - - [11/Jul/2022 10:15:25] \"POST /app/_dash-update-component HTTP/1.1\" 200 -\n",
      "127.0.0.1 - - [11/Jul/2022 10:15:25] \"POST /app/_dash-update-component HTTP/1.1\" 200 -\n"
     ]
    },
    {
     "name": "stdout",
     "output_type": "stream",
     "text": [
      "update_bubble_graph_cb: 0.028 second(s)\n",
      "update_bubble_graph_cb: 0.033 second(s)\n"
     ]
    },
    {
     "name": "stderr",
     "output_type": "stream",
     "text": [
      "127.0.0.1 - - [11/Jul/2022 10:15:27] \"POST /app/_dash-update-component HTTP/1.1\" 200 -\n",
      "127.0.0.1 - - [11/Jul/2022 10:15:27] \"POST /app/_dash-update-component HTTP/1.1\" 200 -\n"
     ]
    },
    {
     "name": "stdout",
     "output_type": "stream",
     "text": [
      "update_bubble_graph_cb: 0.025 second(s)\n",
      "update_bubble_graph_cb: 0.027 second(s)\n"
     ]
    },
    {
     "name": "stderr",
     "output_type": "stream",
     "text": [
      "127.0.0.1 - - [11/Jul/2022 10:15:29] \"POST /app/_dash-update-component HTTP/1.1\" 200 -\n",
      "127.0.0.1 - - [11/Jul/2022 10:15:29] \"POST /app/_dash-update-component HTTP/1.1\" 200 -\n"
     ]
    },
    {
     "name": "stdout",
     "output_type": "stream",
     "text": [
      "update_bubble_graph_cb: 0.028 second(s)\n",
      "update_bubble_graph_cb: 0.020 second(s)\n",
      "Exception on /app/_dash-update-component [POST]\n",
      "Traceback (most recent call last):\n",
      "  File \"C:\\Users\\LENOVO\\anaconda3\\lib\\site-packages\\flask\\app.py\", line 2447, in wsgi_app\n",
      "    response = self.full_dispatch_request()\n",
      "  File \"C:\\Users\\LENOVO\\anaconda3\\lib\\site-packages\\flask\\app.py\", line 1952, in full_dispatch_request\n",
      "    rv = self.handle_user_exception(e)\n",
      "  File \"C:\\Users\\LENOVO\\anaconda3\\lib\\site-packages\\flask\\app.py\", line 1821, in handle_user_exception\n",
      "    reraise(exc_type, exc_value, tb)\n",
      "  File \"C:\\Users\\LENOVO\\anaconda3\\lib\\site-packages\\flask\\_compat.py\", line 39, in reraise\n",
      "    raise value\n",
      "  File \"C:\\Users\\LENOVO\\anaconda3\\lib\\site-packages\\flask\\app.py\", line 1950, in full_dispatch_request\n",
      "    rv = self.dispatch_request()\n",
      "  File \"C:\\Users\\LENOVO\\anaconda3\\lib\\site-packages\\flask\\app.py\", line 1936, in dispatch_request\n",
      "    return self.view_functions[rule.endpoint](**req.view_args)\n",
      "  File \"C:\\Users\\LENOVO\\anaconda3\\lib\\site-packages\\dash\\dash.py\", line 1472, in dispatch\n",
      "    response.set_data(func(*args, outputs_list=outputs_list))\n",
      "  File \"C:\\Users\\LENOVO\\anaconda3\\lib\\site-packages\\dash\\_callback.py\", line 151, in add_context\n",
      "    output_value = func(*func_args, **func_kwargs)  # %% callback invoked %%\n",
      "  File \"C:\\Users\\LENOVO\\AppData\\Local\\Temp/ipykernel_5004/1735512418.py\", line 37, in update_bubble_graph_cb\n",
      "    fig = load_plot()\n",
      "  File \"C:\\Users\\LENOVO\\AppData\\Local\\Temp/ipykernel_5004/1735512418.py\", line 112, in plot\n",
      "    fig2 = pickle.load(f)\n",
      "EOFError: Ran out of input\n"
     ]
    },
    {
     "name": "stderr",
     "output_type": "stream",
     "text": [
      "127.0.0.1 - - [11/Jul/2022 10:15:31] \"POST /app/_dash-update-component HTTP/1.1\" 500 -\n",
      "127.0.0.1 - - [11/Jul/2022 10:15:31] \"POST /app/_dash-update-component HTTP/1.1\" 200 -\n"
     ]
    },
    {
     "name": "stdout",
     "output_type": "stream",
     "text": [
      "update_bubble_graph_cb: 0.024 second(s)\n"
     ]
    },
    {
     "name": "stderr",
     "output_type": "stream",
     "text": [
      "127.0.0.1 - - [11/Jul/2022 10:15:33] \"POST /app/_dash-update-component HTTP/1.1\" 200 -\n",
      "127.0.0.1 - - [11/Jul/2022 10:15:33] \"POST /app/_dash-update-component HTTP/1.1\" 200 -\n"
     ]
    },
    {
     "name": "stdout",
     "output_type": "stream",
     "text": [
      "update_bubble_graph_cb: 0.022 second(s)\n",
      "update_bubble_graph_cb: 0.028 second(s)\n",
      "Exception on /app/_dash-update-component [POST]\n",
      "Traceback (most recent call last):\n",
      "  File \"C:\\Users\\LENOVO\\anaconda3\\lib\\site-packages\\flask\\app.py\", line 2447, in wsgi_app\n",
      "    response = self.full_dispatch_request()\n",
      "  File \"C:\\Users\\LENOVO\\anaconda3\\lib\\site-packages\\flask\\app.py\", line 1952, in full_dispatch_request\n",
      "    rv = self.handle_user_exception(e)\n",
      "  File \"C:\\Users\\LENOVO\\anaconda3\\lib\\site-packages\\flask\\app.py\", line 1821, in handle_user_exception\n",
      "    reraise(exc_type, exc_value, tb)\n",
      "  File \"C:\\Users\\LENOVO\\anaconda3\\lib\\site-packages\\flask\\_compat.py\", line 39, in reraise\n",
      "    raise value\n",
      "  File \"C:\\Users\\LENOVO\\anaconda3\\lib\\site-packages\\flask\\app.py\", line 1950, in full_dispatch_request\n",
      "    rv = self.dispatch_request()\n",
      "  File \"C:\\Users\\LENOVO\\anaconda3\\lib\\site-packages\\flask\\app.py\", line 1936, in dispatch_request\n",
      "    return self.view_functions[rule.endpoint](**req.view_args)\n",
      "  File \"C:\\Users\\LENOVO\\anaconda3\\lib\\site-packages\\dash\\dash.py\", line 1472, in dispatch\n",
      "    response.set_data(func(*args, outputs_list=outputs_list))\n",
      "  File \"C:\\Users\\LENOVO\\anaconda3\\lib\\site-packages\\dash\\_callback.py\", line 151, in add_context\n",
      "    output_value = func(*func_args, **func_kwargs)  # %% callback invoked %%\n",
      "  File \"C:\\Users\\LENOVO\\AppData\\Local\\Temp/ipykernel_5004/1735512418.py\", line 37, in update_bubble_graph_cb\n",
      "    fig = load_plot()\n",
      "  File \"C:\\Users\\LENOVO\\AppData\\Local\\Temp/ipykernel_5004/1735512418.py\", line 112, in plot\n",
      "    fig2 = pickle.load(f)\n",
      "EOFError: Ran out of input\n"
     ]
    },
    {
     "name": "stderr",
     "output_type": "stream",
     "text": [
      "127.0.0.1 - - [11/Jul/2022 10:15:35] \"POST /app/_dash-update-component HTTP/1.1\" 500 -\n",
      "127.0.0.1 - - [11/Jul/2022 10:15:35] \"POST /app/_dash-update-component HTTP/1.1\" 200 -\n"
     ]
    },
    {
     "name": "stdout",
     "output_type": "stream",
     "text": [
      "update_bubble_graph_cb: 0.035 second(s)\n"
     ]
    },
    {
     "name": "stderr",
     "output_type": "stream",
     "text": [
      "127.0.0.1 - - [11/Jul/2022 10:15:37] \"POST /app/_dash-update-component HTTP/1.1\" 200 -\n",
      "127.0.0.1 - - [11/Jul/2022 10:15:37] \"POST /app/_dash-update-component HTTP/1.1\" 200 -\n"
     ]
    },
    {
     "name": "stdout",
     "output_type": "stream",
     "text": [
      "update_bubble_graph_cb: 0.026 second(s)\n",
      "update_bubble_graph_cb: 0.035 second(s)\n"
     ]
    },
    {
     "name": "stderr",
     "output_type": "stream",
     "text": [
      "127.0.0.1 - - [11/Jul/2022 10:15:39] \"POST /app/_dash-update-component HTTP/1.1\" 200 -\n",
      "127.0.0.1 - - [11/Jul/2022 10:15:39] \"POST /app/_dash-update-component HTTP/1.1\" 200 -\n"
     ]
    },
    {
     "name": "stdout",
     "output_type": "stream",
     "text": [
      "update_bubble_graph_cb: 0.024 second(s)\n",
      "update_bubble_graph_cb: 0.024 second(s)\n"
     ]
    },
    {
     "name": "stderr",
     "output_type": "stream",
     "text": [
      "127.0.0.1 - - [11/Jul/2022 10:15:41] \"POST /app/_dash-update-component HTTP/1.1\" 200 -\n",
      "127.0.0.1 - - [11/Jul/2022 10:15:41] \"POST /app/_dash-update-component HTTP/1.1\" 200 -\n"
     ]
    },
    {
     "name": "stdout",
     "output_type": "stream",
     "text": [
      "update_bubble_graph_cb: 0.028 second(s)\n",
      "update_bubble_graph_cb: 0.041 second(s)\n"
     ]
    },
    {
     "name": "stderr",
     "output_type": "stream",
     "text": [
      "127.0.0.1 - - [11/Jul/2022 10:15:43] \"POST /app/_dash-update-component HTTP/1.1\" 200 -\n",
      "127.0.0.1 - - [11/Jul/2022 10:15:43] \"POST /app/_dash-update-component HTTP/1.1\" 200 -\n"
     ]
    },
    {
     "name": "stdout",
     "output_type": "stream",
     "text": [
      "update_bubble_graph_cb: 0.024 second(s)\n",
      "update_bubble_graph_cb: 0.034 second(s)\n",
      "Exception on /app/_dash-update-component [POST]\n",
      "Traceback (most recent call last):\n",
      "  File \"C:\\Users\\LENOVO\\anaconda3\\lib\\site-packages\\flask\\app.py\", line 2447, in wsgi_app\n",
      "    response = self.full_dispatch_request()\n",
      "  File \"C:\\Users\\LENOVO\\anaconda3\\lib\\site-packages\\flask\\app.py\", line 1952, in full_dispatch_request\n",
      "    rv = self.handle_user_exception(e)\n",
      "  File \"C:\\Users\\LENOVO\\anaconda3\\lib\\site-packages\\flask\\app.py\", line 1821, in handle_user_exception\n",
      "    reraise(exc_type, exc_value, tb)\n",
      "  File \"C:\\Users\\LENOVO\\anaconda3\\lib\\site-packages\\flask\\_compat.py\", line 39, in reraise\n",
      "    raise value\n",
      "  File \"C:\\Users\\LENOVO\\anaconda3\\lib\\site-packages\\flask\\app.py\", line 1950, in full_dispatch_request\n",
      "    rv = self.dispatch_request()\n",
      "  File \"C:\\Users\\LENOVO\\anaconda3\\lib\\site-packages\\flask\\app.py\", line 1936, in dispatch_request\n",
      "    return self.view_functions[rule.endpoint](**req.view_args)\n",
      "  File \"C:\\Users\\LENOVO\\anaconda3\\lib\\site-packages\\dash\\dash.py\", line 1472, in dispatch\n",
      "    response.set_data(func(*args, outputs_list=outputs_list))\n",
      "  File \"C:\\Users\\LENOVO\\anaconda3\\lib\\site-packages\\dash\\_callback.py\", line 151, in add_context\n",
      "    output_value = func(*func_args, **func_kwargs)  # %% callback invoked %%\n",
      "  File \"C:\\Users\\LENOVO\\AppData\\Local\\Temp/ipykernel_5004/1735512418.py\", line 37, in update_bubble_graph_cb\n",
      "    fig = load_plot()\n",
      "  File \"C:\\Users\\LENOVO\\AppData\\Local\\Temp/ipykernel_5004/1735512418.py\", line 112, in plot\n",
      "    fig2 = pickle.load(f)\n",
      "EOFError: Ran out of input\n"
     ]
    },
    {
     "name": "stderr",
     "output_type": "stream",
     "text": [
      "127.0.0.1 - - [11/Jul/2022 10:15:45] \"POST /app/_dash-update-component HTTP/1.1\" 500 -\n",
      "127.0.0.1 - - [11/Jul/2022 10:15:45] \"POST /app/_dash-update-component HTTP/1.1\" 200 -\n"
     ]
    },
    {
     "name": "stdout",
     "output_type": "stream",
     "text": [
      "update_bubble_graph_cb: 0.024 second(s)\n"
     ]
    },
    {
     "name": "stderr",
     "output_type": "stream",
     "text": [
      "127.0.0.1 - - [11/Jul/2022 10:15:47] \"POST /app/_dash-update-component HTTP/1.1\" 200 -\n",
      "127.0.0.1 - - [11/Jul/2022 10:15:47] \"POST /app/_dash-update-component HTTP/1.1\" 200 -\n"
     ]
    },
    {
     "name": "stdout",
     "output_type": "stream",
     "text": [
      "update_bubble_graph_cb: 0.030 second(s)\n",
      "update_bubble_graph_cb: 0.020 second(s)\n"
     ]
    },
    {
     "name": "stderr",
     "output_type": "stream",
     "text": [
      "127.0.0.1 - - [11/Jul/2022 10:15:49] \"POST /app/_dash-update-component HTTP/1.1\" 200 -\n",
      "127.0.0.1 - - [11/Jul/2022 10:15:49] \"POST /app/_dash-update-component HTTP/1.1\" 200 -\n"
     ]
    },
    {
     "name": "stdout",
     "output_type": "stream",
     "text": [
      "update_bubble_graph_cb: 0.035 second(s)\n",
      "update_bubble_graph_cb: 0.032 second(s)\n"
     ]
    },
    {
     "name": "stderr",
     "output_type": "stream",
     "text": [
      "127.0.0.1 - - [11/Jul/2022 10:15:51] \"POST /app/_dash-update-component HTTP/1.1\" 200 -\n",
      "127.0.0.1 - - [11/Jul/2022 10:15:51] \"POST /app/_dash-update-component HTTP/1.1\" 200 -\n"
     ]
    },
    {
     "name": "stdout",
     "output_type": "stream",
     "text": [
      "update_bubble_graph_cb: 0.020 second(s)\n",
      "update_bubble_graph_cb: 0.023 second(s)\n"
     ]
    },
    {
     "name": "stderr",
     "output_type": "stream",
     "text": [
      "127.0.0.1 - - [11/Jul/2022 10:15:53] \"POST /app/_dash-update-component HTTP/1.1\" 200 -\n",
      "127.0.0.1 - - [11/Jul/2022 10:15:53] \"POST /app/_dash-update-component HTTP/1.1\" 200 -\n"
     ]
    },
    {
     "name": "stdout",
     "output_type": "stream",
     "text": [
      "update_bubble_graph_cb: 0.026 second(s)\n",
      "update_bubble_graph_cb: 0.033 second(s)\n"
     ]
    },
    {
     "name": "stderr",
     "output_type": "stream",
     "text": [
      "127.0.0.1 - - [11/Jul/2022 10:15:55] \"POST /app/_dash-update-component HTTP/1.1\" 200 -\n",
      "127.0.0.1 - - [11/Jul/2022 10:15:55] \"POST /app/_dash-update-component HTTP/1.1\" 200 -\n"
     ]
    },
    {
     "name": "stdout",
     "output_type": "stream",
     "text": [
      "update_bubble_graph_cb: 0.024 second(s)\n",
      "update_bubble_graph_cb: 0.021 second(s)\n"
     ]
    },
    {
     "name": "stderr",
     "output_type": "stream",
     "text": [
      "127.0.0.1 - - [11/Jul/2022 10:15:57] \"POST /app/_dash-update-component HTTP/1.1\" 200 -\n",
      "127.0.0.1 - - [11/Jul/2022 10:15:57] \"POST /app/_dash-update-component HTTP/1.1\" 200 -\n"
     ]
    },
    {
     "name": "stdout",
     "output_type": "stream",
     "text": [
      "update_bubble_graph_cb: 0.025 second(s)\n",
      "update_bubble_graph_cb: 0.026 second(s)\n"
     ]
    },
    {
     "name": "stderr",
     "output_type": "stream",
     "text": [
      "127.0.0.1 - - [11/Jul/2022 10:15:59] \"POST /app/_dash-update-component HTTP/1.1\" 200 -\n",
      "127.0.0.1 - - [11/Jul/2022 10:15:59] \"POST /app/_dash-update-component HTTP/1.1\" 200 -\n"
     ]
    },
    {
     "name": "stdout",
     "output_type": "stream",
     "text": [
      "update_bubble_graph_cb: 0.030 second(s)\n",
      "update_bubble_graph_cb: 0.032 second(s)\n"
     ]
    },
    {
     "name": "stderr",
     "output_type": "stream",
     "text": [
      "127.0.0.1 - - [11/Jul/2022 10:16:01] \"POST /app/_dash-update-component HTTP/1.1\" 200 -\n",
      "127.0.0.1 - - [11/Jul/2022 10:16:01] \"POST /app/_dash-update-component HTTP/1.1\" 200 -\n"
     ]
    },
    {
     "name": "stdout",
     "output_type": "stream",
     "text": [
      "update_bubble_graph_cb: 0.022 second(s)\n",
      "update_bubble_graph_cb: 0.032 second(s)\n"
     ]
    },
    {
     "name": "stderr",
     "output_type": "stream",
     "text": [
      "127.0.0.1 - - [11/Jul/2022 10:16:03] \"POST /app/_dash-update-component HTTP/1.1\" 200 -\n",
      "127.0.0.1 - - [11/Jul/2022 10:16:03] \"POST /app/_dash-update-component HTTP/1.1\" 200 -\n"
     ]
    },
    {
     "name": "stdout",
     "output_type": "stream",
     "text": [
      "update_bubble_graph_cb: 0.020 second(s)\n",
      "update_bubble_graph_cb: 0.018 second(s)\n"
     ]
    },
    {
     "name": "stderr",
     "output_type": "stream",
     "text": [
      "127.0.0.1 - - [11/Jul/2022 10:16:05] \"POST /app/_dash-update-component HTTP/1.1\" 200 -\n",
      "127.0.0.1 - - [11/Jul/2022 10:16:05] \"POST /app/_dash-update-component HTTP/1.1\" 200 -\n"
     ]
    },
    {
     "name": "stdout",
     "output_type": "stream",
     "text": [
      "update_bubble_graph_cb: 0.028 second(s)\n",
      "update_bubble_graph_cb: 0.024 second(s)\n"
     ]
    },
    {
     "name": "stderr",
     "output_type": "stream",
     "text": [
      "127.0.0.1 - - [11/Jul/2022 10:16:07] \"POST /app/_dash-update-component HTTP/1.1\" 200 -\n",
      "127.0.0.1 - - [11/Jul/2022 10:16:07] \"POST /app/_dash-update-component HTTP/1.1\" 200 -\n"
     ]
    },
    {
     "name": "stdout",
     "output_type": "stream",
     "text": [
      "update_bubble_graph_cb: 0.021 second(s)\n",
      "update_bubble_graph_cb: 0.025 second(s)\n"
     ]
    },
    {
     "name": "stderr",
     "output_type": "stream",
     "text": [
      "127.0.0.1 - - [11/Jul/2022 10:16:09] \"POST /app/_dash-update-component HTTP/1.1\" 200 -\n",
      "127.0.0.1 - - [11/Jul/2022 10:16:09] \"POST /app/_dash-update-component HTTP/1.1\" 200 -\n"
     ]
    },
    {
     "name": "stdout",
     "output_type": "stream",
     "text": [
      "update_bubble_graph_cb: 0.033 second(s)\n",
      "update_bubble_graph_cb: 0.024 second(s)\n"
     ]
    },
    {
     "name": "stderr",
     "output_type": "stream",
     "text": [
      "127.0.0.1 - - [11/Jul/2022 10:16:11] \"POST /app/_dash-update-component HTTP/1.1\" 200 -\n",
      "127.0.0.1 - - [11/Jul/2022 10:16:11] \"POST /app/_dash-update-component HTTP/1.1\" 200 -\n"
     ]
    },
    {
     "name": "stdout",
     "output_type": "stream",
     "text": [
      "update_bubble_graph_cb: 0.024 second(s)\n",
      "update_bubble_graph_cb: 0.026 second(s)\n"
     ]
    },
    {
     "name": "stderr",
     "output_type": "stream",
     "text": [
      "127.0.0.1 - - [11/Jul/2022 10:16:13] \"POST /app/_dash-update-component HTTP/1.1\" 200 -\n",
      "127.0.0.1 - - [11/Jul/2022 10:16:13] \"POST /app/_dash-update-component HTTP/1.1\" 200 -\n"
     ]
    },
    {
     "name": "stdout",
     "output_type": "stream",
     "text": [
      "update_bubble_graph_cb: 0.032 second(s)\n",
      "update_bubble_graph_cb: 0.020 second(s)\n"
     ]
    },
    {
     "name": "stderr",
     "output_type": "stream",
     "text": [
      "127.0.0.1 - - [11/Jul/2022 10:16:15] \"POST /app/_dash-update-component HTTP/1.1\" 200 -\n",
      "127.0.0.1 - - [11/Jul/2022 10:16:15] \"POST /app/_dash-update-component HTTP/1.1\" 200 -\n"
     ]
    },
    {
     "name": "stdout",
     "output_type": "stream",
     "text": [
      "update_bubble_graph_cb: 0.028 second(s)\n",
      "update_bubble_graph_cb: 0.028 second(s)\n"
     ]
    },
    {
     "name": "stderr",
     "output_type": "stream",
     "text": [
      "127.0.0.1 - - [11/Jul/2022 10:16:17] \"POST /app/_dash-update-component HTTP/1.1\" 200 -\n",
      "127.0.0.1 - - [11/Jul/2022 10:16:17] \"POST /app/_dash-update-component HTTP/1.1\" 200 -\n"
     ]
    },
    {
     "name": "stdout",
     "output_type": "stream",
     "text": [
      "update_bubble_graph_cb: 0.030 second(s)\n",
      "update_bubble_graph_cb: 0.029 second(s)\n"
     ]
    },
    {
     "name": "stderr",
     "output_type": "stream",
     "text": [
      "127.0.0.1 - - [11/Jul/2022 10:16:19] \"POST /app/_dash-update-component HTTP/1.1\" 200 -\n",
      "127.0.0.1 - - [11/Jul/2022 10:16:19] \"POST /app/_dash-update-component HTTP/1.1\" 200 -\n"
     ]
    },
    {
     "name": "stdout",
     "output_type": "stream",
     "text": [
      "update_bubble_graph_cb: 0.024 second(s)\n",
      "update_bubble_graph_cb: 0.027 second(s)\n"
     ]
    },
    {
     "name": "stderr",
     "output_type": "stream",
     "text": [
      "127.0.0.1 - - [11/Jul/2022 10:16:21] \"POST /app/_dash-update-component HTTP/1.1\" 200 -\n",
      "127.0.0.1 - - [11/Jul/2022 10:16:21] \"POST /app/_dash-update-component HTTP/1.1\" 200 -\n"
     ]
    },
    {
     "name": "stdout",
     "output_type": "stream",
     "text": [
      "update_bubble_graph_cb: 0.029 second(s)\n",
      "update_bubble_graph_cb: 0.035 second(s)\n"
     ]
    },
    {
     "name": "stderr",
     "output_type": "stream",
     "text": [
      "127.0.0.1 - - [11/Jul/2022 10:16:23] \"POST /app/_dash-update-component HTTP/1.1\" 200 -\n",
      "127.0.0.1 - - [11/Jul/2022 10:16:23] \"POST /app/_dash-update-component HTTP/1.1\" 200 -\n"
     ]
    },
    {
     "name": "stdout",
     "output_type": "stream",
     "text": [
      "update_bubble_graph_cb: 0.028 second(s)\n",
      "update_bubble_graph_cb: 0.015 second(s)\n"
     ]
    },
    {
     "name": "stderr",
     "output_type": "stream",
     "text": [
      "127.0.0.1 - - [11/Jul/2022 10:16:25] \"POST /app/_dash-update-component HTTP/1.1\" 200 -\n",
      "127.0.0.1 - - [11/Jul/2022 10:16:25] \"POST /app/_dash-update-component HTTP/1.1\" 200 -\n"
     ]
    },
    {
     "name": "stdout",
     "output_type": "stream",
     "text": [
      "update_bubble_graph_cb: 0.069 second(s)\n",
      "update_bubble_graph_cb: 0.034 second(s)\n"
     ]
    },
    {
     "name": "stderr",
     "output_type": "stream",
     "text": [
      "127.0.0.1 - - [11/Jul/2022 10:16:27] \"POST /app/_dash-update-component HTTP/1.1\" 200 -\n",
      "127.0.0.1 - - [11/Jul/2022 10:16:27] \"POST /app/_dash-update-component HTTP/1.1\" 200 -\n"
     ]
    },
    {
     "name": "stdout",
     "output_type": "stream",
     "text": [
      "update_bubble_graph_cb: 0.019 second(s)\n",
      "update_bubble_graph_cb: 0.061 second(s)\n"
     ]
    },
    {
     "name": "stderr",
     "output_type": "stream",
     "text": [
      "127.0.0.1 - - [11/Jul/2022 10:16:29] \"POST /app/_dash-update-component HTTP/1.1\" 200 -\n",
      "127.0.0.1 - - [11/Jul/2022 10:16:29] \"POST /app/_dash-update-component HTTP/1.1\" 200 -\n"
     ]
    },
    {
     "name": "stdout",
     "output_type": "stream",
     "text": [
      "update_bubble_graph_cb: 0.019 second(s)\n",
      "update_bubble_graph_cb: 0.026 second(s)\n"
     ]
    },
    {
     "name": "stderr",
     "output_type": "stream",
     "text": [
      "127.0.0.1 - - [11/Jul/2022 10:16:31] \"POST /app/_dash-update-component HTTP/1.1\" 200 -\n",
      "127.0.0.1 - - [11/Jul/2022 10:16:31] \"POST /app/_dash-update-component HTTP/1.1\" 200 -\n"
     ]
    },
    {
     "name": "stdout",
     "output_type": "stream",
     "text": [
      "update_bubble_graph_cb: 0.028 second(s)\n",
      "update_bubble_graph_cb: 0.016 second(s)\n"
     ]
    },
    {
     "name": "stderr",
     "output_type": "stream",
     "text": [
      "127.0.0.1 - - [11/Jul/2022 10:16:33] \"POST /app/_dash-update-component HTTP/1.1\" 200 -\n",
      "127.0.0.1 - - [11/Jul/2022 10:16:33] \"POST /app/_dash-update-component HTTP/1.1\" 200 -\n"
     ]
    },
    {
     "name": "stdout",
     "output_type": "stream",
     "text": [
      "update_bubble_graph_cb: 0.032 second(s)\n",
      "update_bubble_graph_cb: 0.024 second(s)\n"
     ]
    },
    {
     "name": "stderr",
     "output_type": "stream",
     "text": [
      "127.0.0.1 - - [11/Jul/2022 10:16:35] \"POST /app/_dash-update-component HTTP/1.1\" 200 -\n",
      "127.0.0.1 - - [11/Jul/2022 10:16:35] \"POST /app/_dash-update-component HTTP/1.1\" 200 -\n"
     ]
    },
    {
     "name": "stdout",
     "output_type": "stream",
     "text": [
      "update_bubble_graph_cb: 0.028 second(s)\n",
      "update_bubble_graph_cb: 0.025 second(s)\n"
     ]
    },
    {
     "name": "stderr",
     "output_type": "stream",
     "text": [
      "127.0.0.1 - - [11/Jul/2022 10:16:37] \"POST /app/_dash-update-component HTTP/1.1\" 200 -\n",
      "127.0.0.1 - - [11/Jul/2022 10:16:37] \"POST /app/_dash-update-component HTTP/1.1\" 200 -\n"
     ]
    },
    {
     "name": "stdout",
     "output_type": "stream",
     "text": [
      "update_bubble_graph_cb: 0.028 second(s)\n",
      "update_bubble_graph_cb: 0.024 second(s)\n"
     ]
    },
    {
     "name": "stderr",
     "output_type": "stream",
     "text": [
      "127.0.0.1 - - [11/Jul/2022 10:16:39] \"POST /app/_dash-update-component HTTP/1.1\" 200 -\n",
      "127.0.0.1 - - [11/Jul/2022 10:16:39] \"POST /app/_dash-update-component HTTP/1.1\" 200 -\n"
     ]
    },
    {
     "name": "stdout",
     "output_type": "stream",
     "text": [
      "update_bubble_graph_cb: 0.025 second(s)\n",
      "update_bubble_graph_cb: 0.026 second(s)\n"
     ]
    },
    {
     "name": "stderr",
     "output_type": "stream",
     "text": [
      "127.0.0.1 - - [11/Jul/2022 10:16:41] \"POST /app/_dash-update-component HTTP/1.1\" 200 -\n"
     ]
    },
    {
     "name": "stdout",
     "output_type": "stream",
     "text": [
      "update_bubble_graph_cb: 0.028 second(s)\n",
      "Exception on /app/_dash-update-component [POST]\n",
      "Traceback (most recent call last):\n",
      "  File \"C:\\Users\\LENOVO\\anaconda3\\lib\\site-packages\\flask\\app.py\", line 2447, in wsgi_app\n",
      "    response = self.full_dispatch_request()\n",
      "  File \"C:\\Users\\LENOVO\\anaconda3\\lib\\site-packages\\flask\\app.py\", line 1952, in full_dispatch_request\n",
      "    rv = self.handle_user_exception(e)\n",
      "  File \"C:\\Users\\LENOVO\\anaconda3\\lib\\site-packages\\flask\\app.py\", line 1821, in handle_user_exception\n",
      "    reraise(exc_type, exc_value, tb)\n",
      "  File \"C:\\Users\\LENOVO\\anaconda3\\lib\\site-packages\\flask\\_compat.py\", line 39, in reraise\n",
      "    raise value\n",
      "  File \"C:\\Users\\LENOVO\\anaconda3\\lib\\site-packages\\flask\\app.py\", line 1950, in full_dispatch_request\n",
      "    rv = self.dispatch_request()\n",
      "  File \"C:\\Users\\LENOVO\\anaconda3\\lib\\site-packages\\flask\\app.py\", line 1936, in dispatch_request\n",
      "    return self.view_functions[rule.endpoint](**req.view_args)\n",
      "  File \"C:\\Users\\LENOVO\\anaconda3\\lib\\site-packages\\dash\\dash.py\", line 1472, in dispatch\n",
      "    response.set_data(func(*args, outputs_list=outputs_list))\n",
      "  File \"C:\\Users\\LENOVO\\anaconda3\\lib\\site-packages\\dash\\_callback.py\", line 151, in add_context\n",
      "    output_value = func(*func_args, **func_kwargs)  # %% callback invoked %%\n",
      "  File \"C:\\Users\\LENOVO\\AppData\\Local\\Temp/ipykernel_5004/1735512418.py\", line 37, in update_bubble_graph_cb\n",
      "    fig = load_plot()\n",
      "  File \"C:\\Users\\LENOVO\\AppData\\Local\\Temp/ipykernel_5004/1735512418.py\", line 112, in plot\n",
      "    fig2 = pickle.load(f)\n",
      "EOFError: Ran out of input\n"
     ]
    },
    {
     "name": "stderr",
     "output_type": "stream",
     "text": [
      "127.0.0.1 - - [11/Jul/2022 10:16:41] \"POST /app/_dash-update-component HTTP/1.1\" 500 -\n",
      "127.0.0.1 - - [11/Jul/2022 10:16:43] \"POST /app/_dash-update-component HTTP/1.1\" 200 -\n",
      "127.0.0.1 - - [11/Jul/2022 10:16:43] \"POST /app/_dash-update-component HTTP/1.1\" 200 -\n"
     ]
    },
    {
     "name": "stdout",
     "output_type": "stream",
     "text": [
      "update_bubble_graph_cb: 0.026 second(s)\n",
      "update_bubble_graph_cb: 0.025 second(s)\n"
     ]
    },
    {
     "name": "stderr",
     "output_type": "stream",
     "text": [
      "127.0.0.1 - - [11/Jul/2022 10:16:45] \"POST /app/_dash-update-component HTTP/1.1\" 200 -\n",
      "127.0.0.1 - - [11/Jul/2022 10:16:45] \"POST /app/_dash-update-component HTTP/1.1\" 200 -\n"
     ]
    },
    {
     "name": "stdout",
     "output_type": "stream",
     "text": [
      "update_bubble_graph_cb: 0.025 second(s)\n",
      "update_bubble_graph_cb: 0.030 second(s)\n"
     ]
    },
    {
     "name": "stderr",
     "output_type": "stream",
     "text": [
      "127.0.0.1 - - [11/Jul/2022 10:16:47] \"POST /app/_dash-update-component HTTP/1.1\" 200 -\n",
      "127.0.0.1 - - [11/Jul/2022 10:16:47] \"POST /app/_dash-update-component HTTP/1.1\" 200 -\n"
     ]
    },
    {
     "name": "stdout",
     "output_type": "stream",
     "text": [
      "update_bubble_graph_cb: 0.028 second(s)\n",
      "update_bubble_graph_cb: 0.020 second(s)\n",
      "Exception on /app/_dash-update-component [POST]\n",
      "Traceback (most recent call last):\n",
      "  File \"C:\\Users\\LENOVO\\anaconda3\\lib\\site-packages\\flask\\app.py\", line 2447, in wsgi_app\n",
      "    response = self.full_dispatch_request()\n",
      "  File \"C:\\Users\\LENOVO\\anaconda3\\lib\\site-packages\\flask\\app.py\", line 1952, in full_dispatch_request\n",
      "    rv = self.handle_user_exception(e)\n",
      "  File \"C:\\Users\\LENOVO\\anaconda3\\lib\\site-packages\\flask\\app.py\", line 1821, in handle_user_exception\n",
      "    reraise(exc_type, exc_value, tb)\n",
      "  File \"C:\\Users\\LENOVO\\anaconda3\\lib\\site-packages\\flask\\_compat.py\", line 39, in reraise\n",
      "    raise value\n",
      "  File \"C:\\Users\\LENOVO\\anaconda3\\lib\\site-packages\\flask\\app.py\", line 1950, in full_dispatch_request\n",
      "    rv = self.dispatch_request()\n",
      "  File \"C:\\Users\\LENOVO\\anaconda3\\lib\\site-packages\\flask\\app.py\", line 1936, in dispatch_request\n",
      "    return self.view_functions[rule.endpoint](**req.view_args)\n",
      "  File \"C:\\Users\\LENOVO\\anaconda3\\lib\\site-packages\\dash\\dash.py\", line 1472, in dispatch\n",
      "    response.set_data(func(*args, outputs_list=outputs_list))\n",
      "  File \"C:\\Users\\LENOVO\\anaconda3\\lib\\site-packages\\dash\\_callback.py\", line 151, in add_context\n",
      "    output_value = func(*func_args, **func_kwargs)  # %% callback invoked %%\n",
      "  File \"C:\\Users\\LENOVO\\AppData\\Local\\Temp/ipykernel_5004/1735512418.py\", line 37, in update_bubble_graph_cb\n",
      "    fig = load_plot()\n",
      "  File \"C:\\Users\\LENOVO\\AppData\\Local\\Temp/ipykernel_5004/1735512418.py\", line 112, in plot\n",
      "    fig2 = pickle.load(f)\n",
      "EOFError: Ran out of input\n"
     ]
    },
    {
     "name": "stderr",
     "output_type": "stream",
     "text": [
      "127.0.0.1 - - [11/Jul/2022 10:16:49] \"POST /app/_dash-update-component HTTP/1.1\" 500 -\n",
      "127.0.0.1 - - [11/Jul/2022 10:16:49] \"POST /app/_dash-update-component HTTP/1.1\" 200 -\n"
     ]
    },
    {
     "name": "stdout",
     "output_type": "stream",
     "text": [
      "update_bubble_graph_cb: 0.032 second(s)\n"
     ]
    },
    {
     "name": "stderr",
     "output_type": "stream",
     "text": [
      "127.0.0.1 - - [11/Jul/2022 10:16:51] \"POST /app/_dash-update-component HTTP/1.1\" 200 -\n",
      "127.0.0.1 - - [11/Jul/2022 10:16:51] \"POST /app/_dash-update-component HTTP/1.1\" 200 -\n"
     ]
    },
    {
     "name": "stdout",
     "output_type": "stream",
     "text": [
      "update_bubble_graph_cb: 0.024 second(s)\n",
      "update_bubble_graph_cb: 0.026 second(s)\n",
      "Exception on /app/_dash-update-component [POST]\n",
      "Traceback (most recent call last):\n",
      "  File \"C:\\Users\\LENOVO\\anaconda3\\lib\\site-packages\\flask\\app.py\", line 2447, in wsgi_app\n",
      "    response = self.full_dispatch_request()\n",
      "  File \"C:\\Users\\LENOVO\\anaconda3\\lib\\site-packages\\flask\\app.py\", line 1952, in full_dispatch_request\n",
      "    rv = self.handle_user_exception(e)\n",
      "  File \"C:\\Users\\LENOVO\\anaconda3\\lib\\site-packages\\flask\\app.py\", line 1821, in handle_user_exception\n",
      "    reraise(exc_type, exc_value, tb)\n",
      "  File \"C:\\Users\\LENOVO\\anaconda3\\lib\\site-packages\\flask\\_compat.py\", line 39, in reraise\n",
      "    raise value\n",
      "  File \"C:\\Users\\LENOVO\\anaconda3\\lib\\site-packages\\flask\\app.py\", line 1950, in full_dispatch_request\n",
      "    rv = self.dispatch_request()\n",
      "  File \"C:\\Users\\LENOVO\\anaconda3\\lib\\site-packages\\flask\\app.py\", line 1936, in dispatch_request\n",
      "    return self.view_functions[rule.endpoint](**req.view_args)\n",
      "  File \"C:\\Users\\LENOVO\\anaconda3\\lib\\site-packages\\dash\\dash.py\", line 1472, in dispatch\n",
      "    response.set_data(func(*args, outputs_list=outputs_list))\n",
      "  File \"C:\\Users\\LENOVO\\anaconda3\\lib\\site-packages\\dash\\_callback.py\", line 151, in add_context\n",
      "    output_value = func(*func_args, **func_kwargs)  # %% callback invoked %%\n",
      "  File \"C:\\Users\\LENOVO\\AppData\\Local\\Temp/ipykernel_5004/1735512418.py\", line 37, in update_bubble_graph_cb\n",
      "    fig = load_plot()\n",
      "  File \"C:\\Users\\LENOVO\\AppData\\Local\\Temp/ipykernel_5004/1735512418.py\", line 112, in plot\n",
      "    fig2 = pickle.load(f)\n",
      "EOFError: Ran out of input\n"
     ]
    },
    {
     "name": "stderr",
     "output_type": "stream",
     "text": [
      "127.0.0.1 - - [11/Jul/2022 10:16:53] \"POST /app/_dash-update-component HTTP/1.1\" 500 -\n",
      "127.0.0.1 - - [11/Jul/2022 10:16:53] \"POST /app/_dash-update-component HTTP/1.1\" 200 -\n"
     ]
    },
    {
     "name": "stdout",
     "output_type": "stream",
     "text": [
      "update_bubble_graph_cb: 0.028 second(s)\n"
     ]
    },
    {
     "name": "stderr",
     "output_type": "stream",
     "text": [
      "127.0.0.1 - - [11/Jul/2022 10:16:55] \"POST /app/_dash-update-component HTTP/1.1\" 200 -\n",
      "127.0.0.1 - - [11/Jul/2022 10:16:55] \"POST /app/_dash-update-component HTTP/1.1\" 200 -\n"
     ]
    },
    {
     "name": "stdout",
     "output_type": "stream",
     "text": [
      "update_bubble_graph_cb: 0.022 second(s)\n",
      "update_bubble_graph_cb: 0.019 second(s)\n"
     ]
    },
    {
     "name": "stderr",
     "output_type": "stream",
     "text": [
      "127.0.0.1 - - [11/Jul/2022 10:16:57] \"POST /app/_dash-update-component HTTP/1.1\" 200 -\n",
      "127.0.0.1 - - [11/Jul/2022 10:16:57] \"POST /app/_dash-update-component HTTP/1.1\" 200 -\n"
     ]
    },
    {
     "name": "stdout",
     "output_type": "stream",
     "text": [
      "update_bubble_graph_cb: 0.032 second(s)\n",
      "update_bubble_graph_cb: 0.023 second(s)\n"
     ]
    },
    {
     "name": "stderr",
     "output_type": "stream",
     "text": [
      "127.0.0.1 - - [11/Jul/2022 10:16:59] \"POST /app/_dash-update-component HTTP/1.1\" 200 -\n",
      "127.0.0.1 - - [11/Jul/2022 10:16:59] \"POST /app/_dash-update-component HTTP/1.1\" 200 -\n"
     ]
    },
    {
     "name": "stdout",
     "output_type": "stream",
     "text": [
      "update_bubble_graph_cb: 0.026 second(s)\n",
      "update_bubble_graph_cb: 0.028 second(s)\n"
     ]
    },
    {
     "name": "stderr",
     "output_type": "stream",
     "text": [
      "127.0.0.1 - - [11/Jul/2022 10:17:01] \"POST /app/_dash-update-component HTTP/1.1\" 200 -\n",
      "127.0.0.1 - - [11/Jul/2022 10:17:01] \"POST /app/_dash-update-component HTTP/1.1\" 200 -\n"
     ]
    },
    {
     "name": "stdout",
     "output_type": "stream",
     "text": [
      "update_bubble_graph_cb: 0.029 second(s)\n",
      "update_bubble_graph_cb: 0.018 second(s)\n"
     ]
    },
    {
     "name": "stderr",
     "output_type": "stream",
     "text": [
      "127.0.0.1 - - [11/Jul/2022 10:17:03] \"POST /app/_dash-update-component HTTP/1.1\" 200 -\n",
      "127.0.0.1 - - [11/Jul/2022 10:17:03] \"POST /app/_dash-update-component HTTP/1.1\" 200 -\n"
     ]
    },
    {
     "name": "stdout",
     "output_type": "stream",
     "text": [
      "update_bubble_graph_cb: 0.024 second(s)\n",
      "update_bubble_graph_cb: 0.032 second(s)\n"
     ]
    },
    {
     "name": "stderr",
     "output_type": "stream",
     "text": [
      "127.0.0.1 - - [11/Jul/2022 10:17:05] \"POST /app/_dash-update-component HTTP/1.1\" 200 -\n",
      "127.0.0.1 - - [11/Jul/2022 10:17:05] \"POST /app/_dash-update-component HTTP/1.1\" 200 -\n"
     ]
    },
    {
     "name": "stdout",
     "output_type": "stream",
     "text": [
      "update_bubble_graph_cb: 0.028 second(s)\n",
      "update_bubble_graph_cb: 0.021 second(s)\n"
     ]
    },
    {
     "name": "stderr",
     "output_type": "stream",
     "text": [
      "127.0.0.1 - - [11/Jul/2022 10:17:07] \"POST /app/_dash-update-component HTTP/1.1\" 200 -\n",
      "127.0.0.1 - - [11/Jul/2022 10:17:07] \"POST /app/_dash-update-component HTTP/1.1\" 200 -\n"
     ]
    },
    {
     "name": "stdout",
     "output_type": "stream",
     "text": [
      "update_bubble_graph_cb: 0.032 second(s)\n",
      "update_bubble_graph_cb: 0.031 second(s)\n"
     ]
    },
    {
     "name": "stderr",
     "output_type": "stream",
     "text": [
      "127.0.0.1 - - [11/Jul/2022 10:17:09] \"POST /app/_dash-update-component HTTP/1.1\" 200 -\n",
      "127.0.0.1 - - [11/Jul/2022 10:17:09] \"POST /app/_dash-update-component HTTP/1.1\" 200 -\n"
     ]
    },
    {
     "name": "stdout",
     "output_type": "stream",
     "text": [
      "update_bubble_graph_cb: 0.027 second(s)\n",
      "update_bubble_graph_cb: 0.024 second(s)\n"
     ]
    },
    {
     "name": "stderr",
     "output_type": "stream",
     "text": [
      "127.0.0.1 - - [11/Jul/2022 10:17:11] \"POST /app/_dash-update-component HTTP/1.1\" 200 -\n",
      "127.0.0.1 - - [11/Jul/2022 10:17:11] \"POST /app/_dash-update-component HTTP/1.1\" 200 -\n"
     ]
    },
    {
     "name": "stdout",
     "output_type": "stream",
     "text": [
      "update_bubble_graph_cb: 0.034 second(s)\n",
      "update_bubble_graph_cb: 0.028 second(s)\n"
     ]
    },
    {
     "name": "stderr",
     "output_type": "stream",
     "text": [
      "127.0.0.1 - - [11/Jul/2022 10:17:13] \"POST /app/_dash-update-component HTTP/1.1\" 200 -\n",
      "127.0.0.1 - - [11/Jul/2022 10:17:13] \"POST /app/_dash-update-component HTTP/1.1\" 200 -\n"
     ]
    },
    {
     "name": "stdout",
     "output_type": "stream",
     "text": [
      "update_bubble_graph_cb: 0.160 second(s)\n",
      "update_bubble_graph_cb: 0.029 second(s)\n"
     ]
    },
    {
     "name": "stderr",
     "output_type": "stream",
     "text": [
      "127.0.0.1 - - [11/Jul/2022 10:17:15] \"POST /app/_dash-update-component HTTP/1.1\" 200 -\n",
      "127.0.0.1 - - [11/Jul/2022 10:17:15] \"POST /app/_dash-update-component HTTP/1.1\" 200 -\n"
     ]
    },
    {
     "name": "stdout",
     "output_type": "stream",
     "text": [
      "update_bubble_graph_cb: 0.028 second(s)\n",
      "update_bubble_graph_cb: 0.028 second(s)\n"
     ]
    },
    {
     "name": "stderr",
     "output_type": "stream",
     "text": [
      "127.0.0.1 - - [11/Jul/2022 10:17:17] \"POST /app/_dash-update-component HTTP/1.1\" 200 -\n",
      "127.0.0.1 - - [11/Jul/2022 10:17:17] \"POST /app/_dash-update-component HTTP/1.1\" 200 -\n"
     ]
    },
    {
     "name": "stdout",
     "output_type": "stream",
     "text": [
      "update_bubble_graph_cb: 0.024 second(s)\n",
      "update_bubble_graph_cb: 0.024 second(s)\n"
     ]
    },
    {
     "name": "stderr",
     "output_type": "stream",
     "text": [
      "127.0.0.1 - - [11/Jul/2022 10:17:19] \"POST /app/_dash-update-component HTTP/1.1\" 200 -\n",
      "127.0.0.1 - - [11/Jul/2022 10:17:19] \"POST /app/_dash-update-component HTTP/1.1\" 200 -\n"
     ]
    },
    {
     "name": "stdout",
     "output_type": "stream",
     "text": [
      "update_bubble_graph_cb: 0.040 second(s)\n",
      "update_bubble_graph_cb: 0.020 second(s)\n"
     ]
    },
    {
     "name": "stderr",
     "output_type": "stream",
     "text": [
      "127.0.0.1 - - [11/Jul/2022 10:17:21] \"POST /app/_dash-update-component HTTP/1.1\" 200 -\n",
      "127.0.0.1 - - [11/Jul/2022 10:17:21] \"POST /app/_dash-update-component HTTP/1.1\" 200 -\n"
     ]
    },
    {
     "name": "stdout",
     "output_type": "stream",
     "text": [
      "update_bubble_graph_cb: 0.020 second(s)\n",
      "update_bubble_graph_cb: 0.023 second(s)\n",
      "Exception on /app/_dash-update-component [POST]\n",
      "Traceback (most recent call last):\n",
      "  File \"C:\\Users\\LENOVO\\anaconda3\\lib\\site-packages\\flask\\app.py\", line 2447, in wsgi_app\n",
      "    response = self.full_dispatch_request()\n",
      "  File \"C:\\Users\\LENOVO\\anaconda3\\lib\\site-packages\\flask\\app.py\", line 1952, in full_dispatch_request\n",
      "    rv = self.handle_user_exception(e)\n",
      "  File \"C:\\Users\\LENOVO\\anaconda3\\lib\\site-packages\\flask\\app.py\", line 1821, in handle_user_exception\n",
      "    reraise(exc_type, exc_value, tb)\n",
      "  File \"C:\\Users\\LENOVO\\anaconda3\\lib\\site-packages\\flask\\_compat.py\", line 39, in reraise\n",
      "    raise value\n",
      "  File \"C:\\Users\\LENOVO\\anaconda3\\lib\\site-packages\\flask\\app.py\", line 1950, in full_dispatch_request\n",
      "    rv = self.dispatch_request()\n",
      "  File \"C:\\Users\\LENOVO\\anaconda3\\lib\\site-packages\\flask\\app.py\", line 1936, in dispatch_request\n",
      "    return self.view_functions[rule.endpoint](**req.view_args)\n",
      "  File \"C:\\Users\\LENOVO\\anaconda3\\lib\\site-packages\\dash\\dash.py\", line 1472, in dispatch\n",
      "    response.set_data(func(*args, outputs_list=outputs_list))\n",
      "  File \"C:\\Users\\LENOVO\\anaconda3\\lib\\site-packages\\dash\\_callback.py\", line 151, in add_context\n",
      "    output_value = func(*func_args, **func_kwargs)  # %% callback invoked %%\n",
      "  File \"C:\\Users\\LENOVO\\AppData\\Local\\Temp/ipykernel_5004/1735512418.py\", line 37, in update_bubble_graph_cb\n",
      "    fig = load_plot()\n",
      "  File \"C:\\Users\\LENOVO\\AppData\\Local\\Temp/ipykernel_5004/1735512418.py\", line 112, in plot\n",
      "    fig2 = pickle.load(f)\n",
      "EOFError: Ran out of input\n"
     ]
    },
    {
     "name": "stderr",
     "output_type": "stream",
     "text": [
      "127.0.0.1 - - [11/Jul/2022 10:17:23] \"POST /app/_dash-update-component HTTP/1.1\" 500 -\n",
      "127.0.0.1 - - [11/Jul/2022 10:17:23] \"POST /app/_dash-update-component HTTP/1.1\" 200 -\n"
     ]
    },
    {
     "name": "stdout",
     "output_type": "stream",
     "text": [
      "update_bubble_graph_cb: 0.024 second(s)\n"
     ]
    },
    {
     "name": "stderr",
     "output_type": "stream",
     "text": [
      "127.0.0.1 - - [11/Jul/2022 10:17:25] \"POST /app/_dash-update-component HTTP/1.1\" 200 -\n",
      "127.0.0.1 - - [11/Jul/2022 10:17:25] \"POST /app/_dash-update-component HTTP/1.1\" 200 -\n"
     ]
    },
    {
     "name": "stdout",
     "output_type": "stream",
     "text": [
      "update_bubble_graph_cb: 0.021 second(s)\n",
      "update_bubble_graph_cb: 0.021 second(s)\n"
     ]
    },
    {
     "name": "stderr",
     "output_type": "stream",
     "text": [
      "127.0.0.1 - - [11/Jul/2022 10:17:27] \"POST /app/_dash-update-component HTTP/1.1\" 200 -\n",
      "127.0.0.1 - - [11/Jul/2022 10:17:27] \"POST /app/_dash-update-component HTTP/1.1\" 200 -\n"
     ]
    },
    {
     "name": "stdout",
     "output_type": "stream",
     "text": [
      "update_bubble_graph_cb: 0.028 second(s)\n",
      "update_bubble_graph_cb: 0.024 second(s)\n"
     ]
    },
    {
     "name": "stderr",
     "output_type": "stream",
     "text": [
      "127.0.0.1 - - [11/Jul/2022 10:17:29] \"POST /app/_dash-update-component HTTP/1.1\" 200 -\n",
      "127.0.0.1 - - [11/Jul/2022 10:17:29] \"POST /app/_dash-update-component HTTP/1.1\" 200 -\n"
     ]
    },
    {
     "name": "stdout",
     "output_type": "stream",
     "text": [
      "update_bubble_graph_cb: 0.024 second(s)\n",
      "update_bubble_graph_cb: 0.018 second(s)\n"
     ]
    },
    {
     "name": "stderr",
     "output_type": "stream",
     "text": [
      "127.0.0.1 - - [11/Jul/2022 10:17:31] \"POST /app/_dash-update-component HTTP/1.1\" 200 -\n",
      "127.0.0.1 - - [11/Jul/2022 10:17:31] \"POST /app/_dash-update-component HTTP/1.1\" 200 -\n"
     ]
    },
    {
     "name": "stdout",
     "output_type": "stream",
     "text": [
      "update_bubble_graph_cb: 0.028 second(s)\n",
      "update_bubble_graph_cb: 0.028 second(s)\n"
     ]
    },
    {
     "name": "stderr",
     "output_type": "stream",
     "text": [
      "127.0.0.1 - - [11/Jul/2022 10:17:33] \"POST /app/_dash-update-component HTTP/1.1\" 200 -\n",
      "127.0.0.1 - - [11/Jul/2022 10:17:33] \"POST /app/_dash-update-component HTTP/1.1\" 200 -\n"
     ]
    },
    {
     "name": "stdout",
     "output_type": "stream",
     "text": [
      "update_bubble_graph_cb: 0.024 second(s)\n",
      "update_bubble_graph_cb: 0.021 second(s)\n"
     ]
    },
    {
     "name": "stderr",
     "output_type": "stream",
     "text": [
      "127.0.0.1 - - [11/Jul/2022 10:17:35] \"POST /app/_dash-update-component HTTP/1.1\" 200 -\n",
      "127.0.0.1 - - [11/Jul/2022 10:17:35] \"POST /app/_dash-update-component HTTP/1.1\" 200 -\n"
     ]
    },
    {
     "name": "stdout",
     "output_type": "stream",
     "text": [
      "update_bubble_graph_cb: 0.029 second(s)\n",
      "update_bubble_graph_cb: 0.024 second(s)\n"
     ]
    },
    {
     "name": "stderr",
     "output_type": "stream",
     "text": [
      "127.0.0.1 - - [11/Jul/2022 10:17:37] \"POST /app/_dash-update-component HTTP/1.1\" 200 -\n",
      "127.0.0.1 - - [11/Jul/2022 10:17:37] \"POST /app/_dash-update-component HTTP/1.1\" 200 -\n"
     ]
    },
    {
     "name": "stdout",
     "output_type": "stream",
     "text": [
      "update_bubble_graph_cb: 0.036 second(s)\n",
      "update_bubble_graph_cb: 0.028 second(s)\n"
     ]
    },
    {
     "name": "stderr",
     "output_type": "stream",
     "text": [
      "127.0.0.1 - - [11/Jul/2022 10:17:39] \"POST /app/_dash-update-component HTTP/1.1\" 200 -\n",
      "127.0.0.1 - - [11/Jul/2022 10:17:39] \"POST /app/_dash-update-component HTTP/1.1\" 200 -\n"
     ]
    },
    {
     "name": "stdout",
     "output_type": "stream",
     "text": [
      "update_bubble_graph_cb: 0.028 second(s)\n",
      "update_bubble_graph_cb: 0.032 second(s)\n"
     ]
    },
    {
     "name": "stderr",
     "output_type": "stream",
     "text": [
      "127.0.0.1 - - [11/Jul/2022 10:17:41] \"POST /app/_dash-update-component HTTP/1.1\" 200 -\n",
      "127.0.0.1 - - [11/Jul/2022 10:17:41] \"POST /app/_dash-update-component HTTP/1.1\" 200 -\n"
     ]
    },
    {
     "name": "stdout",
     "output_type": "stream",
     "text": [
      "update_bubble_graph_cb: 0.024 second(s)\n",
      "update_bubble_graph_cb: 0.020 second(s)\n",
      "Exception on /app/_dash-update-component [POST]\n",
      "Traceback (most recent call last):\n",
      "  File \"C:\\Users\\LENOVO\\anaconda3\\lib\\site-packages\\flask\\app.py\", line 2447, in wsgi_app\n",
      "    response = self.full_dispatch_request()\n",
      "  File \"C:\\Users\\LENOVO\\anaconda3\\lib\\site-packages\\flask\\app.py\", line 1952, in full_dispatch_request\n",
      "    rv = self.handle_user_exception(e)\n",
      "  File \"C:\\Users\\LENOVO\\anaconda3\\lib\\site-packages\\flask\\app.py\", line 1821, in handle_user_exception\n",
      "    reraise(exc_type, exc_value, tb)\n",
      "  File \"C:\\Users\\LENOVO\\anaconda3\\lib\\site-packages\\flask\\_compat.py\", line 39, in reraise\n",
      "    raise value\n",
      "  File \"C:\\Users\\LENOVO\\anaconda3\\lib\\site-packages\\flask\\app.py\", line 1950, in full_dispatch_request\n",
      "    rv = self.dispatch_request()\n",
      "  File \"C:\\Users\\LENOVO\\anaconda3\\lib\\site-packages\\flask\\app.py\", line 1936, in dispatch_request\n",
      "    return self.view_functions[rule.endpoint](**req.view_args)\n",
      "  File \"C:\\Users\\LENOVO\\anaconda3\\lib\\site-packages\\dash\\dash.py\", line 1472, in dispatch\n",
      "    response.set_data(func(*args, outputs_list=outputs_list))\n",
      "  File \"C:\\Users\\LENOVO\\anaconda3\\lib\\site-packages\\dash\\_callback.py\", line 151, in add_context\n",
      "    output_value = func(*func_args, **func_kwargs)  # %% callback invoked %%\n",
      "  File \"C:\\Users\\LENOVO\\AppData\\Local\\Temp/ipykernel_5004/1735512418.py\", line 37, in update_bubble_graph_cb\n",
      "    fig = load_plot()\n",
      "  File \"C:\\Users\\LENOVO\\AppData\\Local\\Temp/ipykernel_5004/1735512418.py\", line 112, in plot\n",
      "    fig2 = pickle.load(f)\n",
      "EOFError: Ran out of input\n"
     ]
    },
    {
     "name": "stderr",
     "output_type": "stream",
     "text": [
      "127.0.0.1 - - [11/Jul/2022 10:17:43] \"POST /app/_dash-update-component HTTP/1.1\" 500 -\n",
      "127.0.0.1 - - [11/Jul/2022 10:17:43] \"POST /app/_dash-update-component HTTP/1.1\" 200 -\n"
     ]
    },
    {
     "name": "stdout",
     "output_type": "stream",
     "text": [
      "update_bubble_graph_cb: 0.024 second(s)\n"
     ]
    },
    {
     "name": "stderr",
     "output_type": "stream",
     "text": [
      "127.0.0.1 - - [11/Jul/2022 10:17:45] \"POST /app/_dash-update-component HTTP/1.1\" 200 -\n",
      "127.0.0.1 - - [11/Jul/2022 10:17:45] \"POST /app/_dash-update-component HTTP/1.1\" 200 -\n"
     ]
    },
    {
     "name": "stdout",
     "output_type": "stream",
     "text": [
      "update_bubble_graph_cb: 0.026 second(s)\n",
      "update_bubble_graph_cb: 0.036 second(s)\n"
     ]
    },
    {
     "name": "stderr",
     "output_type": "stream",
     "text": [
      "127.0.0.1 - - [11/Jul/2022 10:17:47] \"POST /app/_dash-update-component HTTP/1.1\" 200 -\n",
      "127.0.0.1 - - [11/Jul/2022 10:17:47] \"POST /app/_dash-update-component HTTP/1.1\" 200 -\n"
     ]
    },
    {
     "name": "stdout",
     "output_type": "stream",
     "text": [
      "update_bubble_graph_cb: 0.022 second(s)\n",
      "update_bubble_graph_cb: 0.020 second(s)\n",
      "Exception on /app/_dash-update-component [POST]\n",
      "Traceback (most recent call last):\n",
      "  File \"C:\\Users\\LENOVO\\anaconda3\\lib\\site-packages\\flask\\app.py\", line 2447, in wsgi_app\n",
      "    response = self.full_dispatch_request()\n",
      "  File \"C:\\Users\\LENOVO\\anaconda3\\lib\\site-packages\\flask\\app.py\", line 1952, in full_dispatch_request\n",
      "    rv = self.handle_user_exception(e)\n",
      "  File \"C:\\Users\\LENOVO\\anaconda3\\lib\\site-packages\\flask\\app.py\", line 1821, in handle_user_exception\n",
      "    reraise(exc_type, exc_value, tb)\n",
      "  File \"C:\\Users\\LENOVO\\anaconda3\\lib\\site-packages\\flask\\_compat.py\", line 39, in reraise\n",
      "    raise value\n",
      "  File \"C:\\Users\\LENOVO\\anaconda3\\lib\\site-packages\\flask\\app.py\", line 1950, in full_dispatch_request\n",
      "    rv = self.dispatch_request()\n",
      "  File \"C:\\Users\\LENOVO\\anaconda3\\lib\\site-packages\\flask\\app.py\", line 1936, in dispatch_request\n",
      "    return self.view_functions[rule.endpoint](**req.view_args)\n",
      "  File \"C:\\Users\\LENOVO\\anaconda3\\lib\\site-packages\\dash\\dash.py\", line 1472, in dispatch\n",
      "    response.set_data(func(*args, outputs_list=outputs_list))\n",
      "  File \"C:\\Users\\LENOVO\\anaconda3\\lib\\site-packages\\dash\\_callback.py\", line 151, in add_context\n",
      "    output_value = func(*func_args, **func_kwargs)  # %% callback invoked %%\n",
      "  File \"C:\\Users\\LENOVO\\AppData\\Local\\Temp/ipykernel_5004/1735512418.py\", line 37, in update_bubble_graph_cb\n",
      "    fig = load_plot()\n",
      "  File \"C:\\Users\\LENOVO\\AppData\\Local\\Temp/ipykernel_5004/1735512418.py\", line 112, in plot\n",
      "    fig2 = pickle.load(f)\n",
      "EOFError: Ran out of input\n"
     ]
    },
    {
     "name": "stderr",
     "output_type": "stream",
     "text": [
      "127.0.0.1 - - [11/Jul/2022 10:17:49] \"POST /app/_dash-update-component HTTP/1.1\" 500 -\n",
      "127.0.0.1 - - [11/Jul/2022 10:17:49] \"POST /app/_dash-update-component HTTP/1.1\" 200 -\n"
     ]
    },
    {
     "name": "stdout",
     "output_type": "stream",
     "text": [
      "update_bubble_graph_cb: 0.024 second(s)\n"
     ]
    },
    {
     "name": "stderr",
     "output_type": "stream",
     "text": [
      "127.0.0.1 - - [11/Jul/2022 10:17:51] \"POST /app/_dash-update-component HTTP/1.1\" 200 -\n",
      "127.0.0.1 - - [11/Jul/2022 10:17:51] \"POST /app/_dash-update-component HTTP/1.1\" 200 -\n"
     ]
    },
    {
     "name": "stdout",
     "output_type": "stream",
     "text": [
      "update_bubble_graph_cb: 0.024 second(s)\n",
      "update_bubble_graph_cb: 0.029 second(s)\n"
     ]
    },
    {
     "name": "stderr",
     "output_type": "stream",
     "text": [
      "127.0.0.1 - - [11/Jul/2022 10:17:53] \"POST /app/_dash-update-component HTTP/1.1\" 200 -\n"
     ]
    },
    {
     "name": "stdout",
     "output_type": "stream",
     "text": [
      "update_bubble_graph_cb: 0.024 second(s)\n",
      "Exception on /app/_dash-update-component [POST]\n",
      "Traceback (most recent call last):\n",
      "  File \"C:\\Users\\LENOVO\\anaconda3\\lib\\site-packages\\flask\\app.py\", line 2447, in wsgi_app\n",
      "    response = self.full_dispatch_request()\n",
      "  File \"C:\\Users\\LENOVO\\anaconda3\\lib\\site-packages\\flask\\app.py\", line 1952, in full_dispatch_request\n",
      "    rv = self.handle_user_exception(e)\n",
      "  File \"C:\\Users\\LENOVO\\anaconda3\\lib\\site-packages\\flask\\app.py\", line 1821, in handle_user_exception\n",
      "    reraise(exc_type, exc_value, tb)\n",
      "  File \"C:\\Users\\LENOVO\\anaconda3\\lib\\site-packages\\flask\\_compat.py\", line 39, in reraise\n",
      "    raise value\n",
      "  File \"C:\\Users\\LENOVO\\anaconda3\\lib\\site-packages\\flask\\app.py\", line 1950, in full_dispatch_request\n",
      "    rv = self.dispatch_request()\n",
      "  File \"C:\\Users\\LENOVO\\anaconda3\\lib\\site-packages\\flask\\app.py\", line 1936, in dispatch_request\n",
      "    return self.view_functions[rule.endpoint](**req.view_args)\n",
      "  File \"C:\\Users\\LENOVO\\anaconda3\\lib\\site-packages\\dash\\dash.py\", line 1472, in dispatch\n",
      "    response.set_data(func(*args, outputs_list=outputs_list))\n",
      "  File \"C:\\Users\\LENOVO\\anaconda3\\lib\\site-packages\\dash\\_callback.py\", line 151, in add_context\n",
      "    output_value = func(*func_args, **func_kwargs)  # %% callback invoked %%\n",
      "  File \"C:\\Users\\LENOVO\\AppData\\Local\\Temp/ipykernel_5004/1735512418.py\", line 37, in update_bubble_graph_cb\n",
      "    fig = load_plot()\n",
      "  File \"C:\\Users\\LENOVO\\AppData\\Local\\Temp/ipykernel_5004/1735512418.py\", line 112, in plot\n",
      "    fig2 = pickle.load(f)\n",
      "EOFError: Ran out of input\n"
     ]
    },
    {
     "name": "stderr",
     "output_type": "stream",
     "text": [
      "127.0.0.1 - - [11/Jul/2022 10:17:53] \"POST /app/_dash-update-component HTTP/1.1\" 500 -\n",
      "127.0.0.1 - - [11/Jul/2022 10:17:55] \"POST /app/_dash-update-component HTTP/1.1\" 200 -\n",
      "127.0.0.1 - - [11/Jul/2022 10:17:55] \"POST /app/_dash-update-component HTTP/1.1\" 200 -\n"
     ]
    },
    {
     "name": "stdout",
     "output_type": "stream",
     "text": [
      "update_bubble_graph_cb: 0.024 second(s)\n",
      "update_bubble_graph_cb: 0.024 second(s)\n"
     ]
    },
    {
     "name": "stderr",
     "output_type": "stream",
     "text": [
      "127.0.0.1 - - [11/Jul/2022 10:17:57] \"POST /app/_dash-update-component HTTP/1.1\" 200 -\n",
      "127.0.0.1 - - [11/Jul/2022 10:17:57] \"POST /app/_dash-update-component HTTP/1.1\" 200 -\n"
     ]
    },
    {
     "name": "stdout",
     "output_type": "stream",
     "text": [
      "update_bubble_graph_cb: 0.028 second(s)\n",
      "update_bubble_graph_cb: 0.030 second(s)\n"
     ]
    },
    {
     "name": "stderr",
     "output_type": "stream",
     "text": [
      "127.0.0.1 - - [11/Jul/2022 10:17:59] \"POST /app/_dash-update-component HTTP/1.1\" 200 -\n",
      "127.0.0.1 - - [11/Jul/2022 10:17:59] \"POST /app/_dash-update-component HTTP/1.1\" 200 -\n"
     ]
    },
    {
     "name": "stdout",
     "output_type": "stream",
     "text": [
      "update_bubble_graph_cb: 0.024 second(s)\n",
      "update_bubble_graph_cb: 0.024 second(s)\n"
     ]
    },
    {
     "name": "stderr",
     "output_type": "stream",
     "text": [
      "127.0.0.1 - - [11/Jul/2022 10:18:01] \"POST /app/_dash-update-component HTTP/1.1\" 200 -\n",
      "127.0.0.1 - - [11/Jul/2022 10:18:01] \"POST /app/_dash-update-component HTTP/1.1\" 200 -\n"
     ]
    },
    {
     "name": "stdout",
     "output_type": "stream",
     "text": [
      "update_bubble_graph_cb: 0.030 second(s)\n",
      "update_bubble_graph_cb: 0.029 second(s)\n"
     ]
    },
    {
     "name": "stderr",
     "output_type": "stream",
     "text": [
      "127.0.0.1 - - [11/Jul/2022 10:18:03] \"POST /app/_dash-update-component HTTP/1.1\" 200 -\n",
      "127.0.0.1 - - [11/Jul/2022 10:18:03] \"POST /app/_dash-update-component HTTP/1.1\" 200 -\n"
     ]
    },
    {
     "name": "stdout",
     "output_type": "stream",
     "text": [
      "update_bubble_graph_cb: 0.028 second(s)\n",
      "update_bubble_graph_cb: 0.023 second(s)\n",
      "Exception on /app/_dash-update-component [POST]\n",
      "Traceback (most recent call last):\n",
      "  File \"C:\\Users\\LENOVO\\anaconda3\\lib\\site-packages\\flask\\app.py\", line 2447, in wsgi_app\n",
      "    response = self.full_dispatch_request()\n",
      "  File \"C:\\Users\\LENOVO\\anaconda3\\lib\\site-packages\\flask\\app.py\", line 1952, in full_dispatch_request\n",
      "    rv = self.handle_user_exception(e)\n",
      "  File \"C:\\Users\\LENOVO\\anaconda3\\lib\\site-packages\\flask\\app.py\", line 1821, in handle_user_exception\n",
      "    reraise(exc_type, exc_value, tb)\n",
      "  File \"C:\\Users\\LENOVO\\anaconda3\\lib\\site-packages\\flask\\_compat.py\", line 39, in reraise\n",
      "    raise value\n",
      "  File \"C:\\Users\\LENOVO\\anaconda3\\lib\\site-packages\\flask\\app.py\", line 1950, in full_dispatch_request\n",
      "    rv = self.dispatch_request()\n",
      "  File \"C:\\Users\\LENOVO\\anaconda3\\lib\\site-packages\\flask\\app.py\", line 1936, in dispatch_request\n",
      "    return self.view_functions[rule.endpoint](**req.view_args)\n",
      "  File \"C:\\Users\\LENOVO\\anaconda3\\lib\\site-packages\\dash\\dash.py\", line 1472, in dispatch\n",
      "    response.set_data(func(*args, outputs_list=outputs_list))\n",
      "  File \"C:\\Users\\LENOVO\\anaconda3\\lib\\site-packages\\dash\\_callback.py\", line 151, in add_context\n",
      "    output_value = func(*func_args, **func_kwargs)  # %% callback invoked %%\n",
      "  File \"C:\\Users\\LENOVO\\AppData\\Local\\Temp/ipykernel_5004/1735512418.py\", line 37, in update_bubble_graph_cb\n",
      "    fig = load_plot()\n",
      "  File \"C:\\Users\\LENOVO\\AppData\\Local\\Temp/ipykernel_5004/1735512418.py\", line 112, in plot\n",
      "    fig2 = pickle.load(f)\n",
      "EOFError: Ran out of input\n"
     ]
    },
    {
     "name": "stderr",
     "output_type": "stream",
     "text": [
      "127.0.0.1 - - [11/Jul/2022 10:18:05] \"POST /app/_dash-update-component HTTP/1.1\" 500 -\n",
      "127.0.0.1 - - [11/Jul/2022 10:18:05] \"POST /app/_dash-update-component HTTP/1.1\" 200 -\n"
     ]
    },
    {
     "name": "stdout",
     "output_type": "stream",
     "text": [
      "update_bubble_graph_cb: 0.036 second(s)\n"
     ]
    },
    {
     "name": "stderr",
     "output_type": "stream",
     "text": [
      "127.0.0.1 - - [11/Jul/2022 10:18:07] \"POST /app/_dash-update-component HTTP/1.1\" 200 -\n",
      "127.0.0.1 - - [11/Jul/2022 10:18:07] \"POST /app/_dash-update-component HTTP/1.1\" 200 -\n"
     ]
    },
    {
     "name": "stdout",
     "output_type": "stream",
     "text": [
      "update_bubble_graph_cb: 0.032 second(s)\n",
      "update_bubble_graph_cb: 0.024 second(s)\n"
     ]
    },
    {
     "name": "stderr",
     "output_type": "stream",
     "text": [
      "127.0.0.1 - - [11/Jul/2022 10:18:09] \"POST /app/_dash-update-component HTTP/1.1\" 200 -\n",
      "127.0.0.1 - - [11/Jul/2022 10:18:09] \"POST /app/_dash-update-component HTTP/1.1\" 200 -\n"
     ]
    },
    {
     "name": "stdout",
     "output_type": "stream",
     "text": [
      "update_bubble_graph_cb: 0.032 second(s)\n",
      "update_bubble_graph_cb: 0.040 second(s)\n"
     ]
    },
    {
     "name": "stderr",
     "output_type": "stream",
     "text": [
      "127.0.0.1 - - [11/Jul/2022 10:18:10] \"POST /app/_dash-update-component HTTP/1.1\" 200 -\n",
      "127.0.0.1 - - [11/Jul/2022 10:18:10] \"POST /app/_dash-update-component HTTP/1.1\" 200 -\n"
     ]
    },
    {
     "name": "stdout",
     "output_type": "stream",
     "text": [
      "update_bubble_graph_cb: 0.044 second(s)update_bubble_graph_cb: 0.068 second(s)\n",
      "\n",
      "Exception on /app/_dash-update-component [POST]\n",
      "Traceback (most recent call last):\n",
      "  File \"C:\\Users\\LENOVO\\anaconda3\\lib\\site-packages\\flask\\app.py\", line 2447, in wsgi_app\n",
      "    response = self.full_dispatch_request()\n",
      "  File \"C:\\Users\\LENOVO\\anaconda3\\lib\\site-packages\\flask\\app.py\", line 1952, in full_dispatch_request\n",
      "    rv = self.handle_user_exception(e)\n",
      "  File \"C:\\Users\\LENOVO\\anaconda3\\lib\\site-packages\\flask\\app.py\", line 1821, in handle_user_exception\n",
      "    reraise(exc_type, exc_value, tb)\n",
      "  File \"C:\\Users\\LENOVO\\anaconda3\\lib\\site-packages\\flask\\_compat.py\", line 39, in reraise\n",
      "    raise value\n",
      "  File \"C:\\Users\\LENOVO\\anaconda3\\lib\\site-packages\\flask\\app.py\", line 1950, in full_dispatch_request\n",
      "    rv = self.dispatch_request()\n",
      "  File \"C:\\Users\\LENOVO\\anaconda3\\lib\\site-packages\\flask\\app.py\", line 1936, in dispatch_request\n",
      "    return self.view_functions[rule.endpoint](**req.view_args)\n",
      "  File \"C:\\Users\\LENOVO\\anaconda3\\lib\\site-packages\\dash\\dash.py\", line 1472, in dispatch\n",
      "    response.set_data(func(*args, outputs_list=outputs_list))\n",
      "  File \"C:\\Users\\LENOVO\\anaconda3\\lib\\site-packages\\dash\\_callback.py\", line 151, in add_context\n",
      "    output_value = func(*func_args, **func_kwargs)  # %% callback invoked %%\n",
      "  File \"C:\\Users\\LENOVO\\AppData\\Local\\Temp/ipykernel_5004/1735512418.py\", line 37, in update_bubble_graph_cb\n",
      "    fig = load_plot()\n",
      "  File \"C:\\Users\\LENOVO\\AppData\\Local\\Temp/ipykernel_5004/1735512418.py\", line 112, in plot\n",
      "    fig2 = pickle.load(f)\n",
      "EOFError: Ran out of input\n"
     ]
    },
    {
     "name": "stderr",
     "output_type": "stream",
     "text": [
      "127.0.0.1 - - [11/Jul/2022 10:18:11] \"POST /app/_dash-update-component HTTP/1.1\" 500 -\n",
      "127.0.0.1 - - [11/Jul/2022 10:18:12] \"POST /app/_dash-update-component HTTP/1.1\" 200 -\n"
     ]
    },
    {
     "name": "stdout",
     "output_type": "stream",
     "text": [
      "update_bubble_graph_cb: 0.026 second(s)\n"
     ]
    },
    {
     "name": "stderr",
     "output_type": "stream",
     "text": [
      "127.0.0.1 - - [11/Jul/2022 10:18:13] \"POST /app/_dash-update-component HTTP/1.1\" 200 -\n"
     ]
    },
    {
     "name": "stdout",
     "output_type": "stream",
     "text": [
      "update_bubble_graph_cb: 0.024 second(s)\n"
     ]
    },
    {
     "name": "stderr",
     "output_type": "stream",
     "text": [
      "127.0.0.1 - - [11/Jul/2022 10:18:14] \"POST /app/_dash-update-component HTTP/1.1\" 200 -\n"
     ]
    },
    {
     "name": "stdout",
     "output_type": "stream",
     "text": [
      "update_bubble_graph_cb: 0.029 second(s)\n"
     ]
    },
    {
     "name": "stderr",
     "output_type": "stream",
     "text": [
      "127.0.0.1 - - [11/Jul/2022 10:18:15] \"POST /app/_dash-update-component HTTP/1.1\" 200 -\n"
     ]
    },
    {
     "name": "stdout",
     "output_type": "stream",
     "text": [
      "update_bubble_graph_cb: 0.024 second(s)\n"
     ]
    },
    {
     "name": "stderr",
     "output_type": "stream",
     "text": [
      "127.0.0.1 - - [11/Jul/2022 10:18:16] \"POST /app/_dash-update-component HTTP/1.1\" 200 -\n"
     ]
    },
    {
     "name": "stdout",
     "output_type": "stream",
     "text": [
      "update_bubble_graph_cb: 0.061 second(s)\n"
     ]
    },
    {
     "name": "stderr",
     "output_type": "stream",
     "text": [
      "127.0.0.1 - - [11/Jul/2022 10:18:17] \"POST /app/_dash-update-component HTTP/1.1\" 200 -\n"
     ]
    },
    {
     "name": "stdout",
     "output_type": "stream",
     "text": [
      "update_bubble_graph_cb: 0.032 second(s)\n"
     ]
    },
    {
     "name": "stderr",
     "output_type": "stream",
     "text": [
      "127.0.0.1 - - [11/Jul/2022 10:18:20] \"POST /app/_dash-update-component HTTP/1.1\" 200 -\n",
      "127.0.0.1 - - [11/Jul/2022 10:18:20] \"POST /app/_dash-update-component HTTP/1.1\" 200 -\n"
     ]
    },
    {
     "name": "stdout",
     "output_type": "stream",
     "text": [
      "update_bubble_graph_cb: 0.020 second(s)\n",
      "update_bubble_graph_cb: 0.021 second(s)\n"
     ]
    },
    {
     "name": "stderr",
     "output_type": "stream",
     "text": [
      "127.0.0.1 - - [11/Jul/2022 10:18:22] \"POST /app/_dash-update-component HTTP/1.1\" 200 -\n",
      "127.0.0.1 - - [11/Jul/2022 10:18:22] \"POST /app/_dash-update-component HTTP/1.1\" 200 -\n"
     ]
    },
    {
     "name": "stdout",
     "output_type": "stream",
     "text": [
      "update_bubble_graph_cb: 0.028 second(s)\n",
      "update_bubble_graph_cb: 0.028 second(s)\n"
     ]
    },
    {
     "name": "stderr",
     "output_type": "stream",
     "text": [
      "127.0.0.1 - - [11/Jul/2022 10:18:24] \"POST /app/_dash-update-component HTTP/1.1\" 200 -\n",
      "127.0.0.1 - - [11/Jul/2022 10:18:24] \"POST /app/_dash-update-component HTTP/1.1\" 200 -\n"
     ]
    },
    {
     "name": "stdout",
     "output_type": "stream",
     "text": [
      "update_bubble_graph_cb: 0.034 second(s)\n",
      "update_bubble_graph_cb: 0.025 second(s)\n"
     ]
    },
    {
     "name": "stderr",
     "output_type": "stream",
     "text": [
      "127.0.0.1 - - [11/Jul/2022 10:18:26] \"POST /app/_dash-update-component HTTP/1.1\" 200 -\n"
     ]
    },
    {
     "name": "stdout",
     "output_type": "stream",
     "text": [
      "update_bubble_graph_cb: 0.028 second(s)\n",
      "Exception on /app/_dash-update-component [POST]\n",
      "Traceback (most recent call last):\n",
      "  File \"C:\\Users\\LENOVO\\anaconda3\\lib\\site-packages\\flask\\app.py\", line 2447, in wsgi_app\n",
      "    response = self.full_dispatch_request()\n",
      "  File \"C:\\Users\\LENOVO\\anaconda3\\lib\\site-packages\\flask\\app.py\", line 1952, in full_dispatch_request\n",
      "    rv = self.handle_user_exception(e)\n",
      "  File \"C:\\Users\\LENOVO\\anaconda3\\lib\\site-packages\\flask\\app.py\", line 1821, in handle_user_exception\n",
      "    reraise(exc_type, exc_value, tb)\n",
      "  File \"C:\\Users\\LENOVO\\anaconda3\\lib\\site-packages\\flask\\_compat.py\", line 39, in reraise\n",
      "    raise value\n",
      "  File \"C:\\Users\\LENOVO\\anaconda3\\lib\\site-packages\\flask\\app.py\", line 1950, in full_dispatch_request\n",
      "    rv = self.dispatch_request()\n",
      "  File \"C:\\Users\\LENOVO\\anaconda3\\lib\\site-packages\\flask\\app.py\", line 1936, in dispatch_request\n",
      "    return self.view_functions[rule.endpoint](**req.view_args)\n",
      "  File \"C:\\Users\\LENOVO\\anaconda3\\lib\\site-packages\\dash\\dash.py\", line 1472, in dispatch\n",
      "    response.set_data(func(*args, outputs_list=outputs_list))\n",
      "  File \"C:\\Users\\LENOVO\\anaconda3\\lib\\site-packages\\dash\\_callback.py\", line 151, in add_context\n",
      "    output_value = func(*func_args, **func_kwargs)  # %% callback invoked %%\n",
      "  File \"C:\\Users\\LENOVO\\AppData\\Local\\Temp/ipykernel_5004/1735512418.py\", line 37, in update_bubble_graph_cb\n",
      "    fig = load_plot()\n",
      "  File \"C:\\Users\\LENOVO\\AppData\\Local\\Temp/ipykernel_5004/1735512418.py\", line 112, in plot\n",
      "    fig2 = pickle.load(f)\n",
      "EOFError: Ran out of input\n"
     ]
    },
    {
     "name": "stderr",
     "output_type": "stream",
     "text": [
      "127.0.0.1 - - [11/Jul/2022 10:18:26] \"POST /app/_dash-update-component HTTP/1.1\" 500 -\n",
      "127.0.0.1 - - [11/Jul/2022 10:18:28] \"POST /app/_dash-update-component HTTP/1.1\" 200 -\n",
      "127.0.0.1 - - [11/Jul/2022 10:18:28] \"POST /app/_dash-update-component HTTP/1.1\" 200 -\n"
     ]
    },
    {
     "name": "stdout",
     "output_type": "stream",
     "text": [
      "update_bubble_graph_cb: 0.020 second(s)\n",
      "update_bubble_graph_cb: 0.028 second(s)\n",
      "Exception on /app/_dash-update-component [POST]\n",
      "Traceback (most recent call last):\n",
      "  File \"C:\\Users\\LENOVO\\anaconda3\\lib\\site-packages\\flask\\app.py\", line 2447, in wsgi_app\n",
      "    response = self.full_dispatch_request()\n",
      "  File \"C:\\Users\\LENOVO\\anaconda3\\lib\\site-packages\\flask\\app.py\", line 1952, in full_dispatch_request\n",
      "    rv = self.handle_user_exception(e)\n",
      "  File \"C:\\Users\\LENOVO\\anaconda3\\lib\\site-packages\\flask\\app.py\", line 1821, in handle_user_exception\n",
      "    reraise(exc_type, exc_value, tb)\n",
      "  File \"C:\\Users\\LENOVO\\anaconda3\\lib\\site-packages\\flask\\_compat.py\", line 39, in reraise\n",
      "    raise value\n",
      "  File \"C:\\Users\\LENOVO\\anaconda3\\lib\\site-packages\\flask\\app.py\", line 1950, in full_dispatch_request\n",
      "    rv = self.dispatch_request()\n",
      "  File \"C:\\Users\\LENOVO\\anaconda3\\lib\\site-packages\\flask\\app.py\", line 1936, in dispatch_request\n",
      "    return self.view_functions[rule.endpoint](**req.view_args)\n",
      "  File \"C:\\Users\\LENOVO\\anaconda3\\lib\\site-packages\\dash\\dash.py\", line 1472, in dispatch\n",
      "    response.set_data(func(*args, outputs_list=outputs_list))\n",
      "  File \"C:\\Users\\LENOVO\\anaconda3\\lib\\site-packages\\dash\\_callback.py\", line 151, in add_context\n",
      "    output_value = func(*func_args, **func_kwargs)  # %% callback invoked %%\n",
      "  File \"C:\\Users\\LENOVO\\AppData\\Local\\Temp/ipykernel_5004/1735512418.py\", line 37, in update_bubble_graph_cb\n",
      "    fig = load_plot()\n",
      "  File \"C:\\Users\\LENOVO\\AppData\\Local\\Temp/ipykernel_5004/1735512418.py\", line 112, in plot\n",
      "    fig2 = pickle.load(f)\n",
      "EOFError: Ran out of input\n"
     ]
    },
    {
     "name": "stderr",
     "output_type": "stream",
     "text": [
      "127.0.0.1 - - [11/Jul/2022 10:18:30] \"POST /app/_dash-update-component HTTP/1.1\" 500 -\n",
      "127.0.0.1 - - [11/Jul/2022 10:18:30] \"POST /app/_dash-update-component HTTP/1.1\" 200 -\n"
     ]
    },
    {
     "name": "stdout",
     "output_type": "stream",
     "text": [
      "update_bubble_graph_cb: 0.036 second(s)\n"
     ]
    },
    {
     "name": "stderr",
     "output_type": "stream",
     "text": [
      "127.0.0.1 - - [11/Jul/2022 10:18:32] \"POST /app/_dash-update-component HTTP/1.1\" 200 -\n",
      "127.0.0.1 - - [11/Jul/2022 10:18:32] \"POST /app/_dash-update-component HTTP/1.1\" 200 -\n"
     ]
    },
    {
     "name": "stdout",
     "output_type": "stream",
     "text": [
      "update_bubble_graph_cb: 0.032 second(s)\n",
      "update_bubble_graph_cb: 0.025 second(s)\n"
     ]
    },
    {
     "name": "stderr",
     "output_type": "stream",
     "text": [
      "127.0.0.1 - - [11/Jul/2022 10:18:34] \"POST /app/_dash-update-component HTTP/1.1\" 200 -\n",
      "127.0.0.1 - - [11/Jul/2022 10:18:34] \"POST /app/_dash-update-component HTTP/1.1\" 200 -\n"
     ]
    },
    {
     "name": "stdout",
     "output_type": "stream",
     "text": [
      "update_bubble_graph_cb: 0.026 second(s)\n",
      "update_bubble_graph_cb: 0.020 second(s)\n"
     ]
    },
    {
     "name": "stderr",
     "output_type": "stream",
     "text": [
      "127.0.0.1 - - [11/Jul/2022 10:18:36] \"POST /app/_dash-update-component HTTP/1.1\" 200 -\n",
      "127.0.0.1 - - [11/Jul/2022 10:18:36] \"POST /app/_dash-update-component HTTP/1.1\" 200 -\n"
     ]
    },
    {
     "name": "stdout",
     "output_type": "stream",
     "text": [
      "update_bubble_graph_cb: 0.037 second(s)\n",
      "update_bubble_graph_cb: 0.027 second(s)\n"
     ]
    },
    {
     "name": "stderr",
     "output_type": "stream",
     "text": [
      "127.0.0.1 - - [11/Jul/2022 10:18:38] \"POST /app/_dash-update-component HTTP/1.1\" 200 -\n",
      "127.0.0.1 - - [11/Jul/2022 10:18:38] \"POST /app/_dash-update-component HTTP/1.1\" 200 -\n"
     ]
    },
    {
     "name": "stdout",
     "output_type": "stream",
     "text": [
      "update_bubble_graph_cb: 0.033 second(s)\n",
      "update_bubble_graph_cb: 0.025 second(s)\n"
     ]
    },
    {
     "name": "stderr",
     "output_type": "stream",
     "text": [
      "127.0.0.1 - - [11/Jul/2022 10:18:40] \"POST /app/_dash-update-component HTTP/1.1\" 200 -\n",
      "127.0.0.1 - - [11/Jul/2022 10:18:40] \"POST /app/_dash-update-component HTTP/1.1\" 200 -\n"
     ]
    },
    {
     "name": "stdout",
     "output_type": "stream",
     "text": [
      "update_bubble_graph_cb: 0.025 second(s)\n",
      "update_bubble_graph_cb: 0.024 second(s)\n"
     ]
    },
    {
     "name": "stderr",
     "output_type": "stream",
     "text": [
      "127.0.0.1 - - [11/Jul/2022 10:18:42] \"POST /app/_dash-update-component HTTP/1.1\" 200 -\n",
      "127.0.0.1 - - [11/Jul/2022 10:18:42] \"POST /app/_dash-update-component HTTP/1.1\" 200 -\n"
     ]
    },
    {
     "name": "stdout",
     "output_type": "stream",
     "text": [
      "update_bubble_graph_cb: 0.068 second(s)\n",
      "update_bubble_graph_cb: 0.036 second(s)\n"
     ]
    },
    {
     "name": "stderr",
     "output_type": "stream",
     "text": [
      "127.0.0.1 - - [11/Jul/2022 10:18:44] \"POST /app/_dash-update-component HTTP/1.1\" 200 -\n",
      "127.0.0.1 - - [11/Jul/2022 10:18:44] \"POST /app/_dash-update-component HTTP/1.1\" 200 -\n"
     ]
    },
    {
     "name": "stdout",
     "output_type": "stream",
     "text": [
      "update_bubble_graph_cb: 0.024 second(s)\n",
      "update_bubble_graph_cb: 0.021 second(s)\n"
     ]
    },
    {
     "name": "stderr",
     "output_type": "stream",
     "text": [
      "127.0.0.1 - - [11/Jul/2022 10:18:46] \"POST /app/_dash-update-component HTTP/1.1\" 200 -\n",
      "127.0.0.1 - - [11/Jul/2022 10:18:46] \"POST /app/_dash-update-component HTTP/1.1\" 200 -\n"
     ]
    },
    {
     "name": "stdout",
     "output_type": "stream",
     "text": [
      "update_bubble_graph_cb: 0.028 second(s)\n",
      "update_bubble_graph_cb: 0.024 second(s)\n"
     ]
    },
    {
     "name": "stderr",
     "output_type": "stream",
     "text": [
      "127.0.0.1 - - [11/Jul/2022 10:18:48] \"POST /app/_dash-update-component HTTP/1.1\" 200 -\n",
      "127.0.0.1 - - [11/Jul/2022 10:18:48] \"POST /app/_dash-update-component HTTP/1.1\" 200 -\n"
     ]
    },
    {
     "name": "stdout",
     "output_type": "stream",
     "text": [
      "update_bubble_graph_cb: 0.028 second(s)\n",
      "update_bubble_graph_cb: 0.020 second(s)\n"
     ]
    },
    {
     "name": "stderr",
     "output_type": "stream",
     "text": [
      "127.0.0.1 - - [11/Jul/2022 10:18:50] \"POST /app/_dash-update-component HTTP/1.1\" 200 -\n",
      "127.0.0.1 - - [11/Jul/2022 10:18:50] \"POST /app/_dash-update-component HTTP/1.1\" 200 -\n"
     ]
    },
    {
     "name": "stdout",
     "output_type": "stream",
     "text": [
      "update_bubble_graph_cb: 0.030 second(s)\n",
      "update_bubble_graph_cb: 0.036 second(s)\n"
     ]
    },
    {
     "name": "stderr",
     "output_type": "stream",
     "text": [
      "127.0.0.1 - - [11/Jul/2022 10:18:52] \"POST /app/_dash-update-component HTTP/1.1\" 200 -\n",
      "127.0.0.1 - - [11/Jul/2022 10:18:52] \"POST /app/_dash-update-component HTTP/1.1\" 200 -\n"
     ]
    },
    {
     "name": "stdout",
     "output_type": "stream",
     "text": [
      "update_bubble_graph_cb: 0.032 second(s)\n",
      "update_bubble_graph_cb: 0.028 second(s)\n"
     ]
    },
    {
     "name": "stderr",
     "output_type": "stream",
     "text": [
      "127.0.0.1 - - [11/Jul/2022 10:18:54] \"POST /app/_dash-update-component HTTP/1.1\" 200 -\n",
      "127.0.0.1 - - [11/Jul/2022 10:18:54] \"POST /app/_dash-update-component HTTP/1.1\" 200 -\n"
     ]
    },
    {
     "name": "stdout",
     "output_type": "stream",
     "text": [
      "update_bubble_graph_cb: 0.024 second(s)\n",
      "update_bubble_graph_cb: 0.023 second(s)\n"
     ]
    },
    {
     "name": "stderr",
     "output_type": "stream",
     "text": [
      "127.0.0.1 - - [11/Jul/2022 10:18:56] \"POST /app/_dash-update-component HTTP/1.1\" 200 -\n",
      "127.0.0.1 - - [11/Jul/2022 10:18:56] \"POST /app/_dash-update-component HTTP/1.1\" 200 -\n"
     ]
    },
    {
     "name": "stdout",
     "output_type": "stream",
     "text": [
      "update_bubble_graph_cb: 0.028 second(s)\n",
      "update_bubble_graph_cb: 0.031 second(s)\n"
     ]
    },
    {
     "name": "stderr",
     "output_type": "stream",
     "text": [
      "127.0.0.1 - - [11/Jul/2022 10:18:58] \"POST /app/_dash-update-component HTTP/1.1\" 200 -\n",
      "127.0.0.1 - - [11/Jul/2022 10:18:58] \"POST /app/_dash-update-component HTTP/1.1\" 200 -\n"
     ]
    },
    {
     "name": "stdout",
     "output_type": "stream",
     "text": [
      "update_bubble_graph_cb: 0.028 second(s)\n",
      "update_bubble_graph_cb: 0.032 second(s)\n"
     ]
    },
    {
     "name": "stderr",
     "output_type": "stream",
     "text": [
      "127.0.0.1 - - [11/Jul/2022 10:19:00] \"POST /app/_dash-update-component HTTP/1.1\" 200 -\n",
      "127.0.0.1 - - [11/Jul/2022 10:19:00] \"POST /app/_dash-update-component HTTP/1.1\" 200 -\n"
     ]
    },
    {
     "name": "stdout",
     "output_type": "stream",
     "text": [
      "update_bubble_graph_cb: 0.024 second(s)\n",
      "update_bubble_graph_cb: 0.028 second(s)\n"
     ]
    },
    {
     "name": "stderr",
     "output_type": "stream",
     "text": [
      "127.0.0.1 - - [11/Jul/2022 10:19:02] \"POST /app/_dash-update-component HTTP/1.1\" 200 -\n",
      "127.0.0.1 - - [11/Jul/2022 10:19:02] \"POST /app/_dash-update-component HTTP/1.1\" 200 -\n"
     ]
    },
    {
     "name": "stdout",
     "output_type": "stream",
     "text": [
      "update_bubble_graph_cb: 0.025 second(s)\n",
      "update_bubble_graph_cb: 0.028 second(s)\n"
     ]
    },
    {
     "name": "stderr",
     "output_type": "stream",
     "text": [
      "127.0.0.1 - - [11/Jul/2022 10:19:04] \"POST /app/_dash-update-component HTTP/1.1\" 200 -\n",
      "127.0.0.1 - - [11/Jul/2022 10:19:04] \"POST /app/_dash-update-component HTTP/1.1\" 200 -\n"
     ]
    },
    {
     "name": "stdout",
     "output_type": "stream",
     "text": [
      "update_bubble_graph_cb: 0.024 second(s)\n",
      "update_bubble_graph_cb: 0.036 second(s)\n"
     ]
    },
    {
     "name": "stderr",
     "output_type": "stream",
     "text": [
      "127.0.0.1 - - [11/Jul/2022 10:19:06] \"POST /app/_dash-update-component HTTP/1.1\" 200 -\n",
      "127.0.0.1 - - [11/Jul/2022 10:19:06] \"POST /app/_dash-update-component HTTP/1.1\" 200 -\n"
     ]
    },
    {
     "name": "stdout",
     "output_type": "stream",
     "text": [
      "update_bubble_graph_cb: 0.028 second(s)\n",
      "update_bubble_graph_cb: 0.021 second(s)\n"
     ]
    },
    {
     "name": "stderr",
     "output_type": "stream",
     "text": [
      "127.0.0.1 - - [11/Jul/2022 10:19:08] \"POST /app/_dash-update-component HTTP/1.1\" 200 -\n",
      "127.0.0.1 - - [11/Jul/2022 10:19:08] \"POST /app/_dash-update-component HTTP/1.1\" 200 -\n"
     ]
    },
    {
     "name": "stdout",
     "output_type": "stream",
     "text": [
      "update_bubble_graph_cb: 0.039 second(s)\n",
      "update_bubble_graph_cb: 0.024 second(s)\n"
     ]
    },
    {
     "name": "stderr",
     "output_type": "stream",
     "text": [
      "127.0.0.1 - - [11/Jul/2022 10:19:10] \"POST /app/_dash-update-component HTTP/1.1\" 200 -\n",
      "127.0.0.1 - - [11/Jul/2022 10:19:10] \"POST /app/_dash-update-component HTTP/1.1\" 200 -\n"
     ]
    },
    {
     "name": "stdout",
     "output_type": "stream",
     "text": [
      "update_bubble_graph_cb: 0.032 second(s)\n",
      "update_bubble_graph_cb: 0.029 second(s)\n"
     ]
    },
    {
     "name": "stderr",
     "output_type": "stream",
     "text": [
      "127.0.0.1 - - [11/Jul/2022 10:19:12] \"POST /app/_dash-update-component HTTP/1.1\" 200 -\n",
      "127.0.0.1 - - [11/Jul/2022 10:19:12] \"POST /app/_dash-update-component HTTP/1.1\" 200 -\n"
     ]
    },
    {
     "name": "stdout",
     "output_type": "stream",
     "text": [
      "update_bubble_graph_cb: 0.023 second(s)\n",
      "update_bubble_graph_cb: 0.033 second(s)\n"
     ]
    },
    {
     "name": "stderr",
     "output_type": "stream",
     "text": [
      "127.0.0.1 - - [11/Jul/2022 10:19:14] \"POST /app/_dash-update-component HTTP/1.1\" 200 -\n",
      "127.0.0.1 - - [11/Jul/2022 10:19:14] \"POST /app/_dash-update-component HTTP/1.1\" 200 -\n"
     ]
    },
    {
     "name": "stdout",
     "output_type": "stream",
     "text": [
      "update_bubble_graph_cb: 0.028 second(s)\n",
      "update_bubble_graph_cb: 0.020 second(s)\n"
     ]
    },
    {
     "name": "stderr",
     "output_type": "stream",
     "text": [
      "127.0.0.1 - - [11/Jul/2022 10:19:16] \"POST /app/_dash-update-component HTTP/1.1\" 200 -\n",
      "127.0.0.1 - - [11/Jul/2022 10:19:16] \"POST /app/_dash-update-component HTTP/1.1\" 200 -\n"
     ]
    },
    {
     "name": "stdout",
     "output_type": "stream",
     "text": [
      "update_bubble_graph_cb: 0.028 second(s)\n",
      "update_bubble_graph_cb: 0.030 second(s)\n"
     ]
    },
    {
     "name": "stderr",
     "output_type": "stream",
     "text": [
      "127.0.0.1 - - [11/Jul/2022 10:19:18] \"POST /app/_dash-update-component HTTP/1.1\" 200 -\n",
      "127.0.0.1 - - [11/Jul/2022 10:19:18] \"POST /app/_dash-update-component HTTP/1.1\" 200 -\n"
     ]
    },
    {
     "name": "stdout",
     "output_type": "stream",
     "text": [
      "update_bubble_graph_cb: 0.028 second(s)\n",
      "update_bubble_graph_cb: 0.024 second(s)\n"
     ]
    },
    {
     "name": "stderr",
     "output_type": "stream",
     "text": [
      "127.0.0.1 - - [11/Jul/2022 10:19:20] \"POST /app/_dash-update-component HTTP/1.1\" 200 -\n",
      "127.0.0.1 - - [11/Jul/2022 10:19:20] \"POST /app/_dash-update-component HTTP/1.1\" 200 -\n"
     ]
    },
    {
     "name": "stdout",
     "output_type": "stream",
     "text": [
      "update_bubble_graph_cb: 0.142 second(s)\n",
      "update_bubble_graph_cb: 0.024 second(s)\n"
     ]
    },
    {
     "name": "stderr",
     "output_type": "stream",
     "text": [
      "127.0.0.1 - - [11/Jul/2022 10:19:22] \"POST /app/_dash-update-component HTTP/1.1\" 200 -\n",
      "127.0.0.1 - - [11/Jul/2022 10:19:22] \"POST /app/_dash-update-component HTTP/1.1\" 200 -\n"
     ]
    },
    {
     "name": "stdout",
     "output_type": "stream",
     "text": [
      "update_bubble_graph_cb: 0.024 second(s)\n",
      "update_bubble_graph_cb: 0.032 second(s)\n"
     ]
    },
    {
     "name": "stderr",
     "output_type": "stream",
     "text": [
      "127.0.0.1 - - [11/Jul/2022 10:19:24] \"POST /app/_dash-update-component HTTP/1.1\" 200 -\n",
      "127.0.0.1 - - [11/Jul/2022 10:19:24] \"POST /app/_dash-update-component HTTP/1.1\" 200 -\n"
     ]
    },
    {
     "name": "stdout",
     "output_type": "stream",
     "text": [
      "update_bubble_graph_cb: 0.027 second(s)\n",
      "update_bubble_graph_cb: 0.024 second(s)\n"
     ]
    },
    {
     "name": "stderr",
     "output_type": "stream",
     "text": [
      "127.0.0.1 - - [11/Jul/2022 10:19:26] \"POST /app/_dash-update-component HTTP/1.1\" 200 -\n",
      "127.0.0.1 - - [11/Jul/2022 10:19:26] \"POST /app/_dash-update-component HTTP/1.1\" 200 -\n"
     ]
    },
    {
     "name": "stdout",
     "output_type": "stream",
     "text": [
      "update_bubble_graph_cb: 0.024 second(s)\n",
      "update_bubble_graph_cb: 0.026 second(s)\n"
     ]
    },
    {
     "name": "stderr",
     "output_type": "stream",
     "text": [
      "127.0.0.1 - - [11/Jul/2022 10:19:28] \"POST /app/_dash-update-component HTTP/1.1\" 200 -\n",
      "127.0.0.1 - - [11/Jul/2022 10:19:28] \"POST /app/_dash-update-component HTTP/1.1\" 200 -\n"
     ]
    },
    {
     "name": "stdout",
     "output_type": "stream",
     "text": [
      "update_bubble_graph_cb: 0.028 second(s)\n",
      "update_bubble_graph_cb: 0.023 second(s)\n"
     ]
    },
    {
     "name": "stderr",
     "output_type": "stream",
     "text": [
      "127.0.0.1 - - [11/Jul/2022 10:19:30] \"POST /app/_dash-update-component HTTP/1.1\" 200 -\n",
      "127.0.0.1 - - [11/Jul/2022 10:19:30] \"POST /app/_dash-update-component HTTP/1.1\" 200 -\n"
     ]
    },
    {
     "name": "stdout",
     "output_type": "stream",
     "text": [
      "update_bubble_graph_cb: 0.024 second(s)\n",
      "update_bubble_graph_cb: 0.024 second(s)\n"
     ]
    },
    {
     "name": "stderr",
     "output_type": "stream",
     "text": [
      "127.0.0.1 - - [11/Jul/2022 10:19:32] \"POST /app/_dash-update-component HTTP/1.1\" 200 -\n",
      "127.0.0.1 - - [11/Jul/2022 10:19:32] \"POST /app/_dash-update-component HTTP/1.1\" 200 -\n"
     ]
    },
    {
     "name": "stdout",
     "output_type": "stream",
     "text": [
      "update_bubble_graph_cb: 0.028 second(s)\n",
      "update_bubble_graph_cb: 0.021 second(s)\n"
     ]
    },
    {
     "name": "stderr",
     "output_type": "stream",
     "text": [
      "127.0.0.1 - - [11/Jul/2022 10:19:34] \"POST /app/_dash-update-component HTTP/1.1\" 200 -\n",
      "127.0.0.1 - - [11/Jul/2022 10:19:34] \"POST /app/_dash-update-component HTTP/1.1\" 200 -\n"
     ]
    },
    {
     "name": "stdout",
     "output_type": "stream",
     "text": [
      "update_bubble_graph_cb: 0.028 second(s)\n",
      "update_bubble_graph_cb: 0.036 second(s)\n"
     ]
    },
    {
     "name": "stderr",
     "output_type": "stream",
     "text": [
      "127.0.0.1 - - [11/Jul/2022 10:19:36] \"POST /app/_dash-update-component HTTP/1.1\" 200 -\n",
      "127.0.0.1 - - [11/Jul/2022 10:19:36] \"POST /app/_dash-update-component HTTP/1.1\" 200 -\n"
     ]
    },
    {
     "name": "stdout",
     "output_type": "stream",
     "text": [
      "update_bubble_graph_cb: 0.029 second(s)\n",
      "update_bubble_graph_cb: 0.032 second(s)\n"
     ]
    },
    {
     "name": "stderr",
     "output_type": "stream",
     "text": [
      "127.0.0.1 - - [11/Jul/2022 10:19:38] \"POST /app/_dash-update-component HTTP/1.1\" 200 -\n",
      "127.0.0.1 - - [11/Jul/2022 10:19:38] \"POST /app/_dash-update-component HTTP/1.1\" 200 -\n"
     ]
    },
    {
     "name": "stdout",
     "output_type": "stream",
     "text": [
      "update_bubble_graph_cb: 0.038 second(s)\n",
      "update_bubble_graph_cb: 0.028 second(s)\n",
      "Exception on /app/_dash-update-component [POST]\n",
      "Traceback (most recent call last):\n",
      "  File \"C:\\Users\\LENOVO\\anaconda3\\lib\\site-packages\\flask\\app.py\", line 2447, in wsgi_app\n",
      "    response = self.full_dispatch_request()\n",
      "  File \"C:\\Users\\LENOVO\\anaconda3\\lib\\site-packages\\flask\\app.py\", line 1952, in full_dispatch_request\n",
      "    rv = self.handle_user_exception(e)\n",
      "  File \"C:\\Users\\LENOVO\\anaconda3\\lib\\site-packages\\flask\\app.py\", line 1821, in handle_user_exception\n",
      "    reraise(exc_type, exc_value, tb)\n",
      "  File \"C:\\Users\\LENOVO\\anaconda3\\lib\\site-packages\\flask\\_compat.py\", line 39, in reraise\n",
      "    raise value\n",
      "  File \"C:\\Users\\LENOVO\\anaconda3\\lib\\site-packages\\flask\\app.py\", line 1950, in full_dispatch_request\n",
      "    rv = self.dispatch_request()\n",
      "  File \"C:\\Users\\LENOVO\\anaconda3\\lib\\site-packages\\flask\\app.py\", line 1936, in dispatch_request\n",
      "    return self.view_functions[rule.endpoint](**req.view_args)\n",
      "  File \"C:\\Users\\LENOVO\\anaconda3\\lib\\site-packages\\dash\\dash.py\", line 1472, in dispatch\n",
      "    response.set_data(func(*args, outputs_list=outputs_list))\n",
      "  File \"C:\\Users\\LENOVO\\anaconda3\\lib\\site-packages\\dash\\_callback.py\", line 151, in add_context\n",
      "    output_value = func(*func_args, **func_kwargs)  # %% callback invoked %%\n",
      "  File \"C:\\Users\\LENOVO\\AppData\\Local\\Temp/ipykernel_5004/1735512418.py\", line 37, in update_bubble_graph_cb\n",
      "    fig = load_plot()\n",
      "  File \"C:\\Users\\LENOVO\\AppData\\Local\\Temp/ipykernel_5004/1735512418.py\", line 112, in plot\n",
      "    fig2 = pickle.load(f)\n",
      "EOFError: Ran out of input\n"
     ]
    },
    {
     "name": "stderr",
     "output_type": "stream",
     "text": [
      "127.0.0.1 - - [11/Jul/2022 10:19:40] \"POST /app/_dash-update-component HTTP/1.1\" 500 -\n",
      "127.0.0.1 - - [11/Jul/2022 10:19:40] \"POST /app/_dash-update-component HTTP/1.1\" 200 -\n"
     ]
    },
    {
     "name": "stdout",
     "output_type": "stream",
     "text": [
      "update_bubble_graph_cb: 0.022 second(s)\n"
     ]
    },
    {
     "name": "stderr",
     "output_type": "stream",
     "text": [
      "127.0.0.1 - - [11/Jul/2022 10:19:42] \"POST /app/_dash-update-component HTTP/1.1\" 200 -\n",
      "127.0.0.1 - - [11/Jul/2022 10:19:42] \"POST /app/_dash-update-component HTTP/1.1\" 200 -\n"
     ]
    },
    {
     "name": "stdout",
     "output_type": "stream",
     "text": [
      "update_bubble_graph_cb: 0.032 second(s)\n",
      "update_bubble_graph_cb: 0.024 second(s)\n"
     ]
    },
    {
     "name": "stderr",
     "output_type": "stream",
     "text": [
      "127.0.0.1 - - [11/Jul/2022 10:19:44] \"POST /app/_dash-update-component HTTP/1.1\" 200 -\n",
      "127.0.0.1 - - [11/Jul/2022 10:19:44] \"POST /app/_dash-update-component HTTP/1.1\" 200 -\n"
     ]
    },
    {
     "name": "stdout",
     "output_type": "stream",
     "text": [
      "update_bubble_graph_cb: 0.028 second(s)\n",
      "update_bubble_graph_cb: 0.027 second(s)\n"
     ]
    },
    {
     "name": "stderr",
     "output_type": "stream",
     "text": [
      "127.0.0.1 - - [11/Jul/2022 10:19:46] \"POST /app/_dash-update-component HTTP/1.1\" 200 -\n",
      "127.0.0.1 - - [11/Jul/2022 10:19:46] \"POST /app/_dash-update-component HTTP/1.1\" 200 -\n"
     ]
    },
    {
     "name": "stdout",
     "output_type": "stream",
     "text": [
      "update_bubble_graph_cb: 0.024 second(s)\n",
      "update_bubble_graph_cb: 0.020 second(s)\n"
     ]
    },
    {
     "name": "stderr",
     "output_type": "stream",
     "text": [
      "127.0.0.1 - - [11/Jul/2022 10:19:48] \"POST /app/_dash-update-component HTTP/1.1\" 200 -\n",
      "127.0.0.1 - - [11/Jul/2022 10:19:48] \"POST /app/_dash-update-component HTTP/1.1\" 200 -\n"
     ]
    },
    {
     "name": "stdout",
     "output_type": "stream",
     "text": [
      "update_bubble_graph_cb: 0.033 second(s)\n",
      "update_bubble_graph_cb: 0.021 second(s)\n"
     ]
    },
    {
     "name": "stderr",
     "output_type": "stream",
     "text": [
      "127.0.0.1 - - [11/Jul/2022 10:19:50] \"POST /app/_dash-update-component HTTP/1.1\" 200 -\n",
      "127.0.0.1 - - [11/Jul/2022 10:19:50] \"POST /app/_dash-update-component HTTP/1.1\" 200 -\n"
     ]
    },
    {
     "name": "stdout",
     "output_type": "stream",
     "text": [
      "update_bubble_graph_cb: 0.029 second(s)\n",
      "update_bubble_graph_cb: 0.029 second(s)\n"
     ]
    },
    {
     "name": "stderr",
     "output_type": "stream",
     "text": [
      "127.0.0.1 - - [11/Jul/2022 10:19:52] \"POST /app/_dash-update-component HTTP/1.1\" 200 -\n",
      "127.0.0.1 - - [11/Jul/2022 10:19:52] \"POST /app/_dash-update-component HTTP/1.1\" 200 -\n"
     ]
    },
    {
     "name": "stdout",
     "output_type": "stream",
     "text": [
      "update_bubble_graph_cb: 0.024 second(s)\n",
      "update_bubble_graph_cb: 0.024 second(s)\n"
     ]
    },
    {
     "name": "stderr",
     "output_type": "stream",
     "text": [
      "127.0.0.1 - - [11/Jul/2022 10:19:54] \"POST /app/_dash-update-component HTTP/1.1\" 200 -\n",
      "127.0.0.1 - - [11/Jul/2022 10:19:54] \"POST /app/_dash-update-component HTTP/1.1\" 200 -\n"
     ]
    },
    {
     "name": "stdout",
     "output_type": "stream",
     "text": [
      "update_bubble_graph_cb: 0.036 second(s)\n",
      "update_bubble_graph_cb: 0.027 second(s)\n"
     ]
    },
    {
     "name": "stderr",
     "output_type": "stream",
     "text": [
      "127.0.0.1 - - [11/Jul/2022 10:19:56] \"POST /app/_dash-update-component HTTP/1.1\" 200 -\n",
      "127.0.0.1 - - [11/Jul/2022 10:19:56] \"POST /app/_dash-update-component HTTP/1.1\" 200 -\n"
     ]
    },
    {
     "name": "stdout",
     "output_type": "stream",
     "text": [
      "update_bubble_graph_cb: 0.030 second(s)\n",
      "update_bubble_graph_cb: 0.031 second(s)\n"
     ]
    },
    {
     "name": "stderr",
     "output_type": "stream",
     "text": [
      "127.0.0.1 - - [11/Jul/2022 10:19:58] \"POST /app/_dash-update-component HTTP/1.1\" 200 -\n",
      "127.0.0.1 - - [11/Jul/2022 10:19:58] \"POST /app/_dash-update-component HTTP/1.1\" 200 -\n"
     ]
    },
    {
     "name": "stdout",
     "output_type": "stream",
     "text": [
      "update_bubble_graph_cb: 0.028 second(s)\n",
      "update_bubble_graph_cb: 0.024 second(s)\n"
     ]
    },
    {
     "name": "stderr",
     "output_type": "stream",
     "text": [
      "127.0.0.1 - - [11/Jul/2022 10:19:58] \"POST /app/_dash-update-component HTTP/1.1\" 200 -\n"
     ]
    },
    {
     "name": "stdout",
     "output_type": "stream",
     "text": [
      "update_bubble_graph_cb: 0.025 second(s)\n"
     ]
    },
    {
     "name": "stderr",
     "output_type": "stream",
     "text": [
      "127.0.0.1 - - [11/Jul/2022 10:19:59] \"POST /app/_dash-update-component HTTP/1.1\" 200 -\n"
     ]
    },
    {
     "name": "stdout",
     "output_type": "stream",
     "text": [
      "update_bubble_graph_cb: 0.032 second(s)\n"
     ]
    },
    {
     "name": "stderr",
     "output_type": "stream",
     "text": [
      "127.0.0.1 - - [11/Jul/2022 10:20:00] \"POST /app/_dash-update-component HTTP/1.1\" 200 -\n"
     ]
    },
    {
     "name": "stdout",
     "output_type": "stream",
     "text": [
      "update_bubble_graph_cb: 0.064 second(s)\n",
      "Exception on /app/_dash-update-component [POST]\n",
      "Traceback (most recent call last):\n",
      "  File \"C:\\Users\\LENOVO\\anaconda3\\lib\\site-packages\\flask\\app.py\", line 2447, in wsgi_app\n",
      "    response = self.full_dispatch_request()\n",
      "  File \"C:\\Users\\LENOVO\\anaconda3\\lib\\site-packages\\flask\\app.py\", line 1952, in full_dispatch_request\n",
      "    rv = self.handle_user_exception(e)\n",
      "  File \"C:\\Users\\LENOVO\\anaconda3\\lib\\site-packages\\flask\\app.py\", line 1821, in handle_user_exception\n",
      "    reraise(exc_type, exc_value, tb)\n",
      "  File \"C:\\Users\\LENOVO\\anaconda3\\lib\\site-packages\\flask\\_compat.py\", line 39, in reraise\n",
      "    raise value\n",
      "  File \"C:\\Users\\LENOVO\\anaconda3\\lib\\site-packages\\flask\\app.py\", line 1950, in full_dispatch_request\n",
      "    rv = self.dispatch_request()\n",
      "  File \"C:\\Users\\LENOVO\\anaconda3\\lib\\site-packages\\flask\\app.py\", line 1936, in dispatch_request\n",
      "    return self.view_functions[rule.endpoint](**req.view_args)\n",
      "  File \"C:\\Users\\LENOVO\\anaconda3\\lib\\site-packages\\dash\\dash.py\", line 1472, in dispatch\n",
      "    response.set_data(func(*args, outputs_list=outputs_list))\n",
      "  File \"C:\\Users\\LENOVO\\anaconda3\\lib\\site-packages\\dash\\_callback.py\", line 151, in add_context\n",
      "    output_value = func(*func_args, **func_kwargs)  # %% callback invoked %%\n",
      "  File \"C:\\Users\\LENOVO\\AppData\\Local\\Temp/ipykernel_5004/1735512418.py\", line 37, in update_bubble_graph_cb\n",
      "    fig = load_plot()\n",
      "  File \"C:\\Users\\LENOVO\\AppData\\Local\\Temp/ipykernel_5004/1735512418.py\", line 112, in plot\n",
      "    fig2 = pickle.load(f)\n",
      "EOFError: Ran out of input\n"
     ]
    },
    {
     "name": "stderr",
     "output_type": "stream",
     "text": [
      "127.0.0.1 - - [11/Jul/2022 10:20:01] \"POST /app/_dash-update-component HTTP/1.1\" 500 -\n",
      "127.0.0.1 - - [11/Jul/2022 10:20:03] \"POST /app/_dash-update-component HTTP/1.1\" 200 -\n",
      "127.0.0.1 - - [11/Jul/2022 10:20:03] \"POST /app/_dash-update-component HTTP/1.1\" 200 -\n"
     ]
    },
    {
     "name": "stdout",
     "output_type": "stream",
     "text": [
      "update_bubble_graph_cb: 0.045 second(s)update_bubble_graph_cb: 0.055 second(s)\n",
      "\n"
     ]
    },
    {
     "name": "stderr",
     "output_type": "stream",
     "text": [
      "127.0.0.1 - - [11/Jul/2022 10:20:04] \"POST /app/_dash-update-component HTTP/1.1\" 200 -\n"
     ]
    },
    {
     "name": "stdout",
     "output_type": "stream",
     "text": [
      "update_bubble_graph_cb: 0.028 second(s)\n"
     ]
    },
    {
     "name": "stderr",
     "output_type": "stream",
     "text": [
      "127.0.0.1 - - [11/Jul/2022 10:20:05] \"POST /app/_dash-update-component HTTP/1.1\" 200 -\n"
     ]
    },
    {
     "name": "stdout",
     "output_type": "stream",
     "text": [
      "update_bubble_graph_cb: 0.032 second(s)\n"
     ]
    },
    {
     "name": "stderr",
     "output_type": "stream",
     "text": [
      "127.0.0.1 - - [11/Jul/2022 10:20:06] \"POST /app/_dash-update-component HTTP/1.1\" 200 -\n"
     ]
    },
    {
     "name": "stdout",
     "output_type": "stream",
     "text": [
      "update_bubble_graph_cb: 0.022 second(s)\n"
     ]
    },
    {
     "name": "stderr",
     "output_type": "stream",
     "text": [
      "127.0.0.1 - - [11/Jul/2022 10:20:07] \"POST /app/_dash-update-component HTTP/1.1\" 200 -\n"
     ]
    },
    {
     "name": "stdout",
     "output_type": "stream",
     "text": [
      "update_bubble_graph_cb: 0.025 second(s)\n"
     ]
    },
    {
     "name": "stderr",
     "output_type": "stream",
     "text": [
      "127.0.0.1 - - [11/Jul/2022 10:20:08] \"POST /app/_dash-update-component HTTP/1.1\" 200 -\n"
     ]
    },
    {
     "name": "stdout",
     "output_type": "stream",
     "text": [
      "update_bubble_graph_cb: 0.024 second(s)\n"
     ]
    },
    {
     "name": "stderr",
     "output_type": "stream",
     "text": [
      "127.0.0.1 - - [11/Jul/2022 10:20:09] \"POST /app/_dash-update-component HTTP/1.1\" 200 -\n"
     ]
    },
    {
     "name": "stdout",
     "output_type": "stream",
     "text": [
      "update_bubble_graph_cb: 0.028 second(s)\n"
     ]
    },
    {
     "name": "stderr",
     "output_type": "stream",
     "text": [
      "127.0.0.1 - - [11/Jul/2022 10:20:10] \"POST /app/_dash-update-component HTTP/1.1\" 200 -\n"
     ]
    },
    {
     "name": "stdout",
     "output_type": "stream",
     "text": [
      "update_bubble_graph_cb: 0.031 second(s)\n"
     ]
    },
    {
     "name": "stderr",
     "output_type": "stream",
     "text": [
      "127.0.0.1 - - [11/Jul/2022 10:20:11] \"POST /app/_dash-update-component HTTP/1.1\" 200 -\n"
     ]
    },
    {
     "name": "stdout",
     "output_type": "stream",
     "text": [
      "update_bubble_graph_cb: 0.027 second(s)\n",
      "Exception on /app/_dash-update-component [POST]\n",
      "Traceback (most recent call last):\n",
      "  File \"C:\\Users\\LENOVO\\anaconda3\\lib\\site-packages\\flask\\app.py\", line 2447, in wsgi_app\n",
      "    response = self.full_dispatch_request()\n",
      "  File \"C:\\Users\\LENOVO\\anaconda3\\lib\\site-packages\\flask\\app.py\", line 1952, in full_dispatch_request\n",
      "    rv = self.handle_user_exception(e)\n",
      "  File \"C:\\Users\\LENOVO\\anaconda3\\lib\\site-packages\\flask\\app.py\", line 1821, in handle_user_exception\n",
      "    reraise(exc_type, exc_value, tb)\n",
      "  File \"C:\\Users\\LENOVO\\anaconda3\\lib\\site-packages\\flask\\_compat.py\", line 39, in reraise\n",
      "    raise value\n",
      "  File \"C:\\Users\\LENOVO\\anaconda3\\lib\\site-packages\\flask\\app.py\", line 1950, in full_dispatch_request\n",
      "    rv = self.dispatch_request()\n",
      "  File \"C:\\Users\\LENOVO\\anaconda3\\lib\\site-packages\\flask\\app.py\", line 1936, in dispatch_request\n",
      "    return self.view_functions[rule.endpoint](**req.view_args)\n",
      "  File \"C:\\Users\\LENOVO\\anaconda3\\lib\\site-packages\\dash\\dash.py\", line 1472, in dispatch\n",
      "    response.set_data(func(*args, outputs_list=outputs_list))\n",
      "  File \"C:\\Users\\LENOVO\\anaconda3\\lib\\site-packages\\dash\\_callback.py\", line 151, in add_context\n",
      "    output_value = func(*func_args, **func_kwargs)  # %% callback invoked %%\n",
      "  File \"C:\\Users\\LENOVO\\AppData\\Local\\Temp/ipykernel_5004/1735512418.py\", line 37, in update_bubble_graph_cb\n",
      "    fig = load_plot()\n",
      "  File \"C:\\Users\\LENOVO\\AppData\\Local\\Temp/ipykernel_5004/1735512418.py\", line 112, in plot\n",
      "    fig2 = pickle.load(f)\n",
      "EOFError: Ran out of input\n"
     ]
    },
    {
     "name": "stderr",
     "output_type": "stream",
     "text": [
      "127.0.0.1 - - [11/Jul/2022 10:20:12] \"POST /app/_dash-update-component HTTP/1.1\" 500 -\n",
      "127.0.0.1 - - [11/Jul/2022 10:20:13] \"POST /app/_dash-update-component HTTP/1.1\" 200 -\n"
     ]
    },
    {
     "name": "stdout",
     "output_type": "stream",
     "text": [
      "update_bubble_graph_cb: 0.028 second(s)\n",
      "Exception on /app/_dash-update-component [POST]\n",
      "Traceback (most recent call last):\n",
      "  File \"C:\\Users\\LENOVO\\anaconda3\\lib\\site-packages\\flask\\app.py\", line 2447, in wsgi_app\n",
      "    response = self.full_dispatch_request()\n",
      "  File \"C:\\Users\\LENOVO\\anaconda3\\lib\\site-packages\\flask\\app.py\", line 1952, in full_dispatch_request\n",
      "    rv = self.handle_user_exception(e)\n",
      "  File \"C:\\Users\\LENOVO\\anaconda3\\lib\\site-packages\\flask\\app.py\", line 1821, in handle_user_exception\n",
      "    reraise(exc_type, exc_value, tb)\n",
      "  File \"C:\\Users\\LENOVO\\anaconda3\\lib\\site-packages\\flask\\_compat.py\", line 39, in reraise\n",
      "    raise value\n",
      "  File \"C:\\Users\\LENOVO\\anaconda3\\lib\\site-packages\\flask\\app.py\", line 1950, in full_dispatch_request\n",
      "    rv = self.dispatch_request()\n",
      "  File \"C:\\Users\\LENOVO\\anaconda3\\lib\\site-packages\\flask\\app.py\", line 1936, in dispatch_request\n",
      "    return self.view_functions[rule.endpoint](**req.view_args)\n",
      "  File \"C:\\Users\\LENOVO\\anaconda3\\lib\\site-packages\\dash\\dash.py\", line 1472, in dispatch\n",
      "    response.set_data(func(*args, outputs_list=outputs_list))\n",
      "  File \"C:\\Users\\LENOVO\\anaconda3\\lib\\site-packages\\dash\\_callback.py\", line 151, in add_context\n",
      "    output_value = func(*func_args, **func_kwargs)  # %% callback invoked %%\n",
      "  File \"C:\\Users\\LENOVO\\AppData\\Local\\Temp/ipykernel_5004/1735512418.py\", line 37, in update_bubble_graph_cb\n",
      "    fig = load_plot()\n",
      "  File \"C:\\Users\\LENOVO\\AppData\\Local\\Temp/ipykernel_5004/1735512418.py\", line 112, in plot\n",
      "    fig2 = pickle.load(f)\n",
      "EOFError: Ran out of input\n"
     ]
    },
    {
     "name": "stderr",
     "output_type": "stream",
     "text": [
      "127.0.0.1 - - [11/Jul/2022 10:20:14] \"POST /app/_dash-update-component HTTP/1.1\" 500 -\n",
      "127.0.0.1 - - [11/Jul/2022 10:20:15] \"POST /app/_dash-update-component HTTP/1.1\" 200 -\n"
     ]
    },
    {
     "name": "stdout",
     "output_type": "stream",
     "text": [
      "update_bubble_graph_cb: 0.024 second(s)\n"
     ]
    },
    {
     "name": "stderr",
     "output_type": "stream",
     "text": [
      "127.0.0.1 - - [11/Jul/2022 10:20:16] \"POST /app/_dash-update-component HTTP/1.1\" 200 -\n"
     ]
    },
    {
     "name": "stdout",
     "output_type": "stream",
     "text": [
      "update_bubble_graph_cb: 0.031 second(s)\n"
     ]
    },
    {
     "name": "stderr",
     "output_type": "stream",
     "text": [
      "127.0.0.1 - - [11/Jul/2022 10:20:17] \"POST /app/_dash-update-component HTTP/1.1\" 200 -\n"
     ]
    },
    {
     "name": "stdout",
     "output_type": "stream",
     "text": [
      "update_bubble_graph_cb: 0.024 second(s)\n"
     ]
    },
    {
     "name": "stderr",
     "output_type": "stream",
     "text": [
      "127.0.0.1 - - [11/Jul/2022 10:20:18] \"POST /app/_dash-update-component HTTP/1.1\" 200 -\n"
     ]
    },
    {
     "name": "stdout",
     "output_type": "stream",
     "text": [
      "update_bubble_graph_cb: 0.025 second(s)\n"
     ]
    },
    {
     "name": "stderr",
     "output_type": "stream",
     "text": [
      "127.0.0.1 - - [11/Jul/2022 10:20:19] \"POST /app/_dash-update-component HTTP/1.1\" 200 -\n"
     ]
    },
    {
     "name": "stdout",
     "output_type": "stream",
     "text": [
      "update_bubble_graph_cb: 0.020 second(s)\n"
     ]
    },
    {
     "name": "stderr",
     "output_type": "stream",
     "text": [
      "127.0.0.1 - - [11/Jul/2022 10:20:20] \"POST /app/_dash-update-component HTTP/1.1\" 200 -\n"
     ]
    },
    {
     "name": "stdout",
     "output_type": "stream",
     "text": [
      "update_bubble_graph_cb: 0.033 second(s)\n"
     ]
    },
    {
     "name": "stderr",
     "output_type": "stream",
     "text": [
      "127.0.0.1 - - [11/Jul/2022 10:20:21] \"POST /app/_dash-update-component HTTP/1.1\" 200 -\n"
     ]
    },
    {
     "name": "stdout",
     "output_type": "stream",
     "text": [
      "update_bubble_graph_cb: 0.032 second(s)\n"
     ]
    },
    {
     "name": "stderr",
     "output_type": "stream",
     "text": [
      "127.0.0.1 - - [11/Jul/2022 10:20:22] \"POST /app/_dash-update-component HTTP/1.1\" 200 -\n"
     ]
    },
    {
     "name": "stdout",
     "output_type": "stream",
     "text": [
      "update_bubble_graph_cb: 0.028 second(s)\n",
      "Exception on /app/_dash-update-component [POST]\n",
      "Traceback (most recent call last):\n",
      "  File \"C:\\Users\\LENOVO\\anaconda3\\lib\\site-packages\\flask\\app.py\", line 2447, in wsgi_app\n",
      "    response = self.full_dispatch_request()\n",
      "  File \"C:\\Users\\LENOVO\\anaconda3\\lib\\site-packages\\flask\\app.py\", line 1952, in full_dispatch_request\n",
      "    rv = self.handle_user_exception(e)\n",
      "  File \"C:\\Users\\LENOVO\\anaconda3\\lib\\site-packages\\flask\\app.py\", line 1821, in handle_user_exception\n",
      "    reraise(exc_type, exc_value, tb)\n",
      "  File \"C:\\Users\\LENOVO\\anaconda3\\lib\\site-packages\\flask\\_compat.py\", line 39, in reraise\n",
      "    raise value\n",
      "  File \"C:\\Users\\LENOVO\\anaconda3\\lib\\site-packages\\flask\\app.py\", line 1950, in full_dispatch_request\n",
      "    rv = self.dispatch_request()\n",
      "  File \"C:\\Users\\LENOVO\\anaconda3\\lib\\site-packages\\flask\\app.py\", line 1936, in dispatch_request\n",
      "    return self.view_functions[rule.endpoint](**req.view_args)\n",
      "  File \"C:\\Users\\LENOVO\\anaconda3\\lib\\site-packages\\dash\\dash.py\", line 1472, in dispatch\n",
      "    response.set_data(func(*args, outputs_list=outputs_list))\n",
      "  File \"C:\\Users\\LENOVO\\anaconda3\\lib\\site-packages\\dash\\_callback.py\", line 151, in add_context\n",
      "    output_value = func(*func_args, **func_kwargs)  # %% callback invoked %%\n",
      "  File \"C:\\Users\\LENOVO\\AppData\\Local\\Temp/ipykernel_5004/1735512418.py\", line 37, in update_bubble_graph_cb\n",
      "    fig = load_plot()\n",
      "  File \"C:\\Users\\LENOVO\\AppData\\Local\\Temp/ipykernel_5004/1735512418.py\", line 112, in plot\n",
      "    fig2 = pickle.load(f)\n",
      "EOFError: Ran out of input\n"
     ]
    },
    {
     "name": "stderr",
     "output_type": "stream",
     "text": [
      "127.0.0.1 - - [11/Jul/2022 10:20:23] \"POST /app/_dash-update-component HTTP/1.1\" 500 -\n",
      "127.0.0.1 - - [11/Jul/2022 10:20:24] \"POST /app/_dash-update-component HTTP/1.1\" 200 -\n"
     ]
    },
    {
     "name": "stdout",
     "output_type": "stream",
     "text": [
      "update_bubble_graph_cb: 0.036 second(s)\n"
     ]
    },
    {
     "name": "stderr",
     "output_type": "stream",
     "text": [
      "127.0.0.1 - - [11/Jul/2022 10:20:25] \"POST /app/_dash-update-component HTTP/1.1\" 200 -\n"
     ]
    },
    {
     "name": "stdout",
     "output_type": "stream",
     "text": [
      "update_bubble_graph_cb: 0.030 second(s)\n"
     ]
    },
    {
     "name": "stderr",
     "output_type": "stream",
     "text": [
      "127.0.0.1 - - [11/Jul/2022 10:20:26] \"POST /app/_dash-update-component HTTP/1.1\" 200 -\n"
     ]
    },
    {
     "name": "stdout",
     "output_type": "stream",
     "text": [
      "update_bubble_graph_cb: 0.028 second(s)\n"
     ]
    },
    {
     "name": "stderr",
     "output_type": "stream",
     "text": [
      "127.0.0.1 - - [11/Jul/2022 10:20:29] \"POST /app/_dash-update-component HTTP/1.1\" 200 -\n",
      "127.0.0.1 - - [11/Jul/2022 10:20:29] \"POST /app/_dash-update-component HTTP/1.1\" 200 -\n"
     ]
    },
    {
     "name": "stdout",
     "output_type": "stream",
     "text": [
      "update_bubble_graph_cb: 0.022 second(s)\n",
      "update_bubble_graph_cb: 0.025 second(s)\n"
     ]
    },
    {
     "name": "stderr",
     "output_type": "stream",
     "text": [
      "127.0.0.1 - - [11/Jul/2022 10:20:31] \"POST /app/_dash-update-component HTTP/1.1\" 200 -\n",
      "127.0.0.1 - - [11/Jul/2022 10:20:31] \"POST /app/_dash-update-component HTTP/1.1\" 200 -\n"
     ]
    },
    {
     "name": "stdout",
     "output_type": "stream",
     "text": [
      "update_bubble_graph_cb: 0.024 second(s)\n",
      "update_bubble_graph_cb: 0.024 second(s)\n"
     ]
    },
    {
     "name": "stderr",
     "output_type": "stream",
     "text": [
      "127.0.0.1 - - [11/Jul/2022 10:20:33] \"POST /app/_dash-update-component HTTP/1.1\" 200 -\n",
      "127.0.0.1 - - [11/Jul/2022 10:20:33] \"POST /app/_dash-update-component HTTP/1.1\" 200 -\n"
     ]
    },
    {
     "name": "stdout",
     "output_type": "stream",
     "text": [
      "update_bubble_graph_cb: 0.028 second(s)\n",
      "update_bubble_graph_cb: 0.028 second(s)\n"
     ]
    },
    {
     "name": "stderr",
     "output_type": "stream",
     "text": [
      "127.0.0.1 - - [11/Jul/2022 10:20:35] \"POST /app/_dash-update-component HTTP/1.1\" 200 -\n",
      "127.0.0.1 - - [11/Jul/2022 10:20:35] \"POST /app/_dash-update-component HTTP/1.1\" 200 -\n"
     ]
    },
    {
     "name": "stdout",
     "output_type": "stream",
     "text": [
      "update_bubble_graph_cb: 0.028 second(s)\n",
      "update_bubble_graph_cb: 0.024 second(s)\n"
     ]
    },
    {
     "name": "stderr",
     "output_type": "stream",
     "text": [
      "127.0.0.1 - - [11/Jul/2022 10:20:37] \"POST /app/_dash-update-component HTTP/1.1\" 200 -\n",
      "127.0.0.1 - - [11/Jul/2022 10:20:37] \"POST /app/_dash-update-component HTTP/1.1\" 200 -\n"
     ]
    },
    {
     "name": "stdout",
     "output_type": "stream",
     "text": [
      "update_bubble_graph_cb: 0.027 second(s)\n",
      "update_bubble_graph_cb: 0.033 second(s)\n"
     ]
    },
    {
     "name": "stderr",
     "output_type": "stream",
     "text": [
      "127.0.0.1 - - [11/Jul/2022 10:20:39] \"POST /app/_dash-update-component HTTP/1.1\" 200 -\n",
      "127.0.0.1 - - [11/Jul/2022 10:20:39] \"POST /app/_dash-update-component HTTP/1.1\" 200 -\n"
     ]
    },
    {
     "name": "stdout",
     "output_type": "stream",
     "text": [
      "update_bubble_graph_cb: 0.032 second(s)\n",
      "update_bubble_graph_cb: 0.022 second(s)\n"
     ]
    },
    {
     "name": "stderr",
     "output_type": "stream",
     "text": [
      "127.0.0.1 - - [11/Jul/2022 10:20:41] \"POST /app/_dash-update-component HTTP/1.1\" 200 -\n",
      "127.0.0.1 - - [11/Jul/2022 10:20:41] \"POST /app/_dash-update-component HTTP/1.1\" 200 -\n"
     ]
    },
    {
     "name": "stdout",
     "output_type": "stream",
     "text": [
      "update_bubble_graph_cb: 0.028 second(s)\n",
      "update_bubble_graph_cb: 0.022 second(s)\n"
     ]
    },
    {
     "name": "stderr",
     "output_type": "stream",
     "text": [
      "127.0.0.1 - - [11/Jul/2022 10:20:43] \"POST /app/_dash-update-component HTTP/1.1\" 200 -\n",
      "127.0.0.1 - - [11/Jul/2022 10:20:43] \"POST /app/_dash-update-component HTTP/1.1\" 200 -\n"
     ]
    },
    {
     "name": "stdout",
     "output_type": "stream",
     "text": [
      "update_bubble_graph_cb: 0.028 second(s)\n",
      "update_bubble_graph_cb: 0.022 second(s)\n"
     ]
    },
    {
     "name": "stderr",
     "output_type": "stream",
     "text": [
      "127.0.0.1 - - [11/Jul/2022 10:20:45] \"POST /app/_dash-update-component HTTP/1.1\" 200 -\n",
      "127.0.0.1 - - [11/Jul/2022 10:20:45] \"POST /app/_dash-update-component HTTP/1.1\" 200 -\n"
     ]
    },
    {
     "name": "stdout",
     "output_type": "stream",
     "text": [
      "update_bubble_graph_cb: 0.036 second(s)\n",
      "update_bubble_graph_cb: 0.020 second(s)\n"
     ]
    },
    {
     "name": "stderr",
     "output_type": "stream",
     "text": [
      "127.0.0.1 - - [11/Jul/2022 10:20:47] \"POST /app/_dash-update-component HTTP/1.1\" 200 -\n",
      "127.0.0.1 - - [11/Jul/2022 10:20:47] \"POST /app/_dash-update-component HTTP/1.1\" 200 -\n"
     ]
    },
    {
     "name": "stdout",
     "output_type": "stream",
     "text": [
      "update_bubble_graph_cb: 0.030 second(s)\n",
      "update_bubble_graph_cb: 0.023 second(s)\n",
      "Exception on /app/_dash-update-component [POST]\n",
      "Traceback (most recent call last):\n",
      "  File \"C:\\Users\\LENOVO\\anaconda3\\lib\\site-packages\\flask\\app.py\", line 2447, in wsgi_app\n",
      "    response = self.full_dispatch_request()\n",
      "  File \"C:\\Users\\LENOVO\\anaconda3\\lib\\site-packages\\flask\\app.py\", line 1952, in full_dispatch_request\n",
      "    rv = self.handle_user_exception(e)\n",
      "  File \"C:\\Users\\LENOVO\\anaconda3\\lib\\site-packages\\flask\\app.py\", line 1821, in handle_user_exception\n",
      "    reraise(exc_type, exc_value, tb)\n",
      "  File \"C:\\Users\\LENOVO\\anaconda3\\lib\\site-packages\\flask\\_compat.py\", line 39, in reraise\n",
      "    raise value\n",
      "  File \"C:\\Users\\LENOVO\\anaconda3\\lib\\site-packages\\flask\\app.py\", line 1950, in full_dispatch_request\n",
      "    rv = self.dispatch_request()\n",
      "  File \"C:\\Users\\LENOVO\\anaconda3\\lib\\site-packages\\flask\\app.py\", line 1936, in dispatch_request\n",
      "    return self.view_functions[rule.endpoint](**req.view_args)\n",
      "  File \"C:\\Users\\LENOVO\\anaconda3\\lib\\site-packages\\dash\\dash.py\", line 1472, in dispatch\n",
      "    response.set_data(func(*args, outputs_list=outputs_list))\n",
      "  File \"C:\\Users\\LENOVO\\anaconda3\\lib\\site-packages\\dash\\_callback.py\", line 151, in add_context\n",
      "    output_value = func(*func_args, **func_kwargs)  # %% callback invoked %%\n",
      "  File \"C:\\Users\\LENOVO\\AppData\\Local\\Temp/ipykernel_5004/1735512418.py\", line 37, in update_bubble_graph_cb\n",
      "    fig = load_plot()\n",
      "  File \"C:\\Users\\LENOVO\\AppData\\Local\\Temp/ipykernel_5004/1735512418.py\", line 112, in plot\n",
      "    fig2 = pickle.load(f)\n",
      "EOFError: Ran out of input\n"
     ]
    },
    {
     "name": "stderr",
     "output_type": "stream",
     "text": [
      "127.0.0.1 - - [11/Jul/2022 10:20:49] \"POST /app/_dash-update-component HTTP/1.1\" 500 -\n",
      "127.0.0.1 - - [11/Jul/2022 10:20:49] \"POST /app/_dash-update-component HTTP/1.1\" 200 -\n"
     ]
    },
    {
     "name": "stdout",
     "output_type": "stream",
     "text": [
      "update_bubble_graph_cb: 0.028 second(s)\n"
     ]
    },
    {
     "name": "stderr",
     "output_type": "stream",
     "text": [
      "127.0.0.1 - - [11/Jul/2022 10:20:51] \"POST /app/_dash-update-component HTTP/1.1\" 200 -\n",
      "127.0.0.1 - - [11/Jul/2022 10:20:51] \"POST /app/_dash-update-component HTTP/1.1\" 200 -\n"
     ]
    },
    {
     "name": "stdout",
     "output_type": "stream",
     "text": [
      "update_bubble_graph_cb: 0.025 second(s)\n",
      "update_bubble_graph_cb: 0.019 second(s)\n"
     ]
    },
    {
     "name": "stderr",
     "output_type": "stream",
     "text": [
      "127.0.0.1 - - [11/Jul/2022 10:20:53] \"POST /app/_dash-update-component HTTP/1.1\" 200 -\n",
      "127.0.0.1 - - [11/Jul/2022 10:20:53] \"POST /app/_dash-update-component HTTP/1.1\" 200 -\n"
     ]
    },
    {
     "name": "stdout",
     "output_type": "stream",
     "text": [
      "update_bubble_graph_cb: 0.026 second(s)\n",
      "update_bubble_graph_cb: 0.028 second(s)\n"
     ]
    },
    {
     "name": "stderr",
     "output_type": "stream",
     "text": [
      "127.0.0.1 - - [11/Jul/2022 10:20:55] \"POST /app/_dash-update-component HTTP/1.1\" 200 -\n",
      "127.0.0.1 - - [11/Jul/2022 10:20:55] \"POST /app/_dash-update-component HTTP/1.1\" 200 -\n"
     ]
    },
    {
     "name": "stdout",
     "output_type": "stream",
     "text": [
      "update_bubble_graph_cb: 0.061 second(s)\n",
      "update_bubble_graph_cb: 0.032 second(s)\n"
     ]
    },
    {
     "name": "stderr",
     "output_type": "stream",
     "text": [
      "127.0.0.1 - - [11/Jul/2022 10:20:57] \"POST /app/_dash-update-component HTTP/1.1\" 200 -\n",
      "127.0.0.1 - - [11/Jul/2022 10:20:57] \"POST /app/_dash-update-component HTTP/1.1\" 200 -\n"
     ]
    },
    {
     "name": "stdout",
     "output_type": "stream",
     "text": [
      "update_bubble_graph_cb: 0.022 second(s)\n",
      "update_bubble_graph_cb: 0.051 second(s)\n"
     ]
    },
    {
     "name": "stderr",
     "output_type": "stream",
     "text": [
      "127.0.0.1 - - [11/Jul/2022 10:20:59] \"POST /app/_dash-update-component HTTP/1.1\" 200 -\n",
      "127.0.0.1 - - [11/Jul/2022 10:20:59] \"POST /app/_dash-update-component HTTP/1.1\" 200 -\n"
     ]
    },
    {
     "name": "stdout",
     "output_type": "stream",
     "text": [
      "update_bubble_graph_cb: 0.032 second(s)\n",
      "update_bubble_graph_cb: 0.021 second(s)\n"
     ]
    },
    {
     "name": "stderr",
     "output_type": "stream",
     "text": [
      "127.0.0.1 - - [11/Jul/2022 10:21:01] \"POST /app/_dash-update-component HTTP/1.1\" 200 -\n",
      "127.0.0.1 - - [11/Jul/2022 10:21:01] \"POST /app/_dash-update-component HTTP/1.1\" 200 -\n"
     ]
    },
    {
     "name": "stdout",
     "output_type": "stream",
     "text": [
      "update_bubble_graph_cb: 0.023 second(s)\n",
      "update_bubble_graph_cb: 0.024 second(s)\n"
     ]
    },
    {
     "name": "stderr",
     "output_type": "stream",
     "text": [
      "127.0.0.1 - - [11/Jul/2022 10:21:03] \"POST /app/_dash-update-component HTTP/1.1\" 200 -\n"
     ]
    },
    {
     "name": "stdout",
     "output_type": "stream",
     "text": [
      "update_bubble_graph_cb: 0.020 second(s)\n",
      "Exception on /app/_dash-update-component [POST]\n",
      "Traceback (most recent call last):\n",
      "  File \"C:\\Users\\LENOVO\\anaconda3\\lib\\site-packages\\flask\\app.py\", line 2447, in wsgi_app\n",
      "    response = self.full_dispatch_request()\n",
      "  File \"C:\\Users\\LENOVO\\anaconda3\\lib\\site-packages\\flask\\app.py\", line 1952, in full_dispatch_request\n",
      "    rv = self.handle_user_exception(e)\n",
      "  File \"C:\\Users\\LENOVO\\anaconda3\\lib\\site-packages\\flask\\app.py\", line 1821, in handle_user_exception\n",
      "    reraise(exc_type, exc_value, tb)\n",
      "  File \"C:\\Users\\LENOVO\\anaconda3\\lib\\site-packages\\flask\\_compat.py\", line 39, in reraise\n",
      "    raise value\n",
      "  File \"C:\\Users\\LENOVO\\anaconda3\\lib\\site-packages\\flask\\app.py\", line 1950, in full_dispatch_request\n",
      "    rv = self.dispatch_request()\n",
      "  File \"C:\\Users\\LENOVO\\anaconda3\\lib\\site-packages\\flask\\app.py\", line 1936, in dispatch_request\n",
      "    return self.view_functions[rule.endpoint](**req.view_args)\n",
      "  File \"C:\\Users\\LENOVO\\anaconda3\\lib\\site-packages\\dash\\dash.py\", line 1472, in dispatch\n",
      "    response.set_data(func(*args, outputs_list=outputs_list))\n",
      "  File \"C:\\Users\\LENOVO\\anaconda3\\lib\\site-packages\\dash\\_callback.py\", line 151, in add_context\n",
      "    output_value = func(*func_args, **func_kwargs)  # %% callback invoked %%\n",
      "  File \"C:\\Users\\LENOVO\\AppData\\Local\\Temp/ipykernel_5004/1735512418.py\", line 37, in update_bubble_graph_cb\n",
      "    fig = load_plot()\n",
      "  File \"C:\\Users\\LENOVO\\AppData\\Local\\Temp/ipykernel_5004/1735512418.py\", line 112, in plot\n",
      "    fig2 = pickle.load(f)\n",
      "EOFError: Ran out of input\n"
     ]
    },
    {
     "name": "stderr",
     "output_type": "stream",
     "text": [
      "127.0.0.1 - - [11/Jul/2022 10:21:03] \"POST /app/_dash-update-component HTTP/1.1\" 500 -\n",
      "127.0.0.1 - - [11/Jul/2022 10:21:05] \"POST /app/_dash-update-component HTTP/1.1\" 200 -\n",
      "127.0.0.1 - - [11/Jul/2022 10:21:05] \"POST /app/_dash-update-component HTTP/1.1\" 200 -\n"
     ]
    },
    {
     "name": "stdout",
     "output_type": "stream",
     "text": [
      "update_bubble_graph_cb: 0.024 second(s)\n",
      "update_bubble_graph_cb: 0.037 second(s)\n"
     ]
    },
    {
     "name": "stderr",
     "output_type": "stream",
     "text": [
      "127.0.0.1 - - [11/Jul/2022 10:21:07] \"POST /app/_dash-update-component HTTP/1.1\" 200 -\n",
      "127.0.0.1 - - [11/Jul/2022 10:21:07] \"POST /app/_dash-update-component HTTP/1.1\" 200 -\n"
     ]
    },
    {
     "name": "stdout",
     "output_type": "stream",
     "text": [
      "update_bubble_graph_cb: 0.028 second(s)\n",
      "update_bubble_graph_cb: 0.028 second(s)\n"
     ]
    },
    {
     "name": "stderr",
     "output_type": "stream",
     "text": [
      "127.0.0.1 - - [11/Jul/2022 10:21:09] \"POST /app/_dash-update-component HTTP/1.1\" 200 -\n",
      "127.0.0.1 - - [11/Jul/2022 10:21:09] \"POST /app/_dash-update-component HTTP/1.1\" 200 -\n"
     ]
    },
    {
     "name": "stdout",
     "output_type": "stream",
     "text": [
      "update_bubble_graph_cb: 0.028 second(s)\n",
      "update_bubble_graph_cb: 0.023 second(s)\n"
     ]
    },
    {
     "name": "stderr",
     "output_type": "stream",
     "text": [
      "127.0.0.1 - - [11/Jul/2022 10:21:11] \"POST /app/_dash-update-component HTTP/1.1\" 200 -\n",
      "127.0.0.1 - - [11/Jul/2022 10:21:11] \"POST /app/_dash-update-component HTTP/1.1\" 200 -\n"
     ]
    },
    {
     "name": "stdout",
     "output_type": "stream",
     "text": [
      "update_bubble_graph_cb: 0.028 second(s)\n",
      "update_bubble_graph_cb: 0.030 second(s)\n"
     ]
    },
    {
     "name": "stderr",
     "output_type": "stream",
     "text": [
      "127.0.0.1 - - [11/Jul/2022 10:21:13] \"POST /app/_dash-update-component HTTP/1.1\" 200 -\n",
      "127.0.0.1 - - [11/Jul/2022 10:21:13] \"POST /app/_dash-update-component HTTP/1.1\" 200 -\n"
     ]
    },
    {
     "name": "stdout",
     "output_type": "stream",
     "text": [
      "update_bubble_graph_cb: 0.036 second(s)\n",
      "update_bubble_graph_cb: 0.024 second(s)\n"
     ]
    },
    {
     "name": "stderr",
     "output_type": "stream",
     "text": [
      "127.0.0.1 - - [11/Jul/2022 10:21:15] \"POST /app/_dash-update-component HTTP/1.1\" 200 -\n",
      "127.0.0.1 - - [11/Jul/2022 10:21:15] \"POST /app/_dash-update-component HTTP/1.1\" 200 -\n"
     ]
    },
    {
     "name": "stdout",
     "output_type": "stream",
     "text": [
      "update_bubble_graph_cb: 0.028 second(s)\n",
      "update_bubble_graph_cb: 0.028 second(s)\n"
     ]
    },
    {
     "name": "stderr",
     "output_type": "stream",
     "text": [
      "127.0.0.1 - - [11/Jul/2022 10:21:17] \"POST /app/_dash-update-component HTTP/1.1\" 200 -\n",
      "127.0.0.1 - - [11/Jul/2022 10:21:17] \"POST /app/_dash-update-component HTTP/1.1\" 200 -\n"
     ]
    },
    {
     "name": "stdout",
     "output_type": "stream",
     "text": [
      "update_bubble_graph_cb: 0.028 second(s)\n",
      "update_bubble_graph_cb: 0.028 second(s)\n"
     ]
    },
    {
     "name": "stderr",
     "output_type": "stream",
     "text": [
      "127.0.0.1 - - [11/Jul/2022 10:21:19] \"POST /app/_dash-update-component HTTP/1.1\" 200 -\n",
      "127.0.0.1 - - [11/Jul/2022 10:21:19] \"POST /app/_dash-update-component HTTP/1.1\" 200 -\n"
     ]
    },
    {
     "name": "stdout",
     "output_type": "stream",
     "text": [
      "update_bubble_graph_cb: 0.028 second(s)\n",
      "update_bubble_graph_cb: 0.023 second(s)\n"
     ]
    },
    {
     "name": "stderr",
     "output_type": "stream",
     "text": [
      "127.0.0.1 - - [11/Jul/2022 10:21:21] \"POST /app/_dash-update-component HTTP/1.1\" 200 -\n",
      "127.0.0.1 - - [11/Jul/2022 10:21:21] \"POST /app/_dash-update-component HTTP/1.1\" 200 -\n"
     ]
    },
    {
     "name": "stdout",
     "output_type": "stream",
     "text": [
      "update_bubble_graph_cb: 0.027 second(s)\n",
      "update_bubble_graph_cb: 0.038 second(s)\n"
     ]
    },
    {
     "name": "stderr",
     "output_type": "stream",
     "text": [
      "127.0.0.1 - - [11/Jul/2022 10:21:23] \"POST /app/_dash-update-component HTTP/1.1\" 200 -\n",
      "127.0.0.1 - - [11/Jul/2022 10:21:23] \"POST /app/_dash-update-component HTTP/1.1\" 200 -\n"
     ]
    },
    {
     "name": "stdout",
     "output_type": "stream",
     "text": [
      "update_bubble_graph_cb: 0.043 second(s)\n",
      "update_bubble_graph_cb: 0.024 second(s)\n"
     ]
    },
    {
     "name": "stderr",
     "output_type": "stream",
     "text": [
      "127.0.0.1 - - [11/Jul/2022 10:21:25] \"POST /app/_dash-update-component HTTP/1.1\" 200 -\n",
      "127.0.0.1 - - [11/Jul/2022 10:21:25] \"POST /app/_dash-update-component HTTP/1.1\" 200 -\n"
     ]
    },
    {
     "name": "stdout",
     "output_type": "stream",
     "text": [
      "update_bubble_graph_cb: 0.030 second(s)\n",
      "update_bubble_graph_cb: 0.036 second(s)\n"
     ]
    },
    {
     "name": "stderr",
     "output_type": "stream",
     "text": [
      "127.0.0.1 - - [11/Jul/2022 10:21:27] \"POST /app/_dash-update-component HTTP/1.1\" 200 -\n",
      "127.0.0.1 - - [11/Jul/2022 10:21:27] \"POST /app/_dash-update-component HTTP/1.1\" 200 -\n"
     ]
    },
    {
     "name": "stdout",
     "output_type": "stream",
     "text": [
      "update_bubble_graph_cb: 0.023 second(s)\n",
      "update_bubble_graph_cb: 0.034 second(s)\n"
     ]
    },
    {
     "name": "stderr",
     "output_type": "stream",
     "text": [
      "127.0.0.1 - - [11/Jul/2022 10:21:29] \"POST /app/_dash-update-component HTTP/1.1\" 200 -\n",
      "127.0.0.1 - - [11/Jul/2022 10:21:29] \"POST /app/_dash-update-component HTTP/1.1\" 200 -\n"
     ]
    },
    {
     "name": "stdout",
     "output_type": "stream",
     "text": [
      "update_bubble_graph_cb: 0.028 second(s)\n",
      "update_bubble_graph_cb: 0.017 second(s)\n"
     ]
    },
    {
     "name": "stderr",
     "output_type": "stream",
     "text": [
      "127.0.0.1 - - [11/Jul/2022 10:21:31] \"POST /app/_dash-update-component HTTP/1.1\" 200 -\n",
      "127.0.0.1 - - [11/Jul/2022 10:21:31] \"POST /app/_dash-update-component HTTP/1.1\" 200 -\n"
     ]
    },
    {
     "name": "stdout",
     "output_type": "stream",
     "text": [
      "update_bubble_graph_cb: 0.163 second(s)\n",
      "update_bubble_graph_cb: 0.038 second(s)\n"
     ]
    },
    {
     "name": "stderr",
     "output_type": "stream",
     "text": [
      "127.0.0.1 - - [11/Jul/2022 10:21:33] \"POST /app/_dash-update-component HTTP/1.1\" 200 -\n",
      "127.0.0.1 - - [11/Jul/2022 10:21:33] \"POST /app/_dash-update-component HTTP/1.1\" 200 -\n"
     ]
    },
    {
     "name": "stdout",
     "output_type": "stream",
     "text": [
      "update_bubble_graph_cb: 0.032 second(s)\n",
      "update_bubble_graph_cb: 0.034 second(s)\n"
     ]
    },
    {
     "name": "stderr",
     "output_type": "stream",
     "text": [
      "127.0.0.1 - - [11/Jul/2022 10:21:35] \"POST /app/_dash-update-component HTTP/1.1\" 200 -\n",
      "127.0.0.1 - - [11/Jul/2022 10:21:35] \"POST /app/_dash-update-component HTTP/1.1\" 200 -\n"
     ]
    },
    {
     "name": "stdout",
     "output_type": "stream",
     "text": [
      "update_bubble_graph_cb: 0.032 second(s)\n",
      "update_bubble_graph_cb: 0.021 second(s)\n"
     ]
    },
    {
     "name": "stderr",
     "output_type": "stream",
     "text": [
      "127.0.0.1 - - [11/Jul/2022 10:21:37] \"POST /app/_dash-update-component HTTP/1.1\" 200 -\n",
      "127.0.0.1 - - [11/Jul/2022 10:21:37] \"POST /app/_dash-update-component HTTP/1.1\" 200 -\n"
     ]
    },
    {
     "name": "stdout",
     "output_type": "stream",
     "text": [
      "update_bubble_graph_cb: 0.034 second(s)\n",
      "update_bubble_graph_cb: 0.041 second(s)\n"
     ]
    },
    {
     "name": "stderr",
     "output_type": "stream",
     "text": [
      "127.0.0.1 - - [11/Jul/2022 10:21:39] \"POST /app/_dash-update-component HTTP/1.1\" 200 -\n",
      "127.0.0.1 - - [11/Jul/2022 10:21:39] \"POST /app/_dash-update-component HTTP/1.1\" 200 -\n"
     ]
    },
    {
     "name": "stdout",
     "output_type": "stream",
     "text": [
      "update_bubble_graph_cb: 0.025 second(s)\n",
      "update_bubble_graph_cb: 0.025 second(s)\n"
     ]
    },
    {
     "name": "stderr",
     "output_type": "stream",
     "text": [
      "127.0.0.1 - - [11/Jul/2022 10:21:41] \"POST /app/_dash-update-component HTTP/1.1\" 200 -\n",
      "127.0.0.1 - - [11/Jul/2022 10:21:41] \"POST /app/_dash-update-component HTTP/1.1\" 200 -\n"
     ]
    },
    {
     "name": "stdout",
     "output_type": "stream",
     "text": [
      "update_bubble_graph_cb: 0.025 second(s)\n",
      "update_bubble_graph_cb: 0.032 second(s)\n"
     ]
    },
    {
     "name": "stderr",
     "output_type": "stream",
     "text": [
      "127.0.0.1 - - [11/Jul/2022 10:21:43] \"POST /app/_dash-update-component HTTP/1.1\" 200 -\n",
      "127.0.0.1 - - [11/Jul/2022 10:21:43] \"POST /app/_dash-update-component HTTP/1.1\" 200 -\n"
     ]
    },
    {
     "name": "stdout",
     "output_type": "stream",
     "text": [
      "update_bubble_graph_cb: 0.030 second(s)\n",
      "update_bubble_graph_cb: 0.016 second(s)\n"
     ]
    },
    {
     "name": "stderr",
     "output_type": "stream",
     "text": [
      "127.0.0.1 - - [11/Jul/2022 10:21:45] \"POST /app/_dash-update-component HTTP/1.1\" 200 -\n",
      "127.0.0.1 - - [11/Jul/2022 10:21:45] \"POST /app/_dash-update-component HTTP/1.1\" 200 -\n"
     ]
    },
    {
     "name": "stdout",
     "output_type": "stream",
     "text": [
      "update_bubble_graph_cb: 0.028 second(s)\n",
      "update_bubble_graph_cb: 0.030 second(s)\n"
     ]
    },
    {
     "name": "stderr",
     "output_type": "stream",
     "text": [
      "127.0.0.1 - - [11/Jul/2022 10:21:47] \"POST /app/_dash-update-component HTTP/1.1\" 200 -\n",
      "127.0.0.1 - - [11/Jul/2022 10:21:47] \"POST /app/_dash-update-component HTTP/1.1\" 200 -\n"
     ]
    },
    {
     "name": "stdout",
     "output_type": "stream",
     "text": [
      "update_bubble_graph_cb: 0.031 second(s)\n",
      "update_bubble_graph_cb: 0.021 second(s)\n"
     ]
    },
    {
     "name": "stderr",
     "output_type": "stream",
     "text": [
      "127.0.0.1 - - [11/Jul/2022 10:21:49] \"POST /app/_dash-update-component HTTP/1.1\" 200 -\n",
      "127.0.0.1 - - [11/Jul/2022 10:21:49] \"POST /app/_dash-update-component HTTP/1.1\" 200 -\n"
     ]
    },
    {
     "name": "stdout",
     "output_type": "stream",
     "text": [
      "update_bubble_graph_cb: 0.016 second(s)\n",
      "update_bubble_graph_cb: 0.016 second(s)\n"
     ]
    },
    {
     "name": "stderr",
     "output_type": "stream",
     "text": [
      "127.0.0.1 - - [11/Jul/2022 10:21:51] \"POST /app/_dash-update-component HTTP/1.1\" 200 -\n"
     ]
    },
    {
     "name": "stdout",
     "output_type": "stream",
     "text": [
      "update_bubble_graph_cb: 0.016 second(s)\n"
     ]
    },
    {
     "name": "stderr",
     "output_type": "stream",
     "text": [
      "127.0.0.1 - - [11/Jul/2022 10:21:51] \"POST /app/_dash-update-component HTTP/1.1\" 200 -\n"
     ]
    },
    {
     "name": "stdout",
     "output_type": "stream",
     "text": [
      "update_bubble_graph_cb: 0.041 second(s)\n"
     ]
    },
    {
     "name": "stderr",
     "output_type": "stream",
     "text": [
      "127.0.0.1 - - [11/Jul/2022 10:32:15] \"POST /app/_dash-update-component HTTP/1.1\" 200 -\n"
     ]
    },
    {
     "name": "stdout",
     "output_type": "stream",
     "text": [
      "update_bubble_graph_cb: 0.026 second(s)\n"
     ]
    },
    {
     "name": "stderr",
     "output_type": "stream",
     "text": [
      "127.0.0.1 - - [11/Jul/2022 10:32:19] \"POST /app/_dash-update-component HTTP/1.1\" 200 -\n"
     ]
    },
    {
     "name": "stdout",
     "output_type": "stream",
     "text": [
      "update_bubble_graph_cb: 0.034 second(s)\n"
     ]
    },
    {
     "name": "stderr",
     "output_type": "stream",
     "text": [
      "127.0.0.1 - - [11/Jul/2022 10:32:20] \"POST /app/_dash-update-component HTTP/1.1\" 200 -\n"
     ]
    },
    {
     "name": "stdout",
     "output_type": "stream",
     "text": [
      "update_bubble_graph_cb: 0.024 second(s)\n"
     ]
    },
    {
     "name": "stderr",
     "output_type": "stream",
     "text": [
      "127.0.0.1 - - [11/Jul/2022 10:32:22] \"POST /app/_dash-update-component HTTP/1.1\" 200 -\n",
      "127.0.0.1 - - [11/Jul/2022 10:32:22] \"POST /app/_dash-update-component HTTP/1.1\" 200 -\n"
     ]
    },
    {
     "name": "stdout",
     "output_type": "stream",
     "text": [
      "update_bubble_graph_cb: 0.032 second(s)\n",
      "update_bubble_graph_cb: 0.058 second(s)\n"
     ]
    },
    {
     "name": "stderr",
     "output_type": "stream",
     "text": [
      "127.0.0.1 - - [11/Jul/2022 10:32:23] \"POST /app/_dash-update-component HTTP/1.1\" 200 -\n"
     ]
    },
    {
     "name": "stdout",
     "output_type": "stream",
     "text": [
      "update_bubble_graph_cb: 0.032 second(s)\n"
     ]
    },
    {
     "name": "stderr",
     "output_type": "stream",
     "text": [
      "127.0.0.1 - - [11/Jul/2022 10:32:24] \"POST /app/_dash-update-component HTTP/1.1\" 200 -\n"
     ]
    },
    {
     "name": "stdout",
     "output_type": "stream",
     "text": [
      "update_bubble_graph_cb: 0.031 second(s)\n"
     ]
    },
    {
     "name": "stderr",
     "output_type": "stream",
     "text": [
      "127.0.0.1 - - [11/Jul/2022 10:32:25] \"POST /app/_dash-update-component HTTP/1.1\" 200 -\n"
     ]
    },
    {
     "name": "stdout",
     "output_type": "stream",
     "text": [
      "update_bubble_graph_cb: 0.018 second(s)\n",
      "Exception on /app/_dash-update-component [POST]\n",
      "Traceback (most recent call last):\n",
      "  File \"C:\\Users\\LENOVO\\anaconda3\\lib\\site-packages\\flask\\app.py\", line 2447, in wsgi_app\n",
      "    response = self.full_dispatch_request()\n",
      "  File \"C:\\Users\\LENOVO\\anaconda3\\lib\\site-packages\\flask\\app.py\", line 1952, in full_dispatch_request\n",
      "    rv = self.handle_user_exception(e)\n",
      "  File \"C:\\Users\\LENOVO\\anaconda3\\lib\\site-packages\\flask\\app.py\", line 1821, in handle_user_exception\n",
      "    reraise(exc_type, exc_value, tb)\n",
      "  File \"C:\\Users\\LENOVO\\anaconda3\\lib\\site-packages\\flask\\_compat.py\", line 39, in reraise\n",
      "    raise value\n",
      "  File \"C:\\Users\\LENOVO\\anaconda3\\lib\\site-packages\\flask\\app.py\", line 1950, in full_dispatch_request\n",
      "    rv = self.dispatch_request()\n",
      "  File \"C:\\Users\\LENOVO\\anaconda3\\lib\\site-packages\\flask\\app.py\", line 1936, in dispatch_request\n",
      "    return self.view_functions[rule.endpoint](**req.view_args)\n",
      "  File \"C:\\Users\\LENOVO\\anaconda3\\lib\\site-packages\\dash\\dash.py\", line 1472, in dispatch\n",
      "    response.set_data(func(*args, outputs_list=outputs_list))\n",
      "  File \"C:\\Users\\LENOVO\\anaconda3\\lib\\site-packages\\dash\\_callback.py\", line 151, in add_context\n",
      "    output_value = func(*func_args, **func_kwargs)  # %% callback invoked %%\n",
      "  File \"C:\\Users\\LENOVO\\AppData\\Local\\Temp/ipykernel_5004/1735512418.py\", line 37, in update_bubble_graph_cb\n",
      "    fig = load_plot()\n",
      "  File \"C:\\Users\\LENOVO\\AppData\\Local\\Temp/ipykernel_5004/1735512418.py\", line 112, in plot\n",
      "    fig2 = pickle.load(f)\n",
      "EOFError: Ran out of input\n"
     ]
    },
    {
     "name": "stderr",
     "output_type": "stream",
     "text": [
      "127.0.0.1 - - [11/Jul/2022 10:32:26] \"POST /app/_dash-update-component HTTP/1.1\" 500 -\n",
      "127.0.0.1 - - [11/Jul/2022 10:32:27] \"POST /app/_dash-update-component HTTP/1.1\" 200 -\n"
     ]
    },
    {
     "name": "stdout",
     "output_type": "stream",
     "text": [
      "update_bubble_graph_cb: 0.036 second(s)\n"
     ]
    },
    {
     "name": "stderr",
     "output_type": "stream",
     "text": [
      "127.0.0.1 - - [11/Jul/2022 10:32:28] \"POST /app/_dash-update-component HTTP/1.1\" 200 -\n"
     ]
    },
    {
     "name": "stdout",
     "output_type": "stream",
     "text": [
      "update_bubble_graph_cb: 0.021 second(s)\n"
     ]
    },
    {
     "name": "stderr",
     "output_type": "stream",
     "text": [
      "127.0.0.1 - - [11/Jul/2022 10:32:29] \"POST /app/_dash-update-component HTTP/1.1\" 200 -\n"
     ]
    },
    {
     "name": "stdout",
     "output_type": "stream",
     "text": [
      "update_bubble_graph_cb: 0.018 second(s)\n"
     ]
    },
    {
     "name": "stderr",
     "output_type": "stream",
     "text": [
      "127.0.0.1 - - [11/Jul/2022 10:32:30] \"POST /app/_dash-update-component HTTP/1.1\" 200 -\n"
     ]
    },
    {
     "name": "stdout",
     "output_type": "stream",
     "text": [
      "update_bubble_graph_cb: 0.028 second(s)\n"
     ]
    },
    {
     "name": "stderr",
     "output_type": "stream",
     "text": [
      "127.0.0.1 - - [11/Jul/2022 10:32:31] \"POST /app/_dash-update-component HTTP/1.1\" 200 -\n"
     ]
    },
    {
     "name": "stdout",
     "output_type": "stream",
     "text": [
      "update_bubble_graph_cb: 0.024 second(s)\n"
     ]
    },
    {
     "name": "stderr",
     "output_type": "stream",
     "text": [
      "127.0.0.1 - - [11/Jul/2022 10:32:32] \"POST /app/_dash-update-component HTTP/1.1\" 200 -\n"
     ]
    },
    {
     "name": "stdout",
     "output_type": "stream",
     "text": [
      "update_bubble_graph_cb: 0.024 second(s)\n"
     ]
    },
    {
     "name": "stderr",
     "output_type": "stream",
     "text": [
      "127.0.0.1 - - [11/Jul/2022 10:32:33] \"POST /app/_dash-update-component HTTP/1.1\" 200 -\n"
     ]
    },
    {
     "name": "stdout",
     "output_type": "stream",
     "text": [
      "update_bubble_graph_cb: 0.030 second(s)\n"
     ]
    },
    {
     "name": "stderr",
     "output_type": "stream",
     "text": [
      "127.0.0.1 - - [11/Jul/2022 10:32:34] \"POST /app/_dash-update-component HTTP/1.1\" 200 -\n"
     ]
    },
    {
     "name": "stdout",
     "output_type": "stream",
     "text": [
      "update_bubble_graph_cb: 0.025 second(s)\n"
     ]
    },
    {
     "name": "stderr",
     "output_type": "stream",
     "text": [
      "127.0.0.1 - - [11/Jul/2022 10:32:35] \"POST /app/_dash-update-component HTTP/1.1\" 200 -\n"
     ]
    },
    {
     "name": "stdout",
     "output_type": "stream",
     "text": [
      "update_bubble_graph_cb: 0.025 second(s)\n"
     ]
    },
    {
     "name": "stderr",
     "output_type": "stream",
     "text": [
      "127.0.0.1 - - [11/Jul/2022 10:32:36] \"POST /app/_dash-update-component HTTP/1.1\" 200 -\n"
     ]
    },
    {
     "name": "stdout",
     "output_type": "stream",
     "text": [
      "update_bubble_graph_cb: 0.034 second(s)\n"
     ]
    },
    {
     "name": "stderr",
     "output_type": "stream",
     "text": [
      "127.0.0.1 - - [11/Jul/2022 10:32:37] \"POST /app/_dash-update-component HTTP/1.1\" 200 -\n"
     ]
    },
    {
     "name": "stdout",
     "output_type": "stream",
     "text": [
      "update_bubble_graph_cb: 0.028 second(s)\n"
     ]
    },
    {
     "name": "stderr",
     "output_type": "stream",
     "text": [
      "127.0.0.1 - - [11/Jul/2022 10:32:38] \"POST /app/_dash-update-component HTTP/1.1\" 200 -\n"
     ]
    },
    {
     "name": "stdout",
     "output_type": "stream",
     "text": [
      "update_bubble_graph_cb: 0.021 second(s)\n"
     ]
    },
    {
     "name": "stderr",
     "output_type": "stream",
     "text": [
      "127.0.0.1 - - [11/Jul/2022 10:32:39] \"POST /app/_dash-update-component HTTP/1.1\" 200 -\n"
     ]
    },
    {
     "name": "stdout",
     "output_type": "stream",
     "text": [
      "update_bubble_graph_cb: 0.028 second(s)\n"
     ]
    },
    {
     "name": "stderr",
     "output_type": "stream",
     "text": [
      "127.0.0.1 - - [11/Jul/2022 10:32:42] \"POST /app/_dash-update-component HTTP/1.1\" 200 -\n",
      "127.0.0.1 - - [11/Jul/2022 10:32:42] \"POST /app/_dash-update-component HTTP/1.1\" 200 -\n"
     ]
    },
    {
     "name": "stdout",
     "output_type": "stream",
     "text": [
      "update_bubble_graph_cb: 0.026 second(s)\n",
      "update_bubble_graph_cb: 0.034 second(s)\n"
     ]
    },
    {
     "name": "stderr",
     "output_type": "stream",
     "text": [
      "127.0.0.1 - - [11/Jul/2022 10:32:42] \"POST /app/_dash-update-component HTTP/1.1\" 200 -\n"
     ]
    },
    {
     "name": "stdout",
     "output_type": "stream",
     "text": [
      "update_bubble_graph_cb: 0.032 second(s)\n"
     ]
    },
    {
     "name": "stderr",
     "output_type": "stream",
     "text": [
      "127.0.0.1 - - [11/Jul/2022 10:32:43] \"POST /app/_dash-update-component HTTP/1.1\" 200 -\n"
     ]
    },
    {
     "name": "stdout",
     "output_type": "stream",
     "text": [
      "update_bubble_graph_cb: 0.028 second(s)\n",
      "Exception on /app/_dash-update-component [POST]\n",
      "Traceback (most recent call last):\n",
      "  File \"C:\\Users\\LENOVO\\anaconda3\\lib\\site-packages\\flask\\app.py\", line 2447, in wsgi_app\n",
      "    response = self.full_dispatch_request()\n",
      "  File \"C:\\Users\\LENOVO\\anaconda3\\lib\\site-packages\\flask\\app.py\", line 1952, in full_dispatch_request\n",
      "    rv = self.handle_user_exception(e)\n",
      "  File \"C:\\Users\\LENOVO\\anaconda3\\lib\\site-packages\\flask\\app.py\", line 1821, in handle_user_exception\n",
      "    reraise(exc_type, exc_value, tb)\n",
      "  File \"C:\\Users\\LENOVO\\anaconda3\\lib\\site-packages\\flask\\_compat.py\", line 39, in reraise\n",
      "    raise value\n",
      "  File \"C:\\Users\\LENOVO\\anaconda3\\lib\\site-packages\\flask\\app.py\", line 1950, in full_dispatch_request\n",
      "    rv = self.dispatch_request()\n",
      "  File \"C:\\Users\\LENOVO\\anaconda3\\lib\\site-packages\\flask\\app.py\", line 1936, in dispatch_request\n",
      "    return self.view_functions[rule.endpoint](**req.view_args)\n",
      "  File \"C:\\Users\\LENOVO\\anaconda3\\lib\\site-packages\\dash\\dash.py\", line 1472, in dispatch\n",
      "    response.set_data(func(*args, outputs_list=outputs_list))\n",
      "  File \"C:\\Users\\LENOVO\\anaconda3\\lib\\site-packages\\dash\\_callback.py\", line 151, in add_context\n",
      "    output_value = func(*func_args, **func_kwargs)  # %% callback invoked %%\n",
      "  File \"C:\\Users\\LENOVO\\AppData\\Local\\Temp/ipykernel_5004/1735512418.py\", line 37, in update_bubble_graph_cb\n",
      "    fig = load_plot()\n",
      "  File \"C:\\Users\\LENOVO\\AppData\\Local\\Temp/ipykernel_5004/1735512418.py\", line 112, in plot\n",
      "    fig2 = pickle.load(f)\n",
      "EOFError: Ran out of input\n"
     ]
    },
    {
     "name": "stderr",
     "output_type": "stream",
     "text": [
      "127.0.0.1 - - [11/Jul/2022 10:32:44] \"POST /app/_dash-update-component HTTP/1.1\" 500 -\n",
      "127.0.0.1 - - [11/Jul/2022 10:32:45] \"POST /app/_dash-update-component HTTP/1.1\" 200 -\n"
     ]
    },
    {
     "name": "stdout",
     "output_type": "stream",
     "text": [
      "update_bubble_graph_cb: 0.031 second(s)\n"
     ]
    },
    {
     "name": "stderr",
     "output_type": "stream",
     "text": [
      "127.0.0.1 - - [11/Jul/2022 10:32:46] \"POST /app/_dash-update-component HTTP/1.1\" 200 -\n"
     ]
    },
    {
     "name": "stdout",
     "output_type": "stream",
     "text": [
      "update_bubble_graph_cb: 0.032 second(s)\n"
     ]
    },
    {
     "name": "stderr",
     "output_type": "stream",
     "text": [
      "127.0.0.1 - - [11/Jul/2022 10:32:47] \"POST /app/_dash-update-component HTTP/1.1\" 200 -\n"
     ]
    },
    {
     "name": "stdout",
     "output_type": "stream",
     "text": [
      "update_bubble_graph_cb: 0.022 second(s)\n"
     ]
    },
    {
     "name": "stderr",
     "output_type": "stream",
     "text": [
      "127.0.0.1 - - [11/Jul/2022 10:32:48] \"POST /app/_dash-update-component HTTP/1.1\" 200 -\n"
     ]
    },
    {
     "name": "stdout",
     "output_type": "stream",
     "text": [
      "update_bubble_graph_cb: 0.032 second(s)\n"
     ]
    },
    {
     "name": "stderr",
     "output_type": "stream",
     "text": [
      "127.0.0.1 - - [11/Jul/2022 10:32:49] \"POST /app/_dash-update-component HTTP/1.1\" 200 -\n"
     ]
    },
    {
     "name": "stdout",
     "output_type": "stream",
     "text": [
      "update_bubble_graph_cb: 0.030 second(s)\n"
     ]
    },
    {
     "name": "stderr",
     "output_type": "stream",
     "text": [
      "127.0.0.1 - - [11/Jul/2022 10:32:50] \"POST /app/_dash-update-component HTTP/1.1\" 200 -\n"
     ]
    },
    {
     "name": "stdout",
     "output_type": "stream",
     "text": [
      "update_bubble_graph_cb: 0.027 second(s)\n"
     ]
    },
    {
     "name": "stderr",
     "output_type": "stream",
     "text": [
      "127.0.0.1 - - [11/Jul/2022 10:32:51] \"POST /app/_dash-update-component HTTP/1.1\" 200 -\n"
     ]
    },
    {
     "name": "stdout",
     "output_type": "stream",
     "text": [
      "update_bubble_graph_cb: 0.024 second(s)\n"
     ]
    },
    {
     "name": "stderr",
     "output_type": "stream",
     "text": [
      "127.0.0.1 - - [11/Jul/2022 10:32:52] \"POST /app/_dash-update-component HTTP/1.1\" 200 -\n"
     ]
    },
    {
     "name": "stdout",
     "output_type": "stream",
     "text": [
      "update_bubble_graph_cb: 0.024 second(s)\n"
     ]
    },
    {
     "name": "stderr",
     "output_type": "stream",
     "text": [
      "127.0.0.1 - - [11/Jul/2022 10:32:53] \"POST /app/_dash-update-component HTTP/1.1\" 200 -\n"
     ]
    },
    {
     "name": "stdout",
     "output_type": "stream",
     "text": [
      "update_bubble_graph_cb: 0.020 second(s)\n"
     ]
    },
    {
     "name": "stderr",
     "output_type": "stream",
     "text": [
      "127.0.0.1 - - [11/Jul/2022 10:32:54] \"POST /app/_dash-update-component HTTP/1.1\" 200 -\n"
     ]
    },
    {
     "name": "stdout",
     "output_type": "stream",
     "text": [
      "update_bubble_graph_cb: 0.031 second(s)\n"
     ]
    },
    {
     "name": "stderr",
     "output_type": "stream",
     "text": [
      "127.0.0.1 - - [11/Jul/2022 10:32:55] \"POST /app/_dash-update-component HTTP/1.1\" 200 -\n"
     ]
    },
    {
     "name": "stdout",
     "output_type": "stream",
     "text": [
      "update_bubble_graph_cb: 0.031 second(s)\n"
     ]
    },
    {
     "name": "stderr",
     "output_type": "stream",
     "text": [
      "127.0.0.1 - - [11/Jul/2022 10:32:56] \"POST /app/_dash-update-component HTTP/1.1\" 200 -\n"
     ]
    },
    {
     "name": "stdout",
     "output_type": "stream",
     "text": [
      "update_bubble_graph_cb: 0.028 second(s)\n"
     ]
    },
    {
     "name": "stderr",
     "output_type": "stream",
     "text": [
      "127.0.0.1 - - [11/Jul/2022 10:32:59] \"POST /app/_dash-update-component HTTP/1.1\" 200 -\n",
      "127.0.0.1 - - [11/Jul/2022 10:32:59] \"POST /app/_dash-update-component HTTP/1.1\" 200 -\n"
     ]
    },
    {
     "name": "stdout",
     "output_type": "stream",
     "text": [
      "update_bubble_graph_cb: 0.032 second(s)\n",
      "update_bubble_graph_cb: 0.024 second(s)\n"
     ]
    },
    {
     "name": "stderr",
     "output_type": "stream",
     "text": [
      "127.0.0.1 - - [11/Jul/2022 10:33:01] \"POST /app/_dash-update-component HTTP/1.1\" 200 -\n",
      "127.0.0.1 - - [11/Jul/2022 10:33:01] \"POST /app/_dash-update-component HTTP/1.1\" 200 -\n"
     ]
    },
    {
     "name": "stdout",
     "output_type": "stream",
     "text": [
      "update_bubble_graph_cb: 0.028 second(s)\n",
      "update_bubble_graph_cb: 0.024 second(s)\n"
     ]
    },
    {
     "name": "stderr",
     "output_type": "stream",
     "text": [
      "127.0.0.1 - - [11/Jul/2022 10:33:03] \"POST /app/_dash-update-component HTTP/1.1\" 200 -\n",
      "127.0.0.1 - - [11/Jul/2022 10:33:03] \"POST /app/_dash-update-component HTTP/1.1\" 200 -\n"
     ]
    },
    {
     "name": "stdout",
     "output_type": "stream",
     "text": [
      "update_bubble_graph_cb: 0.022 second(s)\n",
      "update_bubble_graph_cb: 0.021 second(s)\n"
     ]
    },
    {
     "name": "stderr",
     "output_type": "stream",
     "text": [
      "127.0.0.1 - - [11/Jul/2022 10:33:05] \"POST /app/_dash-update-component HTTP/1.1\" 200 -\n",
      "127.0.0.1 - - [11/Jul/2022 10:33:05] \"POST /app/_dash-update-component HTTP/1.1\" 200 -\n"
     ]
    },
    {
     "name": "stdout",
     "output_type": "stream",
     "text": [
      "update_bubble_graph_cb: 0.024 second(s)\n",
      "update_bubble_graph_cb: 0.026 second(s)\n"
     ]
    },
    {
     "name": "stderr",
     "output_type": "stream",
     "text": [
      "127.0.0.1 - - [11/Jul/2022 10:33:07] \"POST /app/_dash-update-component HTTP/1.1\" 200 -\n",
      "127.0.0.1 - - [11/Jul/2022 10:33:07] \"POST /app/_dash-update-component HTTP/1.1\" 200 -\n"
     ]
    },
    {
     "name": "stdout",
     "output_type": "stream",
     "text": [
      "update_bubble_graph_cb: 0.033 second(s)\n",
      "update_bubble_graph_cb: 0.032 second(s)\n",
      "Exception on /app/_dash-update-component [POST]\n",
      "Traceback (most recent call last):\n",
      "  File \"C:\\Users\\LENOVO\\anaconda3\\lib\\site-packages\\flask\\app.py\", line 2447, in wsgi_app\n",
      "    response = self.full_dispatch_request()\n",
      "  File \"C:\\Users\\LENOVO\\anaconda3\\lib\\site-packages\\flask\\app.py\", line 1952, in full_dispatch_request\n",
      "    rv = self.handle_user_exception(e)\n",
      "  File \"C:\\Users\\LENOVO\\anaconda3\\lib\\site-packages\\flask\\app.py\", line 1821, in handle_user_exception\n",
      "    reraise(exc_type, exc_value, tb)\n",
      "  File \"C:\\Users\\LENOVO\\anaconda3\\lib\\site-packages\\flask\\_compat.py\", line 39, in reraise\n",
      "    raise value\n",
      "  File \"C:\\Users\\LENOVO\\anaconda3\\lib\\site-packages\\flask\\app.py\", line 1950, in full_dispatch_request\n",
      "    rv = self.dispatch_request()\n",
      "  File \"C:\\Users\\LENOVO\\anaconda3\\lib\\site-packages\\flask\\app.py\", line 1936, in dispatch_request\n",
      "    return self.view_functions[rule.endpoint](**req.view_args)\n",
      "  File \"C:\\Users\\LENOVO\\anaconda3\\lib\\site-packages\\dash\\dash.py\", line 1472, in dispatch\n",
      "    response.set_data(func(*args, outputs_list=outputs_list))\n",
      "  File \"C:\\Users\\LENOVO\\anaconda3\\lib\\site-packages\\dash\\_callback.py\", line 151, in add_context\n",
      "    output_value = func(*func_args, **func_kwargs)  # %% callback invoked %%\n",
      "  File \"C:\\Users\\LENOVO\\AppData\\Local\\Temp/ipykernel_5004/1735512418.py\", line 37, in update_bubble_graph_cb\n",
      "    fig = load_plot()\n",
      "  File \"C:\\Users\\LENOVO\\AppData\\Local\\Temp/ipykernel_5004/1735512418.py\", line 112, in plot\n",
      "    fig2 = pickle.load(f)\n",
      "EOFError: Ran out of input\n"
     ]
    },
    {
     "name": "stderr",
     "output_type": "stream",
     "text": [
      "127.0.0.1 - - [11/Jul/2022 10:33:09] \"POST /app/_dash-update-component HTTP/1.1\" 500 -\n",
      "127.0.0.1 - - [11/Jul/2022 10:33:09] \"POST /app/_dash-update-component HTTP/1.1\" 200 -\n"
     ]
    },
    {
     "name": "stdout",
     "output_type": "stream",
     "text": [
      "update_bubble_graph_cb: 0.032 second(s)\n"
     ]
    },
    {
     "name": "stderr",
     "output_type": "stream",
     "text": [
      "127.0.0.1 - - [11/Jul/2022 10:33:11] \"POST /app/_dash-update-component HTTP/1.1\" 200 -\n",
      "127.0.0.1 - - [11/Jul/2022 10:33:11] \"POST /app/_dash-update-component HTTP/1.1\" 200 -\n"
     ]
    },
    {
     "name": "stdout",
     "output_type": "stream",
     "text": [
      "update_bubble_graph_cb: 0.028 second(s)\n",
      "update_bubble_graph_cb: 0.021 second(s)\n"
     ]
    },
    {
     "name": "stderr",
     "output_type": "stream",
     "text": [
      "127.0.0.1 - - [11/Jul/2022 10:33:13] \"POST /app/_dash-update-component HTTP/1.1\" 200 -\n",
      "127.0.0.1 - - [11/Jul/2022 10:33:13] \"POST /app/_dash-update-component HTTP/1.1\" 200 -\n"
     ]
    },
    {
     "name": "stdout",
     "output_type": "stream",
     "text": [
      "update_bubble_graph_cb: 0.033 second(s)\n",
      "update_bubble_graph_cb: 0.034 second(s)\n"
     ]
    },
    {
     "name": "stderr",
     "output_type": "stream",
     "text": [
      "127.0.0.1 - - [11/Jul/2022 10:33:15] \"POST /app/_dash-update-component HTTP/1.1\" 200 -\n",
      "127.0.0.1 - - [11/Jul/2022 10:33:15] \"POST /app/_dash-update-component HTTP/1.1\" 200 -\n"
     ]
    },
    {
     "name": "stdout",
     "output_type": "stream",
     "text": [
      "update_bubble_graph_cb: 0.034 second(s)\n",
      "update_bubble_graph_cb: 0.019 second(s)\n"
     ]
    },
    {
     "name": "stderr",
     "output_type": "stream",
     "text": [
      "127.0.0.1 - - [11/Jul/2022 10:33:17] \"POST /app/_dash-update-component HTTP/1.1\" 200 -\n",
      "127.0.0.1 - - [11/Jul/2022 10:33:17] \"POST /app/_dash-update-component HTTP/1.1\" 200 -\n"
     ]
    },
    {
     "name": "stdout",
     "output_type": "stream",
     "text": [
      "update_bubble_graph_cb: 0.028 second(s)\n",
      "update_bubble_graph_cb: 0.024 second(s)\n"
     ]
    },
    {
     "name": "stderr",
     "output_type": "stream",
     "text": [
      "127.0.0.1 - - [11/Jul/2022 10:33:19] \"POST /app/_dash-update-component HTTP/1.1\" 200 -\n",
      "127.0.0.1 - - [11/Jul/2022 10:33:19] \"POST /app/_dash-update-component HTTP/1.1\" 200 -\n"
     ]
    },
    {
     "name": "stdout",
     "output_type": "stream",
     "text": [
      "update_bubble_graph_cb: 0.038 second(s)\n",
      "update_bubble_graph_cb: 0.022 second(s)\n"
     ]
    },
    {
     "name": "stderr",
     "output_type": "stream",
     "text": [
      "127.0.0.1 - - [11/Jul/2022 10:33:21] \"POST /app/_dash-update-component HTTP/1.1\" 200 -\n",
      "127.0.0.1 - - [11/Jul/2022 10:33:21] \"POST /app/_dash-update-component HTTP/1.1\" 200 -\n"
     ]
    },
    {
     "name": "stdout",
     "output_type": "stream",
     "text": [
      "update_bubble_graph_cb: 0.028 second(s)\n",
      "update_bubble_graph_cb: 0.026 second(s)\n"
     ]
    },
    {
     "name": "stderr",
     "output_type": "stream",
     "text": [
      "127.0.0.1 - - [11/Jul/2022 10:33:23] \"POST /app/_dash-update-component HTTP/1.1\" 200 -\n",
      "127.0.0.1 - - [11/Jul/2022 10:33:23] \"POST /app/_dash-update-component HTTP/1.1\" 200 -\n"
     ]
    },
    {
     "name": "stdout",
     "output_type": "stream",
     "text": [
      "update_bubble_graph_cb: 0.033 second(s)\n",
      "update_bubble_graph_cb: 0.028 second(s)\n"
     ]
    },
    {
     "name": "stderr",
     "output_type": "stream",
     "text": [
      "127.0.0.1 - - [11/Jul/2022 10:33:25] \"POST /app/_dash-update-component HTTP/1.1\" 200 -\n",
      "127.0.0.1 - - [11/Jul/2022 10:33:25] \"POST /app/_dash-update-component HTTP/1.1\" 200 -\n"
     ]
    },
    {
     "name": "stdout",
     "output_type": "stream",
     "text": [
      "update_bubble_graph_cb: 0.028 second(s)\n",
      "update_bubble_graph_cb: 0.022 second(s)\n"
     ]
    },
    {
     "name": "stderr",
     "output_type": "stream",
     "text": [
      "127.0.0.1 - - [11/Jul/2022 10:33:27] \"POST /app/_dash-update-component HTTP/1.1\" 200 -\n",
      "127.0.0.1 - - [11/Jul/2022 10:33:27] \"POST /app/_dash-update-component HTTP/1.1\" 200 -\n"
     ]
    },
    {
     "name": "stdout",
     "output_type": "stream",
     "text": [
      "update_bubble_graph_cb: 0.041 second(s)\n",
      "update_bubble_graph_cb: 0.024 second(s)\n"
     ]
    },
    {
     "name": "stderr",
     "output_type": "stream",
     "text": [
      "127.0.0.1 - - [11/Jul/2022 10:33:29] \"POST /app/_dash-update-component HTTP/1.1\" 200 -\n"
     ]
    },
    {
     "name": "stdout",
     "output_type": "stream",
     "text": [
      "update_bubble_graph_cb: 0.025 second(s)\n",
      "Exception on /app/_dash-update-component [POST]\n",
      "Traceback (most recent call last):\n",
      "  File \"C:\\Users\\LENOVO\\anaconda3\\lib\\site-packages\\flask\\app.py\", line 2447, in wsgi_app\n",
      "    response = self.full_dispatch_request()\n",
      "  File \"C:\\Users\\LENOVO\\anaconda3\\lib\\site-packages\\flask\\app.py\", line 1952, in full_dispatch_request\n",
      "    rv = self.handle_user_exception(e)\n",
      "  File \"C:\\Users\\LENOVO\\anaconda3\\lib\\site-packages\\flask\\app.py\", line 1821, in handle_user_exception\n",
      "    reraise(exc_type, exc_value, tb)\n",
      "  File \"C:\\Users\\LENOVO\\anaconda3\\lib\\site-packages\\flask\\_compat.py\", line 39, in reraise\n",
      "    raise value\n",
      "  File \"C:\\Users\\LENOVO\\anaconda3\\lib\\site-packages\\flask\\app.py\", line 1950, in full_dispatch_request\n",
      "    rv = self.dispatch_request()\n",
      "  File \"C:\\Users\\LENOVO\\anaconda3\\lib\\site-packages\\flask\\app.py\", line 1936, in dispatch_request\n",
      "    return self.view_functions[rule.endpoint](**req.view_args)\n",
      "  File \"C:\\Users\\LENOVO\\anaconda3\\lib\\site-packages\\dash\\dash.py\", line 1472, in dispatch\n",
      "    response.set_data(func(*args, outputs_list=outputs_list))\n",
      "  File \"C:\\Users\\LENOVO\\anaconda3\\lib\\site-packages\\dash\\_callback.py\", line 151, in add_context\n",
      "    output_value = func(*func_args, **func_kwargs)  # %% callback invoked %%\n",
      "  File \"C:\\Users\\LENOVO\\AppData\\Local\\Temp/ipykernel_5004/1735512418.py\", line 37, in update_bubble_graph_cb\n",
      "    fig = load_plot()\n",
      "  File \"C:\\Users\\LENOVO\\AppData\\Local\\Temp/ipykernel_5004/1735512418.py\", line 112, in plot\n",
      "    fig2 = pickle.load(f)\n",
      "EOFError: Ran out of input\n"
     ]
    },
    {
     "name": "stderr",
     "output_type": "stream",
     "text": [
      "127.0.0.1 - - [11/Jul/2022 10:33:29] \"POST /app/_dash-update-component HTTP/1.1\" 500 -\n",
      "127.0.0.1 - - [11/Jul/2022 10:33:31] \"POST /app/_dash-update-component HTTP/1.1\" 200 -\n",
      "127.0.0.1 - - [11/Jul/2022 10:33:31] \"POST /app/_dash-update-component HTTP/1.1\" 200 -\n"
     ]
    },
    {
     "name": "stdout",
     "output_type": "stream",
     "text": [
      "update_bubble_graph_cb: 0.026 second(s)\n",
      "update_bubble_graph_cb: 0.031 second(s)\n"
     ]
    },
    {
     "name": "stderr",
     "output_type": "stream",
     "text": [
      "127.0.0.1 - - [11/Jul/2022 10:33:33] \"POST /app/_dash-update-component HTTP/1.1\" 200 -\n",
      "127.0.0.1 - - [11/Jul/2022 10:33:33] \"POST /app/_dash-update-component HTTP/1.1\" 200 -\n"
     ]
    },
    {
     "name": "stdout",
     "output_type": "stream",
     "text": [
      "update_bubble_graph_cb: 0.024 second(s)\n",
      "update_bubble_graph_cb: 0.021 second(s)\n"
     ]
    },
    {
     "name": "stderr",
     "output_type": "stream",
     "text": [
      "127.0.0.1 - - [11/Jul/2022 10:33:35] \"POST /app/_dash-update-component HTTP/1.1\" 200 -\n",
      "127.0.0.1 - - [11/Jul/2022 10:33:35] \"POST /app/_dash-update-component HTTP/1.1\" 200 -\n"
     ]
    },
    {
     "name": "stdout",
     "output_type": "stream",
     "text": [
      "update_bubble_graph_cb: 0.024 second(s)\n",
      "update_bubble_graph_cb: 0.021 second(s)\n",
      "Exception on /app/_dash-update-component [POST]\n",
      "Traceback (most recent call last):\n",
      "  File \"C:\\Users\\LENOVO\\anaconda3\\lib\\site-packages\\flask\\app.py\", line 2447, in wsgi_app\n",
      "    response = self.full_dispatch_request()\n",
      "  File \"C:\\Users\\LENOVO\\anaconda3\\lib\\site-packages\\flask\\app.py\", line 1952, in full_dispatch_request\n",
      "    rv = self.handle_user_exception(e)\n",
      "  File \"C:\\Users\\LENOVO\\anaconda3\\lib\\site-packages\\flask\\app.py\", line 1821, in handle_user_exception\n",
      "    reraise(exc_type, exc_value, tb)\n",
      "  File \"C:\\Users\\LENOVO\\anaconda3\\lib\\site-packages\\flask\\_compat.py\", line 39, in reraise\n",
      "    raise value\n",
      "  File \"C:\\Users\\LENOVO\\anaconda3\\lib\\site-packages\\flask\\app.py\", line 1950, in full_dispatch_request\n",
      "    rv = self.dispatch_request()\n",
      "  File \"C:\\Users\\LENOVO\\anaconda3\\lib\\site-packages\\flask\\app.py\", line 1936, in dispatch_request\n",
      "    return self.view_functions[rule.endpoint](**req.view_args)\n",
      "  File \"C:\\Users\\LENOVO\\anaconda3\\lib\\site-packages\\dash\\dash.py\", line 1472, in dispatch\n",
      "    response.set_data(func(*args, outputs_list=outputs_list))\n",
      "  File \"C:\\Users\\LENOVO\\anaconda3\\lib\\site-packages\\dash\\_callback.py\", line 151, in add_context\n",
      "    output_value = func(*func_args, **func_kwargs)  # %% callback invoked %%\n",
      "  File \"C:\\Users\\LENOVO\\AppData\\Local\\Temp/ipykernel_5004/1735512418.py\", line 37, in update_bubble_graph_cb\n",
      "    fig = load_plot()\n",
      "  File \"C:\\Users\\LENOVO\\AppData\\Local\\Temp/ipykernel_5004/1735512418.py\", line 112, in plot\n",
      "    fig2 = pickle.load(f)\n",
      "EOFError: Ran out of input\n"
     ]
    },
    {
     "name": "stderr",
     "output_type": "stream",
     "text": [
      "127.0.0.1 - - [11/Jul/2022 10:33:37] \"POST /app/_dash-update-component HTTP/1.1\" 500 -\n",
      "127.0.0.1 - - [11/Jul/2022 10:33:37] \"POST /app/_dash-update-component HTTP/1.1\" 200 -\n"
     ]
    },
    {
     "name": "stdout",
     "output_type": "stream",
     "text": [
      "update_bubble_graph_cb: 0.028 second(s)\n"
     ]
    },
    {
     "name": "stderr",
     "output_type": "stream",
     "text": [
      "127.0.0.1 - - [11/Jul/2022 10:33:39] \"POST /app/_dash-update-component HTTP/1.1\" 200 -\n",
      "127.0.0.1 - - [11/Jul/2022 10:33:39] \"POST /app/_dash-update-component HTTP/1.1\" 200 -\n"
     ]
    },
    {
     "name": "stdout",
     "output_type": "stream",
     "text": [
      "update_bubble_graph_cb: 0.028 second(s)\n",
      "update_bubble_graph_cb: 0.029 second(s)\n"
     ]
    },
    {
     "name": "stderr",
     "output_type": "stream",
     "text": [
      "127.0.0.1 - - [11/Jul/2022 10:33:41] \"POST /app/_dash-update-component HTTP/1.1\" 200 -\n",
      "127.0.0.1 - - [11/Jul/2022 10:33:41] \"POST /app/_dash-update-component HTTP/1.1\" 200 -\n"
     ]
    },
    {
     "name": "stdout",
     "output_type": "stream",
     "text": [
      "update_bubble_graph_cb: 0.032 second(s)\n",
      "update_bubble_graph_cb: 0.028 second(s)\n"
     ]
    },
    {
     "name": "stderr",
     "output_type": "stream",
     "text": [
      "127.0.0.1 - - [11/Jul/2022 10:33:43] \"POST /app/_dash-update-component HTTP/1.1\" 200 -\n",
      "127.0.0.1 - - [11/Jul/2022 10:33:43] \"POST /app/_dash-update-component HTTP/1.1\" 200 -\n"
     ]
    },
    {
     "name": "stdout",
     "output_type": "stream",
     "text": [
      "update_bubble_graph_cb: 0.024 second(s)\n",
      "update_bubble_graph_cb: 0.022 second(s)\n"
     ]
    },
    {
     "name": "stderr",
     "output_type": "stream",
     "text": [
      "127.0.0.1 - - [11/Jul/2022 10:33:45] \"POST /app/_dash-update-component HTTP/1.1\" 200 -\n",
      "127.0.0.1 - - [11/Jul/2022 10:33:45] \"POST /app/_dash-update-component HTTP/1.1\" 200 -\n"
     ]
    },
    {
     "name": "stdout",
     "output_type": "stream",
     "text": [
      "update_bubble_graph_cb: 0.027 second(s)\n",
      "update_bubble_graph_cb: 0.022 second(s)\n"
     ]
    },
    {
     "name": "stderr",
     "output_type": "stream",
     "text": [
      "127.0.0.1 - - [11/Jul/2022 10:33:47] \"POST /app/_dash-update-component HTTP/1.1\" 200 -\n",
      "127.0.0.1 - - [11/Jul/2022 10:33:47] \"POST /app/_dash-update-component HTTP/1.1\" 200 -\n"
     ]
    },
    {
     "name": "stdout",
     "output_type": "stream",
     "text": [
      "update_bubble_graph_cb: 0.024 second(s)\n",
      "update_bubble_graph_cb: 0.028 second(s)\n"
     ]
    },
    {
     "name": "stderr",
     "output_type": "stream",
     "text": [
      "127.0.0.1 - - [11/Jul/2022 10:33:49] \"POST /app/_dash-update-component HTTP/1.1\" 200 -\n",
      "127.0.0.1 - - [11/Jul/2022 10:33:49] \"POST /app/_dash-update-component HTTP/1.1\" 200 -\n"
     ]
    },
    {
     "name": "stdout",
     "output_type": "stream",
     "text": [
      "update_bubble_graph_cb: 0.032 second(s)\n",
      "update_bubble_graph_cb: 0.031 second(s)\n"
     ]
    },
    {
     "name": "stderr",
     "output_type": "stream",
     "text": [
      "127.0.0.1 - - [11/Jul/2022 10:33:51] \"POST /app/_dash-update-component HTTP/1.1\" 200 -\n",
      "127.0.0.1 - - [11/Jul/2022 10:33:51] \"POST /app/_dash-update-component HTTP/1.1\" 200 -\n"
     ]
    },
    {
     "name": "stdout",
     "output_type": "stream",
     "text": [
      "update_bubble_graph_cb: 0.025 second(s)\n",
      "update_bubble_graph_cb: 0.028 second(s)\n"
     ]
    },
    {
     "name": "stderr",
     "output_type": "stream",
     "text": [
      "127.0.0.1 - - [11/Jul/2022 10:33:53] \"POST /app/_dash-update-component HTTP/1.1\" 200 -\n",
      "127.0.0.1 - - [11/Jul/2022 10:33:53] \"POST /app/_dash-update-component HTTP/1.1\" 200 -\n"
     ]
    },
    {
     "name": "stdout",
     "output_type": "stream",
     "text": [
      "update_bubble_graph_cb: 0.062 second(s)\n",
      "update_bubble_graph_cb: 0.026 second(s)\n"
     ]
    },
    {
     "name": "stderr",
     "output_type": "stream",
     "text": [
      "127.0.0.1 - - [11/Jul/2022 10:33:55] \"POST /app/_dash-update-component HTTP/1.1\" 200 -\n",
      "127.0.0.1 - - [11/Jul/2022 10:33:55] \"POST /app/_dash-update-component HTTP/1.1\" 200 -\n"
     ]
    },
    {
     "name": "stdout",
     "output_type": "stream",
     "text": [
      "update_bubble_graph_cb: 0.028 second(s)\n",
      "update_bubble_graph_cb: 0.022 second(s)\n"
     ]
    },
    {
     "name": "stderr",
     "output_type": "stream",
     "text": [
      "127.0.0.1 - - [11/Jul/2022 10:33:57] \"POST /app/_dash-update-component HTTP/1.1\" 200 -\n",
      "127.0.0.1 - - [11/Jul/2022 10:33:57] \"POST /app/_dash-update-component HTTP/1.1\" 200 -\n"
     ]
    },
    {
     "name": "stdout",
     "output_type": "stream",
     "text": [
      "update_bubble_graph_cb: 0.026 second(s)\n",
      "update_bubble_graph_cb: 0.025 second(s)\n"
     ]
    },
    {
     "name": "stderr",
     "output_type": "stream",
     "text": [
      "127.0.0.1 - - [11/Jul/2022 10:33:59] \"POST /app/_dash-update-component HTTP/1.1\" 200 -\n",
      "127.0.0.1 - - [11/Jul/2022 10:33:59] \"POST /app/_dash-update-component HTTP/1.1\" 200 -\n"
     ]
    },
    {
     "name": "stdout",
     "output_type": "stream",
     "text": [
      "update_bubble_graph_cb: 0.028 second(s)\n",
      "update_bubble_graph_cb: 0.019 second(s)\n"
     ]
    },
    {
     "name": "stderr",
     "output_type": "stream",
     "text": [
      "127.0.0.1 - - [11/Jul/2022 10:34:01] \"POST /app/_dash-update-component HTTP/1.1\" 200 -\n",
      "127.0.0.1 - - [11/Jul/2022 10:34:01] \"POST /app/_dash-update-component HTTP/1.1\" 200 -\n"
     ]
    },
    {
     "name": "stdout",
     "output_type": "stream",
     "text": [
      "update_bubble_graph_cb: 0.020 second(s)\n",
      "update_bubble_graph_cb: 0.029 second(s)\n"
     ]
    },
    {
     "name": "stderr",
     "output_type": "stream",
     "text": [
      "127.0.0.1 - - [11/Jul/2022 10:34:03] \"POST /app/_dash-update-component HTTP/1.1\" 200 -\n",
      "127.0.0.1 - - [11/Jul/2022 10:34:03] \"POST /app/_dash-update-component HTTP/1.1\" 200 -\n"
     ]
    },
    {
     "name": "stdout",
     "output_type": "stream",
     "text": [
      "update_bubble_graph_cb: 0.110 second(s)\n",
      "update_bubble_graph_cb: 0.028 second(s)\n"
     ]
    },
    {
     "name": "stderr",
     "output_type": "stream",
     "text": [
      "127.0.0.1 - - [11/Jul/2022 10:34:05] \"POST /app/_dash-update-component HTTP/1.1\" 200 -\n",
      "127.0.0.1 - - [11/Jul/2022 10:34:05] \"POST /app/_dash-update-component HTTP/1.1\" 200 -\n"
     ]
    },
    {
     "name": "stdout",
     "output_type": "stream",
     "text": [
      "update_bubble_graph_cb: 0.032 second(s)\n",
      "update_bubble_graph_cb: 0.024 second(s)\n"
     ]
    },
    {
     "name": "stderr",
     "output_type": "stream",
     "text": [
      "127.0.0.1 - - [11/Jul/2022 10:34:07] \"POST /app/_dash-update-component HTTP/1.1\" 200 -\n",
      "127.0.0.1 - - [11/Jul/2022 10:34:07] \"POST /app/_dash-update-component HTTP/1.1\" 200 -\n"
     ]
    },
    {
     "name": "stdout",
     "output_type": "stream",
     "text": [
      "update_bubble_graph_cb: 0.029 second(s)\n",
      "update_bubble_graph_cb: 0.016 second(s)\n"
     ]
    },
    {
     "name": "stderr",
     "output_type": "stream",
     "text": [
      "127.0.0.1 - - [11/Jul/2022 10:34:09] \"POST /app/_dash-update-component HTTP/1.1\" 200 -\n",
      "127.0.0.1 - - [11/Jul/2022 10:34:09] \"POST /app/_dash-update-component HTTP/1.1\" 200 -\n"
     ]
    },
    {
     "name": "stdout",
     "output_type": "stream",
     "text": [
      "update_bubble_graph_cb: 0.038 second(s)\n",
      "update_bubble_graph_cb: 0.028 second(s)\n"
     ]
    },
    {
     "name": "stderr",
     "output_type": "stream",
     "text": [
      "127.0.0.1 - - [11/Jul/2022 10:34:11] \"POST /app/_dash-update-component HTTP/1.1\" 200 -\n",
      "127.0.0.1 - - [11/Jul/2022 10:34:11] \"POST /app/_dash-update-component HTTP/1.1\" 200 -\n"
     ]
    },
    {
     "name": "stdout",
     "output_type": "stream",
     "text": [
      "update_bubble_graph_cb: 0.024 second(s)\n",
      "update_bubble_graph_cb: 0.024 second(s)\n"
     ]
    },
    {
     "name": "stderr",
     "output_type": "stream",
     "text": [
      "127.0.0.1 - - [11/Jul/2022 10:34:13] \"POST /app/_dash-update-component HTTP/1.1\" 200 -\n",
      "127.0.0.1 - - [11/Jul/2022 10:34:13] \"POST /app/_dash-update-component HTTP/1.1\" 200 -\n"
     ]
    },
    {
     "name": "stdout",
     "output_type": "stream",
     "text": [
      "update_bubble_graph_cb: 0.066 second(s)\n",
      "update_bubble_graph_cb: 0.028 second(s)\n"
     ]
    },
    {
     "name": "stderr",
     "output_type": "stream",
     "text": [
      "127.0.0.1 - - [11/Jul/2022 10:34:15] \"POST /app/_dash-update-component HTTP/1.1\" 200 -\n",
      "127.0.0.1 - - [11/Jul/2022 10:34:15] \"POST /app/_dash-update-component HTTP/1.1\" 200 -\n"
     ]
    },
    {
     "name": "stdout",
     "output_type": "stream",
     "text": [
      "update_bubble_graph_cb: 0.033 second(s)\n",
      "update_bubble_graph_cb: 0.022 second(s)\n",
      "Exception on /app/_dash-update-component [POST]\n",
      "Traceback (most recent call last):\n",
      "  File \"C:\\Users\\LENOVO\\anaconda3\\lib\\site-packages\\flask\\app.py\", line 2447, in wsgi_app\n",
      "    response = self.full_dispatch_request()\n",
      "  File \"C:\\Users\\LENOVO\\anaconda3\\lib\\site-packages\\flask\\app.py\", line 1952, in full_dispatch_request\n",
      "    rv = self.handle_user_exception(e)\n",
      "  File \"C:\\Users\\LENOVO\\anaconda3\\lib\\site-packages\\flask\\app.py\", line 1821, in handle_user_exception\n",
      "    reraise(exc_type, exc_value, tb)\n",
      "  File \"C:\\Users\\LENOVO\\anaconda3\\lib\\site-packages\\flask\\_compat.py\", line 39, in reraise\n",
      "    raise value\n",
      "  File \"C:\\Users\\LENOVO\\anaconda3\\lib\\site-packages\\flask\\app.py\", line 1950, in full_dispatch_request\n",
      "    rv = self.dispatch_request()\n",
      "  File \"C:\\Users\\LENOVO\\anaconda3\\lib\\site-packages\\flask\\app.py\", line 1936, in dispatch_request\n",
      "    return self.view_functions[rule.endpoint](**req.view_args)\n",
      "  File \"C:\\Users\\LENOVO\\anaconda3\\lib\\site-packages\\dash\\dash.py\", line 1472, in dispatch\n",
      "    response.set_data(func(*args, outputs_list=outputs_list))\n",
      "  File \"C:\\Users\\LENOVO\\anaconda3\\lib\\site-packages\\dash\\_callback.py\", line 151, in add_context\n",
      "    output_value = func(*func_args, **func_kwargs)  # %% callback invoked %%\n",
      "  File \"C:\\Users\\LENOVO\\AppData\\Local\\Temp/ipykernel_5004/1735512418.py\", line 37, in update_bubble_graph_cb\n",
      "    fig = load_plot()\n",
      "  File \"C:\\Users\\LENOVO\\AppData\\Local\\Temp/ipykernel_5004/1735512418.py\", line 112, in plot\n",
      "    fig2 = pickle.load(f)\n",
      "EOFError: Ran out of input\n"
     ]
    },
    {
     "name": "stderr",
     "output_type": "stream",
     "text": [
      "127.0.0.1 - - [11/Jul/2022 10:34:17] \"POST /app/_dash-update-component HTTP/1.1\" 500 -\n",
      "127.0.0.1 - - [11/Jul/2022 10:34:17] \"POST /app/_dash-update-component HTTP/1.1\" 200 -\n"
     ]
    },
    {
     "name": "stdout",
     "output_type": "stream",
     "text": [
      "update_bubble_graph_cb: 0.026 second(s)\n"
     ]
    },
    {
     "name": "stderr",
     "output_type": "stream",
     "text": [
      "127.0.0.1 - - [11/Jul/2022 10:34:19] \"POST /app/_dash-update-component HTTP/1.1\" 200 -\n",
      "127.0.0.1 - - [11/Jul/2022 10:34:19] \"POST /app/_dash-update-component HTTP/1.1\" 200 -\n"
     ]
    },
    {
     "name": "stdout",
     "output_type": "stream",
     "text": [
      "update_bubble_graph_cb: 0.033 second(s)\n",
      "update_bubble_graph_cb: 0.033 second(s)\n"
     ]
    },
    {
     "name": "stderr",
     "output_type": "stream",
     "text": [
      "127.0.0.1 - - [11/Jul/2022 10:34:21] \"POST /app/_dash-update-component HTTP/1.1\" 200 -\n",
      "127.0.0.1 - - [11/Jul/2022 10:34:21] \"POST /app/_dash-update-component HTTP/1.1\" 200 -\n"
     ]
    },
    {
     "name": "stdout",
     "output_type": "stream",
     "text": [
      "update_bubble_graph_cb: 0.024 second(s)\n",
      "update_bubble_graph_cb: 0.023 second(s)\n"
     ]
    },
    {
     "name": "stderr",
     "output_type": "stream",
     "text": [
      "127.0.0.1 - - [11/Jul/2022 10:34:23] \"POST /app/_dash-update-component HTTP/1.1\" 200 -\n",
      "127.0.0.1 - - [11/Jul/2022 10:34:23] \"POST /app/_dash-update-component HTTP/1.1\" 200 -\n"
     ]
    },
    {
     "name": "stdout",
     "output_type": "stream",
     "text": [
      "update_bubble_graph_cb: 0.037 second(s)\n",
      "update_bubble_graph_cb: 0.028 second(s)\n",
      "Exception on /app/_dash-update-component [POST]\n",
      "Traceback (most recent call last):\n",
      "  File \"C:\\Users\\LENOVO\\anaconda3\\lib\\site-packages\\flask\\app.py\", line 2447, in wsgi_app\n",
      "    response = self.full_dispatch_request()\n",
      "  File \"C:\\Users\\LENOVO\\anaconda3\\lib\\site-packages\\flask\\app.py\", line 1952, in full_dispatch_request\n",
      "    rv = self.handle_user_exception(e)\n",
      "  File \"C:\\Users\\LENOVO\\anaconda3\\lib\\site-packages\\flask\\app.py\", line 1821, in handle_user_exception\n",
      "    reraise(exc_type, exc_value, tb)\n",
      "  File \"C:\\Users\\LENOVO\\anaconda3\\lib\\site-packages\\flask\\_compat.py\", line 39, in reraise\n",
      "    raise value\n",
      "  File \"C:\\Users\\LENOVO\\anaconda3\\lib\\site-packages\\flask\\app.py\", line 1950, in full_dispatch_request\n",
      "    rv = self.dispatch_request()\n",
      "  File \"C:\\Users\\LENOVO\\anaconda3\\lib\\site-packages\\flask\\app.py\", line 1936, in dispatch_request\n",
      "    return self.view_functions[rule.endpoint](**req.view_args)\n",
      "  File \"C:\\Users\\LENOVO\\anaconda3\\lib\\site-packages\\dash\\dash.py\", line 1472, in dispatch\n",
      "    response.set_data(func(*args, outputs_list=outputs_list))\n",
      "  File \"C:\\Users\\LENOVO\\anaconda3\\lib\\site-packages\\dash\\_callback.py\", line 151, in add_context\n",
      "    output_value = func(*func_args, **func_kwargs)  # %% callback invoked %%\n",
      "  File \"C:\\Users\\LENOVO\\AppData\\Local\\Temp/ipykernel_5004/1735512418.py\", line 37, in update_bubble_graph_cb\n",
      "    fig = load_plot()\n",
      "  File \"C:\\Users\\LENOVO\\AppData\\Local\\Temp/ipykernel_5004/1735512418.py\", line 112, in plot\n",
      "    fig2 = pickle.load(f)\n",
      "EOFError: Ran out of input\n"
     ]
    },
    {
     "name": "stderr",
     "output_type": "stream",
     "text": [
      "127.0.0.1 - - [11/Jul/2022 10:34:25] \"POST /app/_dash-update-component HTTP/1.1\" 500 -\n",
      "127.0.0.1 - - [11/Jul/2022 10:34:25] \"POST /app/_dash-update-component HTTP/1.1\" 200 -\n"
     ]
    },
    {
     "name": "stdout",
     "output_type": "stream",
     "text": [
      "update_bubble_graph_cb: 0.028 second(s)\n"
     ]
    },
    {
     "name": "stderr",
     "output_type": "stream",
     "text": [
      "127.0.0.1 - - [11/Jul/2022 10:34:27] \"POST /app/_dash-update-component HTTP/1.1\" 200 -\n",
      "127.0.0.1 - - [11/Jul/2022 10:34:27] \"POST /app/_dash-update-component HTTP/1.1\" 200 -\n"
     ]
    },
    {
     "name": "stdout",
     "output_type": "stream",
     "text": [
      "update_bubble_graph_cb: 0.028 second(s)\n",
      "update_bubble_graph_cb: 0.028 second(s)\n"
     ]
    },
    {
     "name": "stderr",
     "output_type": "stream",
     "text": [
      "127.0.0.1 - - [11/Jul/2022 10:34:29] \"POST /app/_dash-update-component HTTP/1.1\" 200 -\n",
      "127.0.0.1 - - [11/Jul/2022 10:34:29] \"POST /app/_dash-update-component HTTP/1.1\" 200 -\n"
     ]
    },
    {
     "name": "stdout",
     "output_type": "stream",
     "text": [
      "update_bubble_graph_cb: 0.032 second(s)\n",
      "update_bubble_graph_cb: 0.027 second(s)\n"
     ]
    },
    {
     "name": "stderr",
     "output_type": "stream",
     "text": [
      "127.0.0.1 - - [11/Jul/2022 10:34:31] \"POST /app/_dash-update-component HTTP/1.1\" 200 -\n",
      "127.0.0.1 - - [11/Jul/2022 10:34:31] \"POST /app/_dash-update-component HTTP/1.1\" 200 -\n"
     ]
    },
    {
     "name": "stdout",
     "output_type": "stream",
     "text": [
      "update_bubble_graph_cb: 0.025 second(s)\n",
      "update_bubble_graph_cb: 0.026 second(s)\n"
     ]
    },
    {
     "name": "stderr",
     "output_type": "stream",
     "text": [
      "127.0.0.1 - - [11/Jul/2022 10:34:33] \"POST /app/_dash-update-component HTTP/1.1\" 200 -\n",
      "127.0.0.1 - - [11/Jul/2022 10:34:33] \"POST /app/_dash-update-component HTTP/1.1\" 200 -\n"
     ]
    },
    {
     "name": "stdout",
     "output_type": "stream",
     "text": [
      "update_bubble_graph_cb: 0.036 second(s)\n",
      "update_bubble_graph_cb: 0.024 second(s)\n"
     ]
    },
    {
     "name": "stderr",
     "output_type": "stream",
     "text": [
      "127.0.0.1 - - [11/Jul/2022 10:34:35] \"POST /app/_dash-update-component HTTP/1.1\" 200 -\n",
      "127.0.0.1 - - [11/Jul/2022 10:34:35] \"POST /app/_dash-update-component HTTP/1.1\" 200 -\n"
     ]
    },
    {
     "name": "stdout",
     "output_type": "stream",
     "text": [
      "update_bubble_graph_cb: 0.044 second(s)\n",
      "update_bubble_graph_cb: 0.020 second(s)\n"
     ]
    },
    {
     "name": "stderr",
     "output_type": "stream",
     "text": [
      "127.0.0.1 - - [11/Jul/2022 10:34:37] \"POST /app/_dash-update-component HTTP/1.1\" 200 -\n",
      "127.0.0.1 - - [11/Jul/2022 10:34:37] \"POST /app/_dash-update-component HTTP/1.1\" 200 -\n"
     ]
    },
    {
     "name": "stdout",
     "output_type": "stream",
     "text": [
      "update_bubble_graph_cb: 0.024 second(s)\n",
      "update_bubble_graph_cb: 0.024 second(s)\n"
     ]
    },
    {
     "name": "stderr",
     "output_type": "stream",
     "text": [
      "127.0.0.1 - - [11/Jul/2022 10:34:39] \"POST /app/_dash-update-component HTTP/1.1\" 200 -\n",
      "127.0.0.1 - - [11/Jul/2022 10:34:39] \"POST /app/_dash-update-component HTTP/1.1\" 200 -\n"
     ]
    },
    {
     "name": "stdout",
     "output_type": "stream",
     "text": [
      "update_bubble_graph_cb: 0.028 second(s)\n",
      "update_bubble_graph_cb: 0.034 second(s)\n"
     ]
    },
    {
     "name": "stderr",
     "output_type": "stream",
     "text": [
      "127.0.0.1 - - [11/Jul/2022 10:34:39] \"POST /app/_dash-update-component HTTP/1.1\" 200 -\n"
     ]
    },
    {
     "name": "stdout",
     "output_type": "stream",
     "text": [
      "update_bubble_graph_cb: 0.036 second(s)\n"
     ]
    }
   ],
   "source": [
    "import pandas as pd\n",
    "from time import time, sleep\n",
    "import numpy as np\n",
    "\n",
    "\n",
    "def run_app(APP_PORT = 5083, INTERVAL=1000, load_plot=None, prefix='app'):\n",
    "    import pandas as pd\n",
    "    import dash\n",
    "    from redis import Redis\n",
    "    import dash_core_components as dcc\n",
    "    import dash_html_components as html\n",
    "    from dash.dependencies import Input, Output, State\n",
    "    import dash_bootstrap_components as dbc\n",
    "    # noinspection PyUnresolvedReferences\n",
    "    from dash.exceptions import PreventUpdate\n",
    "    import dash_daq\n",
    "\n",
    "    if True:\n",
    "        # noinspection PyUnresolvedReferences,PyUnusedLocal\n",
    "        BooleanSwitch = dash_daq.BooleanSwitch\n",
    "\n",
    "\n",
    "    class DASH_IDs:\n",
    "        INTERVAL_UPDATE_BUBBLE_GRAPH = 'interval-tick-update-graph-bubble'\n",
    "        GRAPH_BUBBLE = 'graph-main'\n",
    "        GRAPH_BUBBLE2 = 'graph-main2'\n",
    "        SWITCH_DO_UPDATE = 'switch-update-graph-main'\n",
    "\n",
    "\n",
    "    def add_bubble_graph_dynamic(app):\n",
    "        @app.callback(Output(DASH_IDs.GRAPH_BUBBLE, 'figure'),\n",
    "                      Input(DASH_IDs.INTERVAL_UPDATE_BUBBLE_GRAPH, 'n_intervals'),\n",
    "                      State(DASH_IDs.GRAPH_BUBBLE, 'relayoutData'),\n",
    "                      State(DASH_IDs.GRAPH_BUBBLE, 'figure'))\n",
    "        def update_bubble_graph_cb(n, relayoutData, figure):\n",
    "            start_time = time()\n",
    "            fig = load_plot()\n",
    "            figure['data'] = fig.data\n",
    "            figure['layout']['title'] = fig.layout.title\n",
    "            print(f'update_bubble_graph_cb: {time() - start_time :,.3f} second(s)', )\n",
    "\n",
    "            return figure\n",
    "\n",
    "    def threading_func_wrapper(func, delay=0.001, args=None, start=True):\n",
    "        import threading\n",
    "        if args is None:\n",
    "            func_thread = threading.Timer(delay, func)\n",
    "        else:\n",
    "            func_thread = threading.Timer(delay, func, (args,))\n",
    "        if start: func_thread.start()\n",
    "        return func_thread\n",
    "\n",
    "\n",
    "    def create_app():\n",
    "        app = dash.Dash(\"name4\",\n",
    "                        title=APP_TITLE,\n",
    "                        update_title=APP_UPDATE_TITLE,\n",
    "                        external_stylesheets=[dbc.themes.BOOTSTRAP],\n",
    "                        routes_pathname_prefix=APP_PREFIX)\n",
    "        return app\n",
    "\n",
    "    def create_layout(fig):\n",
    "        return html.Div([\n",
    "            dcc.Interval(\n",
    "                id=DASH_IDs.INTERVAL_UPDATE_BUBBLE_GRAPH,\n",
    "                interval=INTERVAL,\n",
    "                max_intervals=4000, ),\n",
    "            dbc.Row([\n",
    "                dbc.Col([\n",
    "                    dcc.Graph(id=DASH_IDs.GRAPH_BUBBLE,\n",
    "                              style={'height': 900, },\n",
    "                              figure=fig,\n",
    "                              config={'displayModeBar': True,\n",
    "                                      'scrollZoom': True},\n",
    "                              ),\n",
    "\n",
    "                ], width=12),\n",
    "            ]),\n",
    "        ])\n",
    "\n",
    "    ########################################################################################################################\n",
    "    \"\"\"APP CONFIGS\"\"\"\n",
    "    APP_TITLE = f'testing'\n",
    "    APP_PREFIX = f'/{prefix}/'\n",
    "    APP_UPDATE_TITLE = None\n",
    "\n",
    "\n",
    "    ########################################################################################################################\n",
    "    \"\"\"VISUAL CONSTANTS\"\"\"\n",
    "\n",
    "\n",
    "    ########################################################################################################################\n",
    "    \"\"\"MISC\"\"\"\n",
    "    r = Redis('localhost', decode_responses=False)\n",
    "\n",
    "    ########################################################################################################################\n",
    "\n",
    "\n",
    "    fig = load_plot()\n",
    "\n",
    "    app = create_app()\n",
    "    app.layout = create_layout(fig)\n",
    "    add_bubble_graph_dynamic(app)\n",
    "    threading_func_wrapper(lambda: app.run_server(debug=False, use_reloader=False, host='127.0.0.1', port=APP_PORT))\n",
    "\n",
    "\n",
    "def plot():\n",
    "    global fig2\n",
    "    import pickle\n",
    "    from plotly import express as px\n",
    "    with open('faketime_fig_byminute.pickle', 'rb') as f:\n",
    "        fig2 = pickle.load(f)\n",
    "    return fig2\n",
    "\n",
    "run_app(APP_PORT = 8050,\n",
    "        INTERVAL=1000,\n",
    "        load_plot=plot,\n",
    "        prefix='app')"
   ]
  },
  {
   "cell_type": "code",
   "execution_count": null,
   "id": "222c4545",
   "metadata": {},
   "outputs": [],
   "source": []
  }
 ],
 "metadata": {
  "kernelspec": {
   "display_name": "Python 3 (ipykernel)",
   "language": "python",
   "name": "python3"
  },
  "language_info": {
   "codemirror_mode": {
    "name": "ipython",
    "version": 3
   },
   "file_extension": ".py",
   "mimetype": "text/x-python",
   "name": "python",
   "nbconvert_exporter": "python",
   "pygments_lexer": "ipython3",
   "version": "3.9.7"
  }
 },
 "nbformat": 4,
 "nbformat_minor": 5
}
