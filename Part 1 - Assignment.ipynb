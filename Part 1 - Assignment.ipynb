{
 "cells": [
  {
   "cell_type": "code",
   "execution_count": 8,
   "id": "a1f21124",
   "metadata": {},
   "outputs": [
    {
     "data": {
      "text/plain": [
       "[2, 1, 0]"
      ]
     },
     "execution_count": 8,
     "metadata": {},
     "output_type": "execute_result"
    }
   ],
   "source": [
    "# Part 1 - Exercise 1\n",
    "def string_count(strings, queries):\n",
    "    a = len(strings)\n",
    "    b = len(queries)\n",
    "    occurrence = []\n",
    "    for j in range(b):\n",
    "        count = 0\n",
    "        for i in range(a):\n",
    "            if strings[i] == queries[j]:\n",
    "                count += 1\n",
    "        occurrence.append(count)\n",
    "    return(occurrence)\n",
    "#Example\n",
    "strings = ['ab', 'ab', 'abc']\n",
    "queries = ['ab', 'abc', 'bc']\n",
    "string_count(strings, queries)"
   ]
  },
  {
   "cell_type": "code",
   "execution_count": 2,
   "id": "7c61080c",
   "metadata": {},
   "outputs": [
    {
     "name": "stdout",
     "output_type": "stream",
     "text": [
      "3\n",
      "[[3, 2], [1, 3], [1, 2]]\n"
     ]
    }
   ],
   "source": [
    "# Part 1 - Exercise 2\n",
    "# Reference: Thomas Cormen et al. Knuth - Morris - Pratt Algorithm, Chapter 32: String Matching, Introduction to Algorithms. MIT Press. Third edition, 2009.\n",
    "\n",
    "def substring_count(strings, queries):\n",
    "    a = len(strings)\n",
    "    b = len(queries)\n",
    "    occurrence_maxlength = []\n",
    "    for j in range(b):\n",
    "        occurrence = 0\n",
    "        for i in range(a):\n",
    "            occurrence += KMPpatternsearch(queries[j], strings[i])\n",
    "        occurrence_maxlength.append([occurrence, len(queries[j])])\n",
    "    return(occurrence_maxlength)\n",
    "\n",
    "def KMPpatternsearch(pattern, text):\n",
    "    M = len(pattern)\n",
    "    N = len(text)\n",
    " \n",
    "    lps = [0]*M #lps stands for longest prefix suffix\n",
    "     \n",
    "    lps_compute(pattern, lps) #compute lps list\n",
    "    \n",
    "    j = 0 # index for pattern\n",
    "    i = 0 # index for text\n",
    "    count = 0 # the number of times pattern found in text\n",
    "    while (N - i) >= (M - j):\n",
    "        if pattern[j] == text[i]:\n",
    "            i += 1\n",
    "            j += 1\n",
    "        if j == M:\n",
    "            count += 1 #pattern found in text\n",
    "            j = lps[j-1]\n",
    " \n",
    "        elif i < N and pattern[j] != text[i]:\n",
    "            if j != 0:\n",
    "                j = lps[j-1]\n",
    "            else:\n",
    "                i += 1\n",
    "    return count\n",
    "\n",
    "def lps_compute(pattern, lps):\n",
    "    length = 0\n",
    "    i = 1\n",
    "    while i < len(pattern):\n",
    "        if pattern[i]== pattern[length]:\n",
    "            length += 1\n",
    "            lps[i] = length\n",
    "            i += 1\n",
    "        else:\n",
    "            if length != 0:\n",
    "                length = lps[length-1]\n",
    "            else:\n",
    "                lps[i] = 0\n",
    "                i += 1\n",
    "\n",
    "# Example 1\n",
    "text = \"ABABDABACDABABCABABABABCABABaasdABABCABAB\"\n",
    "pattern = \"ABABCABAB\"\n",
    "print(KMPpatternsearch(pattern, text))\n",
    "# Example 2\n",
    "strings = ['ab', 'ab', 'abc']\n",
    "queries = ['ab', 'abc', 'bc']\n",
    "print(substring_count(strings, queries))"
   ]
  },
  {
   "cell_type": "code",
   "execution_count": null,
   "id": "2d09213f",
   "metadata": {},
   "outputs": [],
   "source": []
  }
 ],
 "metadata": {
  "kernelspec": {
   "display_name": "Python 3 (ipykernel)",
   "language": "python",
   "name": "python3"
  },
  "language_info": {
   "codemirror_mode": {
    "name": "ipython",
    "version": 3
   },
   "file_extension": ".py",
   "mimetype": "text/x-python",
   "name": "python",
   "nbconvert_exporter": "python",
   "pygments_lexer": "ipython3",
   "version": "3.9.12"
  }
 },
 "nbformat": 4,
 "nbformat_minor": 5
}
