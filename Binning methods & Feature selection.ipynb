{
 "cells": [
  {
   "cell_type": "code",
   "execution_count": 86,
   "id": "532291f1",
   "metadata": {},
   "outputs": [],
   "source": [
    "import csv\n",
    "import logging\n",
    "import cx_Oracle\n",
    "import pandas as pd\n",
    "import math as m\n",
    "import xlsxwriter\n",
    "import numpy as np\n",
    "from io import BytesIO\n",
    "#import polars as pl\n",
    "import plotly.graph_objects as go\n",
    "#import risk_mdl\n",
    "import datetime as dt\n",
    "from datetime import date\n",
    "from optbinning import OptimalBinning, BinningProcess"
   ]
  },
  {
   "cell_type": "code",
   "execution_count": 87,
   "id": "6b5a748e",
   "metadata": {},
   "outputs": [
    {
     "name": "stderr",
     "output_type": "stream",
     "text": [
      "C:\\Program Files\\Anaconda\\lib\\site-packages\\pandas\\io\\sql.py:762: UserWarning:\n",
      "\n",
      "pandas only support SQLAlchemy connectable(engine/connection) ordatabase string URI or sqlite3 DBAPI2 connectionother DBAPI2 objects are not tested, please consider using SQLAlchemy\n",
      "\n"
     ]
    }
   ],
   "source": [
    "#connection = cx_Oracle.connect(user = \"********\", password = \"********\",  dsn = \"EDW_X9\")\n",
    "cursor = connection.cursor()\n",
    "sql_command = '''\n",
    "select *\n",
    "from quan_tbl_final_all\n",
    "'''\n",
    "df = pd.read_sql_query(sql_command, con= connection)\n",
    "\n",
    "df.columns = df.columns.str.lower()\n",
    "list_column = df.columns.to_list()"
   ]
  },
  {
   "cell_type": "markdown",
   "id": "122b32f2",
   "metadata": {},
   "source": [
    "# Fix some negative values"
   ]
  },
  {
   "cell_type": "code",
   "execution_count": 88,
   "id": "6a89d33c",
   "metadata": {},
   "outputs": [],
   "source": [
    "df['months_dpd_0_cus_journey'] = df['months_dpd_0_cus_journey'].mask(df['months_dpd_0_cus_journey'] < 0).fillna(np.nan)\n",
    "df['months_dpd_10_cus_journey'] = df['months_dpd_10_cus_journey'].mask(df['months_dpd_10_cus_journey'] < 0).fillna(np.nan)\n",
    "df['months_dpd_30_cus_journey'] = df['months_dpd_30_cus_journey'].mask(df['months_dpd_30_cus_journey'] < 0).fillna(np.nan)\n",
    "df['avg_enr_ratio_ever'] = df['avg_enr_ratio_ever'].mask(df['avg_enr_ratio_ever'] < 0).fillna(np.nan)\n",
    "df['avg_enr_ratio_last_3m'] = df['avg_enr_ratio_last_3m'].mask(df['avg_enr_ratio_last_3m'] < 0).fillna(np.nan)\n",
    "df['avg_enr_ratio_last_3_6m'] = df['avg_enr_ratio_last_3_6m'].mask(df['avg_enr_ratio_last_3_6m'] < 0).fillna(np.nan)\n",
    "df['avg_enr_ratio_last_6_12m'] = df['avg_enr_ratio_last_6_12m'].mask(df['avg_enr_ratio_last_6_12m'] < 0).fillna(np.nan)\n",
    "df['avg_enr_ratio_last_12_24m'] = df['avg_enr_ratio_last_12_24m'].mask(df['avg_enr_ratio_last_12_24m'] < 0).fillna(np.nan)"
   ]
  },
  {
   "cell_type": "markdown",
   "id": "a2dbe669",
   "metadata": {},
   "source": [
    "# Binning choices and Classifications"
   ]
  },
  {
   "cell_type": "code",
   "execution_count": 89,
   "id": "48a40062",
   "metadata": {},
   "outputs": [],
   "source": [
    "list_of_month = df['applied_month_xsell'].unique().tolist()\n",
    "list_of_month = sorted(list_of_month, reverse = False)\n",
    "\n",
    "# Group column and binning choice\n",
    "df_group_column = pd.read_excel('distinct_value2.xlsx')\n",
    "\n",
    "#############################################\n",
    "groupA = [] #application \n",
    "groupB = [] #cic\n",
    "groupC = [] #behavior\n",
    "groupD = [] #collection feedback\n",
    "groupE = [] #linkage\n",
    "\n",
    "for i in range(1, len(list_column)):\n",
    "    if (df_group_column['group'][i] == \"A\") or (df_group_column['group'][i] == \"Another\"):\n",
    "        groupA.append(list_column[i])\n",
    "    elif df_group_column['group'][i] == \"B\":\n",
    "        groupB.append(list_column[i])\n",
    "    elif df_group_column['group'][i] == \"C\":\n",
    "        groupC.append(list_column[i])\n",
    "    elif df_group_column['group'][i] == \"D\":\n",
    "        groupD.append(list_column[i])\n",
    "    elif df_group_column['group'][i] == \"E\":\n",
    "        groupE.append(list_column[i])\n",
    "\n",
    "################################################# Statistics method\n",
    "binning_choice_S1 = ['cif_nb', 'app_id', 'applied_date', 'agreement_no', \n",
    "                     'province', 'rownum_', 'applied_month',\n",
    "                     'deal_no', 'disbursal_dt',\n",
    "                     'app_id_xsell', 'app_status_xsell', 'applied_date_xsell', 'applied_month_xsell'\n",
    "                     'product_group',\n",
    "                     'eligible_times'] #Do nothing\n",
    "binning_choice_S2 = ['max_appregregion', 'min_appregregion', 'mode_appregregion',\n",
    "                     'max_appresregion', 'min_appresregion', 'mode_appresregion'] #Special binning methods\n",
    "binning_choice_Y = [] #Yes - Need binning methods\n",
    "binning_choice_YS = [] #Yes with special treament\n",
    "binning_choice_N = ['day_of_week'] #No - No need binning methods\n",
    "\n",
    "for i in range(1, len(df_group_column)):\n",
    "    if df_group_column['binning_choice_statistics'][i] == \"Y\":\n",
    "        binning_choice_Y.append(df_group_column['column_name'][i])\n",
    "    elif df_group_column['binning_choice_statistics'][i] == \"YS\":\n",
    "        binning_choice_YS.append(df_group_column['column_name'][i])\n",
    "    elif df_group_column['binning_choice_statistics'][i] == \"N\":\n",
    "        binning_choice_N.append(df_group_column['column_name'][i])\n",
    "        \n",
    "################################################# Optimal Binning method \n",
    "optimal_binning_S1 = ['cif_nb', 'app_id', 'applied_date', 'agreement_no', \n",
    "                     'province', 'rownum_', 'applied_month',\n",
    "                     'deal_no', 'disbursal_dt',\n",
    "                     'app_id_xsell', 'app_status_xsell', 'applied_date_xsell', 'applied_month_xsell'\n",
    "                     'product_group',\n",
    "                     'eligible_times'] #Do nothing\n",
    "optimal_binning_S2 = ['max_appregregion', 'min_appregregion', 'mode_appregregion',\n",
    "                      'max_appresregion', 'min_appresregion', 'mode_appresregion'] #Special binning methods\n",
    "optimal_binning_N = ['day_of_week'] #Added 'day_of_week' feature\n",
    "optimal_binning_Y_int = []\n",
    "optimal_binning_Y_float = []\n",
    "\n",
    "for i in range(1, len(df_group_column)):\n",
    "    if (df_group_column['binning_choice_optimal'][i] == \"S1\") or (df_group_column['binning_choice_optimal'][i] == \"S2\"):\n",
    "        continue\n",
    "    elif df_group_column['binning_choice_optimal'][i] == \"N\":\n",
    "        optimal_binning_N.append(df_group_column['column_name'][i])\n",
    "    elif df_group_column['binning_choice_optimal'][i] == \"Y\":\n",
    "        if df[df_group_column['column_name'][i]].dtype == 'float64':\n",
    "            optimal_binning_Y_float.append(df_group_column['column_name'][i])\n",
    "            df[df_group_column['column_name'][i]] = df[df_group_column['column_name'][i]].fillna(value = np.nan)\n",
    "        elif df[df_group_column['column_name'][i]].dtype == 'int64':\n",
    "            optimal_binning_Y_int.append(df_group_column['column_name'][i])\n",
    "            df[df_group_column['column_name'][i]] = df[df_group_column['column_name'][i]].fillna(value = np.nan)"
   ]
  },
  {
   "cell_type": "markdown",
   "id": "fcdc340e",
   "metadata": {},
   "source": [
    "# Binning List"
   ]
  },
  {
   "cell_type": "code",
   "execution_count": 108,
   "id": "392cc5e0",
   "metadata": {},
   "outputs": [],
   "source": [
    "def binning_list(df, column_name, bins = None, method = None, target = None):\n",
    "    list_of_bin = []\n",
    "    #\n",
    "    if method == None:\n",
    "        list_of_bin = [-10**8] + bins + [10**8]\n",
    "        return list_of_bin\n",
    "    #\n",
    "    elif method == 'statistics':\n",
    "        #\n",
    "        if column_name in binning_choice_N:\n",
    "            list_of_bin = df[column_name].unique().tolist()\n",
    "            \n",
    "            if 'blank' in list_of_bin:\n",
    "                list_of_bin.remove('blank')\n",
    "            if 'null' in list_of_bin:\n",
    "                list_of_bin.remove('null')\n",
    "            if 'unknown' in list_of_bin:\n",
    "                list_of_bin.remove('unknown')\n",
    "            if np.nan in list_of_bin:\n",
    "                list_of_bin.remove(np.nan)\n",
    "            if None in list_of_bin:\n",
    "                list_of_bin.remove(None)\n",
    "            list_of_bin = sorted(list_of_bin, reverse = False)\n",
    "        #\n",
    "        elif column_name in binning_choice_S2:\n",
    "            list_of_bin = ['big_city', 'another_city']\n",
    "        #\n",
    "        elif column_name in binning_choice_Y:\n",
    "            standard_deviation = np.std(df[df[column_name] != np.nan][column_name])\n",
    "            average = np.mean(df[df[column_name] != np.nan][column_name])\n",
    "            a = average - 1.282*standard_deviation\n",
    "            b = average - 0.674*standard_deviation\n",
    "            c = average - 0.385*standard_deviation\n",
    "            d = average + 0.385*standard_deviation\n",
    "            e = average + 0.842*standard_deviation\n",
    "            f = average + 1.282*standard_deviation\n",
    "            list_of_bin = [-10**8]\n",
    "            for i in np.unique([a,b,c,d,e,f]).tolist():\n",
    "                list_of_bin.append(round(i,5))\n",
    "            list_of_bin.append(10**8)\n",
    "        #\n",
    "        elif column_name in binning_choice_YS:\n",
    "            standard_deviation = np.std(df[df[column_name] != np.nan][column_name])\n",
    "            average = np.mean(df[df[column_name] != np.nan][column_name])\n",
    "            a = average - 1.282*standard_deviation\n",
    "            b = average - 0.674*standard_deviation\n",
    "            c = average + 0.674*standard_deviation\n",
    "            d = average + 1.282*standard_deviation\n",
    "            list_of_bin = [-10**8]\n",
    "            for i in np.unique([a,b,c,d]).tolist():\n",
    "                list_of_bin.append(round(i,5))\n",
    "            list_of_bin.append(10**8)\n",
    "        \n",
    "        return list_of_bin\n",
    "    #\n",
    "    elif method == 'optimal_binning':\n",
    "        #\n",
    "        variable = column_name\n",
    "        y = df[target]\n",
    "        if column_name in optimal_binning_S1:\n",
    "            return 'Not suitable for binning'\n",
    "        #\n",
    "        elif column_name in optimal_binning_S2:\n",
    "            list_of_bin = ['big_city', 'another_city']\n",
    "            return list_of_bin\n",
    "        #\n",
    "        elif column_name in optimal_binning_N:\n",
    "            list_of_bin = df[column_name].unique().tolist()\n",
    "            if 'blank' in list_of_bin:\n",
    "                list_of_bin.remove('blank')\n",
    "            if 'null' in list_of_bin:\n",
    "                list_of_bin.remove('null')\n",
    "            if 'unknown' in list_of_bin:\n",
    "                list_of_bin.remove('unknown')\n",
    "            if np.nan in list_of_bin:\n",
    "                list_of_bin.remove(np.nan)\n",
    "            if None in list_of_bin:\n",
    "                list_of_bin.remove(None)\n",
    "            list_of_bin = sorted(list_of_bin, reverse = False)\n",
    "            return list_of_bin\n",
    "        #\n",
    "        elif column_name in optimal_binning_Y_int:\n",
    "            list_of_bin = [-10**8]\n",
    "            var = [variable]\n",
    "            binning_process = BinningProcess(variable_names=var, \n",
    "                                         #max_n_bins=5,\n",
    "                                         #min_prebin_size = 0.2,\n",
    "                                         split_digits=4)\n",
    "            binning_process.fit(df[df[variable] != np.nan][var], y)\n",
    "            a = sorted(np.unique(binning_process.transform(df[df[variable] != np.nan][var]).values).tolist(),\n",
    "                       reverse = False)\n",
    "            for i in a:\n",
    "                list_of_bin.append(m.ceil(i))\n",
    "            list_of_bin.append(10**8)\n",
    "            return np.unique(list_of_bin).tolist()\n",
    "        #\n",
    "        elif column_name in optimal_binning_Y_float:\n",
    "            list_of_bin = [-10**8]\n",
    "            var = [variable]\n",
    "            binning_process = BinningProcess(variable_names=var, \n",
    "                                         #max_n_bins=5,\n",
    "                                         #min_prebin_size = 0.2,\n",
    "                                         split_digits=4)\n",
    "            binning_process.fit(df[df[variable] != np.nan][var], y)\n",
    "            a = sorted(np.unique(binning_process.transform(df[df[variable] != np.nan][var]).values).tolist(),\n",
    "                       reverse = False)\n",
    "            for i in a:\n",
    "                list_of_bin.append(round(i,5))\n",
    "            list_of_bin.append(10**8)\n",
    "            return np.unique(list_of_bin).tolist()\n",
    "\n",
    "def binning_list_new(df, column_name, bins = None, method = None, target = None):\n",
    "    list_of_bin = binning_list(df, column_name, bins, method, target)\n",
    "    #\n",
    "    if method == 'statistics':\n",
    "        #\n",
    "        if (column_name in binning_choice_S1) or (column_name in binning_choice_S2) or (column_name in binning_choice_N):\n",
    "            return list_of_bin\n",
    "        #\n",
    "        elif column_name in binning_choice_YS:\n",
    "            label = []\n",
    "            category = ['very_low','low', 'medium', 'high', 'very_high']\n",
    "            for k in range(len(list_of_bin)-2):\n",
    "                label.append('<= ' + str(list_of_bin[k+1]) + ' - ' + category[k])\n",
    "            label.append('> ' + str(list_of_bin[len(list_of_bin)-2]) + ' - ' + category[len(list_of_bin)-2])\n",
    "            return label\n",
    "        #\n",
    "        elif column_name in binning_choice_Y:\n",
    "            label = []\n",
    "            category = ['extremely_low','very_low', 'low', 'medium', 'high', 'very_high', 'extremely_high']\n",
    "            for k in range(len(list_of_bin)-2):\n",
    "                label.append('<= ' + str(list_of_bin[k+1]) + ' - ' + category[k])\n",
    "            label.append('> ' + str(list_of_bin[len(list_of_bin)-2]) + ' - ' + category[len(list_of_bin)-2])\n",
    "            return label\n",
    "    #\n",
    "    elif (method == 'optimal_binning') or (method == None):\n",
    "        if (column_name in optimal_binning_S1) or (column_name in optimal_binning_S2) or (column_name in optimal_binning_N):\n",
    "            return list_of_bin\n",
    "        else:\n",
    "            label = []\n",
    "            for k in range(len(list_of_bin)-2):\n",
    "                label.append('<= ' + str(list_of_bin[k+1]))\n",
    "            label.append('> ' + str(list_of_bin[len(list_of_bin)-2]))\n",
    "            return label\n",
    "        \n",
    "def ranking_list(df, column_name, bins = None, method = None, target = None): #Only for S2, Y_int, Y_float types\n",
    "    ranking_list = []\n",
    "    if column_name in optimal_binning_S1:\n",
    "        return 'Not suitable for ranking'\n",
    "    elif column_name in optimal_binning_S2:\n",
    "        for i in range(len(df[column_name])):\n",
    "            if df[column_name][i] == 'unknown':\n",
    "                ranking_list.append('unknown')\n",
    "            elif df[column_name][i] < 60:\n",
    "                ranking_list.append('another_city')\n",
    "            elif df[column_name][i] >=60:\n",
    "                ranking_list.append('big_city')\n",
    "        return ranking_list\n",
    "    elif (column_name in optimal_binning_N) or (column_name in binning_choice_N):\n",
    "        return 'Not suitable for ranking'\n",
    "    else:\n",
    "        list_of_bin = binning_list(df, column_name, bins, method, target)\n",
    "        label = binning_list_new(df, column_name, bins, method, target)\n",
    "        ranking_list = pd.cut(np.array(df[column_name]), list_of_bin, labels= label)\n",
    "        return ranking_list\n",
    "\n",
    "def binning_list_plus(df, column_name, bins = None, method = None, target = None): #Only for Y and YS types\n",
    "    if (column_name in binning_choice_S1) or (column_name in binning_choice_S2) or (column_name in binning_choice_N):\n",
    "        return binning_list(df, column_name, bins, method, target)\n",
    "    else:\n",
    "        a = ranking_list(df, column_name, bins, method, target).unique().tolist()\n",
    "        b = binning_list_new(df, column_name, bins, method, target)\n",
    "        c = []\n",
    "        for i in b:\n",
    "            if i in a:\n",
    "                c.append(i)\n",
    "        return c\n",
    "\n",
    "def binning_list_final(df, column_name, bins = None, method = None, target = None):\n",
    "    list_of_bin = binning_list_plus(df, column_name, bins, method, target)\n",
    "    list_of_bin.append('unknown')\n",
    "    return list_of_bin"
   ]
  },
  {
   "cell_type": "markdown",
   "id": "ed9a77de",
   "metadata": {},
   "source": [
    "# Distribution Table and Distribution Chart"
   ]
  },
  {
   "cell_type": "code",
   "execution_count": 91,
   "id": "98b7cc53",
   "metadata": {},
   "outputs": [],
   "source": [
    "def count_binning_N(df, column_name, bins = None, method = None, target = None): #Only for type N\n",
    "    ## Get table\n",
    "    list_of_bin = binning_list_plus(df, column_name, bins, method, target)\n",
    "    list_of_total_by_month = df.groupby('applied_month_xsell', dropna = False)\\\n",
    "                               .aggregate({'app_id': 'count'})\\\n",
    "                               .reset_index()\\\n",
    "                               ['app_id']\\\n",
    "                               .cumsum().tolist()\n",
    "    df2 = df[['app_id', 'applied_month_xsell', column_name]]\\\n",
    "                            .groupby(['applied_month_xsell', column_name], dropna = False)\\\n",
    "                            .aggregate({'app_id': 'count'})\\\n",
    "                            .reset_index()\n",
    "    df3 = df2.pivot(index = 'applied_month_xsell', columns = column_name, values = 'app_id')\\\n",
    "                    .fillna(value = 0)\n",
    "            \n",
    "    ## Get distribution\n",
    "    distribution = []\n",
    "    for binning in list_of_bin:\n",
    "        a = (np.array(df3[binning].cumsum().tolist())/(np.array(list_of_total_by_month)))\n",
    "        df3[binning] = a\n",
    "        distribution_bin = df3[binning].tolist()\n",
    "        distribution.append(distribution_bin)\n",
    "        \n",
    "    x = distribution\n",
    "    y = np.array([1]*len(x[0])) - sum(np.array(x[0:(len(x))])) #Distribution for 'unknown' class\n",
    "    y = y.tolist()\n",
    "    x.append(y)\n",
    "    \n",
    "    df3['unknown'] = y\n",
    "    \n",
    "    return [df3, x]\n",
    "\n",
    "def count_binning_other(df, column_name, bins = None, method = None, target = None): #For Special type 2, Y, YS\n",
    "    ## Get table\n",
    "    #list_of_bin = optimal_binning(df,column_name, target)\n",
    "    df2 = df[['app_id', 'applied_month_xsell', column_name]]\n",
    "    df2['ranking'] = ranking_list(df, column_name, bins, method, target)#.fillna(value = 'unknown')\n",
    "    list_of_bin = binning_list_plus(df, column_name, bins, method, target)\n",
    "    \n",
    "    ####################\n",
    "    list_of_total_by_month = df.groupby('applied_month_xsell', dropna = True)\\\n",
    "                               .aggregate({'app_id': 'count'})\\\n",
    "                               .reset_index()\\\n",
    "                               ['app_id']\\\n",
    "                               .cumsum().tolist()\n",
    "    df3 = df2[['app_id', 'applied_month_xsell', 'ranking']]\\\n",
    "                            .groupby(['applied_month_xsell', 'ranking'], dropna = False)\\\n",
    "                            .aggregate({'app_id': 'count'})\\\n",
    "                            .reset_index()\n",
    "    df4 = df3.pivot(index = 'applied_month_xsell', columns = 'ranking', values = 'app_id')\\\n",
    "                    .fillna(value = 0)\n",
    "            \n",
    "    ## Get distribution\n",
    "    distribution = []\n",
    "    for binning in list_of_bin:\n",
    "        a = (np.array(df4[binning].cumsum().tolist())/(np.array(list_of_total_by_month)))\n",
    "        df4[binning] = a\n",
    "        distribution_bin = df4[binning].tolist()\n",
    "        distribution.append(distribution_bin)\n",
    "    \n",
    "    x = distribution\n",
    "    y = np.array([1]*len(x[0])) - sum(np.array(x[0:(len(x))]))\n",
    "    y = y.tolist()\n",
    "    x.append(y)\n",
    "    \n",
    "    df4['unknown'] = y\n",
    "    \n",
    "    return [df4,x]\n",
    "\n",
    "def count_binning_final(df, column_name, bins = None, method = None, target = None):\n",
    "    if (column_name in binning_choice_N) or (column_name in optimal_binning_N):\n",
    "        return count_binning_N(df, column_name, bins, method, target)[1]\n",
    "    elif column_name in binning_choice_S1:\n",
    "        return 'Do nothing'\n",
    "    else:\n",
    "        return count_binning_other(df, column_name, bins, method, target)[1]\n",
    "\n",
    "def distribution_table_final(df, column_name, bins = None, method = None, target = None):\n",
    "    if (column_name in binning_choice_N) or (column_name in optimal_binning_N):\n",
    "        return count_binning_N(df, column_name, bins, method, target)[0]\n",
    "    elif column_name in binning_choice_S1:\n",
    "        return 'Do nothing'\n",
    "    else:\n",
    "        return count_binning_other(df, column_name, bins, method, target)[0]\n",
    "    \n",
    "def distribution_plotting(df, column_name, bins = None, method = None, target = None): #Do not use for column in binning_choice_S1\n",
    "    list_of_bin = binning_list_final(df, column_name, bins, method, target)\n",
    "    distribution = count_binning_final(df, column_name, bins, method, target)\n",
    "    fig = go.Figure()\n",
    "    for k in range(len(list_of_bin)):\n",
    "        fig.add_trace(\n",
    "                    go.Bar(\n",
    "                            x = list_of_month,\n",
    "                            y = distribution[k],\n",
    "                            name = list_of_bin[k]\n",
    "                            )\n",
    "                    )\n",
    "\n",
    "        fig.update_layout(\n",
    "        title=\"Distribution of {}\".format(column_name),\n",
    "        xaxis_title=\"Month\",\n",
    "        yaxis_title=\"Percent\",\n",
    "    \n",
    "        font=dict(family=\"Calibri\", size=12, color=\"Black\")\n",
    "                )\n",
    "\n",
    "        fig.update_layout(barmode='stack', xaxis={'categoryorder':'category ascending'})\n",
    "\n",
    "        fig.update_layout(dragmode='pan', hovermode='closest', hoverdistance=10)\n",
    "        fig.update_layout(legend=dict(x=1, y=1, bgcolor='rgba(0,0,0,0)'))\n",
    "        fig.update_layout(margin=dict(b=20, t=25, l=0, r=0))\n",
    "        fig.update_xaxes(showspikes=True, spikemode='across',\n",
    "                              spikesnap='cursor', spikedash='dot')\n",
    "        fig.update_yaxes(showspikes=True, spikemode='across',\n",
    "                              spikesnap='cursor', spikedash='dot')\n",
    "        fig.update_xaxes(showgrid=True)\n",
    "    return fig"
   ]
  },
  {
   "cell_type": "markdown",
   "id": "4e57b8fa",
   "metadata": {},
   "source": [
    "# Del_Mob Line Charts"
   ]
  },
  {
   "cell_type": "code",
   "execution_count": 92,
   "id": "072ea68d",
   "metadata": {},
   "outputs": [],
   "source": [
    "def del_mob_N(df, column_name, bins = None, method = None, target = None): #Only for type N\n",
    "    ## Get table\n",
    "    list_of_bin = binning_list_plus(df, column_name, bins, method, target)\n",
    "    df2 = df[['app_id', 'applied_month_xsell', column_name]]\n",
    "    df2['target'] = df[target].replace('unknown', 0) #It is not necessary\n",
    "    \n",
    "    list_of_total_by_month = df2.groupby('applied_month_xsell', dropna = False)\\\n",
    "                                .aggregate({'target': 'count'})\\\n",
    "                                .reset_index()\\\n",
    "                                ['target']\\\n",
    "                                .cumsum().tolist()\n",
    "    df3 = df2[['app_id','applied_month_xsell', column_name, 'target']]\\\n",
    "                            .groupby(['applied_month_xsell', column_name], dropna = False)\\\n",
    "                            .aggregate({'target': 'sum'})\\\n",
    "                            .reset_index()\n",
    "    df4 = df3.pivot(index = 'applied_month_xsell', columns = column_name, values = 'target')\\\n",
    "                    .fillna(value = 0)\n",
    "            \n",
    "    ## Get percent\n",
    "    line_percent = []\n",
    "    for binning in list_of_bin:\n",
    "        a = (np.array(df4[binning].cumsum().tolist())/(np.array(list_of_total_by_month)))\n",
    "        df4[binning] = a\n",
    "        line_percent_bin = df4[binning].tolist()\n",
    "        line_percent.append(line_percent_bin)\n",
    "    if 'unknown' in df4.columns.to_list():\n",
    "        line_percent.append(\n",
    "                            (\n",
    "                                np.array(df4['unknown'].cumsum().tolist())/(np.array(list_of_total_by_month))\n",
    "                            ).tolist()\n",
    "                           )\n",
    "    else:\n",
    "        df4['unknown'] = [0]*len(df4)\n",
    "        line_percent.append([0]*len(df4))    \n",
    "    return [df4, line_percent]\n",
    "\n",
    "def del_mob_other(df, column_name, bins = None, method = None, target = None): #For type S_2, Y_int, Y_float\n",
    "    ## Get table\n",
    "    list_of_bin = binning_list_plus(df, column_name, bins, method, target)\n",
    "    df2 = df[['app_id', 'applied_month_xsell', column_name]]\n",
    "    df2['ranking'] = ranking_list(df, column_name, bins, method, target)\n",
    "    df2['target'] = df[target].replace('unknown', 0) #It is not necessary\n",
    "    \n",
    "    list_of_total_by_month = df2.groupby('applied_month_xsell', dropna = False)\\\n",
    "                                .aggregate({'target': 'count'})\\\n",
    "                                .reset_index()\\\n",
    "                                ['target']\\\n",
    "                                .cumsum().tolist()\n",
    "    df3 = df2.groupby(['applied_month_xsell', 'ranking'], dropna = False)\\\n",
    "             .aggregate({'target': 'sum'})\\\n",
    "             .reset_index()\n",
    "\n",
    "    df4 = df3.pivot(index = 'applied_month_xsell', columns = 'ranking', values = 'target')\\\n",
    "                    .fillna(value = 0)\n",
    "               \n",
    "    ## Get percent\n",
    "    line_percent = []\n",
    "    for binning in list_of_bin:\n",
    "        a = (np.array(df4[binning].cumsum().tolist())/(np.array(list_of_total_by_month)))\n",
    "        df4[binning] = a\n",
    "        line_percent_bin = df4[binning].tolist()\n",
    "        line_percent.append(line_percent_bin)\n",
    "    if 'unknown' in df4.columns.to_list():\n",
    "        line_percent.append(\n",
    "                            (\n",
    "                                np.array(df4['unknown'].cumsum().tolist())/(np.array(list_of_total_by_month))\n",
    "                            ).tolist()\n",
    "                           )\n",
    "    else:\n",
    "        df4['unknown'] = [0]*len(df4)\n",
    "        line_percent.append([0]*len(df4))    \n",
    "    return [df4, line_percent]\n",
    "\n",
    "def del_mob_percent_final(df, column_name, bins = None, method = None, target = None):\n",
    "    if (column_name in binning_choice_N) or (column_name in optimal_binning_N):\n",
    "        return del_mob_N(df, column_name, bins, method, target)[1]\n",
    "    elif column_name in binning_choice_S1:\n",
    "        return 'Do nothing'\n",
    "    else:\n",
    "        return del_mob_other(df, column_name, bins, method, target)[1]\n",
    "\n",
    "def del_mob_table_final(df, column_name, bins = None, method = None, target = None):\n",
    "    if (column_name in binning_choice_N) or (column_name in optimal_binning_N):\n",
    "        return del_mob_N(df, column_name, bins, method, target)[0]\n",
    "    elif column_name in binning_choice_S1:\n",
    "        return 'Do nothing'\n",
    "    else:\n",
    "        return del_mob_other(df, column_name, bins, method, target)[0]\n",
    "    \n",
    "def del_mob_plotting(df, column_name, bins = None, method = None, target = None): #Do not use for column in binning_choice_S1\n",
    "    list_of_bin = binning_list_final(df, column_name, bins, method, target)\n",
    "    del_mob = del_mob_percent_final(df, column_name, bins, method, target)\n",
    "    fig = go.Figure()\n",
    "    for k in range(len(list_of_bin)):\n",
    "        fig.add_trace(\n",
    "                    go.Scatter(\n",
    "                            x = list_of_month,\n",
    "                            y = del_mob[k],\n",
    "                            name = list_of_bin[k]\n",
    "                            )\n",
    "                    )\n",
    "\n",
    "        fig.update_layout(\n",
    "        title=\"{} % by {}\".format(target, column_name),\n",
    "        xaxis_title=\"Month\",\n",
    "        yaxis_title=\"Percent\",\n",
    "    \n",
    "        font=dict(family=\"Calibri\", size=12, color=\"Black\")\n",
    "                )\n",
    "\n",
    "        fig.update_layout(barmode='stack', xaxis={'categoryorder':'category ascending'})\n",
    "\n",
    "        fig.update_layout(dragmode='pan', hovermode='closest', hoverdistance=10)\n",
    "        fig.update_layout(legend=dict(x=1, y=1, bgcolor='rgba(0,0,0,0)'))\n",
    "        fig.update_layout(margin=dict(b=20, t=25, l=0, r=0))\n",
    "        fig.update_xaxes(showspikes=True, spikemode='across',\n",
    "                              spikesnap='cursor', spikedash='dot')\n",
    "        fig.update_yaxes(showspikes=True, spikemode='across',\n",
    "                              spikesnap='cursor', spikedash='dot')\n",
    "        fig.update_xaxes(showgrid=True)\n",
    "    return fig"
   ]
  },
  {
   "cell_type": "markdown",
   "id": "99d45254",
   "metadata": {},
   "source": [
    "# Feature selection"
   ]
  },
  {
   "cell_type": "code",
   "execution_count": 182,
   "id": "06750705",
   "metadata": {},
   "outputs": [],
   "source": [
    "def do_two_lines_cut(list1, list2):\n",
    "    diff = np.array(list1) - np.array(list2)\n",
    "    diff = diff.tolist()\n",
    "    sign = []\n",
    "    for i in range(len(diff)-1):\n",
    "        if (diff[i]*diff[i+1] <= 0):\n",
    "            sign.append(1)\n",
    "        else:\n",
    "            sign.append(0)\n",
    "    if 1 in sign:\n",
    "        return 'Need to be re-binned (cut together)'\n",
    "    else:\n",
    "        return 'To be considered in the next step'\n",
    "    \n",
    "def do_two_lines_close(list1, list2):\n",
    "    close1 = 0.005\n",
    "    close2 = 0.003\n",
    "    diff = np.absolute(np.array(list1) - np.array(list2))\n",
    "    diff = diff.tolist()\n",
    "    if max(diff) <= close1:\n",
    "        if min(diff) >= close2:\n",
    "            return 'No need'\n",
    "        else:\n",
    "            return 'Need to be re-binned (close to each other)'\n",
    "    else:\n",
    "        if min(diff) >= close1:\n",
    "            return 'No need'\n",
    "        else:\n",
    "            return 'To be considered in the next step'\n",
    "    \n",
    "def do_two_lines_parallel(list1, list2):\n",
    "    unit = 0.01\n",
    "    angle_cut_off = m.pi/12\n",
    "    diff = np.absolute(np.array(list1) - np.array(list2))\n",
    "    diff = diff.tolist()\n",
    "    angle = []\n",
    "    for i in range(len(diff)-1):\n",
    "        tangent_of_angle = abs(diff[i+1]-diff[i])/unit\n",
    "        angle.append(m.atan(tangent_of_angle))\n",
    "    mean = sum(angle)/len(angle)\n",
    "    if mean <= angle_cut_off:\n",
    "        return 'No need'\n",
    "    else:\n",
    "        return 'To be considered in the next step'\n",
    "    \n",
    "def do_two_lines_asymptote(list1, list2):\n",
    "    unit = 0.01\n",
    "    shift_forward = 6\n",
    "    a = len(list1)\n",
    "    b = len(list2)\n",
    "    list3 = list1\n",
    "    list4 = list2\n",
    "    for i in range(shift_forward):\n",
    "        list3.append((list3[a-1+i] - list3[a-2+i] + list3[a-2+i] - list3[a-3+i])/2 * unit + list3[a-1+i])\n",
    "        list4.append((list4[b-1+i] - list4[b-2+i] + list4[b-2+i] - list4[b-3+i])/2 * unit + list4[b-1+i])\n",
    "    if do_two_lines_cut(list3, list4) == 'Need to be re-binned':\n",
    "        return 'Need to be re-binned (asymptote)'\n",
    "    else:\n",
    "        'To be considered manually'\n",
    "        \n",
    "def do_two_lines_re_bin(list1, list2):\n",
    "    if do_two_lines_cut(list1, list2) == 'Need to be re-binned (cut together)':\n",
    "        return 'Y1'\n",
    "    else:\n",
    "        if do_two_lines_close(list1, list2) == 'Need to be re-binned (close to each other)':\n",
    "            return 'Y2'\n",
    "        elif do_two_lines_close(list1, list2) == 'No need':\n",
    "            return 'N'\n",
    "        else:\n",
    "            if do_two_lines_parallel(list1, list2) == 'No need':\n",
    "                return 'N'\n",
    "            else:\n",
    "                if do_two_lines_asymptote(list1, list2) == 'Need to be re-binned (asymptote)':\n",
    "                    return 'Y3'\n",
    "                else:\n",
    "                    return 'Considered'\n",
    "\n",
    "def is_feature_need_to_be_rebinned(df, column_name, bins = None, method = None, target = None):\n",
    "    list_of_bin = binning_list_final(df, column_name, bins, method, target)\n",
    "    del_mob = del_mob_percent_final(df, column_name, bins, method, target)\n",
    "    re_bin = []\n",
    "    for k in range(len(list_of_bin)-2):\n",
    "        l = 1\n",
    "        while (k+l) < len(list_of_bin) -1:\n",
    "            re_bin.append(do_two_lines_re_bin(del_mob[k], del_mob[k+l]))\n",
    "            l = l+1\n",
    "    if ('Y1' in re_bin) or ('Y2' in re_bin) or ('Y3' in re_bin):\n",
    "        return 'Y'\n",
    "    else:\n",
    "        if ('Considered' in re_bin):\n",
    "            return 'Considered'\n",
    "        else:\n",
    "            return 'N'"
   ]
  },
  {
   "cell_type": "markdown",
   "id": "a3631a50",
   "metadata": {},
   "source": [
    "# Demonstration"
   ]
  },
  {
   "cell_type": "code",
   "execution_count": 138,
   "id": "d280ae77",
   "metadata": {
    "scrolled": false
   },
   "outputs": [
    {
     "name": "stderr",
     "output_type": "stream",
     "text": [
      "C:\\Users\\nguyenvutrungquan\\AppData\\Local\\Temp\\ipykernel_4896\\1849472921.py:41: SettingWithCopyWarning:\n",
      "\n",
      "\n",
      "A value is trying to be set on a copy of a slice from a DataFrame.\n",
      "Try using .loc[row_indexer,col_indexer] = value instead\n",
      "\n",
      "See the caveats in the documentation: https://pandas.pydata.org/pandas-docs/stable/user_guide/indexing.html#returning-a-view-versus-a-copy\n",
      "\n",
      "C:\\Users\\nguyenvutrungquan\\AppData\\Local\\Temp\\ipykernel_4896\\1849472921.py:42: SettingWithCopyWarning:\n",
      "\n",
      "\n",
      "A value is trying to be set on a copy of a slice from a DataFrame.\n",
      "Try using .loc[row_indexer,col_indexer] = value instead\n",
      "\n",
      "See the caveats in the documentation: https://pandas.pydata.org/pandas-docs/stable/user_guide/indexing.html#returning-a-view-versus-a-copy\n",
      "\n"
     ]
    },
    {
     "name": "stdout",
     "output_type": "stream",
     "text": [
      "N\n"
     ]
    },
    {
     "name": "stderr",
     "output_type": "stream",
     "text": [
      "C:\\Users\\nguyenvutrungquan\\AppData\\Local\\Temp\\ipykernel_4896\\1849472921.py:41: SettingWithCopyWarning:\n",
      "\n",
      "\n",
      "A value is trying to be set on a copy of a slice from a DataFrame.\n",
      "Try using .loc[row_indexer,col_indexer] = value instead\n",
      "\n",
      "See the caveats in the documentation: https://pandas.pydata.org/pandas-docs/stable/user_guide/indexing.html#returning-a-view-versus-a-copy\n",
      "\n",
      "C:\\Users\\nguyenvutrungquan\\AppData\\Local\\Temp\\ipykernel_4896\\1849472921.py:42: SettingWithCopyWarning:\n",
      "\n",
      "\n",
      "A value is trying to be set on a copy of a slice from a DataFrame.\n",
      "Try using .loc[row_indexer,col_indexer] = value instead\n",
      "\n",
      "See the caveats in the documentation: https://pandas.pydata.org/pandas-docs/stable/user_guide/indexing.html#returning-a-view-versus-a-copy\n",
      "\n"
     ]
    },
    {
     "data": {
      "application/vnd.plotly.v1+json": {
       "config": {
        "plotlyServerURL": "https://plot.ly"
       },
       "data": [
        {
         "name": "<= -1",
         "type": "scatter",
         "x": [
          "2021/10",
          "2021/11",
          "2021/12",
          "2022/01",
          "2022/02",
          "2022/03",
          "2022/04",
          "2022/05",
          "2022/06",
          "2022/07",
          "2022/08",
          "2022/09"
         ],
         "y": [
          0,
          0,
          0,
          0,
          6.518055012384304e-05,
          0.00010356255178127589,
          8.571183680466272e-05,
          9.011096521716743e-05,
          8.303775845502319e-05,
          9.671907407606418e-05,
          8.912479451783486e-05,
          7.912574839770359e-05
         ]
        },
        {
         "name": "<= 1",
         "type": "scatter",
         "x": [
          "2021/10",
          "2021/11",
          "2021/12",
          "2022/01",
          "2022/02",
          "2022/03",
          "2022/04",
          "2022/05",
          "2022/06",
          "2022/07",
          "2022/08",
          "2022/09"
         ],
         "y": [
          0.0957497234950229,
          0.09942122186495177,
          0.10102449545524572,
          0.09936742899582554,
          0.10137748229261721,
          0.10516777133388566,
          0.108511185394703,
          0.1082361422208491,
          0.1062408806747411,
          0.10501542131903324,
          0.1066724762829019,
          0.10941332653438014
         ]
        },
        {
         "name": "> 3",
         "type": "scatter",
         "x": [
          "2021/10",
          "2021/11",
          "2021/12",
          "2022/01",
          "2022/02",
          "2022/03",
          "2022/04",
          "2022/05",
          "2022/06",
          "2022/07",
          "2022/08",
          "2022/09"
         ],
         "y": [
          0.005688102385842945,
          0.01247588424437299,
          0.018063472500385147,
          0.02435526416882219,
          0.0278103680528397,
          0.0343827671913836,
          0.03941315962401074,
          0.04405138899616385,
          0.047972099313159114,
          0.05344266170891857,
          0.056326870135271635,
          0.05260103918482896
         ]
        },
        {
         "name": "unknown",
         "type": "scatter",
         "x": [
          "2021/10",
          "2021/11",
          "2021/12",
          "2022/01",
          "2022/02",
          "2022/03",
          "2022/04",
          "2022/05",
          "2022/06",
          "2022/07",
          "2022/08",
          "2022/09"
         ],
         "y": [
          0,
          0,
          0,
          0,
          0,
          0,
          0,
          0,
          0,
          0,
          0,
          0
         ]
        }
       ],
       "layout": {
        "barmode": "stack",
        "dragmode": "pan",
        "font": {
         "color": "Black",
         "family": "Calibri",
         "size": 12
        },
        "hoverdistance": 10,
        "hovermode": "closest",
        "legend": {
         "bgcolor": "rgba(0,0,0,0)",
         "x": 1,
         "y": 1
        },
        "margin": {
         "b": 20,
         "l": 0,
         "r": 0,
         "t": 25
        },
        "template": {
         "data": {
          "bar": [
           {
            "error_x": {
             "color": "#2a3f5f"
            },
            "error_y": {
             "color": "#2a3f5f"
            },
            "marker": {
             "line": {
              "color": "#E5ECF6",
              "width": 0.5
             },
             "pattern": {
              "fillmode": "overlay",
              "size": 10,
              "solidity": 0.2
             }
            },
            "type": "bar"
           }
          ],
          "barpolar": [
           {
            "marker": {
             "line": {
              "color": "#E5ECF6",
              "width": 0.5
             },
             "pattern": {
              "fillmode": "overlay",
              "size": 10,
              "solidity": 0.2
             }
            },
            "type": "barpolar"
           }
          ],
          "carpet": [
           {
            "aaxis": {
             "endlinecolor": "#2a3f5f",
             "gridcolor": "white",
             "linecolor": "white",
             "minorgridcolor": "white",
             "startlinecolor": "#2a3f5f"
            },
            "baxis": {
             "endlinecolor": "#2a3f5f",
             "gridcolor": "white",
             "linecolor": "white",
             "minorgridcolor": "white",
             "startlinecolor": "#2a3f5f"
            },
            "type": "carpet"
           }
          ],
          "choropleth": [
           {
            "colorbar": {
             "outlinewidth": 0,
             "ticks": ""
            },
            "type": "choropleth"
           }
          ],
          "contour": [
           {
            "colorbar": {
             "outlinewidth": 0,
             "ticks": ""
            },
            "colorscale": [
             [
              0,
              "#0d0887"
             ],
             [
              0.1111111111111111,
              "#46039f"
             ],
             [
              0.2222222222222222,
              "#7201a8"
             ],
             [
              0.3333333333333333,
              "#9c179e"
             ],
             [
              0.4444444444444444,
              "#bd3786"
             ],
             [
              0.5555555555555556,
              "#d8576b"
             ],
             [
              0.6666666666666666,
              "#ed7953"
             ],
             [
              0.7777777777777778,
              "#fb9f3a"
             ],
             [
              0.8888888888888888,
              "#fdca26"
             ],
             [
              1,
              "#f0f921"
             ]
            ],
            "type": "contour"
           }
          ],
          "contourcarpet": [
           {
            "colorbar": {
             "outlinewidth": 0,
             "ticks": ""
            },
            "type": "contourcarpet"
           }
          ],
          "heatmap": [
           {
            "colorbar": {
             "outlinewidth": 0,
             "ticks": ""
            },
            "colorscale": [
             [
              0,
              "#0d0887"
             ],
             [
              0.1111111111111111,
              "#46039f"
             ],
             [
              0.2222222222222222,
              "#7201a8"
             ],
             [
              0.3333333333333333,
              "#9c179e"
             ],
             [
              0.4444444444444444,
              "#bd3786"
             ],
             [
              0.5555555555555556,
              "#d8576b"
             ],
             [
              0.6666666666666666,
              "#ed7953"
             ],
             [
              0.7777777777777778,
              "#fb9f3a"
             ],
             [
              0.8888888888888888,
              "#fdca26"
             ],
             [
              1,
              "#f0f921"
             ]
            ],
            "type": "heatmap"
           }
          ],
          "heatmapgl": [
           {
            "colorbar": {
             "outlinewidth": 0,
             "ticks": ""
            },
            "colorscale": [
             [
              0,
              "#0d0887"
             ],
             [
              0.1111111111111111,
              "#46039f"
             ],
             [
              0.2222222222222222,
              "#7201a8"
             ],
             [
              0.3333333333333333,
              "#9c179e"
             ],
             [
              0.4444444444444444,
              "#bd3786"
             ],
             [
              0.5555555555555556,
              "#d8576b"
             ],
             [
              0.6666666666666666,
              "#ed7953"
             ],
             [
              0.7777777777777778,
              "#fb9f3a"
             ],
             [
              0.8888888888888888,
              "#fdca26"
             ],
             [
              1,
              "#f0f921"
             ]
            ],
            "type": "heatmapgl"
           }
          ],
          "histogram": [
           {
            "marker": {
             "pattern": {
              "fillmode": "overlay",
              "size": 10,
              "solidity": 0.2
             }
            },
            "type": "histogram"
           }
          ],
          "histogram2d": [
           {
            "colorbar": {
             "outlinewidth": 0,
             "ticks": ""
            },
            "colorscale": [
             [
              0,
              "#0d0887"
             ],
             [
              0.1111111111111111,
              "#46039f"
             ],
             [
              0.2222222222222222,
              "#7201a8"
             ],
             [
              0.3333333333333333,
              "#9c179e"
             ],
             [
              0.4444444444444444,
              "#bd3786"
             ],
             [
              0.5555555555555556,
              "#d8576b"
             ],
             [
              0.6666666666666666,
              "#ed7953"
             ],
             [
              0.7777777777777778,
              "#fb9f3a"
             ],
             [
              0.8888888888888888,
              "#fdca26"
             ],
             [
              1,
              "#f0f921"
             ]
            ],
            "type": "histogram2d"
           }
          ],
          "histogram2dcontour": [
           {
            "colorbar": {
             "outlinewidth": 0,
             "ticks": ""
            },
            "colorscale": [
             [
              0,
              "#0d0887"
             ],
             [
              0.1111111111111111,
              "#46039f"
             ],
             [
              0.2222222222222222,
              "#7201a8"
             ],
             [
              0.3333333333333333,
              "#9c179e"
             ],
             [
              0.4444444444444444,
              "#bd3786"
             ],
             [
              0.5555555555555556,
              "#d8576b"
             ],
             [
              0.6666666666666666,
              "#ed7953"
             ],
             [
              0.7777777777777778,
              "#fb9f3a"
             ],
             [
              0.8888888888888888,
              "#fdca26"
             ],
             [
              1,
              "#f0f921"
             ]
            ],
            "type": "histogram2dcontour"
           }
          ],
          "mesh3d": [
           {
            "colorbar": {
             "outlinewidth": 0,
             "ticks": ""
            },
            "type": "mesh3d"
           }
          ],
          "parcoords": [
           {
            "line": {
             "colorbar": {
              "outlinewidth": 0,
              "ticks": ""
             }
            },
            "type": "parcoords"
           }
          ],
          "pie": [
           {
            "automargin": true,
            "type": "pie"
           }
          ],
          "scatter": [
           {
            "fillpattern": {
             "fillmode": "overlay",
             "size": 10,
             "solidity": 0.2
            },
            "type": "scatter"
           }
          ],
          "scatter3d": [
           {
            "line": {
             "colorbar": {
              "outlinewidth": 0,
              "ticks": ""
             }
            },
            "marker": {
             "colorbar": {
              "outlinewidth": 0,
              "ticks": ""
             }
            },
            "type": "scatter3d"
           }
          ],
          "scattercarpet": [
           {
            "marker": {
             "colorbar": {
              "outlinewidth": 0,
              "ticks": ""
             }
            },
            "type": "scattercarpet"
           }
          ],
          "scattergeo": [
           {
            "marker": {
             "colorbar": {
              "outlinewidth": 0,
              "ticks": ""
             }
            },
            "type": "scattergeo"
           }
          ],
          "scattergl": [
           {
            "marker": {
             "colorbar": {
              "outlinewidth": 0,
              "ticks": ""
             }
            },
            "type": "scattergl"
           }
          ],
          "scattermapbox": [
           {
            "marker": {
             "colorbar": {
              "outlinewidth": 0,
              "ticks": ""
             }
            },
            "type": "scattermapbox"
           }
          ],
          "scatterpolar": [
           {
            "marker": {
             "colorbar": {
              "outlinewidth": 0,
              "ticks": ""
             }
            },
            "type": "scatterpolar"
           }
          ],
          "scatterpolargl": [
           {
            "marker": {
             "colorbar": {
              "outlinewidth": 0,
              "ticks": ""
             }
            },
            "type": "scatterpolargl"
           }
          ],
          "scatterternary": [
           {
            "marker": {
             "colorbar": {
              "outlinewidth": 0,
              "ticks": ""
             }
            },
            "type": "scatterternary"
           }
          ],
          "surface": [
           {
            "colorbar": {
             "outlinewidth": 0,
             "ticks": ""
            },
            "colorscale": [
             [
              0,
              "#0d0887"
             ],
             [
              0.1111111111111111,
              "#46039f"
             ],
             [
              0.2222222222222222,
              "#7201a8"
             ],
             [
              0.3333333333333333,
              "#9c179e"
             ],
             [
              0.4444444444444444,
              "#bd3786"
             ],
             [
              0.5555555555555556,
              "#d8576b"
             ],
             [
              0.6666666666666666,
              "#ed7953"
             ],
             [
              0.7777777777777778,
              "#fb9f3a"
             ],
             [
              0.8888888888888888,
              "#fdca26"
             ],
             [
              1,
              "#f0f921"
             ]
            ],
            "type": "surface"
           }
          ],
          "table": [
           {
            "cells": {
             "fill": {
              "color": "#EBF0F8"
             },
             "line": {
              "color": "white"
             }
            },
            "header": {
             "fill": {
              "color": "#C8D4E3"
             },
             "line": {
              "color": "white"
             }
            },
            "type": "table"
           }
          ]
         },
         "layout": {
          "annotationdefaults": {
           "arrowcolor": "#2a3f5f",
           "arrowhead": 0,
           "arrowwidth": 1
          },
          "autotypenumbers": "strict",
          "coloraxis": {
           "colorbar": {
            "outlinewidth": 0,
            "ticks": ""
           }
          },
          "colorscale": {
           "diverging": [
            [
             0,
             "#8e0152"
            ],
            [
             0.1,
             "#c51b7d"
            ],
            [
             0.2,
             "#de77ae"
            ],
            [
             0.3,
             "#f1b6da"
            ],
            [
             0.4,
             "#fde0ef"
            ],
            [
             0.5,
             "#f7f7f7"
            ],
            [
             0.6,
             "#e6f5d0"
            ],
            [
             0.7,
             "#b8e186"
            ],
            [
             0.8,
             "#7fbc41"
            ],
            [
             0.9,
             "#4d9221"
            ],
            [
             1,
             "#276419"
            ]
           ],
           "sequential": [
            [
             0,
             "#0d0887"
            ],
            [
             0.1111111111111111,
             "#46039f"
            ],
            [
             0.2222222222222222,
             "#7201a8"
            ],
            [
             0.3333333333333333,
             "#9c179e"
            ],
            [
             0.4444444444444444,
             "#bd3786"
            ],
            [
             0.5555555555555556,
             "#d8576b"
            ],
            [
             0.6666666666666666,
             "#ed7953"
            ],
            [
             0.7777777777777778,
             "#fb9f3a"
            ],
            [
             0.8888888888888888,
             "#fdca26"
            ],
            [
             1,
             "#f0f921"
            ]
           ],
           "sequentialminus": [
            [
             0,
             "#0d0887"
            ],
            [
             0.1111111111111111,
             "#46039f"
            ],
            [
             0.2222222222222222,
             "#7201a8"
            ],
            [
             0.3333333333333333,
             "#9c179e"
            ],
            [
             0.4444444444444444,
             "#bd3786"
            ],
            [
             0.5555555555555556,
             "#d8576b"
            ],
            [
             0.6666666666666666,
             "#ed7953"
            ],
            [
             0.7777777777777778,
             "#fb9f3a"
            ],
            [
             0.8888888888888888,
             "#fdca26"
            ],
            [
             1,
             "#f0f921"
            ]
           ]
          },
          "colorway": [
           "#636efa",
           "#EF553B",
           "#00cc96",
           "#ab63fa",
           "#FFA15A",
           "#19d3f3",
           "#FF6692",
           "#B6E880",
           "#FF97FF",
           "#FECB52"
          ],
          "font": {
           "color": "#2a3f5f"
          },
          "geo": {
           "bgcolor": "white",
           "lakecolor": "white",
           "landcolor": "#E5ECF6",
           "showlakes": true,
           "showland": true,
           "subunitcolor": "white"
          },
          "hoverlabel": {
           "align": "left"
          },
          "hovermode": "closest",
          "mapbox": {
           "style": "light"
          },
          "paper_bgcolor": "white",
          "plot_bgcolor": "#E5ECF6",
          "polar": {
           "angularaxis": {
            "gridcolor": "white",
            "linecolor": "white",
            "ticks": ""
           },
           "bgcolor": "#E5ECF6",
           "radialaxis": {
            "gridcolor": "white",
            "linecolor": "white",
            "ticks": ""
           }
          },
          "scene": {
           "xaxis": {
            "backgroundcolor": "#E5ECF6",
            "gridcolor": "white",
            "gridwidth": 2,
            "linecolor": "white",
            "showbackground": true,
            "ticks": "",
            "zerolinecolor": "white"
           },
           "yaxis": {
            "backgroundcolor": "#E5ECF6",
            "gridcolor": "white",
            "gridwidth": 2,
            "linecolor": "white",
            "showbackground": true,
            "ticks": "",
            "zerolinecolor": "white"
           },
           "zaxis": {
            "backgroundcolor": "#E5ECF6",
            "gridcolor": "white",
            "gridwidth": 2,
            "linecolor": "white",
            "showbackground": true,
            "ticks": "",
            "zerolinecolor": "white"
           }
          },
          "shapedefaults": {
           "line": {
            "color": "#2a3f5f"
           }
          },
          "ternary": {
           "aaxis": {
            "gridcolor": "white",
            "linecolor": "white",
            "ticks": ""
           },
           "baxis": {
            "gridcolor": "white",
            "linecolor": "white",
            "ticks": ""
           },
           "bgcolor": "#E5ECF6",
           "caxis": {
            "gridcolor": "white",
            "linecolor": "white",
            "ticks": ""
           }
          },
          "title": {
           "x": 0.05
          },
          "xaxis": {
           "automargin": true,
           "gridcolor": "white",
           "linecolor": "white",
           "ticks": "",
           "title": {
            "standoff": 15
           },
           "zerolinecolor": "white",
           "zerolinewidth": 2
          },
          "yaxis": {
           "automargin": true,
           "gridcolor": "white",
           "linecolor": "white",
           "ticks": "",
           "title": {
            "standoff": 15
           },
           "zerolinecolor": "white",
           "zerolinewidth": 2
          }
         }
        },
        "title": {
         "text": "del90_mob12_app % by max_cf_all_last_3m"
        },
        "xaxis": {
         "categoryorder": "category ascending",
         "showgrid": true,
         "showspikes": true,
         "spikedash": "dot",
         "spikemode": "across",
         "spikesnap": "cursor",
         "title": {
          "text": "Month"
         }
        },
        "yaxis": {
         "showspikes": true,
         "spikedash": "dot",
         "spikemode": "across",
         "spikesnap": "cursor",
         "title": {
          "text": "Percent"
         }
        }
       }
      },
      "text/html": [
       "<div>                            <div id=\"1b08272e-9470-486c-b8e6-9adefb298c97\" class=\"plotly-graph-div\" style=\"height:525px; width:100%;\"></div>            <script type=\"text/javascript\">                require([\"plotly\"], function(Plotly) {                    window.PLOTLYENV=window.PLOTLYENV || {};                                    if (document.getElementById(\"1b08272e-9470-486c-b8e6-9adefb298c97\")) {                    Plotly.newPlot(                        \"1b08272e-9470-486c-b8e6-9adefb298c97\",                        [{\"name\":\"<= -1\",\"x\":[\"2021/10\",\"2021/11\",\"2021/12\",\"2022/01\",\"2022/02\",\"2022/03\",\"2022/04\",\"2022/05\",\"2022/06\",\"2022/07\",\"2022/08\",\"2022/09\"],\"y\":[0.0,0.0,0.0,0.0,6.518055012384304e-05,0.00010356255178127589,8.571183680466272e-05,9.011096521716743e-05,8.303775845502319e-05,9.671907407606418e-05,8.912479451783486e-05,7.912574839770359e-05],\"type\":\"scatter\"},{\"name\":\"<= 1\",\"x\":[\"2021/10\",\"2021/11\",\"2021/12\",\"2022/01\",\"2022/02\",\"2022/03\",\"2022/04\",\"2022/05\",\"2022/06\",\"2022/07\",\"2022/08\",\"2022/09\"],\"y\":[0.0957497234950229,0.09942122186495177,0.10102449545524572,0.09936742899582554,0.10137748229261721,0.10516777133388566,0.108511185394703,0.1082361422208491,0.1062408806747411,0.10501542131903324,0.1066724762829019,0.10941332653438014],\"type\":\"scatter\"},{\"name\":\"> 3\",\"x\":[\"2021/10\",\"2021/11\",\"2021/12\",\"2022/01\",\"2022/02\",\"2022/03\",\"2022/04\",\"2022/05\",\"2022/06\",\"2022/07\",\"2022/08\",\"2022/09\"],\"y\":[0.005688102385842945,0.01247588424437299,0.018063472500385147,0.02435526416882219,0.0278103680528397,0.0343827671913836,0.03941315962401074,0.04405138899616385,0.047972099313159114,0.05344266170891857,0.056326870135271635,0.05260103918482896],\"type\":\"scatter\"},{\"name\":\"unknown\",\"x\":[\"2021/10\",\"2021/11\",\"2021/12\",\"2022/01\",\"2022/02\",\"2022/03\",\"2022/04\",\"2022/05\",\"2022/06\",\"2022/07\",\"2022/08\",\"2022/09\"],\"y\":[0,0,0,0,0,0,0,0,0,0,0,0],\"type\":\"scatter\"}],                        {\"template\":{\"data\":{\"histogram2dcontour\":[{\"type\":\"histogram2dcontour\",\"colorbar\":{\"outlinewidth\":0,\"ticks\":\"\"},\"colorscale\":[[0.0,\"#0d0887\"],[0.1111111111111111,\"#46039f\"],[0.2222222222222222,\"#7201a8\"],[0.3333333333333333,\"#9c179e\"],[0.4444444444444444,\"#bd3786\"],[0.5555555555555556,\"#d8576b\"],[0.6666666666666666,\"#ed7953\"],[0.7777777777777778,\"#fb9f3a\"],[0.8888888888888888,\"#fdca26\"],[1.0,\"#f0f921\"]]}],\"choropleth\":[{\"type\":\"choropleth\",\"colorbar\":{\"outlinewidth\":0,\"ticks\":\"\"}}],\"histogram2d\":[{\"type\":\"histogram2d\",\"colorbar\":{\"outlinewidth\":0,\"ticks\":\"\"},\"colorscale\":[[0.0,\"#0d0887\"],[0.1111111111111111,\"#46039f\"],[0.2222222222222222,\"#7201a8\"],[0.3333333333333333,\"#9c179e\"],[0.4444444444444444,\"#bd3786\"],[0.5555555555555556,\"#d8576b\"],[0.6666666666666666,\"#ed7953\"],[0.7777777777777778,\"#fb9f3a\"],[0.8888888888888888,\"#fdca26\"],[1.0,\"#f0f921\"]]}],\"heatmap\":[{\"type\":\"heatmap\",\"colorbar\":{\"outlinewidth\":0,\"ticks\":\"\"},\"colorscale\":[[0.0,\"#0d0887\"],[0.1111111111111111,\"#46039f\"],[0.2222222222222222,\"#7201a8\"],[0.3333333333333333,\"#9c179e\"],[0.4444444444444444,\"#bd3786\"],[0.5555555555555556,\"#d8576b\"],[0.6666666666666666,\"#ed7953\"],[0.7777777777777778,\"#fb9f3a\"],[0.8888888888888888,\"#fdca26\"],[1.0,\"#f0f921\"]]}],\"heatmapgl\":[{\"type\":\"heatmapgl\",\"colorbar\":{\"outlinewidth\":0,\"ticks\":\"\"},\"colorscale\":[[0.0,\"#0d0887\"],[0.1111111111111111,\"#46039f\"],[0.2222222222222222,\"#7201a8\"],[0.3333333333333333,\"#9c179e\"],[0.4444444444444444,\"#bd3786\"],[0.5555555555555556,\"#d8576b\"],[0.6666666666666666,\"#ed7953\"],[0.7777777777777778,\"#fb9f3a\"],[0.8888888888888888,\"#fdca26\"],[1.0,\"#f0f921\"]]}],\"contourcarpet\":[{\"type\":\"contourcarpet\",\"colorbar\":{\"outlinewidth\":0,\"ticks\":\"\"}}],\"contour\":[{\"type\":\"contour\",\"colorbar\":{\"outlinewidth\":0,\"ticks\":\"\"},\"colorscale\":[[0.0,\"#0d0887\"],[0.1111111111111111,\"#46039f\"],[0.2222222222222222,\"#7201a8\"],[0.3333333333333333,\"#9c179e\"],[0.4444444444444444,\"#bd3786\"],[0.5555555555555556,\"#d8576b\"],[0.6666666666666666,\"#ed7953\"],[0.7777777777777778,\"#fb9f3a\"],[0.8888888888888888,\"#fdca26\"],[1.0,\"#f0f921\"]]}],\"surface\":[{\"type\":\"surface\",\"colorbar\":{\"outlinewidth\":0,\"ticks\":\"\"},\"colorscale\":[[0.0,\"#0d0887\"],[0.1111111111111111,\"#46039f\"],[0.2222222222222222,\"#7201a8\"],[0.3333333333333333,\"#9c179e\"],[0.4444444444444444,\"#bd3786\"],[0.5555555555555556,\"#d8576b\"],[0.6666666666666666,\"#ed7953\"],[0.7777777777777778,\"#fb9f3a\"],[0.8888888888888888,\"#fdca26\"],[1.0,\"#f0f921\"]]}],\"mesh3d\":[{\"type\":\"mesh3d\",\"colorbar\":{\"outlinewidth\":0,\"ticks\":\"\"}}],\"scatter\":[{\"fillpattern\":{\"fillmode\":\"overlay\",\"size\":10,\"solidity\":0.2},\"type\":\"scatter\"}],\"parcoords\":[{\"type\":\"parcoords\",\"line\":{\"colorbar\":{\"outlinewidth\":0,\"ticks\":\"\"}}}],\"scatterpolargl\":[{\"type\":\"scatterpolargl\",\"marker\":{\"colorbar\":{\"outlinewidth\":0,\"ticks\":\"\"}}}],\"bar\":[{\"error_x\":{\"color\":\"#2a3f5f\"},\"error_y\":{\"color\":\"#2a3f5f\"},\"marker\":{\"line\":{\"color\":\"#E5ECF6\",\"width\":0.5},\"pattern\":{\"fillmode\":\"overlay\",\"size\":10,\"solidity\":0.2}},\"type\":\"bar\"}],\"scattergeo\":[{\"type\":\"scattergeo\",\"marker\":{\"colorbar\":{\"outlinewidth\":0,\"ticks\":\"\"}}}],\"scatterpolar\":[{\"type\":\"scatterpolar\",\"marker\":{\"colorbar\":{\"outlinewidth\":0,\"ticks\":\"\"}}}],\"histogram\":[{\"marker\":{\"pattern\":{\"fillmode\":\"overlay\",\"size\":10,\"solidity\":0.2}},\"type\":\"histogram\"}],\"scattergl\":[{\"type\":\"scattergl\",\"marker\":{\"colorbar\":{\"outlinewidth\":0,\"ticks\":\"\"}}}],\"scatter3d\":[{\"type\":\"scatter3d\",\"line\":{\"colorbar\":{\"outlinewidth\":0,\"ticks\":\"\"}},\"marker\":{\"colorbar\":{\"outlinewidth\":0,\"ticks\":\"\"}}}],\"scattermapbox\":[{\"type\":\"scattermapbox\",\"marker\":{\"colorbar\":{\"outlinewidth\":0,\"ticks\":\"\"}}}],\"scatterternary\":[{\"type\":\"scatterternary\",\"marker\":{\"colorbar\":{\"outlinewidth\":0,\"ticks\":\"\"}}}],\"scattercarpet\":[{\"type\":\"scattercarpet\",\"marker\":{\"colorbar\":{\"outlinewidth\":0,\"ticks\":\"\"}}}],\"carpet\":[{\"aaxis\":{\"endlinecolor\":\"#2a3f5f\",\"gridcolor\":\"white\",\"linecolor\":\"white\",\"minorgridcolor\":\"white\",\"startlinecolor\":\"#2a3f5f\"},\"baxis\":{\"endlinecolor\":\"#2a3f5f\",\"gridcolor\":\"white\",\"linecolor\":\"white\",\"minorgridcolor\":\"white\",\"startlinecolor\":\"#2a3f5f\"},\"type\":\"carpet\"}],\"table\":[{\"cells\":{\"fill\":{\"color\":\"#EBF0F8\"},\"line\":{\"color\":\"white\"}},\"header\":{\"fill\":{\"color\":\"#C8D4E3\"},\"line\":{\"color\":\"white\"}},\"type\":\"table\"}],\"barpolar\":[{\"marker\":{\"line\":{\"color\":\"#E5ECF6\",\"width\":0.5},\"pattern\":{\"fillmode\":\"overlay\",\"size\":10,\"solidity\":0.2}},\"type\":\"barpolar\"}],\"pie\":[{\"automargin\":true,\"type\":\"pie\"}]},\"layout\":{\"autotypenumbers\":\"strict\",\"colorway\":[\"#636efa\",\"#EF553B\",\"#00cc96\",\"#ab63fa\",\"#FFA15A\",\"#19d3f3\",\"#FF6692\",\"#B6E880\",\"#FF97FF\",\"#FECB52\"],\"font\":{\"color\":\"#2a3f5f\"},\"hovermode\":\"closest\",\"hoverlabel\":{\"align\":\"left\"},\"paper_bgcolor\":\"white\",\"plot_bgcolor\":\"#E5ECF6\",\"polar\":{\"bgcolor\":\"#E5ECF6\",\"angularaxis\":{\"gridcolor\":\"white\",\"linecolor\":\"white\",\"ticks\":\"\"},\"radialaxis\":{\"gridcolor\":\"white\",\"linecolor\":\"white\",\"ticks\":\"\"}},\"ternary\":{\"bgcolor\":\"#E5ECF6\",\"aaxis\":{\"gridcolor\":\"white\",\"linecolor\":\"white\",\"ticks\":\"\"},\"baxis\":{\"gridcolor\":\"white\",\"linecolor\":\"white\",\"ticks\":\"\"},\"caxis\":{\"gridcolor\":\"white\",\"linecolor\":\"white\",\"ticks\":\"\"}},\"coloraxis\":{\"colorbar\":{\"outlinewidth\":0,\"ticks\":\"\"}},\"colorscale\":{\"sequential\":[[0.0,\"#0d0887\"],[0.1111111111111111,\"#46039f\"],[0.2222222222222222,\"#7201a8\"],[0.3333333333333333,\"#9c179e\"],[0.4444444444444444,\"#bd3786\"],[0.5555555555555556,\"#d8576b\"],[0.6666666666666666,\"#ed7953\"],[0.7777777777777778,\"#fb9f3a\"],[0.8888888888888888,\"#fdca26\"],[1.0,\"#f0f921\"]],\"sequentialminus\":[[0.0,\"#0d0887\"],[0.1111111111111111,\"#46039f\"],[0.2222222222222222,\"#7201a8\"],[0.3333333333333333,\"#9c179e\"],[0.4444444444444444,\"#bd3786\"],[0.5555555555555556,\"#d8576b\"],[0.6666666666666666,\"#ed7953\"],[0.7777777777777778,\"#fb9f3a\"],[0.8888888888888888,\"#fdca26\"],[1.0,\"#f0f921\"]],\"diverging\":[[0,\"#8e0152\"],[0.1,\"#c51b7d\"],[0.2,\"#de77ae\"],[0.3,\"#f1b6da\"],[0.4,\"#fde0ef\"],[0.5,\"#f7f7f7\"],[0.6,\"#e6f5d0\"],[0.7,\"#b8e186\"],[0.8,\"#7fbc41\"],[0.9,\"#4d9221\"],[1,\"#276419\"]]},\"xaxis\":{\"gridcolor\":\"white\",\"linecolor\":\"white\",\"ticks\":\"\",\"title\":{\"standoff\":15},\"zerolinecolor\":\"white\",\"automargin\":true,\"zerolinewidth\":2},\"yaxis\":{\"gridcolor\":\"white\",\"linecolor\":\"white\",\"ticks\":\"\",\"title\":{\"standoff\":15},\"zerolinecolor\":\"white\",\"automargin\":true,\"zerolinewidth\":2},\"scene\":{\"xaxis\":{\"backgroundcolor\":\"#E5ECF6\",\"gridcolor\":\"white\",\"linecolor\":\"white\",\"showbackground\":true,\"ticks\":\"\",\"zerolinecolor\":\"white\",\"gridwidth\":2},\"yaxis\":{\"backgroundcolor\":\"#E5ECF6\",\"gridcolor\":\"white\",\"linecolor\":\"white\",\"showbackground\":true,\"ticks\":\"\",\"zerolinecolor\":\"white\",\"gridwidth\":2},\"zaxis\":{\"backgroundcolor\":\"#E5ECF6\",\"gridcolor\":\"white\",\"linecolor\":\"white\",\"showbackground\":true,\"ticks\":\"\",\"zerolinecolor\":\"white\",\"gridwidth\":2}},\"shapedefaults\":{\"line\":{\"color\":\"#2a3f5f\"}},\"annotationdefaults\":{\"arrowcolor\":\"#2a3f5f\",\"arrowhead\":0,\"arrowwidth\":1},\"geo\":{\"bgcolor\":\"white\",\"landcolor\":\"#E5ECF6\",\"subunitcolor\":\"white\",\"showland\":true,\"showlakes\":true,\"lakecolor\":\"white\"},\"title\":{\"x\":0.05},\"mapbox\":{\"style\":\"light\"}}},\"font\":{\"family\":\"Calibri\",\"size\":12,\"color\":\"Black\"},\"title\":{\"text\":\"del90_mob12_app % by max_cf_all_last_3m\"},\"xaxis\":{\"title\":{\"text\":\"Month\"},\"categoryorder\":\"category ascending\",\"showspikes\":true,\"spikemode\":\"across\",\"spikesnap\":\"cursor\",\"spikedash\":\"dot\",\"showgrid\":true},\"yaxis\":{\"title\":{\"text\":\"Percent\"},\"showspikes\":true,\"spikemode\":\"across\",\"spikesnap\":\"cursor\",\"spikedash\":\"dot\"},\"barmode\":\"stack\",\"dragmode\":\"pan\",\"hovermode\":\"closest\",\"hoverdistance\":10,\"legend\":{\"x\":1,\"y\":1,\"bgcolor\":\"rgba(0,0,0,0)\"},\"margin\":{\"b\":20,\"t\":25,\"l\":0,\"r\":0}},                        {\"responsive\": true}                    ).then(function(){\n",
       "                            \n",
       "var gd = document.getElementById('1b08272e-9470-486c-b8e6-9adefb298c97');\n",
       "var x = new MutationObserver(function (mutations, observer) {{\n",
       "        var display = window.getComputedStyle(gd).display;\n",
       "        if (!display || display === 'none') {{\n",
       "            console.log([gd, 'removed!']);\n",
       "            Plotly.purge(gd);\n",
       "            observer.disconnect();\n",
       "        }}\n",
       "}});\n",
       "\n",
       "// Listen for the removal of the full notebook cells\n",
       "var notebookContainer = gd.closest('#notebook-container');\n",
       "if (notebookContainer) {{\n",
       "    x.observe(notebookContainer, {childList: true});\n",
       "}}\n",
       "\n",
       "// Listen for the clearing of the current output cell\n",
       "var outputEl = gd.closest('.output');\n",
       "if (outputEl) {{\n",
       "    x.observe(outputEl, {childList: true});\n",
       "}}\n",
       "\n",
       "                        })                };                });            </script>        </div>"
      ]
     },
     "metadata": {},
     "output_type": "display_data"
    },
    {
     "name": "stderr",
     "output_type": "stream",
     "text": [
      "C:\\Users\\nguyenvutrungquan\\AppData\\Local\\Temp\\ipykernel_4896\\1849472921.py:41: SettingWithCopyWarning:\n",
      "\n",
      "\n",
      "A value is trying to be set on a copy of a slice from a DataFrame.\n",
      "Try using .loc[row_indexer,col_indexer] = value instead\n",
      "\n",
      "See the caveats in the documentation: https://pandas.pydata.org/pandas-docs/stable/user_guide/indexing.html#returning-a-view-versus-a-copy\n",
      "\n",
      "C:\\Users\\nguyenvutrungquan\\AppData\\Local\\Temp\\ipykernel_4896\\1849472921.py:42: SettingWithCopyWarning:\n",
      "\n",
      "\n",
      "A value is trying to be set on a copy of a slice from a DataFrame.\n",
      "Try using .loc[row_indexer,col_indexer] = value instead\n",
      "\n",
      "See the caveats in the documentation: https://pandas.pydata.org/pandas-docs/stable/user_guide/indexing.html#returning-a-view-versus-a-copy\n",
      "\n"
     ]
    },
    {
     "data": {
      "application/vnd.plotly.v1+json": {
       "config": {
        "plotlyServerURL": "https://plot.ly"
       },
       "data": [
        {
         "name": "<= 62362.90436 - very_low",
         "type": "scatter",
         "x": [
          "2021/10",
          "2021/11",
          "2021/12",
          "2022/01",
          "2022/02",
          "2022/03",
          "2022/04",
          "2022/05",
          "2022/06",
          "2022/07",
          "2022/08",
          "2022/09"
         ],
         "y": [
          0.0957497234950229,
          0.09948553054662379,
          0.10110152518872284,
          0.09949547980638718,
          0.10155129709294747,
          0.10544393813863574,
          0.10881117682351933,
          0.10854509410159367,
          0.10653744409779475,
          0.10531632510504767,
          0.10694975342140184,
          0.10972103777814898
         ]
        },
        {
         "name": "<= 1876787.51685 - low",
         "type": "scatter",
         "x": [
          "2021/10",
          "2021/11",
          "2021/12",
          "2022/01",
          "2022/02",
          "2022/03",
          "2022/04",
          "2022/05",
          "2022/06",
          "2022/07",
          "2022/08",
          "2022/09"
         ],
         "y": [
          0.0011060199083583505,
          0.0010932475884244373,
          0.0012709906023725159,
          0.0014597792404025917,
          0.001672967453178638,
          0.002036730185031759,
          0.002228507756921231,
          0.0023042661105532815,
          0.0024792702167285496,
          0.0027511203292747144,
          0.0029312154641421245,
          0.00329690618323765
         ]
        },
        {
         "name": "<= 6711067.62625 - medium",
         "type": "scatter",
         "x": [
          "2021/10",
          "2021/11",
          "2021/12",
          "2022/01",
          "2022/02",
          "2022/03",
          "2022/04",
          "2022/05",
          "2022/06",
          "2022/07",
          "2022/08",
          "2022/09"
         ],
         "y": [
          0.002054036972665508,
          0.0029581993569131834,
          0.0035048528732090586,
          0.004328117396983123,
          0.004866814409246948,
          0.00579950289975145,
          0.00661409674009314,
          0.00808424087948302,
          0.009430716853106206,
          0.010897015679236564,
          0.011447584718068567,
          0.011939196258231276
         ]
        },
        {
         "name": "<= 9580244.26261 - high",
         "type": "scatter",
         "x": [
          "2021/10",
          "2021/11",
          "2021/12",
          "2022/01",
          "2022/02",
          "2022/03",
          "2022/04",
          "2022/05",
          "2022/06",
          "2022/07",
          "2022/08",
          "2022/09"
         ],
         "y": [
          0.0004740085321535788,
          0.0011575562700964631,
          0.0016946541364966877,
          0.001920762158424463,
          0.0020640507539216963,
          0.0025027616680475006,
          0.0030141995942973058,
          0.003617311603717721,
          0.004187475533517598,
          0.004889686522734356,
          0.004891960943534491,
          0.004369499661517632
         ]
        },
        {
         "name": "<= 12342690.03942 - very_high",
         "type": "scatter",
         "x": [
          "2021/10",
          "2021/11",
          "2021/12",
          "2022/01",
          "2022/02",
          "2022/03",
          "2022/04",
          "2022/05",
          "2022/06",
          "2022/07",
          "2022/08",
          "2022/09"
         ],
         "y": [
          0.0004740085321535788,
          0.0010289389067524115,
          0.0016561392697581267,
          0.0022024739416600506,
          0.0025854951549124407,
          0.0034175642087821046,
          0.003957029799148596,
          0.004466929275765299,
          0.005195791171900023,
          0.006136287921936961,
          0.006357568675605553,
          0.005679470384990725
         ]
        },
        {
         "name": "> 12342690.03942 - extremely_high",
         "type": "scatter",
         "x": [
          "2021/10",
          "2021/11",
          "2021/12",
          "2022/01",
          "2022/02",
          "2022/03",
          "2022/04",
          "2022/05",
          "2022/06",
          "2022/07",
          "2022/08",
          "2022/09"
         ],
         "y": [
          0.0015800284405119293,
          0.006173633440514469,
          0.009859805885071639,
          0.014316080620790329,
          0.01651240603137357,
          0.020453603976801987,
          0.02338504614153881,
          0.02535980021111712,
          0.026465319873308104,
          0.028564366543797622,
          0.0305103879899388,
          0.02708738120148053
         ]
        },
        {
         "name": "unknown",
         "type": "scatter",
         "x": [
          "2021/10",
          "2021/11",
          "2021/12",
          "2022/01",
          "2022/02",
          "2022/03",
          "2022/04",
          "2022/05",
          "2022/06",
          "2022/07",
          "2022/08",
          "2022/09"
         ],
         "y": [
          0,
          0,
          0,
          0,
          0,
          0,
          0,
          0,
          0,
          0,
          0,
          0
         ]
        }
       ],
       "layout": {
        "barmode": "stack",
        "dragmode": "pan",
        "font": {
         "color": "Black",
         "family": "Calibri",
         "size": 12
        },
        "hoverdistance": 10,
        "hovermode": "closest",
        "legend": {
         "bgcolor": "rgba(0,0,0,0)",
         "x": 1,
         "y": 1
        },
        "margin": {
         "b": 20,
         "l": 0,
         "r": 0,
         "t": 25
        },
        "template": {
         "data": {
          "bar": [
           {
            "error_x": {
             "color": "#2a3f5f"
            },
            "error_y": {
             "color": "#2a3f5f"
            },
            "marker": {
             "line": {
              "color": "#E5ECF6",
              "width": 0.5
             },
             "pattern": {
              "fillmode": "overlay",
              "size": 10,
              "solidity": 0.2
             }
            },
            "type": "bar"
           }
          ],
          "barpolar": [
           {
            "marker": {
             "line": {
              "color": "#E5ECF6",
              "width": 0.5
             },
             "pattern": {
              "fillmode": "overlay",
              "size": 10,
              "solidity": 0.2
             }
            },
            "type": "barpolar"
           }
          ],
          "carpet": [
           {
            "aaxis": {
             "endlinecolor": "#2a3f5f",
             "gridcolor": "white",
             "linecolor": "white",
             "minorgridcolor": "white",
             "startlinecolor": "#2a3f5f"
            },
            "baxis": {
             "endlinecolor": "#2a3f5f",
             "gridcolor": "white",
             "linecolor": "white",
             "minorgridcolor": "white",
             "startlinecolor": "#2a3f5f"
            },
            "type": "carpet"
           }
          ],
          "choropleth": [
           {
            "colorbar": {
             "outlinewidth": 0,
             "ticks": ""
            },
            "type": "choropleth"
           }
          ],
          "contour": [
           {
            "colorbar": {
             "outlinewidth": 0,
             "ticks": ""
            },
            "colorscale": [
             [
              0,
              "#0d0887"
             ],
             [
              0.1111111111111111,
              "#46039f"
             ],
             [
              0.2222222222222222,
              "#7201a8"
             ],
             [
              0.3333333333333333,
              "#9c179e"
             ],
             [
              0.4444444444444444,
              "#bd3786"
             ],
             [
              0.5555555555555556,
              "#d8576b"
             ],
             [
              0.6666666666666666,
              "#ed7953"
             ],
             [
              0.7777777777777778,
              "#fb9f3a"
             ],
             [
              0.8888888888888888,
              "#fdca26"
             ],
             [
              1,
              "#f0f921"
             ]
            ],
            "type": "contour"
           }
          ],
          "contourcarpet": [
           {
            "colorbar": {
             "outlinewidth": 0,
             "ticks": ""
            },
            "type": "contourcarpet"
           }
          ],
          "heatmap": [
           {
            "colorbar": {
             "outlinewidth": 0,
             "ticks": ""
            },
            "colorscale": [
             [
              0,
              "#0d0887"
             ],
             [
              0.1111111111111111,
              "#46039f"
             ],
             [
              0.2222222222222222,
              "#7201a8"
             ],
             [
              0.3333333333333333,
              "#9c179e"
             ],
             [
              0.4444444444444444,
              "#bd3786"
             ],
             [
              0.5555555555555556,
              "#d8576b"
             ],
             [
              0.6666666666666666,
              "#ed7953"
             ],
             [
              0.7777777777777778,
              "#fb9f3a"
             ],
             [
              0.8888888888888888,
              "#fdca26"
             ],
             [
              1,
              "#f0f921"
             ]
            ],
            "type": "heatmap"
           }
          ],
          "heatmapgl": [
           {
            "colorbar": {
             "outlinewidth": 0,
             "ticks": ""
            },
            "colorscale": [
             [
              0,
              "#0d0887"
             ],
             [
              0.1111111111111111,
              "#46039f"
             ],
             [
              0.2222222222222222,
              "#7201a8"
             ],
             [
              0.3333333333333333,
              "#9c179e"
             ],
             [
              0.4444444444444444,
              "#bd3786"
             ],
             [
              0.5555555555555556,
              "#d8576b"
             ],
             [
              0.6666666666666666,
              "#ed7953"
             ],
             [
              0.7777777777777778,
              "#fb9f3a"
             ],
             [
              0.8888888888888888,
              "#fdca26"
             ],
             [
              1,
              "#f0f921"
             ]
            ],
            "type": "heatmapgl"
           }
          ],
          "histogram": [
           {
            "marker": {
             "pattern": {
              "fillmode": "overlay",
              "size": 10,
              "solidity": 0.2
             }
            },
            "type": "histogram"
           }
          ],
          "histogram2d": [
           {
            "colorbar": {
             "outlinewidth": 0,
             "ticks": ""
            },
            "colorscale": [
             [
              0,
              "#0d0887"
             ],
             [
              0.1111111111111111,
              "#46039f"
             ],
             [
              0.2222222222222222,
              "#7201a8"
             ],
             [
              0.3333333333333333,
              "#9c179e"
             ],
             [
              0.4444444444444444,
              "#bd3786"
             ],
             [
              0.5555555555555556,
              "#d8576b"
             ],
             [
              0.6666666666666666,
              "#ed7953"
             ],
             [
              0.7777777777777778,
              "#fb9f3a"
             ],
             [
              0.8888888888888888,
              "#fdca26"
             ],
             [
              1,
              "#f0f921"
             ]
            ],
            "type": "histogram2d"
           }
          ],
          "histogram2dcontour": [
           {
            "colorbar": {
             "outlinewidth": 0,
             "ticks": ""
            },
            "colorscale": [
             [
              0,
              "#0d0887"
             ],
             [
              0.1111111111111111,
              "#46039f"
             ],
             [
              0.2222222222222222,
              "#7201a8"
             ],
             [
              0.3333333333333333,
              "#9c179e"
             ],
             [
              0.4444444444444444,
              "#bd3786"
             ],
             [
              0.5555555555555556,
              "#d8576b"
             ],
             [
              0.6666666666666666,
              "#ed7953"
             ],
             [
              0.7777777777777778,
              "#fb9f3a"
             ],
             [
              0.8888888888888888,
              "#fdca26"
             ],
             [
              1,
              "#f0f921"
             ]
            ],
            "type": "histogram2dcontour"
           }
          ],
          "mesh3d": [
           {
            "colorbar": {
             "outlinewidth": 0,
             "ticks": ""
            },
            "type": "mesh3d"
           }
          ],
          "parcoords": [
           {
            "line": {
             "colorbar": {
              "outlinewidth": 0,
              "ticks": ""
             }
            },
            "type": "parcoords"
           }
          ],
          "pie": [
           {
            "automargin": true,
            "type": "pie"
           }
          ],
          "scatter": [
           {
            "fillpattern": {
             "fillmode": "overlay",
             "size": 10,
             "solidity": 0.2
            },
            "type": "scatter"
           }
          ],
          "scatter3d": [
           {
            "line": {
             "colorbar": {
              "outlinewidth": 0,
              "ticks": ""
             }
            },
            "marker": {
             "colorbar": {
              "outlinewidth": 0,
              "ticks": ""
             }
            },
            "type": "scatter3d"
           }
          ],
          "scattercarpet": [
           {
            "marker": {
             "colorbar": {
              "outlinewidth": 0,
              "ticks": ""
             }
            },
            "type": "scattercarpet"
           }
          ],
          "scattergeo": [
           {
            "marker": {
             "colorbar": {
              "outlinewidth": 0,
              "ticks": ""
             }
            },
            "type": "scattergeo"
           }
          ],
          "scattergl": [
           {
            "marker": {
             "colorbar": {
              "outlinewidth": 0,
              "ticks": ""
             }
            },
            "type": "scattergl"
           }
          ],
          "scattermapbox": [
           {
            "marker": {
             "colorbar": {
              "outlinewidth": 0,
              "ticks": ""
             }
            },
            "type": "scattermapbox"
           }
          ],
          "scatterpolar": [
           {
            "marker": {
             "colorbar": {
              "outlinewidth": 0,
              "ticks": ""
             }
            },
            "type": "scatterpolar"
           }
          ],
          "scatterpolargl": [
           {
            "marker": {
             "colorbar": {
              "outlinewidth": 0,
              "ticks": ""
             }
            },
            "type": "scatterpolargl"
           }
          ],
          "scatterternary": [
           {
            "marker": {
             "colorbar": {
              "outlinewidth": 0,
              "ticks": ""
             }
            },
            "type": "scatterternary"
           }
          ],
          "surface": [
           {
            "colorbar": {
             "outlinewidth": 0,
             "ticks": ""
            },
            "colorscale": [
             [
              0,
              "#0d0887"
             ],
             [
              0.1111111111111111,
              "#46039f"
             ],
             [
              0.2222222222222222,
              "#7201a8"
             ],
             [
              0.3333333333333333,
              "#9c179e"
             ],
             [
              0.4444444444444444,
              "#bd3786"
             ],
             [
              0.5555555555555556,
              "#d8576b"
             ],
             [
              0.6666666666666666,
              "#ed7953"
             ],
             [
              0.7777777777777778,
              "#fb9f3a"
             ],
             [
              0.8888888888888888,
              "#fdca26"
             ],
             [
              1,
              "#f0f921"
             ]
            ],
            "type": "surface"
           }
          ],
          "table": [
           {
            "cells": {
             "fill": {
              "color": "#EBF0F8"
             },
             "line": {
              "color": "white"
             }
            },
            "header": {
             "fill": {
              "color": "#C8D4E3"
             },
             "line": {
              "color": "white"
             }
            },
            "type": "table"
           }
          ]
         },
         "layout": {
          "annotationdefaults": {
           "arrowcolor": "#2a3f5f",
           "arrowhead": 0,
           "arrowwidth": 1
          },
          "autotypenumbers": "strict",
          "coloraxis": {
           "colorbar": {
            "outlinewidth": 0,
            "ticks": ""
           }
          },
          "colorscale": {
           "diverging": [
            [
             0,
             "#8e0152"
            ],
            [
             0.1,
             "#c51b7d"
            ],
            [
             0.2,
             "#de77ae"
            ],
            [
             0.3,
             "#f1b6da"
            ],
            [
             0.4,
             "#fde0ef"
            ],
            [
             0.5,
             "#f7f7f7"
            ],
            [
             0.6,
             "#e6f5d0"
            ],
            [
             0.7,
             "#b8e186"
            ],
            [
             0.8,
             "#7fbc41"
            ],
            [
             0.9,
             "#4d9221"
            ],
            [
             1,
             "#276419"
            ]
           ],
           "sequential": [
            [
             0,
             "#0d0887"
            ],
            [
             0.1111111111111111,
             "#46039f"
            ],
            [
             0.2222222222222222,
             "#7201a8"
            ],
            [
             0.3333333333333333,
             "#9c179e"
            ],
            [
             0.4444444444444444,
             "#bd3786"
            ],
            [
             0.5555555555555556,
             "#d8576b"
            ],
            [
             0.6666666666666666,
             "#ed7953"
            ],
            [
             0.7777777777777778,
             "#fb9f3a"
            ],
            [
             0.8888888888888888,
             "#fdca26"
            ],
            [
             1,
             "#f0f921"
            ]
           ],
           "sequentialminus": [
            [
             0,
             "#0d0887"
            ],
            [
             0.1111111111111111,
             "#46039f"
            ],
            [
             0.2222222222222222,
             "#7201a8"
            ],
            [
             0.3333333333333333,
             "#9c179e"
            ],
            [
             0.4444444444444444,
             "#bd3786"
            ],
            [
             0.5555555555555556,
             "#d8576b"
            ],
            [
             0.6666666666666666,
             "#ed7953"
            ],
            [
             0.7777777777777778,
             "#fb9f3a"
            ],
            [
             0.8888888888888888,
             "#fdca26"
            ],
            [
             1,
             "#f0f921"
            ]
           ]
          },
          "colorway": [
           "#636efa",
           "#EF553B",
           "#00cc96",
           "#ab63fa",
           "#FFA15A",
           "#19d3f3",
           "#FF6692",
           "#B6E880",
           "#FF97FF",
           "#FECB52"
          ],
          "font": {
           "color": "#2a3f5f"
          },
          "geo": {
           "bgcolor": "white",
           "lakecolor": "white",
           "landcolor": "#E5ECF6",
           "showlakes": true,
           "showland": true,
           "subunitcolor": "white"
          },
          "hoverlabel": {
           "align": "left"
          },
          "hovermode": "closest",
          "mapbox": {
           "style": "light"
          },
          "paper_bgcolor": "white",
          "plot_bgcolor": "#E5ECF6",
          "polar": {
           "angularaxis": {
            "gridcolor": "white",
            "linecolor": "white",
            "ticks": ""
           },
           "bgcolor": "#E5ECF6",
           "radialaxis": {
            "gridcolor": "white",
            "linecolor": "white",
            "ticks": ""
           }
          },
          "scene": {
           "xaxis": {
            "backgroundcolor": "#E5ECF6",
            "gridcolor": "white",
            "gridwidth": 2,
            "linecolor": "white",
            "showbackground": true,
            "ticks": "",
            "zerolinecolor": "white"
           },
           "yaxis": {
            "backgroundcolor": "#E5ECF6",
            "gridcolor": "white",
            "gridwidth": 2,
            "linecolor": "white",
            "showbackground": true,
            "ticks": "",
            "zerolinecolor": "white"
           },
           "zaxis": {
            "backgroundcolor": "#E5ECF6",
            "gridcolor": "white",
            "gridwidth": 2,
            "linecolor": "white",
            "showbackground": true,
            "ticks": "",
            "zerolinecolor": "white"
           }
          },
          "shapedefaults": {
           "line": {
            "color": "#2a3f5f"
           }
          },
          "ternary": {
           "aaxis": {
            "gridcolor": "white",
            "linecolor": "white",
            "ticks": ""
           },
           "baxis": {
            "gridcolor": "white",
            "linecolor": "white",
            "ticks": ""
           },
           "bgcolor": "#E5ECF6",
           "caxis": {
            "gridcolor": "white",
            "linecolor": "white",
            "ticks": ""
           }
          },
          "title": {
           "x": 0.05
          },
          "xaxis": {
           "automargin": true,
           "gridcolor": "white",
           "linecolor": "white",
           "ticks": "",
           "title": {
            "standoff": 15
           },
           "zerolinecolor": "white",
           "zerolinewidth": 2
          },
          "yaxis": {
           "automargin": true,
           "gridcolor": "white",
           "linecolor": "white",
           "ticks": "",
           "title": {
            "standoff": 15
           },
           "zerolinecolor": "white",
           "zerolinewidth": 2
          }
         }
        },
        "title": {
         "text": "del90_mob12_app % by max_cf_all_last_3m"
        },
        "xaxis": {
         "categoryorder": "category ascending",
         "showgrid": true,
         "showspikes": true,
         "spikedash": "dot",
         "spikemode": "across",
         "spikesnap": "cursor",
         "title": {
          "text": "Month"
         }
        },
        "yaxis": {
         "showspikes": true,
         "spikedash": "dot",
         "spikemode": "across",
         "spikesnap": "cursor",
         "title": {
          "text": "Percent"
         }
        }
       }
      },
      "text/html": [
       "<div>                            <div id=\"da57d382-8c8b-4dbc-a789-ce8f256904d4\" class=\"plotly-graph-div\" style=\"height:525px; width:100%;\"></div>            <script type=\"text/javascript\">                require([\"plotly\"], function(Plotly) {                    window.PLOTLYENV=window.PLOTLYENV || {};                                    if (document.getElementById(\"da57d382-8c8b-4dbc-a789-ce8f256904d4\")) {                    Plotly.newPlot(                        \"da57d382-8c8b-4dbc-a789-ce8f256904d4\",                        [{\"name\":\"<= 62362.90436 - very_low\",\"x\":[\"2021/10\",\"2021/11\",\"2021/12\",\"2022/01\",\"2022/02\",\"2022/03\",\"2022/04\",\"2022/05\",\"2022/06\",\"2022/07\",\"2022/08\",\"2022/09\"],\"y\":[0.0957497234950229,0.09948553054662379,0.10110152518872284,0.09949547980638718,0.10155129709294747,0.10544393813863574,0.10881117682351933,0.10854509410159367,0.10653744409779475,0.10531632510504767,0.10694975342140184,0.10972103777814898],\"type\":\"scatter\"},{\"name\":\"<= 1876787.51685 - low\",\"x\":[\"2021/10\",\"2021/11\",\"2021/12\",\"2022/01\",\"2022/02\",\"2022/03\",\"2022/04\",\"2022/05\",\"2022/06\",\"2022/07\",\"2022/08\",\"2022/09\"],\"y\":[0.0011060199083583505,0.0010932475884244373,0.0012709906023725159,0.0014597792404025917,0.001672967453178638,0.002036730185031759,0.002228507756921231,0.0023042661105532815,0.0024792702167285496,0.0027511203292747144,0.0029312154641421245,0.00329690618323765],\"type\":\"scatter\"},{\"name\":\"<= 6711067.62625 - medium\",\"x\":[\"2021/10\",\"2021/11\",\"2021/12\",\"2022/01\",\"2022/02\",\"2022/03\",\"2022/04\",\"2022/05\",\"2022/06\",\"2022/07\",\"2022/08\",\"2022/09\"],\"y\":[0.002054036972665508,0.0029581993569131834,0.0035048528732090586,0.004328117396983123,0.004866814409246948,0.00579950289975145,0.00661409674009314,0.00808424087948302,0.009430716853106206,0.010897015679236564,0.011447584718068567,0.011939196258231276],\"type\":\"scatter\"},{\"name\":\"<= 9580244.26261 - high\",\"x\":[\"2021/10\",\"2021/11\",\"2021/12\",\"2022/01\",\"2022/02\",\"2022/03\",\"2022/04\",\"2022/05\",\"2022/06\",\"2022/07\",\"2022/08\",\"2022/09\"],\"y\":[0.0004740085321535788,0.0011575562700964631,0.0016946541364966877,0.001920762158424463,0.0020640507539216963,0.0025027616680475006,0.0030141995942973058,0.003617311603717721,0.004187475533517598,0.004889686522734356,0.004891960943534491,0.004369499661517632],\"type\":\"scatter\"},{\"name\":\"<= 12342690.03942 - very_high\",\"x\":[\"2021/10\",\"2021/11\",\"2021/12\",\"2022/01\",\"2022/02\",\"2022/03\",\"2022/04\",\"2022/05\",\"2022/06\",\"2022/07\",\"2022/08\",\"2022/09\"],\"y\":[0.0004740085321535788,0.0010289389067524115,0.0016561392697581267,0.0022024739416600506,0.0025854951549124407,0.0034175642087821046,0.003957029799148596,0.004466929275765299,0.005195791171900023,0.006136287921936961,0.006357568675605553,0.005679470384990725],\"type\":\"scatter\"},{\"name\":\"> 12342690.03942 - extremely_high\",\"x\":[\"2021/10\",\"2021/11\",\"2021/12\",\"2022/01\",\"2022/02\",\"2022/03\",\"2022/04\",\"2022/05\",\"2022/06\",\"2022/07\",\"2022/08\",\"2022/09\"],\"y\":[0.0015800284405119293,0.006173633440514469,0.009859805885071639,0.014316080620790329,0.01651240603137357,0.020453603976801987,0.02338504614153881,0.02535980021111712,0.026465319873308104,0.028564366543797622,0.0305103879899388,0.02708738120148053],\"type\":\"scatter\"},{\"name\":\"unknown\",\"x\":[\"2021/10\",\"2021/11\",\"2021/12\",\"2022/01\",\"2022/02\",\"2022/03\",\"2022/04\",\"2022/05\",\"2022/06\",\"2022/07\",\"2022/08\",\"2022/09\"],\"y\":[0,0,0,0,0,0,0,0,0,0,0,0],\"type\":\"scatter\"}],                        {\"template\":{\"data\":{\"histogram2dcontour\":[{\"type\":\"histogram2dcontour\",\"colorbar\":{\"outlinewidth\":0,\"ticks\":\"\"},\"colorscale\":[[0.0,\"#0d0887\"],[0.1111111111111111,\"#46039f\"],[0.2222222222222222,\"#7201a8\"],[0.3333333333333333,\"#9c179e\"],[0.4444444444444444,\"#bd3786\"],[0.5555555555555556,\"#d8576b\"],[0.6666666666666666,\"#ed7953\"],[0.7777777777777778,\"#fb9f3a\"],[0.8888888888888888,\"#fdca26\"],[1.0,\"#f0f921\"]]}],\"choropleth\":[{\"type\":\"choropleth\",\"colorbar\":{\"outlinewidth\":0,\"ticks\":\"\"}}],\"histogram2d\":[{\"type\":\"histogram2d\",\"colorbar\":{\"outlinewidth\":0,\"ticks\":\"\"},\"colorscale\":[[0.0,\"#0d0887\"],[0.1111111111111111,\"#46039f\"],[0.2222222222222222,\"#7201a8\"],[0.3333333333333333,\"#9c179e\"],[0.4444444444444444,\"#bd3786\"],[0.5555555555555556,\"#d8576b\"],[0.6666666666666666,\"#ed7953\"],[0.7777777777777778,\"#fb9f3a\"],[0.8888888888888888,\"#fdca26\"],[1.0,\"#f0f921\"]]}],\"heatmap\":[{\"type\":\"heatmap\",\"colorbar\":{\"outlinewidth\":0,\"ticks\":\"\"},\"colorscale\":[[0.0,\"#0d0887\"],[0.1111111111111111,\"#46039f\"],[0.2222222222222222,\"#7201a8\"],[0.3333333333333333,\"#9c179e\"],[0.4444444444444444,\"#bd3786\"],[0.5555555555555556,\"#d8576b\"],[0.6666666666666666,\"#ed7953\"],[0.7777777777777778,\"#fb9f3a\"],[0.8888888888888888,\"#fdca26\"],[1.0,\"#f0f921\"]]}],\"heatmapgl\":[{\"type\":\"heatmapgl\",\"colorbar\":{\"outlinewidth\":0,\"ticks\":\"\"},\"colorscale\":[[0.0,\"#0d0887\"],[0.1111111111111111,\"#46039f\"],[0.2222222222222222,\"#7201a8\"],[0.3333333333333333,\"#9c179e\"],[0.4444444444444444,\"#bd3786\"],[0.5555555555555556,\"#d8576b\"],[0.6666666666666666,\"#ed7953\"],[0.7777777777777778,\"#fb9f3a\"],[0.8888888888888888,\"#fdca26\"],[1.0,\"#f0f921\"]]}],\"contourcarpet\":[{\"type\":\"contourcarpet\",\"colorbar\":{\"outlinewidth\":0,\"ticks\":\"\"}}],\"contour\":[{\"type\":\"contour\",\"colorbar\":{\"outlinewidth\":0,\"ticks\":\"\"},\"colorscale\":[[0.0,\"#0d0887\"],[0.1111111111111111,\"#46039f\"],[0.2222222222222222,\"#7201a8\"],[0.3333333333333333,\"#9c179e\"],[0.4444444444444444,\"#bd3786\"],[0.5555555555555556,\"#d8576b\"],[0.6666666666666666,\"#ed7953\"],[0.7777777777777778,\"#fb9f3a\"],[0.8888888888888888,\"#fdca26\"],[1.0,\"#f0f921\"]]}],\"surface\":[{\"type\":\"surface\",\"colorbar\":{\"outlinewidth\":0,\"ticks\":\"\"},\"colorscale\":[[0.0,\"#0d0887\"],[0.1111111111111111,\"#46039f\"],[0.2222222222222222,\"#7201a8\"],[0.3333333333333333,\"#9c179e\"],[0.4444444444444444,\"#bd3786\"],[0.5555555555555556,\"#d8576b\"],[0.6666666666666666,\"#ed7953\"],[0.7777777777777778,\"#fb9f3a\"],[0.8888888888888888,\"#fdca26\"],[1.0,\"#f0f921\"]]}],\"mesh3d\":[{\"type\":\"mesh3d\",\"colorbar\":{\"outlinewidth\":0,\"ticks\":\"\"}}],\"scatter\":[{\"fillpattern\":{\"fillmode\":\"overlay\",\"size\":10,\"solidity\":0.2},\"type\":\"scatter\"}],\"parcoords\":[{\"type\":\"parcoords\",\"line\":{\"colorbar\":{\"outlinewidth\":0,\"ticks\":\"\"}}}],\"scatterpolargl\":[{\"type\":\"scatterpolargl\",\"marker\":{\"colorbar\":{\"outlinewidth\":0,\"ticks\":\"\"}}}],\"bar\":[{\"error_x\":{\"color\":\"#2a3f5f\"},\"error_y\":{\"color\":\"#2a3f5f\"},\"marker\":{\"line\":{\"color\":\"#E5ECF6\",\"width\":0.5},\"pattern\":{\"fillmode\":\"overlay\",\"size\":10,\"solidity\":0.2}},\"type\":\"bar\"}],\"scattergeo\":[{\"type\":\"scattergeo\",\"marker\":{\"colorbar\":{\"outlinewidth\":0,\"ticks\":\"\"}}}],\"scatterpolar\":[{\"type\":\"scatterpolar\",\"marker\":{\"colorbar\":{\"outlinewidth\":0,\"ticks\":\"\"}}}],\"histogram\":[{\"marker\":{\"pattern\":{\"fillmode\":\"overlay\",\"size\":10,\"solidity\":0.2}},\"type\":\"histogram\"}],\"scattergl\":[{\"type\":\"scattergl\",\"marker\":{\"colorbar\":{\"outlinewidth\":0,\"ticks\":\"\"}}}],\"scatter3d\":[{\"type\":\"scatter3d\",\"line\":{\"colorbar\":{\"outlinewidth\":0,\"ticks\":\"\"}},\"marker\":{\"colorbar\":{\"outlinewidth\":0,\"ticks\":\"\"}}}],\"scattermapbox\":[{\"type\":\"scattermapbox\",\"marker\":{\"colorbar\":{\"outlinewidth\":0,\"ticks\":\"\"}}}],\"scatterternary\":[{\"type\":\"scatterternary\",\"marker\":{\"colorbar\":{\"outlinewidth\":0,\"ticks\":\"\"}}}],\"scattercarpet\":[{\"type\":\"scattercarpet\",\"marker\":{\"colorbar\":{\"outlinewidth\":0,\"ticks\":\"\"}}}],\"carpet\":[{\"aaxis\":{\"endlinecolor\":\"#2a3f5f\",\"gridcolor\":\"white\",\"linecolor\":\"white\",\"minorgridcolor\":\"white\",\"startlinecolor\":\"#2a3f5f\"},\"baxis\":{\"endlinecolor\":\"#2a3f5f\",\"gridcolor\":\"white\",\"linecolor\":\"white\",\"minorgridcolor\":\"white\",\"startlinecolor\":\"#2a3f5f\"},\"type\":\"carpet\"}],\"table\":[{\"cells\":{\"fill\":{\"color\":\"#EBF0F8\"},\"line\":{\"color\":\"white\"}},\"header\":{\"fill\":{\"color\":\"#C8D4E3\"},\"line\":{\"color\":\"white\"}},\"type\":\"table\"}],\"barpolar\":[{\"marker\":{\"line\":{\"color\":\"#E5ECF6\",\"width\":0.5},\"pattern\":{\"fillmode\":\"overlay\",\"size\":10,\"solidity\":0.2}},\"type\":\"barpolar\"}],\"pie\":[{\"automargin\":true,\"type\":\"pie\"}]},\"layout\":{\"autotypenumbers\":\"strict\",\"colorway\":[\"#636efa\",\"#EF553B\",\"#00cc96\",\"#ab63fa\",\"#FFA15A\",\"#19d3f3\",\"#FF6692\",\"#B6E880\",\"#FF97FF\",\"#FECB52\"],\"font\":{\"color\":\"#2a3f5f\"},\"hovermode\":\"closest\",\"hoverlabel\":{\"align\":\"left\"},\"paper_bgcolor\":\"white\",\"plot_bgcolor\":\"#E5ECF6\",\"polar\":{\"bgcolor\":\"#E5ECF6\",\"angularaxis\":{\"gridcolor\":\"white\",\"linecolor\":\"white\",\"ticks\":\"\"},\"radialaxis\":{\"gridcolor\":\"white\",\"linecolor\":\"white\",\"ticks\":\"\"}},\"ternary\":{\"bgcolor\":\"#E5ECF6\",\"aaxis\":{\"gridcolor\":\"white\",\"linecolor\":\"white\",\"ticks\":\"\"},\"baxis\":{\"gridcolor\":\"white\",\"linecolor\":\"white\",\"ticks\":\"\"},\"caxis\":{\"gridcolor\":\"white\",\"linecolor\":\"white\",\"ticks\":\"\"}},\"coloraxis\":{\"colorbar\":{\"outlinewidth\":0,\"ticks\":\"\"}},\"colorscale\":{\"sequential\":[[0.0,\"#0d0887\"],[0.1111111111111111,\"#46039f\"],[0.2222222222222222,\"#7201a8\"],[0.3333333333333333,\"#9c179e\"],[0.4444444444444444,\"#bd3786\"],[0.5555555555555556,\"#d8576b\"],[0.6666666666666666,\"#ed7953\"],[0.7777777777777778,\"#fb9f3a\"],[0.8888888888888888,\"#fdca26\"],[1.0,\"#f0f921\"]],\"sequentialminus\":[[0.0,\"#0d0887\"],[0.1111111111111111,\"#46039f\"],[0.2222222222222222,\"#7201a8\"],[0.3333333333333333,\"#9c179e\"],[0.4444444444444444,\"#bd3786\"],[0.5555555555555556,\"#d8576b\"],[0.6666666666666666,\"#ed7953\"],[0.7777777777777778,\"#fb9f3a\"],[0.8888888888888888,\"#fdca26\"],[1.0,\"#f0f921\"]],\"diverging\":[[0,\"#8e0152\"],[0.1,\"#c51b7d\"],[0.2,\"#de77ae\"],[0.3,\"#f1b6da\"],[0.4,\"#fde0ef\"],[0.5,\"#f7f7f7\"],[0.6,\"#e6f5d0\"],[0.7,\"#b8e186\"],[0.8,\"#7fbc41\"],[0.9,\"#4d9221\"],[1,\"#276419\"]]},\"xaxis\":{\"gridcolor\":\"white\",\"linecolor\":\"white\",\"ticks\":\"\",\"title\":{\"standoff\":15},\"zerolinecolor\":\"white\",\"automargin\":true,\"zerolinewidth\":2},\"yaxis\":{\"gridcolor\":\"white\",\"linecolor\":\"white\",\"ticks\":\"\",\"title\":{\"standoff\":15},\"zerolinecolor\":\"white\",\"automargin\":true,\"zerolinewidth\":2},\"scene\":{\"xaxis\":{\"backgroundcolor\":\"#E5ECF6\",\"gridcolor\":\"white\",\"linecolor\":\"white\",\"showbackground\":true,\"ticks\":\"\",\"zerolinecolor\":\"white\",\"gridwidth\":2},\"yaxis\":{\"backgroundcolor\":\"#E5ECF6\",\"gridcolor\":\"white\",\"linecolor\":\"white\",\"showbackground\":true,\"ticks\":\"\",\"zerolinecolor\":\"white\",\"gridwidth\":2},\"zaxis\":{\"backgroundcolor\":\"#E5ECF6\",\"gridcolor\":\"white\",\"linecolor\":\"white\",\"showbackground\":true,\"ticks\":\"\",\"zerolinecolor\":\"white\",\"gridwidth\":2}},\"shapedefaults\":{\"line\":{\"color\":\"#2a3f5f\"}},\"annotationdefaults\":{\"arrowcolor\":\"#2a3f5f\",\"arrowhead\":0,\"arrowwidth\":1},\"geo\":{\"bgcolor\":\"white\",\"landcolor\":\"#E5ECF6\",\"subunitcolor\":\"white\",\"showland\":true,\"showlakes\":true,\"lakecolor\":\"white\"},\"title\":{\"x\":0.05},\"mapbox\":{\"style\":\"light\"}}},\"font\":{\"family\":\"Calibri\",\"size\":12,\"color\":\"Black\"},\"title\":{\"text\":\"del90_mob12_app % by max_cf_all_last_3m\"},\"xaxis\":{\"title\":{\"text\":\"Month\"},\"categoryorder\":\"category ascending\",\"showspikes\":true,\"spikemode\":\"across\",\"spikesnap\":\"cursor\",\"spikedash\":\"dot\",\"showgrid\":true},\"yaxis\":{\"title\":{\"text\":\"Percent\"},\"showspikes\":true,\"spikemode\":\"across\",\"spikesnap\":\"cursor\",\"spikedash\":\"dot\"},\"barmode\":\"stack\",\"dragmode\":\"pan\",\"hovermode\":\"closest\",\"hoverdistance\":10,\"legend\":{\"x\":1,\"y\":1,\"bgcolor\":\"rgba(0,0,0,0)\"},\"margin\":{\"b\":20,\"t\":25,\"l\":0,\"r\":0}},                        {\"responsive\": true}                    ).then(function(){\n",
       "                            \n",
       "var gd = document.getElementById('da57d382-8c8b-4dbc-a789-ce8f256904d4');\n",
       "var x = new MutationObserver(function (mutations, observer) {{\n",
       "        var display = window.getComputedStyle(gd).display;\n",
       "        if (!display || display === 'none') {{\n",
       "            console.log([gd, 'removed!']);\n",
       "            Plotly.purge(gd);\n",
       "            observer.disconnect();\n",
       "        }}\n",
       "}});\n",
       "\n",
       "// Listen for the removal of the full notebook cells\n",
       "var notebookContainer = gd.closest('#notebook-container');\n",
       "if (notebookContainer) {{\n",
       "    x.observe(notebookContainer, {childList: true});\n",
       "}}\n",
       "\n",
       "// Listen for the clearing of the current output cell\n",
       "var outputEl = gd.closest('.output');\n",
       "if (outputEl) {{\n",
       "    x.observe(outputEl, {childList: true});\n",
       "}}\n",
       "\n",
       "                        })                };                });            </script>        </div>"
      ]
     },
     "metadata": {},
     "output_type": "display_data"
    }
   ],
   "source": [
    "target = 'del90_mob12_app'\n",
    "bin_list = [\n",
    "            0\n",
    "            ]\n",
    "i = 55\n",
    "#distribution_plotting(df, list_column[i], bins = bin_list , method = None).show()\n",
    "#del_mob_plotting(df, list_column[i], bins = bin_list , method = None, target = 'del90_mob12_app').show()\n",
    "print(is_feature_need_to_be_rebinned(df, list_column[i], method = 'optimal_binning', target = 'del90_mob12_app'))\n",
    "#print(is_feature_need_to_be_rebinned(df, list_column[i], method = 'statistics', target = 'del90_mob12_app'))\n",
    "#distribution_plotting(df, list_column[i], method = 'optimal_binning', target = 'del90_mob12_app').show()\n",
    "del_mob_plotting(df, list_column[i], method = 'optimal_binning', target = 'del90_mob12_app').show()\n",
    "#distribution_plotting(df, list_column[i], method = 'statistics').show()\n",
    "del_mob_plotting(df, list_column[i], method = 'statistics', target = 'del90_mob12_app').show()"
   ]
  },
  {
   "cell_type": "code",
   "execution_count": null,
   "id": "f1a77a9d",
   "metadata": {},
   "outputs": [],
   "source": []
  }
 ],
 "metadata": {
  "kernelspec": {
   "display_name": "Python 3 (ipykernel)",
   "language": "python",
   "name": "python3"
  },
  "language_info": {
   "codemirror_mode": {
    "name": "ipython",
    "version": 3
   },
   "file_extension": ".py",
   "mimetype": "text/x-python",
   "name": "python",
   "nbconvert_exporter": "python",
   "pygments_lexer": "ipython3",
   "version": "3.11.3"
  }
 },
 "nbformat": 4,
 "nbformat_minor": 5
}
