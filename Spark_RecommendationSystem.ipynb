{
 "cells": [
  {
   "cell_type": "markdown",
   "id": "bac86a33",
   "metadata": {},
   "source": [
    "# Spark Config"
   ]
  },
  {
   "cell_type": "code",
   "execution_count": 57,
   "id": "3e9f987a",
   "metadata": {},
   "outputs": [],
   "source": [
    "from pyspark import SparkConf, SparkContext\n",
    "from pyspark.sql import SparkSession, SQLContext\n",
    "from pyspark.sql.functions import sum,avg,max, min\n",
    "from pyspark.sql.functions import mean as _mean, stddev as _stddev\n",
    "\n",
    "from pyspark.sql.window import Window\n",
    "\n",
    "from pyspark.sql.dataframe import DataFrame\n",
    "import pyspark.sql.functions as f\n",
    "from pyspark.sql.functions import *\n",
    "from pyspark.sql.functions import row_number\n",
    "from pyspark.sql.functions import rank\n",
    "from pyspark.sql.functions import dense_rank\n",
    "from pyspark.sql.functions import col\n",
    "from pyspark.sql.functions import when\n",
    "from pyspark.sql.types import *\n",
    "\n",
    "import findspark\n",
    "findspark.init()\n",
    "\n",
    "from functools import reduce\n",
    "\n",
    "from pyspark.sql.functions import udf\n",
    "import sys\n",
    "\n",
    "import warnings\n",
    "warnings.filterwarnings('ignore')\n",
    "\n",
    "spark = SparkSession.builder.master('local').appName('foo').getOrCreate()\n",
    "spark.sparkContext.setLogLevel('WARN')\n",
    "\n",
    "df = spark.read.csv(\"transaction_data.csv\", header = 'true')"
   ]
  },
  {
   "cell_type": "code",
   "execution_count": 58,
   "id": "65b3a8d3",
   "metadata": {},
   "outputs": [],
   "source": [
    "def add_col(df, col, func):\n",
    "    df_new = df.withColumn(col, func)\n",
    "    return df_new\n",
    "\n",
    "def rename_col(df, col_mapping):\n",
    "    for c in col_mapping:\n",
    "        df = df.withColumnRenamed(existing=c[0], new=c[1])\n",
    "    return df\n",
    "\n",
    "def checkNull(df):\n",
    "    '''\n",
    "    prints total rows in dataframe, number and percentage of nulls in each column \n",
    "    '''\n",
    "    total_rows = df.count()\n",
    "    cols = df.columns \n",
    "    abs_null = df.select([f.count(f.when(f.col(c).isNull(), c)).alias(c) for c in cols])\n",
    "    perc_null = abs_null\n",
    "    for c in cols:\n",
    "        perc_null = perc_null.withColumn('{}'.format(c), f.round(f.col(c)/total_rows*100,2))\n",
    "    print ('Total Rows: {}'.format(total_rows))\n",
    "    print ('Absolute Nulls')\n",
    "    abs_null.show(truncate=False, vertical=True)\n",
    "    print ('% Percentage Nulls')\n",
    "    perc_null.show(truncate=False, vertical=True)"
   ]
  },
  {
   "cell_type": "markdown",
   "id": "e75ce750",
   "metadata": {},
   "source": [
    "# Clean data and remove abnormal values\n",
    "- Drop null values\n",
    "- Drop duplicate rows\n",
    "- Drop rows where 'ItemCode' values are < 0\n",
    "- Drop rows where 'NumberOfItemsPurchased' <= 0\n",
    "- Drop rows where 'CostPerItem' <= 0\n",
    "- There are some UserId where their values = \"-1\". In this case, we replace these values by the corresponding TransactionId values.\n",
    "- Add column 'Totalcost' = 'CostPerItem' * 'NumberOfItemsPurchased'"
   ]
  },
  {
   "cell_type": "code",
   "execution_count": 59,
   "id": "df4f3a38",
   "metadata": {},
   "outputs": [],
   "source": [
    "def clean_data(df):\n",
    "    df = df.withColumn(\"constant\", lit(0))\n",
    "    filtered_df = df.filter((f.col('NumberOfItemsPurchased') > f.col('constant')) \n",
    "                            & (f.col('CostPerItem') > f.col('constant'))\n",
    "                            & (f.col('ItemCode') >= f.col('constant')) \n",
    "                           ).na.drop(how='any')\\\n",
    "                            .distinct() # Drop duplicate rows\n",
    "    \n",
    "    # If UserId == -1, then assign UserId := TransactionId\n",
    "    filtered_df = filtered_df.withColumn('UserId_new',\n",
    "                                         when((f.col('UserId') <=  f.col('constant')), f.col('TransactionId')).\\\n",
    "                                         otherwise(f.col('UserId'))\n",
    "                                        ).drop('constant')\n",
    "    \n",
    "    # Change type\n",
    "    filtered_df = filtered_df.withColumn('Totalcost', \n",
    "                                         format_number(f.col('CostPerItem')*f.col('NumberOfItemsPurchased'), 2)\n",
    "                                        )\n",
    "    filtered_df = filtered_df.withColumn('NumberOfItemsPurchased', f.col('NumberOfItemsPurchased').cast(IntegerType()))\n",
    "    filtered_df = filtered_df.withColumn('Totalcost', f.col('Totalcost').cast(FloatType()))\n",
    "    filtered_df = filtered_df.withColumn('UserId_new', f.col('UserId_new').cast(IntegerType()))\n",
    "    filtered_df = filtered_df.withColumn('ItemCode', f.col('ItemCode').cast(IntegerType()))\n",
    "    return filtered_df"
   ]
  },
  {
   "cell_type": "markdown",
   "id": "586b290c",
   "metadata": {},
   "source": [
    "# Filter Outliers \n",
    "(i.e find out the values which are too large or too small when comparing which others)\n",
    "\n",
    "To find out the values which are too large or too small, we can check whether a value is in the interval\n",
    "\n",
    "(Mean(column_name) - 3 x StDev(column_name); Mean(column_name) + 3 x StDev(column_name))"
   ]
  },
  {
   "cell_type": "code",
   "execution_count": 60,
   "id": "383c77eb",
   "metadata": {},
   "outputs": [],
   "source": [
    "def mean_and_stdev(df, column_name):\n",
    "    # Find mean and standard deviation\n",
    "    df_stats = df.select(_mean(col(column_name)).alias('mean'),\n",
    "                         _stddev(col(column_name)).alias('std')\n",
    "                        ).collect()\n",
    "    mean = df_stats[0]['mean']\n",
    "    std = df_stats[0]['std']\n",
    "    return [mean, std]\n",
    "\n",
    "def find_outliers(df, column_name):\n",
    "    df2 = clean_data(df)\n",
    "    mean = mean_and_stdev(df2, column_name)[0]\n",
    "    std = mean = mean_and_stdev(df2, column_name)[1]\n",
    "    \n",
    "    # Find outliers\n",
    "    df2 = df2.withColumn('LowerBound' + '_' + column_name, \n",
    "                         lit(mean - 3*std)\n",
    "                        )\n",
    "    df2 = df2.withColumn('UpperBound' + '_' + column_name, \n",
    "                         lit(mean + 3*std)\n",
    "                        )\n",
    "    outlier = df2.filter((f.col(column_name) <=  f.col('LowerBound' + '_' + column_name))\n",
    "                          | (f.col(column_name) >=  f.col('UpperBound' + '_' + column_name))\n",
    "                          ).drop('LowerBound' + '_' + column_name, 'UpperBound' + '_' + column_name)\n",
    "    return outlier"
   ]
  },
  {
   "cell_type": "code",
   "execution_count": 61,
   "id": "fd4b512c",
   "metadata": {
    "collapsed": true
   },
   "outputs": [
    {
     "name": "stdout",
     "output_type": "stream",
     "text": [
      "+------+-------------+--------------------+--------+--------------------+----------------------+-----------+--------------+----------+---------+\n",
      "|UserId|TransactionId|     TransactionTime|ItemCode|     ItemDescription|NumberOfItemsPurchased|CostPerItem|       Country|UserId_new|Totalcost|\n",
      "+------+-------------+--------------------+--------+--------------------+----------------------+-----------+--------------+----------+---------+\n",
      "|376929|      6396049|Tue Feb 19 14:46:...|  466137|      POPCORN HOLDER|                  3600|        1.0|United Kingdom|    376929|     null|\n",
      "|307566|      6392925|Mon Feb 18 11:16:...|  484764|  RABBIT NIGHT LIGHT|                  4320|       2.48|   Netherlands|    307566|     null|\n",
      "|270921|      6240399|Sat Dec 01 09:39:...|  457527|RAIN PONCHO RETRO...|                  5364|       1.18|United Kingdom|    270921|     null|\n",
      "|336609|      6271067|Wed Dec 19 08:05:...|  467733|FELTCRAFT DOLL MOLLY|                  2160|       3.18|United Kingdom|    336609|     null|\n",
      "|336609|      6271034|Wed Dec 19 07:56:...|  467733|FELTCRAFT DOLL MOLLY|                  2160|       3.52|United Kingdom|    336609|     null|\n",
      "|376929|      6396038|Tue Feb 19 14:45:...|  466137|      POPCORN HOLDER|                  4500|        1.0|United Kingdom|    376929|     null|\n",
      "|271551|      6328685|Mon Jan 21 09:56:...| 1782459|ASSORTED COLOUR B...|                  3600|       2.01|United Kingdom|    271551|     null|\n",
      "|336609|      6271067|Wed Dec 19 08:05:...|  465087|FELTCRAFT BUTTERF...|                  2520|       1.73|United Kingdom|    336609|     null|\n",
      "|260715|      6340334|Sun Jan 27 06:32:...|  484764|  RABBIT NIGHT LIGHT|                  2880|       2.48|     Australia|    260715|     null|\n",
      "|366450|      6241191|Sun Dec 02 06:12:...|  459354|   GIN AND TONIC MUG|                  2232|       2.05|United Kingdom|    366450|     null|\n",
      "|366450|      6098026|Sun Aug 05 06:24:...|  469350|ILLUSTRATED CAT B...|                  2664|       3.72|United Kingdom|    366450|     null|\n",
      "|271551|      6186829|Tue Oct 16 14:06:...| 1782459|ASSORTED COLOUR B...|                  8640|       2.01|United Kingdom|    271551|     null|\n",
      "|366450|      6241653|Sun Dec 02 07:05:...|  488103|SET OF TEA COFFEE...|                  4236|       6.99|United Kingdom|    366450|     null|\n",
      "|    -1|      6324351|Sat Jan 19 13:42:...|  466137|      POPCORN HOLDER|                  5460|        2.7|United Kingdom|   6324351|     null|\n",
      "|330729|      5948965|Sun Mar 25 08:55:...|  444675|GIN + TONIC DIET ...|                  6000|       2.56|United Kingdom|    330729|     null|\n",
      "|376929|      6143786|Tue Sep 11 07:01:...|  476679|ROSES REGENCY TEA...|                  2304|       3.52|United Kingdom|    376929|     null|\n",
      "|331149|      6014679|Tue May 29 06:17:...|  470106|JUMBO BAG PINK PO...|                  2400|       2.28|United Kingdom|    331149|     null|\n",
      "|379827|      5990732|Sun May 06 06:43:...|  463113|EMPIRE DESIGN ROS...|                 11718|       1.14|United Kingdom|    379827|     null|\n",
      "|376929|      6143786|Tue Sep 11 07:01:...|  486591|REGENCY TEA PLATE...|                  2304|       2.01|United Kingdom|    376929|     null|\n",
      "|342993|      6188710|Sat Oct 20 07:56:...|  460215|RED  HARMONICA IN...|                  2100|       1.47|United Kingdom|    342993|     null|\n",
      "+------+-------------+--------------------+--------+--------------------+----------------------+-----------+--------------+----------+---------+\n",
      "only showing top 20 rows\n",
      "\n"
     ]
    }
   ],
   "source": [
    "find_outliers(df, 'NumberOfItemsPurchased').show() \n",
    "#find_outliers(df, 'NumberOfItemsPurchased')/clean_data(df).count() = 0.0004974569656840463"
   ]
  },
  {
   "cell_type": "markdown",
   "id": "9645e42c",
   "metadata": {},
   "source": [
    "# Calculate the number of Items purchased and prices in each month"
   ]
  },
  {
   "cell_type": "code",
   "execution_count": 62,
   "id": "f1699d93",
   "metadata": {},
   "outputs": [],
   "source": [
    "def add_time(df):\n",
    "    df_clean = clean_data(df)\n",
    "    df_clean = add_col(df_clean, 'day', substring('TransactionTime',9,2))\n",
    "\n",
    "    df_clean = add_col(df_clean, 'month_string', substring('TransactionTime',5,3))\n",
    "    df_clean = add_col(df_clean, 'month', when((col('month_string') == 'Jan'), '01').\\\n",
    "                                          when((col('month_string') >= 'Feb'), '02').\\\n",
    "                                          when((col('month_string') >= 'Mar'), '03').\\\n",
    "                                          when((col('month_string') >= 'Apr'), '04').\\\n",
    "                                          when((col('month_string') >= 'May'), '05').\\\n",
    "                                          when((col('month_string') >= 'Jun'), '06').\\\n",
    "                                          when((col('month_string') >= 'Jul'), '07').\\\n",
    "                                          when((col('month_string') >= 'Aug'), '08').\\\n",
    "                                          when((col('month_string') >= 'Sep'), '09').\\\n",
    "                                          when((col('month_string') >= 'Oct'), '10').\\\n",
    "                                          when((col('month_string') >= 'Nov'), '11').\\\n",
    "                                          otherwise('12')\n",
    "                      ).drop('month_string')\n",
    "\n",
    "    df_clean = add_col(df_clean, 'year', substring('TransactionTime',25,4))\n",
    "\n",
    "    df_clean = df_clean.withColumn(\"date\",to_date(concat_ws(\"-\",col(\"year\"),col(\"month\"),col(\"day\")),\"yyyy-MM-dd\"))\n",
    "\n",
    "    return df_clean\n",
    "\n",
    "def report_timeframe(df, timeframe):\n",
    "    if timeframe == 'year':\n",
    "        return df.groupBy(['year']).sum('NumberOfItemsPurchased', 'Totalcost')\n",
    "    elif timeframe == 'month':\n",
    "        return df.groupBy(['year', 'month']).sum('NumberOfItemsPurchased', 'Totalcost')\n",
    "    elif timeframe == 'day':\n",
    "        return df.groupBy(['year', 'month', 'day']).sum('NumberOfItemsPurchased', 'Totalcost')\n",
    "\n",
    "df_clean = add_time(df)"
   ]
  },
  {
   "cell_type": "code",
   "execution_count": 63,
   "id": "a526cebc",
   "metadata": {
    "collapsed": true
   },
   "outputs": [
    {
     "name": "stdout",
     "output_type": "stream",
     "text": [
      "+----+-----+---------------------------+--------------------+\n",
      "|year|month|sum(NumberOfItemsPurchased)|      sum(Totalcost)|\n",
      "+----+-----+---------------------------+--------------------+\n",
      "|2018|   04|                    3108891|   7571801.326817036|\n",
      "|2019|   01|                    1608345|    4161341.62011528|\n",
      "|2028|   02|                      71193|  187719.00020122528|\n",
      "|2018|   02|                    6150372|1.6527933875994205E7|\n",
      "|2019|   02|                    1349277|   3200872.478633404|\n",
      "+----+-----+---------------------------+--------------------+\n",
      "\n"
     ]
    }
   ],
   "source": [
    "report_timeframe(df_clean, 'month').show()"
   ]
  },
  {
   "cell_type": "markdown",
   "id": "0a4007bc",
   "metadata": {},
   "source": [
    "# Calculate the number of items purchased for each userID in 30 days for each day"
   ]
  },
  {
   "cell_type": "code",
   "execution_count": 64,
   "id": "70898fcb",
   "metadata": {},
   "outputs": [],
   "source": [
    "#last_date = df_clean.select(max('date').alias(\"last_date\")).collect()[0][\"last_date\"]\n",
    "def last_from_x_to_y_days(df, x, y):\n",
    "    last_date = df.select(max('date').alias(\"last_date\")).collect()[0][\"last_date\"]\n",
    "    df = df.withColumn(\"last_date\", lit(last_date))\n",
    "    last_from_x_to_y_days_df = df.filter((f.col('date') <= f.date_add(f.col('last_date'), -x)) \n",
    "    & (f.col('date') >= f.date_add(f.col('last_date'), -y)))\n",
    "    return last_from_x_to_y_days_df\n",
    "\n",
    "# Because of the cleaning process in Question 1, we use 'UserId_new' instead of 'UserId'\n",
    "df_30days = last_from_x_to_y_days(df_clean, 0, 30)\\\n",
    "            .drop('UserId', 'last_date')\\\n",
    "            .groupBy(['UserId_new', 'date']).sum('NumberOfItemsPurchased')\\\n",
    "            .withColumnRenamed('sum(NumberOfItemsPurchased)', 'NumberOfItemsPurchased_30days')\n",
    "\n",
    "df_clean_30days = last_from_x_to_y_days(df_clean, 0, 30)\\\n",
    "                    .join(df_30days, \n",
    "                          (df_30days['UserId_new'] == last_from_x_to_y_days(df_clean, 0, 30)['UserId_new']) \n",
    "                          & (df_30days['date'] == last_from_x_to_y_days(df_clean, 0, 30)['date']),\n",
    "                          'outer'\n",
    "                         )\\\n",
    "                    .drop('last_date', 'day', 'month', 'year')"
   ]
  },
  {
   "cell_type": "code",
   "execution_count": 65,
   "id": "ed44e073",
   "metadata": {
    "collapsed": true
   },
   "outputs": [
    {
     "name": "stdout",
     "output_type": "stream",
     "text": [
      "+------+-------------+--------------------+--------+--------------------+----------------------+-----------+-------+----------+---------+----------+----------+----------+-----------------------------+\n",
      "|UserId|TransactionId|     TransactionTime|ItemCode|     ItemDescription|NumberOfItemsPurchased|CostPerItem|Country|UserId_new|Totalcost|      date|UserId_new|      date|NumberOfItemsPurchased_30days|\n",
      "+------+-------------+--------------------+--------+--------------------+----------------------+-----------+-------+----------+---------+----------+----------+----------+-----------------------------+\n",
      "|259287|      5913886|Fri Feb 18 10:57:...|  472437|SET OF 2 TINS VIN...|                    12|       5.87|Iceland|    259287|    70.44|2028-02-18|    259287|2028-02-18|                          849|\n",
      "|259287|      5913886|Fri Feb 18 10:57:...| 1787436|BLACK CANDELABRA ...|                    36|        2.9|Iceland|    259287|    104.4|2028-02-18|    259287|2028-02-18|                          849|\n",
      "|259287|      5913886|Fri Feb 18 10:57:...|  478212|PINK DRAWER KNOB ...|                    36|       1.73|Iceland|    259287|    62.28|2028-02-18|    259287|2028-02-18|                          849|\n",
      "|259287|      5913886|Fri Feb 18 10:57:...|  436380|BLACK EAR MUFF HE...|                    36|       6.42|Iceland|    259287|   231.12|2028-02-18|    259287|2028-02-18|                          849|\n",
      "|259287|      5913886|Fri Feb 18 10:57:...| 1501017|COLOUR GLASS. STA...|                    36|       4.49|Iceland|    259287|   161.64|2028-02-18|    259287|2028-02-18|                          849|\n",
      "|259287|      5913886|Fri Feb 18 10:57:...|  478233|GREEN DRAWER KNOB...|                    36|       1.73|Iceland|    259287|    62.28|2028-02-18|    259287|2028-02-18|                          849|\n",
      "|259287|      5913886|Fri Feb 18 10:57:...|  477225|ALARM CLOCK BAKEL...|                    12|       5.18|Iceland|    259287|    62.16|2028-02-18|    259287|2028-02-18|                          849|\n",
      "|259287|      5913886|Fri Feb 18 10:57:...|  478191|CLEAR DRAWER KNOB...|                    36|       1.73|Iceland|    259287|    62.28|2028-02-18|    259287|2028-02-18|                          849|\n",
      "|259287|      5913886|Fri Feb 18 10:57:...| 1784937|RED 3 PIECE RETRO...|                    18|       5.18|Iceland|    259287|    93.24|2028-02-18|    259287|2028-02-18|                          849|\n",
      "|259287|      5913886|Fri Feb 18 10:57:...|  469875|AIRLINE BAG VINTA...|                    12|       5.87|Iceland|    259287|    70.44|2028-02-18|    259287|2028-02-18|                          849|\n",
      "|259287|      5913886|Fri Feb 18 10:57:...| 1784349|BOX OF 6 ASSORTED...|                    18|       5.87|Iceland|    259287|   105.66|2028-02-18|    259287|2028-02-18|                          849|\n",
      "|259287|      5913886|Fri Feb 18 10:57:...| 1784937|BLUE 3 PIECE POLK...|                    18|       5.18|Iceland|    259287|    93.24|2028-02-18|    259287|2028-02-18|                          849|\n",
      "|259287|      5913886|Fri Feb 18 10:57:...|  472374|EMERGENCY FIRST A...|                    36|       1.73|Iceland|    259287|    62.28|2028-02-18|    259287|2028-02-18|                          849|\n",
      "|259287|      5913886|Fri Feb 18 10:57:...| 1775718|3D DOG PICTURE PL...|                    72|       4.08|Iceland|    259287|   293.76|2028-02-18|    259287|2028-02-18|                          849|\n",
      "|259287|      5913886|Fri Feb 18 10:57:...|  477246|ALARM CLOCK BAKEL...|                    12|       5.18|Iceland|    259287|    62.16|2028-02-18|    259287|2028-02-18|                          849|\n",
      "|259287|      5913886|Fri Feb 18 10:57:...|  478275|PURPLE DRAWERKNOB...|                    36|       1.73|Iceland|    259287|    62.28|2028-02-18|    259287|2028-02-18|                          849|\n",
      "|259287|      5913886|Fri Feb 18 10:57:...|  477267|ALARM CLOCK BAKEL...|                    12|       5.18|Iceland|    259287|    62.16|2028-02-18|    259287|2028-02-18|                          849|\n",
      "|259287|      5913886|Fri Feb 18 10:57:...|  436422|CAMOUFLAGE EAR MU...|                    18|       7.58|Iceland|    259287|   136.44|2028-02-18|    259287|2028-02-18|                          849|\n",
      "|259287|      5913886|Fri Feb 18 10:57:...| 1789872|SET/3 DECOUPAGE S...|                     9|       6.84|Iceland|    259287|    61.56|2028-02-18|    259287|2028-02-18|                          849|\n",
      "|259287|      5913886|Fri Feb 18 10:57:...|  477288|ALARM CLOCK BAKEL...|                    12|       5.18|Iceland|    259287|    62.16|2028-02-18|    259287|2028-02-18|                          849|\n",
      "+------+-------------+--------------------+--------+--------------------+----------------------+-----------+-------+----------+---------+----------+----------+----------+-----------------------------+\n",
      "only showing top 20 rows\n",
      "\n"
     ]
    }
   ],
   "source": [
    "df_clean_30days.show()"
   ]
  },
  {
   "cell_type": "markdown",
   "id": "16c84dca",
   "metadata": {},
   "source": [
    "# A Machine Learning Algorithm for a Recommendation System\n",
    "\n",
    "We will use the dataframe 'last_from_x_to_y_days(df_clean, 0, 30)'.\n",
    "\n",
    "- Step 1. Create a 'Rating' column: For each UserId, we calculate the ratio of 'NumberOfItemsPurchased' of each ItemDescription to the total number of items purchased.\n",
    "\n",
    "- Step 2. To the best of my knowledge, Collaborative Filtering (CF) is the only Machine Learning algorithm for Recommendation Systems in Spark ML (https://spark.apache.org/docs/latest/ml-collaborative-filtering.html). We will use this one to write a Machine Learning algorithm as requested."
   ]
  },
  {
   "cell_type": "markdown",
   "id": "988659ae",
   "metadata": {},
   "source": [
    "# Step 1"
   ]
  },
  {
   "cell_type": "code",
   "execution_count": 66,
   "id": "9637c5df",
   "metadata": {},
   "outputs": [],
   "source": [
    "def Rating(df):\n",
    "    df_MLAlgorithm1 = df.groupBy(['UserId_new']).sum('NumberOfItemsPurchased')\\\n",
    "                                                .withColumnRenamed('UserId_new', 'UserId_new1')\\\n",
    "                                               \n",
    "    df_MLAlgorithm = df.groupBy(['UserId_new', 'ItemCode', 'ItemDescription'])\\\n",
    "                    .sum('NumberOfItemsPurchased')\\\n",
    "                    .withColumnRenamed('sum(NumberOfItemsPurchased)', 'NumberOfItems')\n",
    "    df_MLAlgorithm = df_MLAlgorithm.join(df_MLAlgorithm1, \n",
    "                                         df_MLAlgorithm1['UserId_new1'] == df_MLAlgorithm['UserId_new']\n",
    "                                        ).drop('UserId_new1')\n",
    "    df_MLAlgorithm = df_MLAlgorithm.withColumn('Rating',\n",
    "                                               format_number(f.col('NumberOfItems')/f.col('sum(NumberOfItemsPurchased)'),2)\n",
    "                                              )\n",
    "    # Change type of 'Rating' to be numeric\n",
    "    df_MLAlgorithm = df_MLAlgorithm.withColumn('Rating', f.col('Rating').cast(FloatType()))\n",
    "    return df_MLAlgorithm\n",
    "\n",
    "df_MLAlgorithm = Rating(last_from_x_to_y_days(df_clean, 0, 30))"
   ]
  },
  {
   "cell_type": "markdown",
   "id": "0bfa1fab",
   "metadata": {},
   "source": [
    "# Step 2"
   ]
  },
  {
   "cell_type": "code",
   "execution_count": 67,
   "id": "7a2b7f59",
   "metadata": {},
   "outputs": [],
   "source": [
    "from pyspark.ml.evaluation import RegressionEvaluator\n",
    "from pyspark.ml.recommendation import ALS\n",
    "\n",
    "# Build a model\n",
    "(training, test) = df_MLAlgorithm.randomSplit([0.8, 0.2])\n",
    "\n",
    "als = ALS(maxIter=5, regParam=0.01, userCol=\"UserId_new\", itemCol=\"ItemCode\", ratingCol=\"Rating\", coldStartStrategy=\"drop\")\n",
    "\n",
    "model = als.fit(training)\n",
    "\n",
    "# Evaluate the model\n",
    "predictions = model.transform(test)\n",
    "evaluator = RegressionEvaluator(metricName=\"rmse\", labelCol=\"Rating\", predictionCol=\"prediction\")\n",
    "rmse = evaluator.evaluate(predictions)"
   ]
  },
  {
   "cell_type": "code",
   "execution_count": 68,
   "id": "64ba8fb0",
   "metadata": {},
   "outputs": [
    {
     "name": "stdout",
     "output_type": "stream",
     "text": [
      "Root-mean-square error = 0.050983873353492866\n"
     ]
    }
   ],
   "source": [
    "print(\"Root-mean-square error = \" + str(rmse))"
   ]
  },
  {
   "cell_type": "code",
   "execution_count": 69,
   "id": "c0afc32a",
   "metadata": {
    "collapsed": true
   },
   "outputs": [
    {
     "data": {
      "text/plain": [
       "[Row(UserId_new=366450, recommendations=[Row(ItemCode=1665741, rating=0.7155270576477051), Row(ItemCode=471849, rating=0.4873247444629669), Row(ItemCode=471870, rating=0.43804696202278137), Row(ItemCode=469308, rating=0.3004089891910553), Row(ItemCode=475293, rating=0.2958352863788605)]),\n",
       " Row(UserId_new=318780, recommendations=[Row(ItemCode=1665741, rating=0.3454848825931549), Row(ItemCode=469308, rating=0.2990444004535675), Row(ItemCode=1527561, rating=0.2150140255689621), Row(ItemCode=1781556, rating=0.18689508736133575), Row(ItemCode=471849, rating=0.17037218809127808)]),\n",
       " Row(UserId_new=291480, recommendations=[Row(ItemCode=481845, rating=0.232746884226799), Row(ItemCode=1783887, rating=0.23154011368751526), Row(ItemCode=1783866, rating=0.20996926724910736), Row(ItemCode=478632, rating=0.19477348029613495), Row(ItemCode=478611, rating=0.19245746731758118)]),\n",
       " Row(UserId_new=366870, recommendations=[Row(ItemCode=1780023, rating=0.24612247943878174), Row(ItemCode=440643, rating=0.12757818400859833), Row(ItemCode=479955, rating=0.1201263889670372), Row(ItemCode=440622, rating=0.11466539651155472), Row(ItemCode=473613, rating=0.11349800229072571)]),\n",
       " Row(UserId_new=5914040, recommendations=[Row(ItemCode=1665741, rating=0.027249369770288467), Row(ItemCode=474474, rating=0.01782250963151455), Row(ItemCode=463806, rating=0.015688581392169), Row(ItemCode=448455, rating=0.014418095350265503), Row(ItemCode=475293, rating=0.014008335769176483)]),\n",
       " Row(UserId_new=355950, recommendations=[Row(ItemCode=475377, rating=0.4682753086090088), Row(ItemCode=479262, rating=0.36557477712631226), Row(ItemCode=474285, rating=0.22731919586658478), Row(ItemCode=1783887, rating=0.2191823422908783), Row(ItemCode=465738, rating=0.21546570956707)]),\n",
       " Row(UserId_new=272391, recommendations=[Row(ItemCode=474474, rating=0.40279582142829895), Row(ItemCode=463806, rating=0.21793122589588165), Row(ItemCode=474495, rating=0.20529937744140625), Row(ItemCode=1787583, rating=0.18181703984737396), Row(ItemCode=468237, rating=0.17989405989646912)]),\n",
       " Row(UserId_new=367731, recommendations=[Row(ItemCode=1782459, rating=0.1291532963514328), Row(ItemCode=446124, rating=0.10783260315656662), Row(ItemCode=474474, rating=0.10037658363580704), Row(ItemCode=1528779, rating=0.09613955020904541), Row(ItemCode=1528800, rating=0.09510526061058044)]),\n",
       " Row(UserId_new=266301, recommendations=[Row(ItemCode=456351, rating=0.08071894198656082), Row(ItemCode=480207, rating=0.06750375032424927), Row(ItemCode=480186, rating=0.0632300153374672), Row(ItemCode=1788192, rating=0.05562540143728256), Row(ItemCode=1665741, rating=0.054426159709692)]),\n",
       " Row(UserId_new=367311, recommendations=[Row(ItemCode=474285, rating=0.6231106519699097), Row(ItemCode=481845, rating=0.2731798589229584), Row(ItemCode=1787583, rating=0.243243008852005), Row(ItemCode=475377, rating=0.20706121623516083), Row(ItemCode=479262, rating=0.16367292404174805)]),\n",
       " Row(UserId_new=340641, recommendations=[Row(ItemCode=1665741, rating=0.19825789332389832), Row(ItemCode=475293, rating=0.15948984026908875), Row(ItemCode=450786, rating=0.12789581716060638), Row(ItemCode=474474, rating=0.1251111924648285), Row(ItemCode=448455, rating=0.12467531859874725)]),\n",
       " Row(UserId_new=358911, recommendations=[Row(ItemCode=480186, rating=0.16922681033611298), Row(ItemCode=471324, rating=0.14508087933063507), Row(ItemCode=468447, rating=0.14180569350719452), Row(ItemCode=1788192, rating=0.14072607457637787), Row(ItemCode=1500639, rating=0.13827398419380188)]),\n",
       " Row(UserId_new=316281, recommendations=[Row(ItemCode=1500639, rating=0.24894285202026367), Row(ItemCode=1787583, rating=0.2175288051366806), Row(ItemCode=468447, rating=0.18641595542430878), Row(ItemCode=463575, rating=0.16904261708259583), Row(ItemCode=480186, rating=0.14886242151260376)]),\n",
       " Row(UserId_new=316701, recommendations=[Row(ItemCode=468447, rating=0.2608223259449005), Row(ItemCode=1500639, rating=0.1816762238740921), Row(ItemCode=1501017, rating=0.17015014588832855), Row(ItemCode=1785546, rating=0.16693992912769318), Row(ItemCode=1780023, rating=0.15175709128379822)]),\n",
       " Row(UserId_new=5914051, recommendations=[Row(ItemCode=474474, rating=0.019959360361099243), Row(ItemCode=1780023, rating=0.019931407645344734), Row(ItemCode=1787079, rating=0.018364667892456055), Row(ItemCode=471324, rating=0.01800111122429371), Row(ItemCode=463806, rating=0.0177721306681633)]),\n",
       " Row(UserId_new=369411, recommendations=[Row(ItemCode=474285, rating=0.049813203513622284), Row(ItemCode=1787583, rating=0.03881968930363655), Row(ItemCode=481845, rating=0.035709448158741), Row(ItemCode=1783887, rating=0.03555654361844063), Row(ItemCode=480186, rating=0.03523845225572586)]),\n",
       " Row(UserId_new=5913831, recommendations=[Row(ItemCode=468447, rating=0.314843088388443), Row(ItemCode=475923, rating=0.2846103012561798), Row(ItemCode=1780023, rating=0.2740980386734009), Row(ItemCode=470085, rating=0.26422423124313354), Row(ItemCode=1500639, rating=0.23505347967147827)]),\n",
       " Row(UserId_new=299922, recommendations=[Row(ItemCode=470967, rating=0.2951808571815491), Row(ItemCode=460509, rating=0.14314691722393036), Row(ItemCode=470631, rating=0.14259889721870422), Row(ItemCode=460530, rating=0.10284748673439026), Row(ItemCode=448455, rating=0.09802166372537613)]),\n",
       " Row(UserId_new=315042, recommendations=[Row(ItemCode=1665741, rating=0.1345227211713791), Row(ItemCode=458031, rating=0.111923448741436), Row(ItemCode=474369, rating=0.08706880360841751), Row(ItemCode=458493, rating=0.07016833126544952), Row(ItemCode=470967, rating=0.051061805337667465)]),\n",
       " Row(UserId_new=380142, recommendations=[Row(ItemCode=465948, rating=0.29135724902153015), Row(ItemCode=465969, rating=0.2563118636608124), Row(ItemCode=1787583, rating=0.21779489517211914), Row(ItemCode=1501017, rating=0.19077244400978088), Row(ItemCode=1783887, rating=0.1730387955904007)]),\n",
       " Row(UserId_new=5914062, recommendations=[Row(ItemCode=1665741, rating=0.02133847586810589), Row(ItemCode=480207, rating=0.01797661744058132), Row(ItemCode=471324, rating=0.017202723771333694), Row(ItemCode=466137, rating=0.017111744731664658), Row(ItemCode=470967, rating=0.01566975563764572)]),\n",
       " Row(UserId_new=342153, recommendations=[Row(ItemCode=1780023, rating=0.1337808072566986), Row(ItemCode=480207, rating=0.12270638346672058), Row(ItemCode=471324, rating=0.11580874025821686), Row(ItemCode=468447, rating=0.11264451593160629), Row(ItemCode=468279, rating=0.10046051442623138)]),\n",
       " Row(UserId_new=5914073, recommendations=[Row(ItemCode=1780023, rating=0.017336031422019005), Row(ItemCode=471324, rating=0.01706593669950962), Row(ItemCode=474474, rating=0.015685521066188812), Row(ItemCode=1783887, rating=0.014706644229590893), Row(ItemCode=442974, rating=0.014409718103706837)]),\n",
       " Row(UserId_new=5913963, recommendations=[Row(ItemCode=1783887, rating=0.20581476390361786), Row(ItemCode=465948, rating=0.18959057331085205), Row(ItemCode=442134, rating=0.1883508563041687), Row(ItemCode=475377, rating=0.18654148280620575), Row(ItemCode=477393, rating=0.18386276066303253)]),\n",
       " Row(UserId_new=309393, recommendations=[Row(ItemCode=1665741, rating=0.15008345246315002), Row(ItemCode=471849, rating=0.09050261974334717), Row(ItemCode=463806, rating=0.08290008455514908), Row(ItemCode=475293, rating=0.0765836238861084), Row(ItemCode=469308, rating=0.07292208820581436)]),\n",
       " Row(UserId_new=308133, recommendations=[Row(ItemCode=1665741, rating=0.21167351305484772), Row(ItemCode=475293, rating=0.16409437358379364), Row(ItemCode=472101, rating=0.12583963572978973), Row(ItemCode=1501017, rating=0.11984865367412567), Row(ItemCode=1786302, rating=0.11497783660888672)]),\n",
       " Row(UserId_new=293223, recommendations=[Row(ItemCode=1780023, rating=0.30363965034484863), Row(ItemCode=475524, rating=0.20258919894695282), Row(ItemCode=1665741, rating=0.18897423148155212), Row(ItemCode=473928, rating=0.12374585121870041), Row(ItemCode=473970, rating=0.1193811297416687)]),\n",
       " Row(UserId_new=322413, recommendations=[Row(ItemCode=468447, rating=0.1471034437417984), Row(ItemCode=468237, rating=0.14286652207374573), Row(ItemCode=474474, rating=0.13585960865020752), Row(ItemCode=1500639, rating=0.12906338274478912), Row(ItemCode=471324, rating=0.11927449703216553)]),\n",
       " Row(UserId_new=276633, recommendations=[Row(ItemCode=472101, rating=0.29022565484046936), Row(ItemCode=1780023, rating=0.2555428445339203), Row(ItemCode=1665741, rating=0.2553583085536957), Row(ItemCode=1501017, rating=0.16006648540496826), Row(ItemCode=482202, rating=0.13751474022865295)]),\n",
       " Row(UserId_new=301224, recommendations=[Row(ItemCode=470967, rating=0.9899167418479919), Row(ItemCode=480207, rating=0.3640928566455841), Row(ItemCode=458493, rating=0.3263455927371979), Row(ItemCode=470631, rating=0.2666245102882385), Row(ItemCode=460509, rating=0.2590842545032501)]),\n",
       " Row(UserId_new=5914194, recommendations=[Row(ItemCode=468447, rating=0.24003508687019348), Row(ItemCode=1780023, rating=0.13821466267108917), Row(ItemCode=480207, rating=0.11704908311367035), Row(ItemCode=482181, rating=0.1045740395784378), Row(ItemCode=1788192, rating=0.09876751899719238)]),\n",
       " Row(UserId_new=315504, recommendations=[Row(ItemCode=463806, rating=0.04637672379612923), Row(ItemCode=1783929, rating=0.03955497592687607), Row(ItemCode=469308, rating=0.03883710876107216), Row(ItemCode=474474, rating=0.03869158774614334), Row(ItemCode=1782459, rating=0.03862248361110687)]),\n",
       " Row(UserId_new=354984, recommendations=[Row(ItemCode=1665741, rating=0.18683530390262604), Row(ItemCode=475293, rating=0.13626354932785034), Row(ItemCode=472101, rating=0.11404569447040558), Row(ItemCode=1501017, rating=0.09561024606227875), Row(ItemCode=1786302, rating=0.09398203343153)]),\n",
       " Row(UserId_new=343665, recommendations=[Row(ItemCode=1780023, rating=0.921708345413208), Row(ItemCode=472101, rating=0.44078949093818665), Row(ItemCode=468447, rating=0.3252854645252228), Row(ItemCode=475524, rating=0.2885183095932007), Row(ItemCode=1501017, rating=0.28299635648727417)]),\n",
       " Row(UserId_new=5914095, recommendations=[Row(ItemCode=1665741, rating=0.037736114114522934), Row(ItemCode=480207, rating=0.024987924844026566), Row(ItemCode=471324, rating=0.024707086384296417), Row(ItemCode=466137, rating=0.023836767300963402), Row(ItemCode=1781556, rating=0.023576002568006516)]),\n",
       " Row(UserId_new=296835, recommendations=[Row(ItemCode=1665741, rating=0.1331029236316681), Row(ItemCode=471324, rating=0.13148126006126404), Row(ItemCode=480186, rating=0.123264841735363), Row(ItemCode=480207, rating=0.11824072897434235), Row(ItemCode=1781556, rating=0.11430524289608002)]),\n",
       " Row(UserId_new=335265, recommendations=[Row(ItemCode=1787583, rating=0.1079142615199089), Row(ItemCode=474474, rating=0.0986170619726181), Row(ItemCode=1783887, rating=0.09610264003276825), Row(ItemCode=1787079, rating=0.09172318130731583), Row(ItemCode=1780023, rating=0.09023572504520416)]),\n",
       " Row(UserId_new=352275, recommendations=[Row(ItemCode=1665741, rating=0.13294321298599243), Row(ItemCode=1781556, rating=0.12544064223766327), Row(ItemCode=469308, rating=0.11339661478996277), Row(ItemCode=463806, rating=0.09645022451877594), Row(ItemCode=474474, rating=0.0948486328125)]),\n",
       " Row(UserId_new=371175, recommendations=[Row(ItemCode=468447, rating=0.177622452378273), Row(ItemCode=1788192, rating=0.14832669496536255), Row(ItemCode=480186, rating=0.14678941667079926), Row(ItemCode=480207, rating=0.14661554992198944), Row(ItemCode=471324, rating=0.1459519863128662)]),\n",
       " Row(UserId_new=372435, recommendations=[Row(ItemCode=1787583, rating=0.0994194895029068), Row(ItemCode=1500639, rating=0.07245489209890366), Row(ItemCode=481845, rating=0.0702429786324501), Row(ItemCode=480186, rating=0.06364656984806061), Row(ItemCode=1783887, rating=0.06357667595148087)]),\n",
       " Row(UserId_new=379155, recommendations=[Row(ItemCode=1665741, rating=0.08989226818084717), Row(ItemCode=469308, rating=0.08544085174798965), Row(ItemCode=1527561, rating=0.06471401453018188), Row(ItemCode=481908, rating=0.06407596170902252), Row(ItemCode=480186, rating=0.06190554052591324)]),\n",
       " Row(UserId_new=338625, recommendations=[Row(ItemCode=468447, rating=0.16148124635219574), Row(ItemCode=1500639, rating=0.1539182960987091), Row(ItemCode=471324, rating=0.1415621042251587), Row(ItemCode=480186, rating=0.136956125497818), Row(ItemCode=1783887, rating=0.13686023652553558)]),\n",
       " Row(UserId_new=342426, recommendations=[Row(ItemCode=463806, rating=0.5658179521560669), Row(ItemCode=470967, rating=0.5078102946281433), Row(ItemCode=474474, rating=0.40326011180877686), Row(ItemCode=451374, rating=0.3843023478984833), Row(ItemCode=1781556, rating=0.32538121938705444)]),\n",
       " Row(UserId_new=297696, recommendations=[Row(ItemCode=448455, rating=0.16342797875404358), Row(ItemCode=1665741, rating=0.14330343902111053), Row(ItemCode=443268, rating=0.129567950963974), Row(ItemCode=1501017, rating=0.12439700216054916), Row(ItemCode=470967, rating=0.12367410957813263)]),\n",
       " Row(UserId_new=369936, recommendations=[Row(ItemCode=1787583, rating=0.9796209931373596), Row(ItemCode=1500639, rating=0.5572474598884583), Row(ItemCode=481845, rating=0.5105729103088379), Row(ItemCode=465948, rating=0.39232760667800903), Row(ItemCode=463575, rating=0.3793148100376129)]),\n",
       " Row(UserId_new=288876, recommendations=[Row(ItemCode=470967, rating=0.7249348759651184), Row(ItemCode=480207, rating=0.6499234437942505), Row(ItemCode=468447, rating=0.5452471375465393), Row(ItemCode=471324, rating=0.36342769861221313), Row(ItemCode=1788192, rating=0.35996946692466736)]),\n",
       " Row(UserId_new=5914326, recommendations=[Row(ItemCode=471324, rating=0.0020254207774996758), Row(ItemCode=480186, rating=0.001873368863016367), Row(ItemCode=480207, rating=0.0018385723233222961), Row(ItemCode=1783887, rating=0.0017151818610727787), Row(ItemCode=465738, rating=0.001708950730971992)]),\n",
       " Row(UserId_new=289506, recommendations=[Row(ItemCode=1787583, rating=0.23203758895397186), Row(ItemCode=1500639, rating=0.2177438586950302), Row(ItemCode=468447, rating=0.20093658566474915), Row(ItemCode=460215, rating=0.15063798427581787), Row(ItemCode=1785546, rating=0.14872854948043823)]),\n",
       " Row(UserId_new=337806, recommendations=[Row(ItemCode=470967, rating=0.29071757197380066), Row(ItemCode=458493, rating=0.28551214933395386), Row(ItemCode=1665741, rating=0.20278877019882202), Row(ItemCode=458031, rating=0.1784280240535736), Row(ItemCode=465738, rating=0.16442610323429108)]),\n",
       " Row(UserId_new=265587, recommendations=[Row(ItemCode=457569, rating=0.14330121874809265), Row(ItemCode=1783929, rating=0.12255965173244476), Row(ItemCode=1787583, rating=0.12152638286352158), Row(ItemCode=474474, rating=0.09816373884677887), Row(ItemCode=998739, rating=0.09562202543020248)]),\n",
       " Row(UserId_new=263907, recommendations=[Row(ItemCode=463806, rating=0.08694680780172348), Row(ItemCode=474474, rating=0.08376287668943405), Row(ItemCode=464310, rating=0.07304532080888748), Row(ItemCode=479535, rating=0.06660978496074677), Row(ItemCode=1781556, rating=0.06480581313371658)]),\n",
       " Row(UserId_new=5914007, recommendations=[Row(ItemCode=1665741, rating=0.3050990104675293), Row(ItemCode=463806, rating=0.26858967542648315), Row(ItemCode=1781556, rating=0.24783052504062653), Row(ItemCode=464310, rating=0.23457179963588715), Row(ItemCode=474474, rating=0.23282794654369354)]),\n",
       " Row(UserId_new=289947, recommendations=[Row(ItemCode=1783929, rating=0.29495155811309814), Row(ItemCode=457569, rating=0.1746559739112854), Row(ItemCode=1787583, rating=0.1441614329814911), Row(ItemCode=471849, rating=0.13246043026447296), Row(ItemCode=471870, rating=0.1244165450334549)]),\n",
       " Row(UserId_new=357357, recommendations=[Row(ItemCode=468447, rating=0.10580208897590637), Row(ItemCode=471324, rating=0.10536572337150574), Row(ItemCode=480207, rating=0.09977930784225464), Row(ItemCode=480186, rating=0.09470363706350327), Row(ItemCode=1783887, rating=0.09131427854299545)]),\n",
       " Row(UserId_new=313047, recommendations=[Row(ItemCode=480186, rating=0.08129341155290604), Row(ItemCode=1783887, rating=0.07994091510772705), Row(ItemCode=471324, rating=0.07639176398515701), Row(ItemCode=1783866, rating=0.07059045135974884), Row(ItemCode=1788192, rating=0.06511048972606659)]),\n",
       " Row(UserId_new=363027, recommendations=[Row(ItemCode=1783887, rating=0.26480525732040405), Row(ItemCode=1783866, rating=0.2305525541305542), Row(ItemCode=481845, rating=0.20165616273880005), Row(ItemCode=1780023, rating=0.18526023626327515), Row(ItemCode=1787583, rating=0.17794525623321533)]),\n",
       " Row(UserId_new=259287, recommendations=[Row(ItemCode=468447, rating=0.050693150609731674), Row(ItemCode=1528779, rating=0.04747899994254112), Row(ItemCode=1528800, rating=0.0472833588719368), Row(ItemCode=1775718, rating=0.044298041611909866), Row(ItemCode=480207, rating=0.04172106459736824)]),\n",
       " Row(UserId_new=375837, recommendations=[Row(ItemCode=1780023, rating=0.14438237249851227), Row(ItemCode=468447, rating=0.08716968446969986), Row(ItemCode=472101, rating=0.07065077871084213), Row(ItemCode=471324, rating=0.06356817483901978), Row(ItemCode=480207, rating=0.05364760756492615)]),\n",
       " Row(UserId_new=333858, recommendations=[Row(ItemCode=1012074, rating=0.2296738177537918), Row(ItemCode=1011885, rating=0.2236381471157074), Row(ItemCode=474474, rating=0.21201160550117493), Row(ItemCode=1780023, rating=0.21015822887420654), Row(ItemCode=1787079, rating=0.20880185067653656)]),\n",
       " Row(UserId_new=361788, recommendations=[Row(ItemCode=474474, rating=0.12983942031860352), Row(ItemCode=442974, rating=0.11742148548364639), Row(ItemCode=1783887, rating=0.11681915074586868), Row(ItemCode=1787079, rating=0.10853900760412216), Row(ItemCode=442680, rating=0.107991524040699)]),\n",
       " Row(UserId_new=267708, recommendations=[Row(ItemCode=1528779, rating=0.08748308569192886), Row(ItemCode=1528800, rating=0.08731792867183685), Row(ItemCode=1782459, rating=0.049421947449445724), Row(ItemCode=465738, rating=0.04660682752728462), Row(ItemCode=446124, rating=0.04085402935743332)]),\n",
       " Row(UserId_new=332598, recommendations=[Row(ItemCode=1787079, rating=0.488553524017334), Row(ItemCode=1500639, rating=0.3590115010738373), Row(ItemCode=1787583, rating=0.33272403478622437), Row(ItemCode=1783887, rating=0.31205061078071594), Row(ItemCode=474474, rating=0.27732741832733154)]),\n",
       " Row(UserId_new=5914018, recommendations=[Row(ItemCode=1783887, rating=0.0025643242988735437), Row(ItemCode=471324, rating=0.0025179614312946796), Row(ItemCode=480186, rating=0.0024528969079256058), Row(ItemCode=1783866, rating=0.0022769481875002384), Row(ItemCode=1788192, rating=0.002134637674316764)]),\n",
       " Row(UserId_new=283248, recommendations=[Row(ItemCode=1787583, rating=0.06727933883666992), Row(ItemCode=1501017, rating=0.04768438637256622), Row(ItemCode=1500639, rating=0.04578890651464462), Row(ItemCode=1780023, rating=0.04575100168585777), Row(ItemCode=475293, rating=0.04352983087301254)]),\n",
       " Row(UserId_new=333018, recommendations=[Row(ItemCode=1787583, rating=0.08603562414646149), Row(ItemCode=481845, rating=0.08446574956178665), Row(ItemCode=1783887, rating=0.07091135531663895), Row(ItemCode=474285, rating=0.06979881972074509), Row(ItemCode=1783866, rating=0.0639793798327446)]),\n",
       " Row(UserId_new=315378, recommendations=[Row(ItemCode=1500639, rating=0.27795881032943726), Row(ItemCode=1787583, rating=0.2742736339569092), Row(ItemCode=476679, rating=0.2478214055299759), Row(ItemCode=480186, rating=0.23849622905254364), Row(ItemCode=465948, rating=0.22717584669589996)]),\n",
       " Row(UserId_new=289149, recommendations=[Row(ItemCode=1501017, rating=0.321748822927475), Row(ItemCode=1665741, rating=0.25612524151802063), Row(ItemCode=1780023, rating=0.2320638746023178), Row(ItemCode=472101, rating=0.22145242989063263), Row(ItemCode=475293, rating=0.1347101628780365)]),\n",
       " Row(UserId_new=365799, recommendations=[Row(ItemCode=468447, rating=0.1105765774846077), Row(ItemCode=471324, rating=0.10384374856948853), Row(ItemCode=1780023, rating=0.10265931487083435), Row(ItemCode=1500639, rating=0.09241794049739838), Row(ItemCode=480186, rating=0.0911514014005661)]),\n",
       " Row(UserId_new=284949, recommendations=[Row(ItemCode=470967, rating=0.11410622298717499), Row(ItemCode=1665741, rating=0.10108894109725952), Row(ItemCode=480207, rating=0.098052978515625), Row(ItemCode=466137, rating=0.08867256343364716), Row(ItemCode=447027, rating=0.07682458311319351)]),\n",
       " Row(UserId_new=269619, recommendations=[Row(ItemCode=1665741, rating=0.10096573084592819), Row(ItemCode=463239, rating=0.07232867181301117), Row(ItemCode=466137, rating=0.07126089930534363), Row(ItemCode=480207, rating=0.06653321534395218), Row(ItemCode=474474, rating=0.06141996756196022)]),\n",
       " Row(UserId_new=337239, recommendations=[Row(ItemCode=1665741, rating=0.13423171639442444), Row(ItemCode=1783887, rating=0.06898515671491623), Row(ItemCode=1780023, rating=0.06707634031772614), Row(ItemCode=471324, rating=0.06374800950288773), Row(ItemCode=475293, rating=0.06110498681664467)]),\n",
       " Row(UserId_new=309519, recommendations=[Row(ItemCode=465738, rating=0.16003865003585815), Row(ItemCode=470967, rating=0.150176540017128), Row(ItemCode=458493, rating=0.12351663410663605), Row(ItemCode=475377, rating=0.10578560829162598), Row(ItemCode=480207, rating=0.10551419109106064)]),\n",
       " Row(UserId_new=328629, recommendations=[Row(ItemCode=1665741, rating=0.9915984272956848), Row(ItemCode=472101, rating=0.3934076130390167), Row(ItemCode=471849, rating=0.326872855424881), Row(ItemCode=475293, rating=0.315460205078125), Row(ItemCode=458031, rating=0.31235167384147644)]),\n",
       " Row(UserId_new=380499, recommendations=[Row(ItemCode=1783887, rating=0.04930669069290161), Row(ItemCode=1783866, rating=0.04411488398909569), Row(ItemCode=1780023, rating=0.044030942022800446), Row(ItemCode=481845, rating=0.042997658252716064), Row(ItemCode=471324, rating=0.042397718876600266)])]"
      ]
     },
     "execution_count": 69,
     "metadata": {},
     "output_type": "execute_result"
    }
   ],
   "source": [
    "# Top 5 recommendations for each user\n",
    "userRecs = model.recommendForAllUsers(5)\n",
    "userRecs.collect()"
   ]
  },
  {
   "cell_type": "code",
   "execution_count": null,
   "id": "817b34f1",
   "metadata": {},
   "outputs": [],
   "source": []
  }
 ],
 "metadata": {
  "kernelspec": {
   "display_name": "Python 3 (ipykernel)",
   "language": "python",
   "name": "python3"
  },
  "language_info": {
   "codemirror_mode": {
    "name": "ipython",
    "version": 3
   },
   "file_extension": ".py",
   "mimetype": "text/x-python",
   "name": "python",
   "nbconvert_exporter": "python",
   "pygments_lexer": "ipython3",
   "version": "3.9.12"
  }
 },
 "nbformat": 4,
 "nbformat_minor": 5
}
